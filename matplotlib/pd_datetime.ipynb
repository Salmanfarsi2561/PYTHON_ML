{
 "cells": [
  {
   "cell_type": "code",
   "execution_count": 1,
   "id": "7289f18f",
   "metadata": {},
   "outputs": [],
   "source": [
    "import pandas as pd \n",
    "import numpy as np\n",
    "\n"
   ]
  },
  {
   "cell_type": "code",
   "execution_count": 2,
   "id": "f9b81506",
   "metadata": {},
   "outputs": [
    {
     "data": {
      "application/vnd.microsoft.datawrangler.viewer.v0+json": {
       "columns": [
        {
         "name": "index",
         "rawType": "int64",
         "type": "integer"
        },
        {
         "name": "Day",
         "rawType": "object",
         "type": "string"
        },
        {
         "name": "Temperature",
         "rawType": "int64",
         "type": "integer"
        },
        {
         "name": "Windspeed",
         "rawType": "int64",
         "type": "integer"
        },
        {
         "name": "Event",
         "rawType": "object",
         "type": "string"
        }
       ],
       "conversionMethod": "pd.DataFrame",
       "ref": "4a1f401d-43a8-4014-80db-d4de13a8acb6",
       "rows": [
        [
         "0",
         "1/1/2023 14:00:00",
         "27",
         "3",
         "Cloudy"
        ],
        [
         "1",
         "1/2/2023 17:15:00",
         "31",
         "6",
         "Rainy"
        ],
        [
         "2",
         "1/3/2023 03:00:00",
         "34",
         "9",
         "Sunny"
        ]
       ],
       "shape": {
        "columns": 4,
        "rows": 3
       }
      },
      "text/html": [
       "<div>\n",
       "<style scoped>\n",
       "    .dataframe tbody tr th:only-of-type {\n",
       "        vertical-align: middle;\n",
       "    }\n",
       "\n",
       "    .dataframe tbody tr th {\n",
       "        vertical-align: top;\n",
       "    }\n",
       "\n",
       "    .dataframe thead th {\n",
       "        text-align: right;\n",
       "    }\n",
       "</style>\n",
       "<table border=\"1\" class=\"dataframe\">\n",
       "  <thead>\n",
       "    <tr style=\"text-align: right;\">\n",
       "      <th></th>\n",
       "      <th>Day</th>\n",
       "      <th>Temperature</th>\n",
       "      <th>Windspeed</th>\n",
       "      <th>Event</th>\n",
       "    </tr>\n",
       "  </thead>\n",
       "  <tbody>\n",
       "    <tr>\n",
       "      <th>0</th>\n",
       "      <td>1/1/2023 14:00:00</td>\n",
       "      <td>27</td>\n",
       "      <td>3</td>\n",
       "      <td>Cloudy</td>\n",
       "    </tr>\n",
       "    <tr>\n",
       "      <th>1</th>\n",
       "      <td>1/2/2023 17:15:00</td>\n",
       "      <td>31</td>\n",
       "      <td>6</td>\n",
       "      <td>Rainy</td>\n",
       "    </tr>\n",
       "    <tr>\n",
       "      <th>2</th>\n",
       "      <td>1/3/2023 03:00:00</td>\n",
       "      <td>34</td>\n",
       "      <td>9</td>\n",
       "      <td>Sunny</td>\n",
       "    </tr>\n",
       "  </tbody>\n",
       "</table>\n",
       "</div>"
      ],
      "text/plain": [
       "                 Day  Temperature  Windspeed   Event\n",
       "0  1/1/2023 14:00:00           27          3  Cloudy\n",
       "1  1/2/2023 17:15:00           31          6   Rainy\n",
       "2  1/3/2023 03:00:00           34          9   Sunny"
      ]
     },
     "execution_count": 2,
     "metadata": {},
     "output_type": "execute_result"
    }
   ],
   "source": [
    "climate_data = {\n",
    "    'Day':['1/1/2023 14:00:00', '1/2/2023 17:15:00', '1/3/2023 03:00:00'],\n",
    "    'Temperature':[27,31,34],\n",
    "    'Windspeed':[3,6,9],\n",
    "    'Event':['Cloudy','Rainy','Sunny']\n",
    "}\n",
    "\n",
    "df =pd.DataFrame(climate_data)\n",
    "df"
   ]
  },
  {
   "cell_type": "code",
   "execution_count": 3,
   "id": "7e7e3d24",
   "metadata": {},
   "outputs": [
    {
     "data": {
      "text/plain": [
       "Day            object\n",
       "Temperature     int64\n",
       "Windspeed       int64\n",
       "Event          object\n",
       "dtype: object"
      ]
     },
     "execution_count": 3,
     "metadata": {},
     "output_type": "execute_result"
    }
   ],
   "source": [
    "df.dtypes"
   ]
  },
  {
   "cell_type": "code",
   "execution_count": 7,
   "id": "f1e7e911",
   "metadata": {},
   "outputs": [
    {
     "data": {
      "text/plain": [
       "Day            datetime64[ns]\n",
       "Temperature             int64\n",
       "Windspeed               int64\n",
       "Event                  object\n",
       "dtype: object"
      ]
     },
     "execution_count": 7,
     "metadata": {},
     "output_type": "execute_result"
    }
   ],
   "source": [
    "df['Day']=pd.to_datetime(df['Day'])\n",
    "df.dtypes"
   ]
  },
  {
   "cell_type": "code",
   "execution_count": 10,
   "id": "3e0a6ca0",
   "metadata": {},
   "outputs": [
    {
     "data": {
      "text/plain": [
       "0     Sunday\n",
       "1     Monday\n",
       "2    Tuesday\n",
       "Name: Day, dtype: object"
      ]
     },
     "execution_count": 10,
     "metadata": {},
     "output_type": "execute_result"
    }
   ],
   "source": [
    "df.Day.dt.day_name()"
   ]
  },
  {
   "cell_type": "code",
   "execution_count": 15,
   "id": "88fbd130",
   "metadata": {},
   "outputs": [
    {
     "ename": "AttributeError",
     "evalue": "module 'pandas.util' has no attribute 'testing'",
     "output_type": "error",
     "traceback": [
      "\u001b[31m---------------------------------------------------------------------------\u001b[39m",
      "\u001b[31mAttributeError\u001b[39m                            Traceback (most recent call last)",
      "\u001b[36mCell\u001b[39m\u001b[36m \u001b[39m\u001b[32mIn[15]\u001b[39m\u001b[32m, line 2\u001b[39m\n\u001b[32m      1\u001b[39m \u001b[38;5;66;03m#testing Data\u001b[39;00m\n\u001b[32m----> \u001b[39m\u001b[32m2\u001b[39m df=\u001b[43mpd\u001b[49m\u001b[43m.\u001b[49m\u001b[43mutil\u001b[49m\u001b[43m.\u001b[49m\u001b[43mtesting\u001b[49m.makeMissingDataFrame()\n\u001b[32m      4\u001b[39m df.head()\n",
      "\u001b[36mFile \u001b[39m\u001b[32m~/.local/lib/python3.12/site-packages/pandas/util/__init__.py:25\u001b[39m, in \u001b[36m__getattr__\u001b[39m\u001b[34m(key)\u001b[39m\n\u001b[32m     21\u001b[39m     \u001b[38;5;28;01mfrom\u001b[39;00m\u001b[38;5;250m \u001b[39m\u001b[34;01mpandas\u001b[39;00m\u001b[34;01m.\u001b[39;00m\u001b[34;01mutil\u001b[39;00m\u001b[34;01m.\u001b[39;00m\u001b[34;01m_decorators\u001b[39;00m\u001b[38;5;250m \u001b[39m\u001b[38;5;28;01mimport\u001b[39;00m cache_readonly\n\u001b[32m     23\u001b[39m     \u001b[38;5;28;01mreturn\u001b[39;00m cache_readonly\n\u001b[32m---> \u001b[39m\u001b[32m25\u001b[39m \u001b[38;5;28;01mraise\u001b[39;00m \u001b[38;5;167;01mAttributeError\u001b[39;00m(\u001b[33mf\u001b[39m\u001b[33m\"\u001b[39m\u001b[33mmodule \u001b[39m\u001b[33m'\u001b[39m\u001b[33mpandas.util\u001b[39m\u001b[33m'\u001b[39m\u001b[33m has no attribute \u001b[39m\u001b[33m'\u001b[39m\u001b[38;5;132;01m{\u001b[39;00mkey\u001b[38;5;132;01m}\u001b[39;00m\u001b[33m'\u001b[39m\u001b[33m\"\u001b[39m)\n",
      "\u001b[31mAttributeError\u001b[39m: module 'pandas.util' has no attribute 'testing'"
     ]
    }
   ],
   "source": [
    "#testing Data\n",
    "df=pd.util.testing.makeMissingDataFrame()\n",
    "\n",
    "df.head()"
   ]
  },
  {
   "cell_type": "code",
   "execution_count": null,
   "id": "0cbddfd3",
   "metadata": {},
   "outputs": [],
   "source": []
  }
 ],
 "metadata": {
  "kernelspec": {
   "display_name": "Python 3",
   "language": "python",
   "name": "python3"
  },
  "language_info": {
   "codemirror_mode": {
    "name": "ipython",
    "version": 3
   },
   "file_extension": ".py",
   "mimetype": "text/x-python",
   "name": "python",
   "nbconvert_exporter": "python",
   "pygments_lexer": "ipython3",
   "version": "3.12.1"
  }
 },
 "nbformat": 4,
 "nbformat_minor": 5
}
