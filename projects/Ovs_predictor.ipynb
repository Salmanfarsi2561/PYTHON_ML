{
 "cells": [
  {
   "cell_type": "code",
   "execution_count": 2,
   "id": "3d9483b5",
   "metadata": {},
   "outputs": [],
   "source": [
    "import pandas as pd\n",
    "import numpy as np\n",
    "import matplotlib.pyplot as plt\n",
    "import seaborn as sns\n",
    "\n",
    "from sklearn.model_selection import train_test_split, cross_val_score\n",
    "from sklearn.preprocessing import StandardScaler, OneHotEncoder, OrdinalEncoder\n",
    "from sklearn.compose import ColumnTransformer\n",
    "from sklearn.pipeline import Pipeline\n",
    "from sklearn.ensemble import RandomForestRegressor\n",
    "from sklearn.metrics import mean_squared_error, r2_score\n",
    "\n",
    "import streamlit as st"
   ]
  },
  {
   "cell_type": "code",
   "execution_count": 3,
   "id": "cc1bc547",
   "metadata": {},
   "outputs": [],
   "source": [
    "df=pd.read_csv(r'/workspaces/PYTHON_ML/projects/Datasets/qs_worldranking_cleaned.csv')"
   ]
  },
  {
   "cell_type": "code",
   "execution_count": 4,
   "id": "e33fb558",
   "metadata": {},
   "outputs": [
    {
     "data": {
      "text/plain": [
       "Index(['RANK_2025', 'RANK_2024', 'Institution_Name', 'Location', 'Region',\n",
       "       'SIZE', 'FOCUS', 'RES.', 'STATUS', 'Academic_Reputation_Score',\n",
       "       'Academic_Reputation_Rank', 'Employer_Reputation_Score',\n",
       "       'Employer_Reputation_Rank', 'Faculty_Student_Score',\n",
       "       'Faculty_Student_Rank', 'Citations_per_Faculty_Score',\n",
       "       'Citations_per_Faculty_Rank', 'International_Faculty_Score',\n",
       "       'International_Faculty_Rank', 'International_Students_Score',\n",
       "       'International_Students_Rank', 'International_Research_Network_Score',\n",
       "       'International_Research_Network_Rank', 'Employment_Outcomes_Score',\n",
       "       'Employment_Outcomes_Rank', 'Sustainability_Score',\n",
       "       'Sustainability_Rank', 'Overall_Score'],\n",
       "      dtype='object')"
      ]
     },
     "execution_count": 4,
     "metadata": {},
     "output_type": "execute_result"
    }
   ],
   "source": [
    "df.columns"
   ]
  },
  {
   "cell_type": "code",
   "execution_count": null,
   "id": "8d422775",
   "metadata": {},
   "outputs": [
    {
     "data": {
      "text/plain": [
       "(593, 28)"
      ]
     },
     "execution_count": 5,
     "metadata": {},
     "output_type": "execute_result"
    }
   ],
   "source": [
    "#Training Data Selection. For overall Score\n",
    "data_training = df[df['Overall_Score'].notnull()]\n",
    "data_training.shape"
   ]
  },
  {
   "cell_type": "code",
   "execution_count": null,
   "id": "524716d3",
   "metadata": {},
   "outputs": [],
   "source": []
  }
 ],
 "metadata": {
  "kernelspec": {
   "display_name": "Python 3",
   "language": "python",
   "name": "python3"
  },
  "language_info": {
   "codemirror_mode": {
    "name": "ipython",
    "version": 3
   },
   "file_extension": ".py",
   "mimetype": "text/x-python",
   "name": "python",
   "nbconvert_exporter": "python",
   "pygments_lexer": "ipython3",
   "version": "3.12.1"
  }
 },
 "nbformat": 4,
 "nbformat_minor": 5
}
