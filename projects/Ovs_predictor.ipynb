{
 "cells": [
  {
   "cell_type": "code",
   "execution_count": 18,
   "id": "3d9483b5",
   "metadata": {},
   "outputs": [],
   "source": [
    "import pandas as pd\n",
    "import numpy as np\n",
    "import matplotlib.pyplot as plt\n",
    "import seaborn as sns\n",
    "\n",
    "from sklearn.model_selection import train_test_split, cross_val_score\n",
    "from sklearn.preprocessing import StandardScaler, OneHotEncoder, OrdinalEncoder\n",
    "from sklearn.compose import ColumnTransformer\n",
    "from sklearn.pipeline import Pipeline\n",
    "from sklearn.ensemble import RandomForestRegressor\n",
    "from sklearn.metrics import mean_squared_error, r2_score\n",
    "\n",
    "import streamlit as st"
   ]
  },
  {
   "cell_type": "code",
   "execution_count": 19,
   "id": "cc1bc547",
   "metadata": {},
   "outputs": [],
   "source": [
    "df=pd.read_csv(r'/workspaces/PYTHON_ML/projects/Datasets/qs_worldranking_cleaned.csv')"
   ]
  },
  {
   "cell_type": "code",
   "execution_count": 20,
   "id": "e33fb558",
   "metadata": {},
   "outputs": [
    {
     "data": {
      "text/plain": [
       "Index(['RANK_2025', 'RANK_2024', 'Institution_Name', 'Location', 'Region',\n",
       "       'SIZE', 'FOCUS', 'RES.', 'STATUS', 'Academic_Reputation_Score',\n",
       "       'Academic_Reputation_Rank', 'Employer_Reputation_Score',\n",
       "       'Employer_Reputation_Rank', 'Faculty_Student_Score',\n",
       "       'Faculty_Student_Rank', 'Citations_per_Faculty_Score',\n",
       "       'Citations_per_Faculty_Rank', 'International_Faculty_Score',\n",
       "       'International_Faculty_Rank', 'International_Students_Score',\n",
       "       'International_Students_Rank', 'International_Research_Network_Score',\n",
       "       'International_Research_Network_Rank', 'Employment_Outcomes_Score',\n",
       "       'Employment_Outcomes_Rank', 'Sustainability_Score',\n",
       "       'Sustainability_Rank', 'Overall_Score'],\n",
       "      dtype='object')"
      ]
     },
     "execution_count": 20,
     "metadata": {},
     "output_type": "execute_result"
    }
   ],
   "source": [
    "df.columns"
   ]
  },
  {
   "cell_type": "code",
   "execution_count": 21,
   "id": "8d422775",
   "metadata": {},
   "outputs": [
    {
     "data": {
      "text/plain": [
       "(593, 28)"
      ]
     },
     "execution_count": 21,
     "metadata": {},
     "output_type": "execute_result"
    }
   ],
   "source": [
    "#Training Data Selection. For overall Score\n",
    "df_train = df[df['Overall_Score'].notnull()]\n",
    "df_train.shape"
   ]
  },
  {
   "cell_type": "code",
   "execution_count": 22,
   "id": "524716d3",
   "metadata": {},
   "outputs": [],
   "source": [
    "# Selecting Features and Target\n",
    "features = [\n",
    "    'Academic_Reputation_Score', 'Employer_Reputation_Score', 'Faculty_Student_Score',\n",
    "    'Citations_per_Faculty_Score', 'International_Faculty_Score', 'International_Students_Score',\n",
    "    'International_Research_Network_Score', 'Employment_Outcomes_Score', 'Sustainability_Score',\n",
    "    'Region', 'SIZE', 'Is_International_Faculty_Missing'\n",
    "]\n",
    "\n",
    "target = 'Overall_Score'\n",
    "\n"
   ]
  },
  {
   "cell_type": "code",
   "execution_count": null,
   "id": "03497cff",
   "metadata": {},
   "outputs": [],
   "source": []
  },
  {
   "cell_type": "code",
   "execution_count": 25,
   "id": "ca102baa",
   "metadata": {},
   "outputs": [],
   "source": [
    "#Log-transform numerical scores \n",
    "#In my Language- Log transformation is used to reduce skewness,stable variance and make data more normally distributed\n",
    "df_training = df_train.copy()\n",
    "num_features = features[:-3]\n",
    "for col in num_features:\n",
    "    df_training[col] = np.log1p(df_training[col])"
   ]
  },
  {
   "cell_type": "code",
   "execution_count": 24,
   "id": "c62bfb09",
   "metadata": {},
   "outputs": [
    {
     "data": {
      "text/plain": [
       "(593, 28)"
      ]
     },
     "execution_count": 24,
     "metadata": {},
     "output_type": "execute_result"
    }
   ],
   "source": [
    "df_training.shape"
   ]
  },
  {
   "cell_type": "code",
   "execution_count": null,
   "id": "e8fe01a9",
   "metadata": {},
   "outputs": [],
   "source": [
    "#making preprocessing pipeline for efficiency\n",
    "pre_preprocessor = ColumnTransformer([\n",
    "    ('num', StandardScaler(), num_features),\n",
    "    ('region', OneHotEncoder(drop='first', handle_unknown='ignore'), ['Region']),\n",
    "    ('size', OrdinalEncoder(categories=[['S', 'M', 'L', 'XL']]), ['SIZE'])\n",
    "])"
   ]
  }
 ],
 "metadata": {
  "kernelspec": {
   "display_name": "Python 3",
   "language": "python",
   "name": "python3"
  },
  "language_info": {
   "codemirror_mode": {
    "name": "ipython",
    "version": 3
   },
   "file_extension": ".py",
   "mimetype": "text/x-python",
   "name": "python",
   "nbconvert_exporter": "python",
   "pygments_lexer": "ipython3",
   "version": "3.12.1"
  }
 },
 "nbformat": 4,
 "nbformat_minor": 5
}
