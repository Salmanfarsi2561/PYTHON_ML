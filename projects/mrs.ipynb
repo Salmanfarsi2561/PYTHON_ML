{
 "cells": [
  {
   "cell_type": "code",
   "execution_count": 1,
   "id": "b8c711eb",
   "metadata": {},
   "outputs": [],
   "source": [
    "import numpy as np\n",
    "import pandas as pd \n",
    "import matplotlib.pyplot as plt\n",
    "import seaborn as sns\n"
   ]
  },
  {
   "cell_type": "code",
   "execution_count": 2,
   "id": "2c2592e4",
   "metadata": {},
   "outputs": [],
   "source": [
    "movies = pd.read_csv(r'/workspaces/PYTHON_ML/projects/Datasets/tmdb_5000_movies.csv')\n",
    "credits = pd.read_csv(r'/workspaces/PYTHON_ML/projects/Datasets/tmdb_5000_credits.csv')"
   ]
  },
  {
   "cell_type": "code",
   "execution_count": 3,
   "id": "0b4e13e6",
   "metadata": {},
   "outputs": [],
   "source": [
    "m_movies = movies.merge(credits, on='title')"
   ]
  },
  {
   "cell_type": "code",
   "execution_count": 4,
   "id": "533e056d",
   "metadata": {},
   "outputs": [
    {
     "name": "stdout",
     "output_type": "stream",
     "text": [
      "<class 'pandas.core.frame.DataFrame'>\n",
      "RangeIndex: 4809 entries, 0 to 4808\n",
      "Data columns (total 23 columns):\n",
      " #   Column                Non-Null Count  Dtype  \n",
      "---  ------                --------------  -----  \n",
      " 0   budget                4809 non-null   int64  \n",
      " 1   genres                4809 non-null   object \n",
      " 2   homepage              1713 non-null   object \n",
      " 3   id                    4809 non-null   int64  \n",
      " 4   keywords              4809 non-null   object \n",
      " 5   original_language     4809 non-null   object \n",
      " 6   original_title        4809 non-null   object \n",
      " 7   overview              4806 non-null   object \n",
      " 8   popularity            4809 non-null   float64\n",
      " 9   production_companies  4809 non-null   object \n",
      " 10  production_countries  4809 non-null   object \n",
      " 11  release_date          4808 non-null   object \n",
      " 12  revenue               4809 non-null   int64  \n",
      " 13  runtime               4807 non-null   float64\n",
      " 14  spoken_languages      4809 non-null   object \n",
      " 15  status                4809 non-null   object \n",
      " 16  tagline               3965 non-null   object \n",
      " 17  title                 4809 non-null   object \n",
      " 18  vote_average          4809 non-null   float64\n",
      " 19  vote_count            4809 non-null   int64  \n",
      " 20  movie_id              4809 non-null   int64  \n",
      " 21  cast                  4809 non-null   object \n",
      " 22  crew                  4809 non-null   object \n",
      "dtypes: float64(3), int64(5), object(15)\n",
      "memory usage: 864.2+ KB\n"
     ]
    }
   ],
   "source": [
    "m_movies.info()"
   ]
  },
  {
   "cell_type": "code",
   "execution_count": 5,
   "id": "35e89556",
   "metadata": {},
   "outputs": [
    {
     "name": "stdout",
     "output_type": "stream",
     "text": [
      "<class 'pandas.core.frame.DataFrame'>\n",
      "RangeIndex: 4809 entries, 0 to 4808\n",
      "Data columns (total 7 columns):\n",
      " #   Column    Non-Null Count  Dtype \n",
      "---  ------    --------------  ----- \n",
      " 0   movie_id  4809 non-null   int64 \n",
      " 1   title     4809 non-null   object\n",
      " 2   overview  4806 non-null   object\n",
      " 3   genres    4809 non-null   object\n",
      " 4   keywords  4809 non-null   object\n",
      " 5   cast      4809 non-null   object\n",
      " 6   crew      4809 non-null   object\n",
      "dtypes: int64(1), object(6)\n",
      "memory usage: 263.1+ KB\n"
     ]
    }
   ],
   "source": [
    "important_columns = m_movies[['movie_id','title','overview','genres','keywords','cast','crew']]\n",
    "important_columns.info()"
   ]
  },
  {
   "cell_type": "code",
   "execution_count": 6,
   "id": "a3aacc8b",
   "metadata": {},
   "outputs": [],
   "source": [
    "dataframe = important_columns.copy()\n"
   ]
  },
  {
   "cell_type": "code",
   "execution_count": 7,
   "id": "fc135782",
   "metadata": {},
   "outputs": [
    {
     "data": {
      "application/vnd.microsoft.datawrangler.viewer.v0+json": {
       "columns": [
        {
         "name": "index",
         "rawType": "object",
         "type": "string"
        },
        {
         "name": "0",
         "rawType": "int64",
         "type": "integer"
        }
       ],
       "ref": "f3948bfc-d40d-468e-97f2-8a0220eb621a",
       "rows": [
        [
         "movie_id",
         "0"
        ],
        [
         "title",
         "0"
        ],
        [
         "overview",
         "3"
        ],
        [
         "genres",
         "0"
        ],
        [
         "keywords",
         "0"
        ],
        [
         "cast",
         "0"
        ],
        [
         "crew",
         "0"
        ]
       ],
       "shape": {
        "columns": 1,
        "rows": 7
       }
      },
      "text/plain": [
       "movie_id    0\n",
       "title       0\n",
       "overview    3\n",
       "genres      0\n",
       "keywords    0\n",
       "cast        0\n",
       "crew        0\n",
       "dtype: int64"
      ]
     },
     "execution_count": 7,
     "metadata": {},
     "output_type": "execute_result"
    }
   ],
   "source": [
    "dataframe.isnull().sum()"
   ]
  },
  {
   "cell_type": "code",
   "execution_count": 8,
   "id": "dd3e17a7",
   "metadata": {},
   "outputs": [],
   "source": [
    "dataframe.dropna(inplace=True)"
   ]
  },
  {
   "cell_type": "code",
   "execution_count": 9,
   "id": "3aba5fd9",
   "metadata": {},
   "outputs": [
    {
     "data": {
      "application/vnd.microsoft.datawrangler.viewer.v0+json": {
       "columns": [
        {
         "name": "index",
         "rawType": "object",
         "type": "string"
        },
        {
         "name": "0",
         "rawType": "int64",
         "type": "integer"
        }
       ],
       "ref": "f950a639-4313-47d4-95d4-0bc4e1d9cf12",
       "rows": [
        [
         "movie_id",
         "0"
        ],
        [
         "title",
         "0"
        ],
        [
         "overview",
         "0"
        ],
        [
         "genres",
         "0"
        ],
        [
         "keywords",
         "0"
        ],
        [
         "cast",
         "0"
        ],
        [
         "crew",
         "0"
        ]
       ],
       "shape": {
        "columns": 1,
        "rows": 7
       }
      },
      "text/plain": [
       "movie_id    0\n",
       "title       0\n",
       "overview    0\n",
       "genres      0\n",
       "keywords    0\n",
       "cast        0\n",
       "crew        0\n",
       "dtype: int64"
      ]
     },
     "execution_count": 9,
     "metadata": {},
     "output_type": "execute_result"
    }
   ],
   "source": [
    "dataframe.isnull().sum()"
   ]
  },
  {
   "cell_type": "code",
   "execution_count": 10,
   "id": "26358f42",
   "metadata": {},
   "outputs": [
    {
     "data": {
      "text/plain": [
       "'[{\"id\": 28, \"name\": \"Action\"}, {\"id\": 12, \"name\": \"Adventure\"}, {\"id\": 14, \"name\": \"Fantasy\"}, {\"id\": 878, \"name\": \"Science Fiction\"}]'"
      ]
     },
     "execution_count": 10,
     "metadata": {},
     "output_type": "execute_result"
    }
   ],
   "source": [
    "dataframe.iloc[0].genres"
   ]
  },
  {
   "cell_type": "code",
   "execution_count": 11,
   "id": "6f442e34",
   "metadata": {},
   "outputs": [],
   "source": [
    "import ast "
   ]
  },
  {
   "cell_type": "code",
   "execution_count": 12,
   "id": "ce667db1",
   "metadata": {},
   "outputs": [
    {
     "data": {
      "text/plain": [
       "[{'id': 28, 'name': 'Action'},\n",
       " {'id': 12, 'name': 'Adventure'},\n",
       " {'id': 14, 'name': 'Fantasy'},\n",
       " {'id': 878, 'name': 'Science Fiction'}]"
      ]
     },
     "execution_count": 12,
     "metadata": {},
     "output_type": "execute_result"
    }
   ],
   "source": [
    "test = ast.literal_eval('[{\"id\": 28, \"name\": \"Action\"}, {\"id\": 12, \"name\": \"Adventure\"}, {\"id\": 14, \"name\": \"Fantasy\"}, {\"id\": 878, \"name\": \"Science Fiction\"}]')\n",
    "test"
   ]
  },
  {
   "cell_type": "code",
   "execution_count": 13,
   "id": "c6e92e01",
   "metadata": {},
   "outputs": [],
   "source": [
    "def convert(obj):\n",
    "    L = []\n",
    "    for i in ast.literal_eval(obj):\n",
    "        L.append(i['name'])\n",
    "    return L"
   ]
  },
  {
   "cell_type": "code",
   "execution_count": 14,
   "id": "f89edcfd",
   "metadata": {},
   "outputs": [],
   "source": [
    "dataframe['genres'] = dataframe['genres'].apply(convert)"
   ]
  },
  {
   "cell_type": "code",
   "execution_count": 15,
   "id": "7aa66f7e",
   "metadata": {},
   "outputs": [
    {
     "data": {
      "application/vnd.microsoft.datawrangler.viewer.v0+json": {
       "columns": [
        {
         "name": "index",
         "rawType": "int64",
         "type": "integer"
        },
        {
         "name": "genres",
         "rawType": "object",
         "type": "unknown"
        }
       ],
       "ref": "2fabe7e2-150c-47b6-8b69-4fbd25a11a54",
       "rows": [
        [
         "0",
         "['Action', 'Adventure', 'Fantasy', 'Science Fiction']"
        ],
        [
         "1",
         "['Adventure', 'Fantasy', 'Action']"
        ],
        [
         "2",
         "['Action', 'Adventure', 'Crime']"
        ],
        [
         "3",
         "['Action', 'Crime', 'Drama', 'Thriller']"
        ],
        [
         "4",
         "['Action', 'Adventure', 'Science Fiction']"
        ],
        [
         "5",
         "['Fantasy', 'Action', 'Adventure']"
        ],
        [
         "6",
         "['Animation', 'Family']"
        ],
        [
         "7",
         "['Action', 'Adventure', 'Science Fiction']"
        ],
        [
         "8",
         "['Adventure', 'Fantasy', 'Family']"
        ],
        [
         "9",
         "['Action', 'Adventure', 'Fantasy']"
        ],
        [
         "10",
         "['Adventure', 'Fantasy', 'Action', 'Science Fiction']"
        ],
        [
         "11",
         "['Adventure', 'Action', 'Thriller', 'Crime']"
        ],
        [
         "12",
         "['Adventure', 'Fantasy', 'Action']"
        ],
        [
         "13",
         "['Action', 'Adventure', 'Western']"
        ],
        [
         "14",
         "['Action', 'Adventure', 'Fantasy', 'Science Fiction']"
        ],
        [
         "15",
         "['Adventure', 'Family', 'Fantasy']"
        ],
        [
         "16",
         "['Science Fiction', 'Action', 'Adventure']"
        ],
        [
         "17",
         "['Adventure', 'Action', 'Fantasy']"
        ],
        [
         "18",
         "['Action', 'Comedy', 'Science Fiction']"
        ],
        [
         "19",
         "['Action', 'Adventure', 'Fantasy']"
        ],
        [
         "20",
         "['Action', 'Adventure', 'Fantasy']"
        ],
        [
         "21",
         "['Action', 'Adventure']"
        ],
        [
         "22",
         "['Adventure', 'Fantasy']"
        ],
        [
         "23",
         "['Adventure', 'Fantasy']"
        ],
        [
         "24",
         "['Adventure', 'Drama', 'Action']"
        ],
        [
         "25",
         "['Drama', 'Romance', 'Thriller']"
        ],
        [
         "26",
         "['Adventure', 'Action', 'Science Fiction']"
        ],
        [
         "27",
         "['Thriller', 'Action', 'Adventure', 'Science Fiction']"
        ],
        [
         "28",
         "['Action', 'Adventure', 'Science Fiction', 'Thriller']"
        ],
        [
         "29",
         "['Action', 'Adventure', 'Thriller']"
        ],
        [
         "30",
         "['Action', 'Adventure', 'Fantasy']"
        ],
        [
         "31",
         "['Action', 'Adventure', 'Science Fiction']"
        ],
        [
         "32",
         "['Family', 'Fantasy', 'Adventure']"
        ],
        [
         "33",
         "['Adventure', 'Action', 'Science Fiction', 'Thriller']"
        ],
        [
         "34",
         "['Animation', 'Family']"
        ],
        [
         "35",
         "['Science Fiction', 'Action', 'Adventure']"
        ],
        [
         "36",
         "['Science Fiction', 'Action', 'Adventure']"
        ],
        [
         "37",
         "['Fantasy', 'Adventure', 'Family']"
        ],
        [
         "38",
         "['Action', 'Adventure', 'Fantasy']"
        ],
        [
         "39",
         "['Adventure', 'Action', 'Science Fiction']"
        ],
        [
         "40",
         "['Animation', 'Family', 'Adventure', 'Comedy']"
        ],
        [
         "41",
         "['Adventure', 'Action', 'Thriller', 'Science Fiction']"
        ],
        [
         "42",
         "['Animation', 'Family', 'Comedy']"
        ],
        [
         "43",
         "['Action', 'Science Fiction', 'Thriller']"
        ],
        [
         "44",
         "['Action']"
        ],
        [
         "45",
         "['Action', 'Drama', 'Horror', 'Science Fiction', 'Thriller']"
        ],
        [
         "46",
         "['Action', 'Adventure', 'Fantasy', 'Science Fiction']"
        ],
        [
         "47",
         "['Action', 'Adventure', 'Science Fiction']"
        ],
        [
         "48",
         "['Action', 'Family', 'Fantasy']"
        ],
        [
         "49",
         "['Drama', 'Romance']"
        ]
       ],
       "shape": {
        "columns": 1,
        "rows": 4806
       }
      },
      "text/plain": [
       "0       [Action, Adventure, Fantasy, Science Fiction]\n",
       "1                        [Adventure, Fantasy, Action]\n",
       "2                          [Action, Adventure, Crime]\n",
       "3                    [Action, Crime, Drama, Thriller]\n",
       "4                [Action, Adventure, Science Fiction]\n",
       "                            ...                      \n",
       "4804                        [Action, Crime, Thriller]\n",
       "4805                                [Comedy, Romance]\n",
       "4806               [Comedy, Drama, Romance, TV Movie]\n",
       "4807                                               []\n",
       "4808                                    [Documentary]\n",
       "Name: genres, Length: 4806, dtype: object"
      ]
     },
     "execution_count": 15,
     "metadata": {},
     "output_type": "execute_result"
    }
   ],
   "source": [
    "dataframe['genres']"
   ]
  },
  {
   "cell_type": "code",
   "execution_count": 16,
   "id": "0a434ccc",
   "metadata": {},
   "outputs": [
    {
     "data": {
      "application/vnd.microsoft.datawrangler.viewer.v0+json": {
       "columns": [
        {
         "name": "index",
         "rawType": "int64",
         "type": "integer"
        },
        {
         "name": "keywords",
         "rawType": "object",
         "type": "unknown"
        }
       ],
       "ref": "7a0b2937-85d3-4960-9668-347777d087da",
       "rows": [
        [
         "0",
         "['culture clash', 'future', 'space war', 'space colony', 'society', 'space travel', 'futuristic', 'romance', 'space', 'alien', 'tribe', 'alien planet', 'cgi', 'marine', 'soldier', 'battle', 'love affair', 'anti war', 'power relations', 'mind and soul', '3d']"
        ],
        [
         "1",
         "['ocean', 'drug abuse', 'exotic island', 'east india trading company', \"love of one's life\", 'traitor', 'shipwreck', 'strong woman', 'ship', 'alliance', 'calypso', 'afterlife', 'fighter', 'pirate', 'swashbuckler', 'aftercreditsstinger']"
        ],
        [
         "2",
         "['spy', 'based on novel', 'secret agent', 'sequel', 'mi6', 'british secret service', 'united kingdom']"
        ],
        [
         "3",
         "['dc comics', 'crime fighter', 'terrorist', 'secret identity', 'burglar', 'hostage drama', 'time bomb', 'gotham city', 'vigilante', 'cover-up', 'superhero', 'villainess', 'tragic hero', 'terrorism', 'destruction', 'catwoman', 'cat burglar', 'imax', 'flood', 'criminal underworld', 'batman']"
        ],
        [
         "4",
         "['based on novel', 'mars', 'medallion', 'space travel', 'princess', 'alien', 'steampunk', 'martian', 'escape', 'edgar rice burroughs', 'alien race', 'superhuman strength', 'mars civilization', 'sword and planet', '19th century', '3d']"
        ],
        [
         "5",
         "['dual identity', 'amnesia', 'sandstorm', \"love of one's life\", 'forgiveness', 'spider', 'wretch', 'death of a friend', 'egomania', 'sand', 'narcism', 'hostility', 'marvel comic', 'sequel', 'superhero', 'revenge']"
        ],
        [
         "6",
         "['hostage', 'magic', 'horse', 'fairy tale', 'musical', 'princess', 'animation', 'tower', 'blonde woman', 'selfishness', 'healing power', 'based on fairy tale', 'duringcreditsstinger', 'healing gift', 'animal sidekick']"
        ],
        [
         "7",
         "['marvel comic', 'sequel', 'superhero', 'based on comic book', 'vision', 'superhero team', 'duringcreditsstinger', 'marvel cinematic universe', '3d']"
        ],
        [
         "8",
         "['witch', 'magic', 'broom', 'school of witchcraft', 'wizardry', 'apparition', 'teenage crush', 'werewolf']"
        ],
        [
         "9",
         "['dc comics', 'vigilante', 'superhero', 'based on comic book', 'revenge', 'super powers', 'clark kent', 'bruce wayne', 'dc extended universe']"
        ],
        [
         "10",
         "['saving the world', 'dc comics', 'invulnerability', 'sequel', 'superhero', 'based on comic book', 'kryptonite', 'super powers', 'superhuman strength', 'lex luthor']"
        ],
        [
         "11",
         "['killing', 'undercover', 'secret agent', 'british secret service']"
        ],
        [
         "12",
         "['witch', 'fortune teller', 'bondage', 'exotic island', 'monster', 'captain', 'card game', 'east india trading company', 'compass', 'ship', 'daughter', 'pirate', 'swashbuckler', 'aftercreditsstinger']"
        ],
        [
         "13",
         "['texas', 'horse', 'survivor', 'texas ranger', 'partner', 'outlaw', 'escape', 'lawyer', 'train', 'lone ranger', 'comanche', 'the lone ranger', 'tonto']"
        ],
        [
         "14",
         "['saving the world', 'dc comics', 'superhero', 'based on comic book', 'superhuman', 'alien invasion', 'reboot', 'super powers', 'dc extended universe']"
        ],
        [
         "15",
         "['based on novel', 'fictional place', 'brother sister relationship', 'lion', 'human being', 'wretch', 'leap in time', 'matter of life and death', 'faith', 'uncle', 'narnia', 'fantasy world']"
        ],
        [
         "16",
         "['new york', 'shield', 'marvel comic', 'superhero', 'based on comic book', 'alien invasion', 'superhero team', 'aftercreditsstinger', 'duringcreditsstinger', 'marvel cinematic universe']"
        ],
        [
         "17",
         "['sea', 'captain', 'mutiny', 'sword', 'prime minister', 'sailing', 'silver', 'ship', 'duke', 'mermaid', 'pirate', 'soldier', 'battle', 'swashbuckler', 'aftercreditsstinger', '3d']"
        ],
        [
         "18",
         "['time travel', 'time machine', 'alien', 'fictional government agency', 'seeing the future', 'changing history']"
        ],
        [
         "19",
         "['corruption', 'elves', 'dwarves', 'orcs', 'middle-earth (tolkien)', 'hobbit', 'dragon', 'battle', 'unlikely friendship', 'epic battle', 'sword and sorcery']"
        ],
        [
         "20",
         "['loss of father', 'vigilante', 'serum', 'marvel comic', 'scientific experiment', 'spider bite', 'masked vigilante', 'reboot', 'super powers', 'genetic engineering', 'social outcast', 'duringcreditsstinger']"
        ],
        [
         "21",
         "['robin hood', 'archer', 'knight', 'sherwood forest', 'bow and arrow', 'middle ages', 'medieval', 'king of england']"
        ],
        [
         "22",
         "['elves', 'dwarves', 'orcs', 'hobbit', 'dragon', 'wizard', 'sword and sorcery']"
        ],
        [
         "23",
         "['england', 'compass', 'experiment', 'lordship', 'uncle', 'polar bear', 'orphan', 'animal', 'based on young adult novel']"
        ],
        [
         "24",
         "['film business', 'screenplay', 'show business', 'film making', 'film producer', 'exotic island', 'monster', 'indigenous', 'ship', 'dinosaur']"
        ],
        [
         "25",
         "['shipwreck', 'iceberg', 'ship', 'panic', 'titanic', 'ocean liner', 'epic', 'rich woman - poor man', 'love', 'disaster', 'tragic love', 'class differences', 'imax', 'star crossed lovers', 'steerage', 'salvage', 'rich snob', '3d', '1910s']"
        ],
        [
         "26",
         "['civil war', 'war', 'marvel comic', 'sequel', 'superhero', 'based on comic book', 'imax', 'aftercreditsstinger', 'duringcreditsstinger', 'marvel cinematic universe', '3d']"
        ],
        [
         "27",
         "['fight', 'u.s. navy', 'mind reading', 'hong kong', 'soccer', 'scientist', 'fictional war', 'naval', 'armada', 'battleship', 'naval combat', 'jds myoko', 'lost communication', 'taser', 'buoy', 'communications expert', 'joint chiefs of staff', 'crash landing', 'jet fighter pilot', 'navy lieutenant', 'permission to marry', 'uss john paul jones', 'based on board game', 'aftercreditsstinger', 'mighty mo', 'uss missouri']"
        ],
        [
         "28",
         "['monster', 'dna', 'tyrannosaurus rex', 'velociraptor', 'island', 'sequel', 'suspense', 'disaster', 'escape', 'dinosaur', 'amusement park', 'animal attack', 'theme park', 'jurassic park', '3d', 'animal horror']"
        ],
        [
         "29",
         "['spy', 'secret agent', 'sociopath', 'killer', 'art gallery', 'british secret service', 'istanbul turkey', 'imax', 'uzi', 'booby trap', 'impersonating a police officer', 'macao']"
        ],
        [
         "30",
         "['dual identity', \"love of one's life\", 'pizza boy', 'marvel comic', 'sequel', 'superhero', 'doctor', 'scientist', 'tentacle', 'death', 'super villain']"
        ],
        [
         "31",
         "['terrorist', 'war on terror', 'tennessee', 'malibu', 'marvel comic', 'superhero', 'based on comic book', 'tony stark', 'iron man', 'aftercreditsstinger', 'marvel cinematic universe', 'mandarin', '3d', 'war machine', 'iron patriot', 'extremis']"
        ],
        [
         "32",
         "['based on novel', 'fictional place', 'queen', 'fantasy', 'alice in wonderland', 'fantasy world', '3d']"
        ],
        [
         "33",
         "['mutant', 'marvel comic', 'based on comic book', 'superhuman', 'beast', 'cyclops', 'aftercreditsstinger']"
        ],
        [
         "34",
         "['monster', 'dormitory', 'games', 'animation', 'best friend', 'university', 'scary', 'aftercreditsstinger']"
        ],
        [
         "35",
         "['egypt', 'sun', 'chaos', 'symbol', 'artifact', 'transformers', 'tank', 'robot', 'imax', 'duringcreditsstinger']"
        ],
        [
         "36",
         "['sequel', 'alien', 'transformers', 'giant robot', 'robot', 'imax', 'transforming robot']"
        ],
        [
         "37",
         "['circus', 'witch', 'magic', 'hope', 'illusion', 'lost', 'magic trick', 'wizard', '3d']"
        ],
        [
         "38",
         "['obsession', 'marvel comic', 'sequel', 'based on comic book', 'electrocution', 'medical experiment', 'electricity', 'super powers']"
        ],
        [
         "39",
         "['artificial intelligence', 'secret identity', 'computer program', 'dystopia', 'computer', 'deception', 'duel', 'motorcycle', 'neon light', 'autocracy']"
        ],
        [
         "40",
         "['car race', 'sequel', 'comedy', 'anthropomorphism', 'best friend', 'duringcreditsstinger']"
        ],
        [
         "41",
         "['dc comics', 'transformation', 'superhero', 'alien', 'alien infection', 'magical object', 'protector', 'super powers', 'origin', '3d']"
        ],
        [
         "42",
         "['hostage', 'college', 'toy', 'barbie', 'animation', 'escape', 'day care', 'teddy bear', 'duringcreditsstinger', 'toy comes to life', 'personification', 'inanimate objects coming to life', 'toy story']"
        ],
        [
         "43",
         "['saving the world', 'artificial intelligence', 'prophecy', 'san francisco', 'cyborg', 'killer robot', 'gas station', 'post-apocalyptic', 'dystopia', 'army', 'firearm', 'wartime', 'los angeles']"
        ],
        [
         "44",
         "['car race', 'speed', 'revenge', 'suspense', 'car', 'race', 'muscle car']"
        ],
        [
         "45",
         "['dystopia', 'apocalypse', 'zombie', 'nuclear weapons', 'multiple perspectives', 'zombie apocalypse']"
        ],
        [
         "46",
         "['1970s', 'mutant', 'time travel', 'marvel comic', 'based on comic book', 'superhuman', 'storm', 'beast', 'aftercreditsstinger', 'changing the past or future']"
        ],
        [
         "47",
         "['spacecraft', 'friendship', 'sequel', 'futuristic', 'space', 'alien', 'imax', 'space opera', 'terrorist bombing', '3d']"
        ],
        [
         "48",
         "['based on fairy tale', 'giant']"
        ],
        [
         "49",
         "['based on novel', 'infidelity', 'obsession', 'hope', '3d']"
        ]
       ],
       "shape": {
        "columns": 1,
        "rows": 4806
       }
      },
      "text/plain": [
       "0       [culture clash, future, space war, space colon...\n",
       "1       [ocean, drug abuse, exotic island, east india ...\n",
       "2       [spy, based on novel, secret agent, sequel, mi...\n",
       "3       [dc comics, crime fighter, terrorist, secret i...\n",
       "4       [based on novel, mars, medallion, space travel...\n",
       "                              ...                        \n",
       "4804    [united states–mexico barrier, legs, arms, pap...\n",
       "4805                                                   []\n",
       "4806    [date, love at first sight, narration, investi...\n",
       "4807                                                   []\n",
       "4808            [obsession, camcorder, crush, dream girl]\n",
       "Name: keywords, Length: 4806, dtype: object"
      ]
     },
     "execution_count": 16,
     "metadata": {},
     "output_type": "execute_result"
    }
   ],
   "source": [
    "dataframe['keywords'] = dataframe['keywords'].apply(convert)\n",
    "dataframe['keywords']"
   ]
  },
  {
   "cell_type": "code",
   "execution_count": 17,
   "id": "1f8fd1f4",
   "metadata": {},
   "outputs": [],
   "source": [
    "def convert2(txt):\n",
    "\n",
    "    L =[]\n",
    "    count = 0\n",
    "    for i in ast.literal_eval(txt):\n",
    "        if count != 3:\n",
    "            L.append(i['name'])\n",
    "            count += 1\n",
    "    return L"
   ]
  },
  {
   "cell_type": "code",
   "execution_count": 18,
   "id": "9e307010",
   "metadata": {},
   "outputs": [],
   "source": [
    "dataframe['cast'] = dataframe['cast'].apply(convert2)\n"
   ]
  },
  {
   "cell_type": "code",
   "execution_count": 19,
   "id": "bfa7162c",
   "metadata": {},
   "outputs": [
    {
     "data": {
      "application/vnd.microsoft.datawrangler.viewer.v0+json": {
       "columns": [
        {
         "name": "index",
         "rawType": "int64",
         "type": "integer"
        },
        {
         "name": "cast",
         "rawType": "object",
         "type": "unknown"
        }
       ],
       "ref": "ae7caeb3-fbc8-47f8-b5fe-d85237259c5f",
       "rows": [
        [
         "0",
         "['Sam Worthington', 'Zoe Saldana', 'Sigourney Weaver']"
        ],
        [
         "1",
         "['Johnny Depp', 'Orlando Bloom', 'Keira Knightley']"
        ],
        [
         "2",
         "['Daniel Craig', 'Christoph Waltz', 'Léa Seydoux']"
        ],
        [
         "3",
         "['Christian Bale', 'Michael Caine', 'Gary Oldman']"
        ],
        [
         "4",
         "['Taylor Kitsch', 'Lynn Collins', 'Samantha Morton']"
        ],
        [
         "5",
         "['Tobey Maguire', 'Kirsten Dunst', 'James Franco']"
        ],
        [
         "6",
         "['Zachary Levi', 'Mandy Moore', 'Donna Murphy']"
        ],
        [
         "7",
         "['Robert Downey Jr.', 'Chris Hemsworth', 'Mark Ruffalo']"
        ],
        [
         "8",
         "['Daniel Radcliffe', 'Rupert Grint', 'Emma Watson']"
        ],
        [
         "9",
         "['Ben Affleck', 'Henry Cavill', 'Gal Gadot']"
        ],
        [
         "10",
         "['Brandon Routh', 'Kevin Spacey', 'Kate Bosworth']"
        ],
        [
         "11",
         "['Daniel Craig', 'Olga Kurylenko', 'Mathieu Amalric']"
        ],
        [
         "12",
         "['Johnny Depp', 'Orlando Bloom', 'Keira Knightley']"
        ],
        [
         "13",
         "['Johnny Depp', 'Armie Hammer', 'William Fichtner']"
        ],
        [
         "14",
         "['Henry Cavill', 'Amy Adams', 'Michael Shannon']"
        ],
        [
         "15",
         "['Ben Barnes', 'William Moseley', 'Anna Popplewell']"
        ],
        [
         "16",
         "['Robert Downey Jr.', 'Chris Evans', 'Mark Ruffalo']"
        ],
        [
         "17",
         "['Johnny Depp', 'Penélope Cruz', 'Ian McShane']"
        ],
        [
         "18",
         "['Will Smith', 'Tommy Lee Jones', 'Josh Brolin']"
        ],
        [
         "19",
         "['Martin Freeman', 'Ian McKellen', 'Richard Armitage']"
        ],
        [
         "20",
         "['Andrew Garfield', 'Emma Stone', 'Rhys Ifans']"
        ],
        [
         "21",
         "['Russell Crowe', 'Cate Blanchett', 'Max von Sydow']"
        ],
        [
         "22",
         "['Martin Freeman', 'Ian McKellen', 'Richard Armitage']"
        ],
        [
         "23",
         "['Dakota Blue Richards', 'Nicole Kidman', 'Daniel Craig']"
        ],
        [
         "24",
         "['Naomi Watts', 'Jack Black', 'Adrien Brody']"
        ],
        [
         "25",
         "['Kate Winslet', 'Leonardo DiCaprio', 'Frances Fisher']"
        ],
        [
         "26",
         "['Chris Evans', 'Robert Downey Jr.', 'Scarlett Johansson']"
        ],
        [
         "27",
         "['Taylor Kitsch', 'Alexander Skarsgård', 'Rihanna']"
        ],
        [
         "28",
         "['Chris Pratt', 'Bryce Dallas Howard', 'Irrfan Khan']"
        ],
        [
         "29",
         "['Daniel Craig', 'Judi Dench', 'Javier Bardem']"
        ],
        [
         "30",
         "['Tobey Maguire', 'Kirsten Dunst', 'James Franco']"
        ],
        [
         "31",
         "['Robert Downey Jr.', 'Gwyneth Paltrow', 'Don Cheadle']"
        ],
        [
         "32",
         "['Mia Wasikowska', 'Johnny Depp', 'Anne Hathaway']"
        ],
        [
         "33",
         "['Hugh Jackman', 'Halle Berry', 'Ian McKellen']"
        ],
        [
         "34",
         "['Billy Crystal', 'John Goodman', 'Steve Buscemi']"
        ],
        [
         "35",
         "['Shia LaBeouf', 'Megan Fox', 'Josh Duhamel']"
        ],
        [
         "36",
         "['Mark Wahlberg', 'Stanley Tucci', 'Kelsey Grammer']"
        ],
        [
         "37",
         "['James Franco', 'Mila Kunis', 'Rachel Weisz']"
        ],
        [
         "38",
         "['Andrew Garfield', 'Emma Stone', 'Jamie Foxx']"
        ],
        [
         "39",
         "['Garrett Hedlund', 'Jeff Bridges', 'Olivia Wilde']"
        ],
        [
         "40",
         "['Owen Wilson', 'Larry the Cable Guy', 'Michael Caine']"
        ],
        [
         "41",
         "['Ryan Reynolds', 'Blake Lively', 'Peter Sarsgaard']"
        ],
        [
         "42",
         "['Tom Hanks', 'Tim Allen', 'Ned Beatty']"
        ],
        [
         "43",
         "['Christian Bale', 'Sam Worthington', 'Anton Yelchin']"
        ],
        [
         "44",
         "['Vin Diesel', 'Paul Walker', 'Dwayne Johnson']"
        ],
        [
         "45",
         "['Brad Pitt', 'Mireille Enos', 'Abigail Hargrove']"
        ],
        [
         "46",
         "['Hugh Jackman', 'James McAvoy', 'Michael Fassbender']"
        ],
        [
         "47",
         "['Chris Pine', 'Zachary Quinto', 'Zoe Saldana']"
        ],
        [
         "48",
         "['Nicholas Hoult', 'Eleanor Tomlinson', 'Ewan McGregor']"
        ],
        [
         "49",
         "['Leonardo DiCaprio', 'Tobey Maguire', 'Carey Mulligan']"
        ]
       ],
       "shape": {
        "columns": 1,
        "rows": 4806
       }
      },
      "text/plain": [
       "0        [Sam Worthington, Zoe Saldana, Sigourney Weaver]\n",
       "1           [Johnny Depp, Orlando Bloom, Keira Knightley]\n",
       "2            [Daniel Craig, Christoph Waltz, Léa Seydoux]\n",
       "3            [Christian Bale, Michael Caine, Gary Oldman]\n",
       "4          [Taylor Kitsch, Lynn Collins, Samantha Morton]\n",
       "                              ...                        \n",
       "4804    [Carlos Gallardo, Jaime de Hoyos, Peter Marqua...\n",
       "4805         [Edward Burns, Kerry Bishé, Marsha Dietlein]\n",
       "4806           [Eric Mabius, Kristin Booth, Crystal Lowe]\n",
       "4807            [Daniel Henney, Eliza Coupe, Bill Paxton]\n",
       "4808    [Drew Barrymore, Brian Herzlinger, Corey Feldman]\n",
       "Name: cast, Length: 4806, dtype: object"
      ]
     },
     "execution_count": 19,
     "metadata": {},
     "output_type": "execute_result"
    }
   ],
   "source": [
    "dataframe['cast']"
   ]
  },
  {
   "cell_type": "code",
   "execution_count": 20,
   "id": "2f92a5a9",
   "metadata": {},
   "outputs": [
    {
     "data": {
      "text/plain": [
       "'[{\"credit_id\": \"52fe48009251416c750aca23\", \"department\": \"Editing\", \"gender\": 0, \"id\": 1721, \"job\": \"Editor\", \"name\": \"Stephen E. Rivkin\"}, {\"credit_id\": \"539c47ecc3a36810e3001f87\", \"department\": \"Art\", \"gender\": 2, \"id\": 496, \"job\": \"Production Design\", \"name\": \"Rick Carter\"}, {\"credit_id\": \"54491c89c3a3680fb4001cf7\", \"department\": \"Sound\", \"gender\": 0, \"id\": 900, \"job\": \"Sound Designer\", \"name\": \"Christopher Boyes\"}, {\"credit_id\": \"54491cb70e0a267480001bd0\", \"department\": \"Sound\", \"gender\": 0, \"id\": 900, \"job\": \"Supervising Sound Editor\", \"name\": \"Christopher Boyes\"}, {\"credit_id\": \"539c4a4cc3a36810c9002101\", \"department\": \"Production\", \"gender\": 1, \"id\": 1262, \"job\": \"Casting\", \"name\": \"Mali Finn\"}, {\"credit_id\": \"5544ee3b925141499f0008fc\", \"department\": \"Sound\", \"gender\": 2, \"id\": 1729, \"job\": \"Original Music Composer\", \"name\": \"James Horner\"}, {\"credit_id\": \"52fe48009251416c750ac9c3\", \"department\": \"Directing\", \"gender\": 2, \"id\": 2710, \"job\": \"Director\", \"name\": \"James Cameron\"}, {\"credit_id\": \"52fe48009251416c750ac9d9\", \"department\": \"Writing\", \"gender\": 2, \"id\": 2710, \"job\": \"Writer\", \"name\": \"James Cameron\"}, {\"credit_id\": \"52fe48009251416c750aca17\", \"department\": \"Editing\", \"gender\": 2, \"id\": 2710, \"job\": \"Editor\", \"name\": \"James Cameron\"}, {\"credit_id\": \"52fe48009251416c750aca29\", \"department\": \"Production\", \"gender\": 2, \"id\": 2710, \"job\": \"Producer\", \"name\": \"James Cameron\"}, {\"credit_id\": \"52fe48009251416c750aca3f\", \"department\": \"Writing\", \"gender\": 2, \"id\": 2710, \"job\": \"Screenplay\", \"name\": \"James Cameron\"}, {\"credit_id\": \"539c4987c3a36810ba0021a4\", \"department\": \"Art\", \"gender\": 2, \"id\": 7236, \"job\": \"Art Direction\", \"name\": \"Andrew Menzies\"}, {\"credit_id\": \"549598c3c3a3686ae9004383\", \"department\": \"Visual Effects\", \"gender\": 0, \"id\": 6690, \"job\": \"Visual Effects Producer\", \"name\": \"Jill Brooks\"}, {\"credit_id\": \"52fe48009251416c750aca4b\", \"department\": \"Production\", \"gender\": 1, \"id\": 6347, \"job\": \"Casting\", \"name\": \"Margery Simkin\"}, {\"credit_id\": \"570b6f419251417da70032fe\", \"department\": \"Art\", \"gender\": 2, \"id\": 6878, \"job\": \"Supervising Art Director\", \"name\": \"Kevin Ishioka\"}, {\"credit_id\": \"5495a0fac3a3686ae9004468\", \"department\": \"Sound\", \"gender\": 0, \"id\": 6883, \"job\": \"Music Editor\", \"name\": \"Dick Bernstein\"}, {\"credit_id\": \"54959706c3a3686af3003e81\", \"department\": \"Sound\", \"gender\": 0, \"id\": 8159, \"job\": \"Sound Effects Editor\", \"name\": \"Shannon Mills\"}, {\"credit_id\": \"54491d58c3a3680fb1001ccb\", \"department\": \"Sound\", \"gender\": 0, \"id\": 8160, \"job\": \"Foley\", \"name\": \"Dennie Thorpe\"}, {\"credit_id\": \"54491d6cc3a3680fa5001b2c\", \"department\": \"Sound\", \"gender\": 0, \"id\": 8163, \"job\": \"Foley\", \"name\": \"Jana Vance\"}, {\"credit_id\": \"52fe48009251416c750aca57\", \"department\": \"Costume & Make-Up\", \"gender\": 1, \"id\": 8527, \"job\": \"Costume Design\", \"name\": \"Deborah Lynn Scott\"}, {\"credit_id\": \"52fe48009251416c750aca2f\", \"department\": \"Production\", \"gender\": 2, \"id\": 8529, \"job\": \"Producer\", \"name\": \"Jon Landau\"}, {\"credit_id\": \"539c4937c3a36810ba002194\", \"department\": \"Art\", \"gender\": 0, \"id\": 9618, \"job\": \"Art Direction\", \"name\": \"Sean Haworth\"}, {\"credit_id\": \"539c49b6c3a36810c10020e6\", \"department\": \"Art\", \"gender\": 1, \"id\": 12653, \"job\": \"Set Decoration\", \"name\": \"Kim Sinclair\"}, {\"credit_id\": \"570b6f2f9251413a0e00020d\", \"department\": \"Art\", \"gender\": 1, \"id\": 12653, \"job\": \"Supervising Art Director\", \"name\": \"Kim Sinclair\"}, {\"credit_id\": \"54491a6c0e0a26748c001b19\", \"department\": \"Art\", \"gender\": 2, \"id\": 14350, \"job\": \"Set Designer\", \"name\": \"Richard F. Mays\"}, {\"credit_id\": \"56928cf4c3a3684cff0025c4\", \"department\": \"Production\", \"gender\": 1, \"id\": 20294, \"job\": \"Executive Producer\", \"name\": \"Laeta Kalogridis\"}, {\"credit_id\": \"52fe48009251416c750aca51\", \"department\": \"Costume & Make-Up\", \"gender\": 0, \"id\": 17675, \"job\": \"Costume Design\", \"name\": \"Mayes C. Rubeo\"}, {\"credit_id\": \"52fe48009251416c750aca11\", \"department\": \"Camera\", \"gender\": 2, \"id\": 18265, \"job\": \"Director of Photography\", \"name\": \"Mauro Fiore\"}, {\"credit_id\": \"5449194d0e0a26748f001b39\", \"department\": \"Art\", \"gender\": 0, \"id\": 42281, \"job\": \"Set Designer\", \"name\": \"Scott Herbertson\"}, {\"credit_id\": \"52fe48009251416c750aca05\", \"department\": \"Crew\", \"gender\": 0, \"id\": 42288, \"job\": \"Stunts\", \"name\": \"Woody Schultz\"}, {\"credit_id\": \"5592aefb92514152de0010f5\", \"department\": \"Costume & Make-Up\", \"gender\": 0, \"id\": 29067, \"job\": \"Makeup Artist\", \"name\": \"Linda DeVetta\"}, {\"credit_id\": \"5592afa492514152de00112c\", \"department\": \"Costume & Make-Up\", \"gender\": 0, \"id\": 29067, \"job\": \"Hairstylist\", \"name\": \"Linda DeVetta\"}, {\"credit_id\": \"54959ed592514130fc002e5d\", \"department\": \"Camera\", \"gender\": 2, \"id\": 33302, \"job\": \"Camera Operator\", \"name\": \"Richard Bluck\"}, {\"credit_id\": \"539c4891c3a36810ba002147\", \"department\": \"Art\", \"gender\": 2, \"id\": 33303, \"job\": \"Art Direction\", \"name\": \"Simon Bright\"}, {\"credit_id\": \"54959c069251417a81001f3a\", \"department\": \"Visual Effects\", \"gender\": 0, \"id\": 113145, \"job\": \"Visual Effects Supervisor\", \"name\": \"Richard Martin\"}, {\"credit_id\": \"54959a0dc3a3680ff5002c8d\", \"department\": \"Crew\", \"gender\": 2, \"id\": 58188, \"job\": \"Visual Effects Editor\", \"name\": \"Steve R. Moore\"}, {\"credit_id\": \"52fe48009251416c750aca1d\", \"department\": \"Editing\", \"gender\": 2, \"id\": 58871, \"job\": \"Editor\", \"name\": \"John Refoua\"}, {\"credit_id\": \"54491a4dc3a3680fc30018ca\", \"department\": \"Art\", \"gender\": 0, \"id\": 92359, \"job\": \"Set Designer\", \"name\": \"Karl J. Martin\"}, {\"credit_id\": \"52fe48009251416c750aca35\", \"department\": \"Camera\", \"gender\": 1, \"id\": 72201, \"job\": \"Director of Photography\", \"name\": \"Chiling Lin\"}, {\"credit_id\": \"52fe48009251416c750ac9ff\", \"department\": \"Crew\", \"gender\": 0, \"id\": 89714, \"job\": \"Stunts\", \"name\": \"Ilram Choi\"}, {\"credit_id\": \"54959c529251416e2b004394\", \"department\": \"Visual Effects\", \"gender\": 2, \"id\": 93214, \"job\": \"Visual Effects Supervisor\", \"name\": \"Steven Quale\"}, {\"credit_id\": \"54491edf0e0a267489001c37\", \"department\": \"Crew\", \"gender\": 1, \"id\": 122607, \"job\": \"Dialect Coach\", \"name\": \"Carla Meyer\"}, {\"credit_id\": \"539c485bc3a368653d001a3a\", \"department\": \"Art\", \"gender\": 2, \"id\": 132585, \"job\": \"Art Direction\", \"name\": \"Nick Bassett\"}, {\"credit_id\": \"539c4903c3a368653d001a74\", \"department\": \"Art\", \"gender\": 0, \"id\": 132596, \"job\": \"Art Direction\", \"name\": \"Jill Cormack\"}, {\"credit_id\": \"539c4967c3a368653d001a94\", \"department\": \"Art\", \"gender\": 0, \"id\": 132604, \"job\": \"Art Direction\", \"name\": \"Andy McLaren\"}, {\"credit_id\": \"52fe48009251416c750aca45\", \"department\": \"Crew\", \"gender\": 0, \"id\": 236696, \"job\": \"Motion Capture Artist\", \"name\": \"Terry Notary\"}, {\"credit_id\": \"54959e02c3a3680fc60027d2\", \"department\": \"Crew\", \"gender\": 2, \"id\": 956198, \"job\": \"Stunt Coordinator\", \"name\": \"Garrett Warren\"}, {\"credit_id\": \"54959ca3c3a3686ae300438c\", \"department\": \"Visual Effects\", \"gender\": 2, \"id\": 957874, \"job\": \"Visual Effects Supervisor\", \"name\": \"Jonathan Rothbart\"}, {\"credit_id\": \"570b6f519251412c74001b2f\", \"department\": \"Art\", \"gender\": 0, \"id\": 957889, \"job\": \"Supervising Art Director\", \"name\": \"Stefan Dechant\"}, {\"credit_id\": \"570b6f62c3a3680b77007460\", \"department\": \"Art\", \"gender\": 2, \"id\": 959555, \"job\": \"Supervising Art Director\", \"name\": \"Todd Cherniawsky\"}, {\"credit_id\": \"539c4a3ac3a36810da0021cc\", \"department\": \"Production\", \"gender\": 0, \"id\": 1016177, \"job\": \"Casting\", \"name\": \"Miranda Rivers\"}, {\"credit_id\": \"539c482cc3a36810c1002062\", \"department\": \"Art\", \"gender\": 0, \"id\": 1032536, \"job\": \"Production Design\", \"name\": \"Robert Stromberg\"}, {\"credit_id\": \"539c4b65c3a36810c9002125\", \"department\": \"Costume & Make-Up\", \"gender\": 2, \"id\": 1071680, \"job\": \"Costume Design\", \"name\": \"John Harding\"}, {\"credit_id\": \"54959e6692514130fc002e4e\", \"department\": \"Camera\", \"gender\": 0, \"id\": 1177364, \"job\": \"Steadicam Operator\", \"name\": \"Roberto De Angelis\"}, {\"credit_id\": \"539c49f1c3a368653d001aac\", \"department\": \"Costume & Make-Up\", \"gender\": 2, \"id\": 1202850, \"job\": \"Makeup Department Head\", \"name\": \"Mike Smithson\"}, {\"credit_id\": \"5495999ec3a3686ae100460c\", \"department\": \"Visual Effects\", \"gender\": 0, \"id\": 1204668, \"job\": \"Visual Effects Producer\", \"name\": \"Alain Lalanne\"}, {\"credit_id\": \"54959cdfc3a3681153002729\", \"department\": \"Visual Effects\", \"gender\": 0, \"id\": 1206410, \"job\": \"Visual Effects Supervisor\", \"name\": \"Lucas Salton\"}, {\"credit_id\": \"549596239251417a81001eae\", \"department\": \"Crew\", \"gender\": 0, \"id\": 1234266, \"job\": \"Post Production Supervisor\", \"name\": \"Janace Tashjian\"}, {\"credit_id\": \"54959c859251416e1e003efe\", \"department\": \"Visual Effects\", \"gender\": 0, \"id\": 1271932, \"job\": \"Visual Effects Supervisor\", \"name\": \"Stephen Rosenbaum\"}, {\"credit_id\": \"5592af28c3a368775a00105f\", \"department\": \"Costume & Make-Up\", \"gender\": 0, \"id\": 1310064, \"job\": \"Makeup Artist\", \"name\": \"Frankie Karena\"}, {\"credit_id\": \"539c4adfc3a36810e300203b\", \"department\": \"Costume & Make-Up\", \"gender\": 1, \"id\": 1319844, \"job\": \"Costume Supervisor\", \"name\": \"Lisa Lovaas\"}, {\"credit_id\": \"54959b579251416e2b004371\", \"department\": \"Visual Effects\", \"gender\": 0, \"id\": 1327028, \"job\": \"Visual Effects Supervisor\", \"name\": \"Jonathan Fawkner\"}, {\"credit_id\": \"539c48a7c3a36810b5001fa7\", \"department\": \"Art\", \"gender\": 0, \"id\": 1330561, \"job\": \"Art Direction\", \"name\": \"Robert Bavin\"}, {\"credit_id\": \"539c4a71c3a36810da0021e0\", \"department\": \"Costume & Make-Up\", \"gender\": 0, \"id\": 1330567, \"job\": \"Costume Supervisor\", \"name\": \"Anthony Almaraz\"}, {\"credit_id\": \"539c4a8ac3a36810ba0021e4\", \"department\": \"Costume & Make-Up\", \"gender\": 0, \"id\": 1330570, \"job\": \"Costume Supervisor\", \"name\": \"Carolyn M. Fenton\"}, {\"credit_id\": \"539c4ab6c3a36810da0021f0\", \"department\": \"Costume & Make-Up\", \"gender\": 0, \"id\": 1330574, \"job\": \"Costume Supervisor\", \"name\": \"Beth Koenigsberg\"}, {\"credit_id\": \"54491ab70e0a267480001ba2\", \"department\": \"Art\", \"gender\": 0, \"id\": 1336191, \"job\": \"Set Designer\", \"name\": \"Sam Page\"}, {\"credit_id\": \"544919d9c3a3680fc30018bd\", \"department\": \"Art\", \"gender\": 0, \"id\": 1339441, \"job\": \"Set Designer\", \"name\": \"Tex Kadonaga\"}, {\"credit_id\": \"54491cf50e0a267483001b0c\", \"department\": \"Editing\", \"gender\": 0, \"id\": 1352422, \"job\": \"Dialogue Editor\", \"name\": \"Kim Foscato\"}, {\"credit_id\": \"544919f40e0a26748c001b09\", \"department\": \"Art\", \"gender\": 0, \"id\": 1352962, \"job\": \"Set Designer\", \"name\": \"Tammy S. Lee\"}, {\"credit_id\": \"5495a115c3a3680ff5002d71\", \"department\": \"Crew\", \"gender\": 0, \"id\": 1357070, \"job\": \"Transportation Coordinator\", \"name\": \"Denny Caira\"}, {\"credit_id\": \"5495a12f92514130fc002e94\", \"department\": \"Crew\", \"gender\": 0, \"id\": 1357071, \"job\": \"Transportation Coordinator\", \"name\": \"James Waitkus\"}, {\"credit_id\": \"5495976fc3a36811530026b0\", \"department\": \"Sound\", \"gender\": 0, \"id\": 1360103, \"job\": \"Supervising Sound Editor\", \"name\": \"Addison Teague\"}, {\"credit_id\": \"54491837c3a3680fb1001c5a\", \"department\": \"Art\", \"gender\": 2, \"id\": 1376887, \"job\": \"Set Designer\", \"name\": \"C. Scott Baker\"}, {\"credit_id\": \"54491878c3a3680fb4001c9d\", \"department\": \"Art\", \"gender\": 0, \"id\": 1376888, \"job\": \"Set Designer\", \"name\": \"Luke Caska\"}, {\"credit_id\": \"544918dac3a3680fa5001ae0\", \"department\": \"Art\", \"gender\": 0, \"id\": 1376889, \"job\": \"Set Designer\", \"name\": \"David Chow\"}, {\"credit_id\": \"544919110e0a267486001b68\", \"department\": \"Art\", \"gender\": 0, \"id\": 1376890, \"job\": \"Set Designer\", \"name\": \"Jonathan Dyer\"}, {\"credit_id\": \"54491967c3a3680faa001b5e\", \"department\": \"Art\", \"gender\": 0, \"id\": 1376891, \"job\": \"Set Designer\", \"name\": \"Joseph Hiura\"}, {\"credit_id\": \"54491997c3a3680fb1001c8a\", \"department\": \"Art\", \"gender\": 0, \"id\": 1376892, \"job\": \"Art Department Coordinator\", \"name\": \"Rebecca Jellie\"}, {\"credit_id\": \"544919ba0e0a26748f001b42\", \"department\": \"Art\", \"gender\": 0, \"id\": 1376893, \"job\": \"Set Designer\", \"name\": \"Robert Andrew Johnson\"}, {\"credit_id\": \"54491b1dc3a3680faa001b8c\", \"department\": \"Art\", \"gender\": 0, \"id\": 1376895, \"job\": \"Assistant Art Director\", \"name\": \"Mike Stassi\"}, {\"credit_id\": \"54491b79c3a3680fbb001826\", \"department\": \"Art\", \"gender\": 0, \"id\": 1376897, \"job\": \"Construction Coordinator\", \"name\": \"John Villarino\"}, {\"credit_id\": \"54491baec3a3680fb4001ce6\", \"department\": \"Art\", \"gender\": 2, \"id\": 1376898, \"job\": \"Assistant Art Director\", \"name\": \"Jeffrey Wisniewski\"}, {\"credit_id\": \"54491d2fc3a3680fb4001d07\", \"department\": \"Editing\", \"gender\": 0, \"id\": 1376899, \"job\": \"Dialogue Editor\", \"name\": \"Cheryl Nardi\"}, {\"credit_id\": \"54491d86c3a3680fa5001b2f\", \"department\": \"Editing\", \"gender\": 0, \"id\": 1376901, \"job\": \"Dialogue Editor\", \"name\": \"Marshall Winn\"}, {\"credit_id\": \"54491d9dc3a3680faa001bb0\", \"department\": \"Sound\", \"gender\": 0, \"id\": 1376902, \"job\": \"Supervising Sound Editor\", \"name\": \"Gwendolyn Yates Whittle\"}, {\"credit_id\": \"54491dc10e0a267486001bce\", \"department\": \"Sound\", \"gender\": 0, \"id\": 1376903, \"job\": \"Sound Re-Recording Mixer\", \"name\": \"William Stein\"}, {\"credit_id\": \"54491f500e0a26747c001c07\", \"department\": \"Crew\", \"gender\": 0, \"id\": 1376909, \"job\": \"Choreographer\", \"name\": \"Lula Washington\"}, {\"credit_id\": \"549599239251412c4e002a2e\", \"department\": \"Visual Effects\", \"gender\": 0, \"id\": 1391692, \"job\": \"Visual Effects Producer\", \"name\": \"Chris Del Conte\"}, {\"credit_id\": \"54959d54c3a36831b8001d9a\", \"department\": \"Visual Effects\", \"gender\": 2, \"id\": 1391695, \"job\": \"Visual Effects Supervisor\", \"name\": \"R. Christopher White\"}, {\"credit_id\": \"54959bdf9251412c4e002a66\", \"department\": \"Visual Effects\", \"gender\": 0, \"id\": 1394070, \"job\": \"Visual Effects Supervisor\", \"name\": \"Dan Lemmon\"}, {\"credit_id\": \"5495971d92514132ed002922\", \"department\": \"Sound\", \"gender\": 0, \"id\": 1394129, \"job\": \"Sound Effects Editor\", \"name\": \"Tim Nielsen\"}, {\"credit_id\": \"5592b25792514152cc0011aa\", \"department\": \"Crew\", \"gender\": 0, \"id\": 1394286, \"job\": \"CG Supervisor\", \"name\": \"Michael Mulholland\"}, {\"credit_id\": \"54959a329251416e2b004355\", \"department\": \"Crew\", \"gender\": 0, \"id\": 1394750, \"job\": \"Visual Effects Editor\", \"name\": \"Thomas Nittmann\"}, {\"credit_id\": \"54959d6dc3a3686ae9004401\", \"department\": \"Visual Effects\", \"gender\": 0, \"id\": 1394755, \"job\": \"Visual Effects Supervisor\", \"name\": \"Edson Williams\"}, {\"credit_id\": \"5495a08fc3a3686ae300441c\", \"department\": \"Editing\", \"gender\": 0, \"id\": 1394953, \"job\": \"Digital Intermediate\", \"name\": \"Christine Carr\"}, {\"credit_id\": \"55402d659251413d6d000249\", \"department\": \"Visual Effects\", \"gender\": 0, \"id\": 1395269, \"job\": \"Visual Effects Supervisor\", \"name\": \"John Bruno\"}, {\"credit_id\": \"54959e7b9251416e1e003f3e\", \"department\": \"Camera\", \"gender\": 0, \"id\": 1398970, \"job\": \"Steadicam Operator\", \"name\": \"David Emmerichs\"}, {\"credit_id\": \"54959734c3a3686ae10045e0\", \"department\": \"Sound\", \"gender\": 0, \"id\": 1400906, \"job\": \"Sound Effects Editor\", \"name\": \"Christopher Scarabosio\"}, {\"credit_id\": \"549595dd92514130fc002d79\", \"department\": \"Production\", \"gender\": 0, \"id\": 1401784, \"job\": \"Production Supervisor\", \"name\": \"Jennifer Teves\"}, {\"credit_id\": \"549596009251413af70028cc\", \"department\": \"Production\", \"gender\": 0, \"id\": 1401785, \"job\": \"Production Manager\", \"name\": \"Brigitte Yorke\"}, {\"credit_id\": \"549596e892514130fc002d99\", \"department\": \"Sound\", \"gender\": 0, \"id\": 1401786, \"job\": \"Sound Effects Editor\", \"name\": \"Ken Fischer\"}, {\"credit_id\": \"549598229251412c4e002a1c\", \"department\": \"Crew\", \"gender\": 0, \"id\": 1401787, \"job\": \"Special Effects Coordinator\", \"name\": \"Iain Hutton\"}, {\"credit_id\": \"549598349251416e2b00432b\", \"department\": \"Crew\", \"gender\": 0, \"id\": 1401788, \"job\": \"Special Effects Coordinator\", \"name\": \"Steve Ingram\"}, {\"credit_id\": \"54959905c3a3686ae3004324\", \"department\": \"Visual Effects\", \"gender\": 0, \"id\": 1401789, \"job\": \"Visual Effects Producer\", \"name\": \"Joyce Cox\"}, {\"credit_id\": \"5495994b92514132ed002951\", \"department\": \"Visual Effects\", \"gender\": 0, \"id\": 1401790, \"job\": \"Visual Effects Producer\", \"name\": \"Jenny Foster\"}, {\"credit_id\": \"549599cbc3a3686ae1004613\", \"department\": \"Crew\", \"gender\": 0, \"id\": 1401791, \"job\": \"Visual Effects Editor\", \"name\": \"Christopher Marino\"}, {\"credit_id\": \"549599f2c3a3686ae100461e\", \"department\": \"Crew\", \"gender\": 0, \"id\": 1401792, \"job\": \"Visual Effects Editor\", \"name\": \"Jim Milton\"}, {\"credit_id\": \"54959a51c3a3686af3003eb5\", \"department\": \"Visual Effects\", \"gender\": 0, \"id\": 1401793, \"job\": \"Visual Effects Producer\", \"name\": \"Cyndi Ochs\"}, {\"credit_id\": \"54959a7cc3a36811530026f4\", \"department\": \"Crew\", \"gender\": 0, \"id\": 1401794, \"job\": \"Visual Effects Editor\", \"name\": \"Lucas Putnam\"}, {\"credit_id\": \"54959b91c3a3680ff5002cb4\", \"department\": \"Visual Effects\", \"gender\": 0, \"id\": 1401795, \"job\": \"Visual Effects Supervisor\", \"name\": \"Anthony \\'Max\\' Ivins\"}, {\"credit_id\": \"54959bb69251412c4e002a5f\", \"department\": \"Visual Effects\", \"gender\": 0, \"id\": 1401796, \"job\": \"Visual Effects Supervisor\", \"name\": \"John Knoll\"}, {\"credit_id\": \"54959cbbc3a3686ae3004391\", \"department\": \"Visual Effects\", \"gender\": 2, \"id\": 1401799, \"job\": \"Visual Effects Supervisor\", \"name\": \"Eric Saindon\"}, {\"credit_id\": \"54959d06c3a3686ae90043f6\", \"department\": \"Visual Effects\", \"gender\": 0, \"id\": 1401800, \"job\": \"Visual Effects Supervisor\", \"name\": \"Wayne Stables\"}, {\"credit_id\": \"54959d259251416e1e003f11\", \"department\": \"Visual Effects\", \"gender\": 0, \"id\": 1401801, \"job\": \"Visual Effects Supervisor\", \"name\": \"David Stinnett\"}, {\"credit_id\": \"54959db49251413af7002975\", \"department\": \"Visual Effects\", \"gender\": 0, \"id\": 1401803, \"job\": \"Visual Effects Supervisor\", \"name\": \"Guy Williams\"}, {\"credit_id\": \"54959de4c3a3681153002750\", \"department\": \"Crew\", \"gender\": 0, \"id\": 1401804, \"job\": \"Stunt Coordinator\", \"name\": \"Stuart Thorp\"}, {\"credit_id\": \"54959ef2c3a3680fc60027f2\", \"department\": \"Lighting\", \"gender\": 0, \"id\": 1401805, \"job\": \"Best Boy Electric\", \"name\": \"Giles Coburn\"}, {\"credit_id\": \"54959f07c3a3680fc60027f9\", \"department\": \"Camera\", \"gender\": 2, \"id\": 1401806, \"job\": \"Still Photographer\", \"name\": \"Mark Fellman\"}, {\"credit_id\": \"54959f47c3a3681153002774\", \"department\": \"Lighting\", \"gender\": 0, \"id\": 1401807, \"job\": \"Lighting Technician\", \"name\": \"Scott Sprague\"}, {\"credit_id\": \"54959f8cc3a36831b8001df2\", \"department\": \"Visual Effects\", \"gender\": 0, \"id\": 1401808, \"job\": \"Animation Director\", \"name\": \"Jeremy Hollobon\"}, {\"credit_id\": \"54959fa0c3a36831b8001dfb\", \"department\": \"Visual Effects\", \"gender\": 0, \"id\": 1401809, \"job\": \"Animation Director\", \"name\": \"Orlando Meunier\"}, {\"credit_id\": \"54959fb6c3a3686af3003f54\", \"department\": \"Visual Effects\", \"gender\": 0, \"id\": 1401810, \"job\": \"Animation Director\", \"name\": \"Taisuke Tanimura\"}, {\"credit_id\": \"54959fd2c3a36831b8001e02\", \"department\": \"Costume & Make-Up\", \"gender\": 0, \"id\": 1401812, \"job\": \"Set Costumer\", \"name\": \"Lilia Mishel Acevedo\"}, {\"credit_id\": \"54959ff9c3a3686ae300440c\", \"department\": \"Costume & Make-Up\", \"gender\": 0, \"id\": 1401814, \"job\": \"Set Costumer\", \"name\": \"Alejandro M. Hernandez\"}, {\"credit_id\": \"5495a0ddc3a3686ae10046fe\", \"department\": \"Editing\", \"gender\": 0, \"id\": 1401815, \"job\": \"Digital Intermediate\", \"name\": \"Marvin Hall\"}, {\"credit_id\": \"5495a1f7c3a3686ae3004443\", \"department\": \"Production\", \"gender\": 0, \"id\": 1401816, \"job\": \"Publicist\", \"name\": \"Judy Alley\"}, {\"credit_id\": \"5592b29fc3a36869d100002f\", \"department\": \"Crew\", \"gender\": 0, \"id\": 1418381, \"job\": \"CG Supervisor\", \"name\": \"Mike Perry\"}, {\"credit_id\": \"5592b23a9251415df8001081\", \"department\": \"Crew\", \"gender\": 0, \"id\": 1426854, \"job\": \"CG Supervisor\", \"name\": \"Andrew Morley\"}, {\"credit_id\": \"55491e1192514104c40002d8\", \"department\": \"Art\", \"gender\": 0, \"id\": 1438901, \"job\": \"Conceptual Design\", \"name\": \"Seth Engstrom\"}, {\"credit_id\": \"5525d5809251417276002b06\", \"department\": \"Crew\", \"gender\": 0, \"id\": 1447362, \"job\": \"Visual Effects Art Director\", \"name\": \"Eric Oliver\"}, {\"credit_id\": \"554427ca925141586500312a\", \"department\": \"Visual Effects\", \"gender\": 0, \"id\": 1447503, \"job\": \"Modeling\", \"name\": \"Matsune Suzuki\"}, {\"credit_id\": \"551906889251415aab001c88\", \"department\": \"Art\", \"gender\": 0, \"id\": 1447524, \"job\": \"Art Department Manager\", \"name\": \"Paul Tobin\"}, {\"credit_id\": \"5592af8492514152cc0010de\", \"department\": \"Costume & Make-Up\", \"gender\": 0, \"id\": 1452643, \"job\": \"Hairstylist\", \"name\": \"Roxane Griffin\"}, {\"credit_id\": \"553d3c109251415852001318\", \"department\": \"Lighting\", \"gender\": 0, \"id\": 1453938, \"job\": \"Lighting Artist\", \"name\": \"Arun Ram-Mohan\"}, {\"credit_id\": \"5592af4692514152d5001355\", \"department\": \"Costume & Make-Up\", \"gender\": 0, \"id\": 1457305, \"job\": \"Makeup Artist\", \"name\": \"Georgia Lockhart-Adams\"}, {\"credit_id\": \"5592b2eac3a36877470012a5\", \"department\": \"Crew\", \"gender\": 0, \"id\": 1466035, \"job\": \"CG Supervisor\", \"name\": \"Thrain Shadbolt\"}, {\"credit_id\": \"5592b032c3a36877450015f1\", \"department\": \"Crew\", \"gender\": 0, \"id\": 1483220, \"job\": \"CG Supervisor\", \"name\": \"Brad Alexander\"}, {\"credit_id\": \"5592b05592514152d80012f6\", \"department\": \"Crew\", \"gender\": 0, \"id\": 1483221, \"job\": \"CG Supervisor\", \"name\": \"Shadi Almassizadeh\"}, {\"credit_id\": \"5592b090c3a36877570010b5\", \"department\": \"Crew\", \"gender\": 0, \"id\": 1483222, \"job\": \"CG Supervisor\", \"name\": \"Simon Clutterbuck\"}, {\"credit_id\": \"5592b0dbc3a368774b00112c\", \"department\": \"Crew\", \"gender\": 0, \"id\": 1483223, \"job\": \"CG Supervisor\", \"name\": \"Graeme Demmocks\"}, {\"credit_id\": \"5592b0fe92514152db0010c1\", \"department\": \"Crew\", \"gender\": 0, \"id\": 1483224, \"job\": \"CG Supervisor\", \"name\": \"Adrian Fernandes\"}, {\"credit_id\": \"5592b11f9251415df8001059\", \"department\": \"Crew\", \"gender\": 0, \"id\": 1483225, \"job\": \"CG Supervisor\", \"name\": \"Mitch Gates\"}, {\"credit_id\": \"5592b15dc3a3687745001645\", \"department\": \"Crew\", \"gender\": 0, \"id\": 1483226, \"job\": \"CG Supervisor\", \"name\": \"Jerry Kung\"}, {\"credit_id\": \"5592b18e925141645a0004ae\", \"department\": \"Crew\", \"gender\": 0, \"id\": 1483227, \"job\": \"CG Supervisor\", \"name\": \"Andy Lomas\"}, {\"credit_id\": \"5592b1bfc3a368775d0010e7\", \"department\": \"Crew\", \"gender\": 0, \"id\": 1483228, \"job\": \"CG Supervisor\", \"name\": \"Sebastian Marino\"}, {\"credit_id\": \"5592b2049251415df8001078\", \"department\": \"Crew\", \"gender\": 0, \"id\": 1483229, \"job\": \"CG Supervisor\", \"name\": \"Matthias Menz\"}, {\"credit_id\": \"5592b27b92514152d800136a\", \"department\": \"Crew\", \"gender\": 0, \"id\": 1483230, \"job\": \"CG Supervisor\", \"name\": \"Sergei Nevshupov\"}, {\"credit_id\": \"5592b2c3c3a36869e800003c\", \"department\": \"Crew\", \"gender\": 0, \"id\": 1483231, \"job\": \"CG Supervisor\", \"name\": \"Philippe Rebours\"}, {\"credit_id\": \"5592b317c3a36877470012af\", \"department\": \"Crew\", \"gender\": 0, \"id\": 1483232, \"job\": \"CG Supervisor\", \"name\": \"Michael Takarangi\"}, {\"credit_id\": \"5592b345c3a36877470012bb\", \"department\": \"Crew\", \"gender\": 0, \"id\": 1483233, \"job\": \"CG Supervisor\", \"name\": \"David Weitzberg\"}, {\"credit_id\": \"5592b37cc3a368775100113b\", \"department\": \"Crew\", \"gender\": 0, \"id\": 1483234, \"job\": \"CG Supervisor\", \"name\": \"Ben White\"}, {\"credit_id\": \"573c8e2f9251413f5d000094\", \"department\": \"Crew\", \"gender\": 1, \"id\": 1621932, \"job\": \"Stunts\", \"name\": \"Min Windle\"}]'"
      ]
     },
     "execution_count": 20,
     "metadata": {},
     "output_type": "execute_result"
    }
   ],
   "source": [
    "dataframe.iloc[0].crew "
   ]
  },
  {
   "cell_type": "code",
   "execution_count": 21,
   "id": "c520b06d",
   "metadata": {},
   "outputs": [
    {
     "data": {
      "text/plain": [
       "[{'credit_id': '52fe48009251416c750aca23',\n",
       "  'department': 'Editing',\n",
       "  'gender': 0,\n",
       "  'id': 1721,\n",
       "  'job': 'Editor',\n",
       "  'name': 'Stephen E. Rivkin'},\n",
       " {'credit_id': '539c47ecc3a36810e3001f87',\n",
       "  'department': 'Art',\n",
       "  'gender': 2,\n",
       "  'id': 496,\n",
       "  'job': 'Production Design',\n",
       "  'name': 'Rick Carter'},\n",
       " {'credit_id': '54491c89c3a3680fb4001cf7',\n",
       "  'department': 'Sound',\n",
       "  'gender': 0,\n",
       "  'id': 900,\n",
       "  'job': 'Sound Designer',\n",
       "  'name': 'Christopher Boyes'},\n",
       " {'credit_id': '54491cb70e0a267480001bd0',\n",
       "  'department': 'Sound',\n",
       "  'gender': 0,\n",
       "  'id': 900,\n",
       "  'job': 'Supervising Sound Editor',\n",
       "  'name': 'Christopher Boyes'},\n",
       " {'credit_id': '539c4a4cc3a36810c9002101',\n",
       "  'department': 'Production',\n",
       "  'gender': 1,\n",
       "  'id': 1262,\n",
       "  'job': 'Casting',\n",
       "  'name': 'Mali Finn'},\n",
       " {'credit_id': '5544ee3b925141499f0008fc',\n",
       "  'department': 'Sound',\n",
       "  'gender': 2,\n",
       "  'id': 1729,\n",
       "  'job': 'Original Music Composer',\n",
       "  'name': 'James Horner'},\n",
       " {'credit_id': '52fe48009251416c750ac9c3',\n",
       "  'department': 'Directing',\n",
       "  'gender': 2,\n",
       "  'id': 2710,\n",
       "  'job': 'Director',\n",
       "  'name': 'James Cameron'},\n",
       " {'credit_id': '52fe48009251416c750ac9d9',\n",
       "  'department': 'Writing',\n",
       "  'gender': 2,\n",
       "  'id': 2710,\n",
       "  'job': 'Writer',\n",
       "  'name': 'James Cameron'},\n",
       " {'credit_id': '52fe48009251416c750aca17',\n",
       "  'department': 'Editing',\n",
       "  'gender': 2,\n",
       "  'id': 2710,\n",
       "  'job': 'Editor',\n",
       "  'name': 'James Cameron'},\n",
       " {'credit_id': '52fe48009251416c750aca29',\n",
       "  'department': 'Production',\n",
       "  'gender': 2,\n",
       "  'id': 2710,\n",
       "  'job': 'Producer',\n",
       "  'name': 'James Cameron'},\n",
       " {'credit_id': '52fe48009251416c750aca3f',\n",
       "  'department': 'Writing',\n",
       "  'gender': 2,\n",
       "  'id': 2710,\n",
       "  'job': 'Screenplay',\n",
       "  'name': 'James Cameron'},\n",
       " {'credit_id': '539c4987c3a36810ba0021a4',\n",
       "  'department': 'Art',\n",
       "  'gender': 2,\n",
       "  'id': 7236,\n",
       "  'job': 'Art Direction',\n",
       "  'name': 'Andrew Menzies'},\n",
       " {'credit_id': '549598c3c3a3686ae9004383',\n",
       "  'department': 'Visual Effects',\n",
       "  'gender': 0,\n",
       "  'id': 6690,\n",
       "  'job': 'Visual Effects Producer',\n",
       "  'name': 'Jill Brooks'},\n",
       " {'credit_id': '52fe48009251416c750aca4b',\n",
       "  'department': 'Production',\n",
       "  'gender': 1,\n",
       "  'id': 6347,\n",
       "  'job': 'Casting',\n",
       "  'name': 'Margery Simkin'},\n",
       " {'credit_id': '570b6f419251417da70032fe',\n",
       "  'department': 'Art',\n",
       "  'gender': 2,\n",
       "  'id': 6878,\n",
       "  'job': 'Supervising Art Director',\n",
       "  'name': 'Kevin Ishioka'},\n",
       " {'credit_id': '5495a0fac3a3686ae9004468',\n",
       "  'department': 'Sound',\n",
       "  'gender': 0,\n",
       "  'id': 6883,\n",
       "  'job': 'Music Editor',\n",
       "  'name': 'Dick Bernstein'},\n",
       " {'credit_id': '54959706c3a3686af3003e81',\n",
       "  'department': 'Sound',\n",
       "  'gender': 0,\n",
       "  'id': 8159,\n",
       "  'job': 'Sound Effects Editor',\n",
       "  'name': 'Shannon Mills'},\n",
       " {'credit_id': '54491d58c3a3680fb1001ccb',\n",
       "  'department': 'Sound',\n",
       "  'gender': 0,\n",
       "  'id': 8160,\n",
       "  'job': 'Foley',\n",
       "  'name': 'Dennie Thorpe'},\n",
       " {'credit_id': '54491d6cc3a3680fa5001b2c',\n",
       "  'department': 'Sound',\n",
       "  'gender': 0,\n",
       "  'id': 8163,\n",
       "  'job': 'Foley',\n",
       "  'name': 'Jana Vance'},\n",
       " {'credit_id': '52fe48009251416c750aca57',\n",
       "  'department': 'Costume & Make-Up',\n",
       "  'gender': 1,\n",
       "  'id': 8527,\n",
       "  'job': 'Costume Design',\n",
       "  'name': 'Deborah Lynn Scott'},\n",
       " {'credit_id': '52fe48009251416c750aca2f',\n",
       "  'department': 'Production',\n",
       "  'gender': 2,\n",
       "  'id': 8529,\n",
       "  'job': 'Producer',\n",
       "  'name': 'Jon Landau'},\n",
       " {'credit_id': '539c4937c3a36810ba002194',\n",
       "  'department': 'Art',\n",
       "  'gender': 0,\n",
       "  'id': 9618,\n",
       "  'job': 'Art Direction',\n",
       "  'name': 'Sean Haworth'},\n",
       " {'credit_id': '539c49b6c3a36810c10020e6',\n",
       "  'department': 'Art',\n",
       "  'gender': 1,\n",
       "  'id': 12653,\n",
       "  'job': 'Set Decoration',\n",
       "  'name': 'Kim Sinclair'},\n",
       " {'credit_id': '570b6f2f9251413a0e00020d',\n",
       "  'department': 'Art',\n",
       "  'gender': 1,\n",
       "  'id': 12653,\n",
       "  'job': 'Supervising Art Director',\n",
       "  'name': 'Kim Sinclair'},\n",
       " {'credit_id': '54491a6c0e0a26748c001b19',\n",
       "  'department': 'Art',\n",
       "  'gender': 2,\n",
       "  'id': 14350,\n",
       "  'job': 'Set Designer',\n",
       "  'name': 'Richard F. Mays'},\n",
       " {'credit_id': '56928cf4c3a3684cff0025c4',\n",
       "  'department': 'Production',\n",
       "  'gender': 1,\n",
       "  'id': 20294,\n",
       "  'job': 'Executive Producer',\n",
       "  'name': 'Laeta Kalogridis'},\n",
       " {'credit_id': '52fe48009251416c750aca51',\n",
       "  'department': 'Costume & Make-Up',\n",
       "  'gender': 0,\n",
       "  'id': 17675,\n",
       "  'job': 'Costume Design',\n",
       "  'name': 'Mayes C. Rubeo'},\n",
       " {'credit_id': '52fe48009251416c750aca11',\n",
       "  'department': 'Camera',\n",
       "  'gender': 2,\n",
       "  'id': 18265,\n",
       "  'job': 'Director of Photography',\n",
       "  'name': 'Mauro Fiore'},\n",
       " {'credit_id': '5449194d0e0a26748f001b39',\n",
       "  'department': 'Art',\n",
       "  'gender': 0,\n",
       "  'id': 42281,\n",
       "  'job': 'Set Designer',\n",
       "  'name': 'Scott Herbertson'},\n",
       " {'credit_id': '52fe48009251416c750aca05',\n",
       "  'department': 'Crew',\n",
       "  'gender': 0,\n",
       "  'id': 42288,\n",
       "  'job': 'Stunts',\n",
       "  'name': 'Woody Schultz'},\n",
       " {'credit_id': '5592aefb92514152de0010f5',\n",
       "  'department': 'Costume & Make-Up',\n",
       "  'gender': 0,\n",
       "  'id': 29067,\n",
       "  'job': 'Makeup Artist',\n",
       "  'name': 'Linda DeVetta'},\n",
       " {'credit_id': '5592afa492514152de00112c',\n",
       "  'department': 'Costume & Make-Up',\n",
       "  'gender': 0,\n",
       "  'id': 29067,\n",
       "  'job': 'Hairstylist',\n",
       "  'name': 'Linda DeVetta'},\n",
       " {'credit_id': '54959ed592514130fc002e5d',\n",
       "  'department': 'Camera',\n",
       "  'gender': 2,\n",
       "  'id': 33302,\n",
       "  'job': 'Camera Operator',\n",
       "  'name': 'Richard Bluck'},\n",
       " {'credit_id': '539c4891c3a36810ba002147',\n",
       "  'department': 'Art',\n",
       "  'gender': 2,\n",
       "  'id': 33303,\n",
       "  'job': 'Art Direction',\n",
       "  'name': 'Simon Bright'},\n",
       " {'credit_id': '54959c069251417a81001f3a',\n",
       "  'department': 'Visual Effects',\n",
       "  'gender': 0,\n",
       "  'id': 113145,\n",
       "  'job': 'Visual Effects Supervisor',\n",
       "  'name': 'Richard Martin'},\n",
       " {'credit_id': '54959a0dc3a3680ff5002c8d',\n",
       "  'department': 'Crew',\n",
       "  'gender': 2,\n",
       "  'id': 58188,\n",
       "  'job': 'Visual Effects Editor',\n",
       "  'name': 'Steve R. Moore'},\n",
       " {'credit_id': '52fe48009251416c750aca1d',\n",
       "  'department': 'Editing',\n",
       "  'gender': 2,\n",
       "  'id': 58871,\n",
       "  'job': 'Editor',\n",
       "  'name': 'John Refoua'},\n",
       " {'credit_id': '54491a4dc3a3680fc30018ca',\n",
       "  'department': 'Art',\n",
       "  'gender': 0,\n",
       "  'id': 92359,\n",
       "  'job': 'Set Designer',\n",
       "  'name': 'Karl J. Martin'},\n",
       " {'credit_id': '52fe48009251416c750aca35',\n",
       "  'department': 'Camera',\n",
       "  'gender': 1,\n",
       "  'id': 72201,\n",
       "  'job': 'Director of Photography',\n",
       "  'name': 'Chiling Lin'},\n",
       " {'credit_id': '52fe48009251416c750ac9ff',\n",
       "  'department': 'Crew',\n",
       "  'gender': 0,\n",
       "  'id': 89714,\n",
       "  'job': 'Stunts',\n",
       "  'name': 'Ilram Choi'},\n",
       " {'credit_id': '54959c529251416e2b004394',\n",
       "  'department': 'Visual Effects',\n",
       "  'gender': 2,\n",
       "  'id': 93214,\n",
       "  'job': 'Visual Effects Supervisor',\n",
       "  'name': 'Steven Quale'},\n",
       " {'credit_id': '54491edf0e0a267489001c37',\n",
       "  'department': 'Crew',\n",
       "  'gender': 1,\n",
       "  'id': 122607,\n",
       "  'job': 'Dialect Coach',\n",
       "  'name': 'Carla Meyer'},\n",
       " {'credit_id': '539c485bc3a368653d001a3a',\n",
       "  'department': 'Art',\n",
       "  'gender': 2,\n",
       "  'id': 132585,\n",
       "  'job': 'Art Direction',\n",
       "  'name': 'Nick Bassett'},\n",
       " {'credit_id': '539c4903c3a368653d001a74',\n",
       "  'department': 'Art',\n",
       "  'gender': 0,\n",
       "  'id': 132596,\n",
       "  'job': 'Art Direction',\n",
       "  'name': 'Jill Cormack'},\n",
       " {'credit_id': '539c4967c3a368653d001a94',\n",
       "  'department': 'Art',\n",
       "  'gender': 0,\n",
       "  'id': 132604,\n",
       "  'job': 'Art Direction',\n",
       "  'name': 'Andy McLaren'},\n",
       " {'credit_id': '52fe48009251416c750aca45',\n",
       "  'department': 'Crew',\n",
       "  'gender': 0,\n",
       "  'id': 236696,\n",
       "  'job': 'Motion Capture Artist',\n",
       "  'name': 'Terry Notary'},\n",
       " {'credit_id': '54959e02c3a3680fc60027d2',\n",
       "  'department': 'Crew',\n",
       "  'gender': 2,\n",
       "  'id': 956198,\n",
       "  'job': 'Stunt Coordinator',\n",
       "  'name': 'Garrett Warren'},\n",
       " {'credit_id': '54959ca3c3a3686ae300438c',\n",
       "  'department': 'Visual Effects',\n",
       "  'gender': 2,\n",
       "  'id': 957874,\n",
       "  'job': 'Visual Effects Supervisor',\n",
       "  'name': 'Jonathan Rothbart'},\n",
       " {'credit_id': '570b6f519251412c74001b2f',\n",
       "  'department': 'Art',\n",
       "  'gender': 0,\n",
       "  'id': 957889,\n",
       "  'job': 'Supervising Art Director',\n",
       "  'name': 'Stefan Dechant'},\n",
       " {'credit_id': '570b6f62c3a3680b77007460',\n",
       "  'department': 'Art',\n",
       "  'gender': 2,\n",
       "  'id': 959555,\n",
       "  'job': 'Supervising Art Director',\n",
       "  'name': 'Todd Cherniawsky'},\n",
       " {'credit_id': '539c4a3ac3a36810da0021cc',\n",
       "  'department': 'Production',\n",
       "  'gender': 0,\n",
       "  'id': 1016177,\n",
       "  'job': 'Casting',\n",
       "  'name': 'Miranda Rivers'},\n",
       " {'credit_id': '539c482cc3a36810c1002062',\n",
       "  'department': 'Art',\n",
       "  'gender': 0,\n",
       "  'id': 1032536,\n",
       "  'job': 'Production Design',\n",
       "  'name': 'Robert Stromberg'},\n",
       " {'credit_id': '539c4b65c3a36810c9002125',\n",
       "  'department': 'Costume & Make-Up',\n",
       "  'gender': 2,\n",
       "  'id': 1071680,\n",
       "  'job': 'Costume Design',\n",
       "  'name': 'John Harding'},\n",
       " {'credit_id': '54959e6692514130fc002e4e',\n",
       "  'department': 'Camera',\n",
       "  'gender': 0,\n",
       "  'id': 1177364,\n",
       "  'job': 'Steadicam Operator',\n",
       "  'name': 'Roberto De Angelis'},\n",
       " {'credit_id': '539c49f1c3a368653d001aac',\n",
       "  'department': 'Costume & Make-Up',\n",
       "  'gender': 2,\n",
       "  'id': 1202850,\n",
       "  'job': 'Makeup Department Head',\n",
       "  'name': 'Mike Smithson'},\n",
       " {'credit_id': '5495999ec3a3686ae100460c',\n",
       "  'department': 'Visual Effects',\n",
       "  'gender': 0,\n",
       "  'id': 1204668,\n",
       "  'job': 'Visual Effects Producer',\n",
       "  'name': 'Alain Lalanne'},\n",
       " {'credit_id': '54959cdfc3a3681153002729',\n",
       "  'department': 'Visual Effects',\n",
       "  'gender': 0,\n",
       "  'id': 1206410,\n",
       "  'job': 'Visual Effects Supervisor',\n",
       "  'name': 'Lucas Salton'},\n",
       " {'credit_id': '549596239251417a81001eae',\n",
       "  'department': 'Crew',\n",
       "  'gender': 0,\n",
       "  'id': 1234266,\n",
       "  'job': 'Post Production Supervisor',\n",
       "  'name': 'Janace Tashjian'},\n",
       " {'credit_id': '54959c859251416e1e003efe',\n",
       "  'department': 'Visual Effects',\n",
       "  'gender': 0,\n",
       "  'id': 1271932,\n",
       "  'job': 'Visual Effects Supervisor',\n",
       "  'name': 'Stephen Rosenbaum'},\n",
       " {'credit_id': '5592af28c3a368775a00105f',\n",
       "  'department': 'Costume & Make-Up',\n",
       "  'gender': 0,\n",
       "  'id': 1310064,\n",
       "  'job': 'Makeup Artist',\n",
       "  'name': 'Frankie Karena'},\n",
       " {'credit_id': '539c4adfc3a36810e300203b',\n",
       "  'department': 'Costume & Make-Up',\n",
       "  'gender': 1,\n",
       "  'id': 1319844,\n",
       "  'job': 'Costume Supervisor',\n",
       "  'name': 'Lisa Lovaas'},\n",
       " {'credit_id': '54959b579251416e2b004371',\n",
       "  'department': 'Visual Effects',\n",
       "  'gender': 0,\n",
       "  'id': 1327028,\n",
       "  'job': 'Visual Effects Supervisor',\n",
       "  'name': 'Jonathan Fawkner'},\n",
       " {'credit_id': '539c48a7c3a36810b5001fa7',\n",
       "  'department': 'Art',\n",
       "  'gender': 0,\n",
       "  'id': 1330561,\n",
       "  'job': 'Art Direction',\n",
       "  'name': 'Robert Bavin'},\n",
       " {'credit_id': '539c4a71c3a36810da0021e0',\n",
       "  'department': 'Costume & Make-Up',\n",
       "  'gender': 0,\n",
       "  'id': 1330567,\n",
       "  'job': 'Costume Supervisor',\n",
       "  'name': 'Anthony Almaraz'},\n",
       " {'credit_id': '539c4a8ac3a36810ba0021e4',\n",
       "  'department': 'Costume & Make-Up',\n",
       "  'gender': 0,\n",
       "  'id': 1330570,\n",
       "  'job': 'Costume Supervisor',\n",
       "  'name': 'Carolyn M. Fenton'},\n",
       " {'credit_id': '539c4ab6c3a36810da0021f0',\n",
       "  'department': 'Costume & Make-Up',\n",
       "  'gender': 0,\n",
       "  'id': 1330574,\n",
       "  'job': 'Costume Supervisor',\n",
       "  'name': 'Beth Koenigsberg'},\n",
       " {'credit_id': '54491ab70e0a267480001ba2',\n",
       "  'department': 'Art',\n",
       "  'gender': 0,\n",
       "  'id': 1336191,\n",
       "  'job': 'Set Designer',\n",
       "  'name': 'Sam Page'},\n",
       " {'credit_id': '544919d9c3a3680fc30018bd',\n",
       "  'department': 'Art',\n",
       "  'gender': 0,\n",
       "  'id': 1339441,\n",
       "  'job': 'Set Designer',\n",
       "  'name': 'Tex Kadonaga'},\n",
       " {'credit_id': '54491cf50e0a267483001b0c',\n",
       "  'department': 'Editing',\n",
       "  'gender': 0,\n",
       "  'id': 1352422,\n",
       "  'job': 'Dialogue Editor',\n",
       "  'name': 'Kim Foscato'},\n",
       " {'credit_id': '544919f40e0a26748c001b09',\n",
       "  'department': 'Art',\n",
       "  'gender': 0,\n",
       "  'id': 1352962,\n",
       "  'job': 'Set Designer',\n",
       "  'name': 'Tammy S. Lee'},\n",
       " {'credit_id': '5495a115c3a3680ff5002d71',\n",
       "  'department': 'Crew',\n",
       "  'gender': 0,\n",
       "  'id': 1357070,\n",
       "  'job': 'Transportation Coordinator',\n",
       "  'name': 'Denny Caira'},\n",
       " {'credit_id': '5495a12f92514130fc002e94',\n",
       "  'department': 'Crew',\n",
       "  'gender': 0,\n",
       "  'id': 1357071,\n",
       "  'job': 'Transportation Coordinator',\n",
       "  'name': 'James Waitkus'},\n",
       " {'credit_id': '5495976fc3a36811530026b0',\n",
       "  'department': 'Sound',\n",
       "  'gender': 0,\n",
       "  'id': 1360103,\n",
       "  'job': 'Supervising Sound Editor',\n",
       "  'name': 'Addison Teague'},\n",
       " {'credit_id': '54491837c3a3680fb1001c5a',\n",
       "  'department': 'Art',\n",
       "  'gender': 2,\n",
       "  'id': 1376887,\n",
       "  'job': 'Set Designer',\n",
       "  'name': 'C. Scott Baker'},\n",
       " {'credit_id': '54491878c3a3680fb4001c9d',\n",
       "  'department': 'Art',\n",
       "  'gender': 0,\n",
       "  'id': 1376888,\n",
       "  'job': 'Set Designer',\n",
       "  'name': 'Luke Caska'},\n",
       " {'credit_id': '544918dac3a3680fa5001ae0',\n",
       "  'department': 'Art',\n",
       "  'gender': 0,\n",
       "  'id': 1376889,\n",
       "  'job': 'Set Designer',\n",
       "  'name': 'David Chow'},\n",
       " {'credit_id': '544919110e0a267486001b68',\n",
       "  'department': 'Art',\n",
       "  'gender': 0,\n",
       "  'id': 1376890,\n",
       "  'job': 'Set Designer',\n",
       "  'name': 'Jonathan Dyer'},\n",
       " {'credit_id': '54491967c3a3680faa001b5e',\n",
       "  'department': 'Art',\n",
       "  'gender': 0,\n",
       "  'id': 1376891,\n",
       "  'job': 'Set Designer',\n",
       "  'name': 'Joseph Hiura'},\n",
       " {'credit_id': '54491997c3a3680fb1001c8a',\n",
       "  'department': 'Art',\n",
       "  'gender': 0,\n",
       "  'id': 1376892,\n",
       "  'job': 'Art Department Coordinator',\n",
       "  'name': 'Rebecca Jellie'},\n",
       " {'credit_id': '544919ba0e0a26748f001b42',\n",
       "  'department': 'Art',\n",
       "  'gender': 0,\n",
       "  'id': 1376893,\n",
       "  'job': 'Set Designer',\n",
       "  'name': 'Robert Andrew Johnson'},\n",
       " {'credit_id': '54491b1dc3a3680faa001b8c',\n",
       "  'department': 'Art',\n",
       "  'gender': 0,\n",
       "  'id': 1376895,\n",
       "  'job': 'Assistant Art Director',\n",
       "  'name': 'Mike Stassi'},\n",
       " {'credit_id': '54491b79c3a3680fbb001826',\n",
       "  'department': 'Art',\n",
       "  'gender': 0,\n",
       "  'id': 1376897,\n",
       "  'job': 'Construction Coordinator',\n",
       "  'name': 'John Villarino'},\n",
       " {'credit_id': '54491baec3a3680fb4001ce6',\n",
       "  'department': 'Art',\n",
       "  'gender': 2,\n",
       "  'id': 1376898,\n",
       "  'job': 'Assistant Art Director',\n",
       "  'name': 'Jeffrey Wisniewski'},\n",
       " {'credit_id': '54491d2fc3a3680fb4001d07',\n",
       "  'department': 'Editing',\n",
       "  'gender': 0,\n",
       "  'id': 1376899,\n",
       "  'job': 'Dialogue Editor',\n",
       "  'name': 'Cheryl Nardi'},\n",
       " {'credit_id': '54491d86c3a3680fa5001b2f',\n",
       "  'department': 'Editing',\n",
       "  'gender': 0,\n",
       "  'id': 1376901,\n",
       "  'job': 'Dialogue Editor',\n",
       "  'name': 'Marshall Winn'},\n",
       " {'credit_id': '54491d9dc3a3680faa001bb0',\n",
       "  'department': 'Sound',\n",
       "  'gender': 0,\n",
       "  'id': 1376902,\n",
       "  'job': 'Supervising Sound Editor',\n",
       "  'name': 'Gwendolyn Yates Whittle'},\n",
       " {'credit_id': '54491dc10e0a267486001bce',\n",
       "  'department': 'Sound',\n",
       "  'gender': 0,\n",
       "  'id': 1376903,\n",
       "  'job': 'Sound Re-Recording Mixer',\n",
       "  'name': 'William Stein'},\n",
       " {'credit_id': '54491f500e0a26747c001c07',\n",
       "  'department': 'Crew',\n",
       "  'gender': 0,\n",
       "  'id': 1376909,\n",
       "  'job': 'Choreographer',\n",
       "  'name': 'Lula Washington'},\n",
       " {'credit_id': '549599239251412c4e002a2e',\n",
       "  'department': 'Visual Effects',\n",
       "  'gender': 0,\n",
       "  'id': 1391692,\n",
       "  'job': 'Visual Effects Producer',\n",
       "  'name': 'Chris Del Conte'},\n",
       " {'credit_id': '54959d54c3a36831b8001d9a',\n",
       "  'department': 'Visual Effects',\n",
       "  'gender': 2,\n",
       "  'id': 1391695,\n",
       "  'job': 'Visual Effects Supervisor',\n",
       "  'name': 'R. Christopher White'},\n",
       " {'credit_id': '54959bdf9251412c4e002a66',\n",
       "  'department': 'Visual Effects',\n",
       "  'gender': 0,\n",
       "  'id': 1394070,\n",
       "  'job': 'Visual Effects Supervisor',\n",
       "  'name': 'Dan Lemmon'},\n",
       " {'credit_id': '5495971d92514132ed002922',\n",
       "  'department': 'Sound',\n",
       "  'gender': 0,\n",
       "  'id': 1394129,\n",
       "  'job': 'Sound Effects Editor',\n",
       "  'name': 'Tim Nielsen'},\n",
       " {'credit_id': '5592b25792514152cc0011aa',\n",
       "  'department': 'Crew',\n",
       "  'gender': 0,\n",
       "  'id': 1394286,\n",
       "  'job': 'CG Supervisor',\n",
       "  'name': 'Michael Mulholland'},\n",
       " {'credit_id': '54959a329251416e2b004355',\n",
       "  'department': 'Crew',\n",
       "  'gender': 0,\n",
       "  'id': 1394750,\n",
       "  'job': 'Visual Effects Editor',\n",
       "  'name': 'Thomas Nittmann'},\n",
       " {'credit_id': '54959d6dc3a3686ae9004401',\n",
       "  'department': 'Visual Effects',\n",
       "  'gender': 0,\n",
       "  'id': 1394755,\n",
       "  'job': 'Visual Effects Supervisor',\n",
       "  'name': 'Edson Williams'},\n",
       " {'credit_id': '5495a08fc3a3686ae300441c',\n",
       "  'department': 'Editing',\n",
       "  'gender': 0,\n",
       "  'id': 1394953,\n",
       "  'job': 'Digital Intermediate',\n",
       "  'name': 'Christine Carr'},\n",
       " {'credit_id': '55402d659251413d6d000249',\n",
       "  'department': 'Visual Effects',\n",
       "  'gender': 0,\n",
       "  'id': 1395269,\n",
       "  'job': 'Visual Effects Supervisor',\n",
       "  'name': 'John Bruno'},\n",
       " {'credit_id': '54959e7b9251416e1e003f3e',\n",
       "  'department': 'Camera',\n",
       "  'gender': 0,\n",
       "  'id': 1398970,\n",
       "  'job': 'Steadicam Operator',\n",
       "  'name': 'David Emmerichs'},\n",
       " {'credit_id': '54959734c3a3686ae10045e0',\n",
       "  'department': 'Sound',\n",
       "  'gender': 0,\n",
       "  'id': 1400906,\n",
       "  'job': 'Sound Effects Editor',\n",
       "  'name': 'Christopher Scarabosio'},\n",
       " {'credit_id': '549595dd92514130fc002d79',\n",
       "  'department': 'Production',\n",
       "  'gender': 0,\n",
       "  'id': 1401784,\n",
       "  'job': 'Production Supervisor',\n",
       "  'name': 'Jennifer Teves'},\n",
       " {'credit_id': '549596009251413af70028cc',\n",
       "  'department': 'Production',\n",
       "  'gender': 0,\n",
       "  'id': 1401785,\n",
       "  'job': 'Production Manager',\n",
       "  'name': 'Brigitte Yorke'},\n",
       " {'credit_id': '549596e892514130fc002d99',\n",
       "  'department': 'Sound',\n",
       "  'gender': 0,\n",
       "  'id': 1401786,\n",
       "  'job': 'Sound Effects Editor',\n",
       "  'name': 'Ken Fischer'},\n",
       " {'credit_id': '549598229251412c4e002a1c',\n",
       "  'department': 'Crew',\n",
       "  'gender': 0,\n",
       "  'id': 1401787,\n",
       "  'job': 'Special Effects Coordinator',\n",
       "  'name': 'Iain Hutton'},\n",
       " {'credit_id': '549598349251416e2b00432b',\n",
       "  'department': 'Crew',\n",
       "  'gender': 0,\n",
       "  'id': 1401788,\n",
       "  'job': 'Special Effects Coordinator',\n",
       "  'name': 'Steve Ingram'},\n",
       " {'credit_id': '54959905c3a3686ae3004324',\n",
       "  'department': 'Visual Effects',\n",
       "  'gender': 0,\n",
       "  'id': 1401789,\n",
       "  'job': 'Visual Effects Producer',\n",
       "  'name': 'Joyce Cox'},\n",
       " {'credit_id': '5495994b92514132ed002951',\n",
       "  'department': 'Visual Effects',\n",
       "  'gender': 0,\n",
       "  'id': 1401790,\n",
       "  'job': 'Visual Effects Producer',\n",
       "  'name': 'Jenny Foster'},\n",
       " {'credit_id': '549599cbc3a3686ae1004613',\n",
       "  'department': 'Crew',\n",
       "  'gender': 0,\n",
       "  'id': 1401791,\n",
       "  'job': 'Visual Effects Editor',\n",
       "  'name': 'Christopher Marino'},\n",
       " {'credit_id': '549599f2c3a3686ae100461e',\n",
       "  'department': 'Crew',\n",
       "  'gender': 0,\n",
       "  'id': 1401792,\n",
       "  'job': 'Visual Effects Editor',\n",
       "  'name': 'Jim Milton'},\n",
       " {'credit_id': '54959a51c3a3686af3003eb5',\n",
       "  'department': 'Visual Effects',\n",
       "  'gender': 0,\n",
       "  'id': 1401793,\n",
       "  'job': 'Visual Effects Producer',\n",
       "  'name': 'Cyndi Ochs'},\n",
       " {'credit_id': '54959a7cc3a36811530026f4',\n",
       "  'department': 'Crew',\n",
       "  'gender': 0,\n",
       "  'id': 1401794,\n",
       "  'job': 'Visual Effects Editor',\n",
       "  'name': 'Lucas Putnam'},\n",
       " {'credit_id': '54959b91c3a3680ff5002cb4',\n",
       "  'department': 'Visual Effects',\n",
       "  'gender': 0,\n",
       "  'id': 1401795,\n",
       "  'job': 'Visual Effects Supervisor',\n",
       "  'name': \"Anthony 'Max' Ivins\"},\n",
       " {'credit_id': '54959bb69251412c4e002a5f',\n",
       "  'department': 'Visual Effects',\n",
       "  'gender': 0,\n",
       "  'id': 1401796,\n",
       "  'job': 'Visual Effects Supervisor',\n",
       "  'name': 'John Knoll'},\n",
       " {'credit_id': '54959cbbc3a3686ae3004391',\n",
       "  'department': 'Visual Effects',\n",
       "  'gender': 2,\n",
       "  'id': 1401799,\n",
       "  'job': 'Visual Effects Supervisor',\n",
       "  'name': 'Eric Saindon'},\n",
       " {'credit_id': '54959d06c3a3686ae90043f6',\n",
       "  'department': 'Visual Effects',\n",
       "  'gender': 0,\n",
       "  'id': 1401800,\n",
       "  'job': 'Visual Effects Supervisor',\n",
       "  'name': 'Wayne Stables'},\n",
       " {'credit_id': '54959d259251416e1e003f11',\n",
       "  'department': 'Visual Effects',\n",
       "  'gender': 0,\n",
       "  'id': 1401801,\n",
       "  'job': 'Visual Effects Supervisor',\n",
       "  'name': 'David Stinnett'},\n",
       " {'credit_id': '54959db49251413af7002975',\n",
       "  'department': 'Visual Effects',\n",
       "  'gender': 0,\n",
       "  'id': 1401803,\n",
       "  'job': 'Visual Effects Supervisor',\n",
       "  'name': 'Guy Williams'},\n",
       " {'credit_id': '54959de4c3a3681153002750',\n",
       "  'department': 'Crew',\n",
       "  'gender': 0,\n",
       "  'id': 1401804,\n",
       "  'job': 'Stunt Coordinator',\n",
       "  'name': 'Stuart Thorp'},\n",
       " {'credit_id': '54959ef2c3a3680fc60027f2',\n",
       "  'department': 'Lighting',\n",
       "  'gender': 0,\n",
       "  'id': 1401805,\n",
       "  'job': 'Best Boy Electric',\n",
       "  'name': 'Giles Coburn'},\n",
       " {'credit_id': '54959f07c3a3680fc60027f9',\n",
       "  'department': 'Camera',\n",
       "  'gender': 2,\n",
       "  'id': 1401806,\n",
       "  'job': 'Still Photographer',\n",
       "  'name': 'Mark Fellman'},\n",
       " {'credit_id': '54959f47c3a3681153002774',\n",
       "  'department': 'Lighting',\n",
       "  'gender': 0,\n",
       "  'id': 1401807,\n",
       "  'job': 'Lighting Technician',\n",
       "  'name': 'Scott Sprague'},\n",
       " {'credit_id': '54959f8cc3a36831b8001df2',\n",
       "  'department': 'Visual Effects',\n",
       "  'gender': 0,\n",
       "  'id': 1401808,\n",
       "  'job': 'Animation Director',\n",
       "  'name': 'Jeremy Hollobon'},\n",
       " {'credit_id': '54959fa0c3a36831b8001dfb',\n",
       "  'department': 'Visual Effects',\n",
       "  'gender': 0,\n",
       "  'id': 1401809,\n",
       "  'job': 'Animation Director',\n",
       "  'name': 'Orlando Meunier'},\n",
       " {'credit_id': '54959fb6c3a3686af3003f54',\n",
       "  'department': 'Visual Effects',\n",
       "  'gender': 0,\n",
       "  'id': 1401810,\n",
       "  'job': 'Animation Director',\n",
       "  'name': 'Taisuke Tanimura'},\n",
       " {'credit_id': '54959fd2c3a36831b8001e02',\n",
       "  'department': 'Costume & Make-Up',\n",
       "  'gender': 0,\n",
       "  'id': 1401812,\n",
       "  'job': 'Set Costumer',\n",
       "  'name': 'Lilia Mishel Acevedo'},\n",
       " {'credit_id': '54959ff9c3a3686ae300440c',\n",
       "  'department': 'Costume & Make-Up',\n",
       "  'gender': 0,\n",
       "  'id': 1401814,\n",
       "  'job': 'Set Costumer',\n",
       "  'name': 'Alejandro M. Hernandez'},\n",
       " {'credit_id': '5495a0ddc3a3686ae10046fe',\n",
       "  'department': 'Editing',\n",
       "  'gender': 0,\n",
       "  'id': 1401815,\n",
       "  'job': 'Digital Intermediate',\n",
       "  'name': 'Marvin Hall'},\n",
       " {'credit_id': '5495a1f7c3a3686ae3004443',\n",
       "  'department': 'Production',\n",
       "  'gender': 0,\n",
       "  'id': 1401816,\n",
       "  'job': 'Publicist',\n",
       "  'name': 'Judy Alley'},\n",
       " {'credit_id': '5592b29fc3a36869d100002f',\n",
       "  'department': 'Crew',\n",
       "  'gender': 0,\n",
       "  'id': 1418381,\n",
       "  'job': 'CG Supervisor',\n",
       "  'name': 'Mike Perry'},\n",
       " {'credit_id': '5592b23a9251415df8001081',\n",
       "  'department': 'Crew',\n",
       "  'gender': 0,\n",
       "  'id': 1426854,\n",
       "  'job': 'CG Supervisor',\n",
       "  'name': 'Andrew Morley'},\n",
       " {'credit_id': '55491e1192514104c40002d8',\n",
       "  'department': 'Art',\n",
       "  'gender': 0,\n",
       "  'id': 1438901,\n",
       "  'job': 'Conceptual Design',\n",
       "  'name': 'Seth Engstrom'},\n",
       " {'credit_id': '5525d5809251417276002b06',\n",
       "  'department': 'Crew',\n",
       "  'gender': 0,\n",
       "  'id': 1447362,\n",
       "  'job': 'Visual Effects Art Director',\n",
       "  'name': 'Eric Oliver'},\n",
       " {'credit_id': '554427ca925141586500312a',\n",
       "  'department': 'Visual Effects',\n",
       "  'gender': 0,\n",
       "  'id': 1447503,\n",
       "  'job': 'Modeling',\n",
       "  'name': 'Matsune Suzuki'},\n",
       " {'credit_id': '551906889251415aab001c88',\n",
       "  'department': 'Art',\n",
       "  'gender': 0,\n",
       "  'id': 1447524,\n",
       "  'job': 'Art Department Manager',\n",
       "  'name': 'Paul Tobin'},\n",
       " {'credit_id': '5592af8492514152cc0010de',\n",
       "  'department': 'Costume & Make-Up',\n",
       "  'gender': 0,\n",
       "  'id': 1452643,\n",
       "  'job': 'Hairstylist',\n",
       "  'name': 'Roxane Griffin'},\n",
       " {'credit_id': '553d3c109251415852001318',\n",
       "  'department': 'Lighting',\n",
       "  'gender': 0,\n",
       "  'id': 1453938,\n",
       "  'job': 'Lighting Artist',\n",
       "  'name': 'Arun Ram-Mohan'},\n",
       " {'credit_id': '5592af4692514152d5001355',\n",
       "  'department': 'Costume & Make-Up',\n",
       "  'gender': 0,\n",
       "  'id': 1457305,\n",
       "  'job': 'Makeup Artist',\n",
       "  'name': 'Georgia Lockhart-Adams'},\n",
       " {'credit_id': '5592b2eac3a36877470012a5',\n",
       "  'department': 'Crew',\n",
       "  'gender': 0,\n",
       "  'id': 1466035,\n",
       "  'job': 'CG Supervisor',\n",
       "  'name': 'Thrain Shadbolt'},\n",
       " {'credit_id': '5592b032c3a36877450015f1',\n",
       "  'department': 'Crew',\n",
       "  'gender': 0,\n",
       "  'id': 1483220,\n",
       "  'job': 'CG Supervisor',\n",
       "  'name': 'Brad Alexander'},\n",
       " {'credit_id': '5592b05592514152d80012f6',\n",
       "  'department': 'Crew',\n",
       "  'gender': 0,\n",
       "  'id': 1483221,\n",
       "  'job': 'CG Supervisor',\n",
       "  'name': 'Shadi Almassizadeh'},\n",
       " {'credit_id': '5592b090c3a36877570010b5',\n",
       "  'department': 'Crew',\n",
       "  'gender': 0,\n",
       "  'id': 1483222,\n",
       "  'job': 'CG Supervisor',\n",
       "  'name': 'Simon Clutterbuck'},\n",
       " {'credit_id': '5592b0dbc3a368774b00112c',\n",
       "  'department': 'Crew',\n",
       "  'gender': 0,\n",
       "  'id': 1483223,\n",
       "  'job': 'CG Supervisor',\n",
       "  'name': 'Graeme Demmocks'},\n",
       " {'credit_id': '5592b0fe92514152db0010c1',\n",
       "  'department': 'Crew',\n",
       "  'gender': 0,\n",
       "  'id': 1483224,\n",
       "  'job': 'CG Supervisor',\n",
       "  'name': 'Adrian Fernandes'},\n",
       " {'credit_id': '5592b11f9251415df8001059',\n",
       "  'department': 'Crew',\n",
       "  'gender': 0,\n",
       "  'id': 1483225,\n",
       "  'job': 'CG Supervisor',\n",
       "  'name': 'Mitch Gates'},\n",
       " {'credit_id': '5592b15dc3a3687745001645',\n",
       "  'department': 'Crew',\n",
       "  'gender': 0,\n",
       "  'id': 1483226,\n",
       "  'job': 'CG Supervisor',\n",
       "  'name': 'Jerry Kung'},\n",
       " {'credit_id': '5592b18e925141645a0004ae',\n",
       "  'department': 'Crew',\n",
       "  'gender': 0,\n",
       "  'id': 1483227,\n",
       "  'job': 'CG Supervisor',\n",
       "  'name': 'Andy Lomas'},\n",
       " {'credit_id': '5592b1bfc3a368775d0010e7',\n",
       "  'department': 'Crew',\n",
       "  'gender': 0,\n",
       "  'id': 1483228,\n",
       "  'job': 'CG Supervisor',\n",
       "  'name': 'Sebastian Marino'},\n",
       " {'credit_id': '5592b2049251415df8001078',\n",
       "  'department': 'Crew',\n",
       "  'gender': 0,\n",
       "  'id': 1483229,\n",
       "  'job': 'CG Supervisor',\n",
       "  'name': 'Matthias Menz'},\n",
       " {'credit_id': '5592b27b92514152d800136a',\n",
       "  'department': 'Crew',\n",
       "  'gender': 0,\n",
       "  'id': 1483230,\n",
       "  'job': 'CG Supervisor',\n",
       "  'name': 'Sergei Nevshupov'},\n",
       " {'credit_id': '5592b2c3c3a36869e800003c',\n",
       "  'department': 'Crew',\n",
       "  'gender': 0,\n",
       "  'id': 1483231,\n",
       "  'job': 'CG Supervisor',\n",
       "  'name': 'Philippe Rebours'},\n",
       " {'credit_id': '5592b317c3a36877470012af',\n",
       "  'department': 'Crew',\n",
       "  'gender': 0,\n",
       "  'id': 1483232,\n",
       "  'job': 'CG Supervisor',\n",
       "  'name': 'Michael Takarangi'},\n",
       " {'credit_id': '5592b345c3a36877470012bb',\n",
       "  'department': 'Crew',\n",
       "  'gender': 0,\n",
       "  'id': 1483233,\n",
       "  'job': 'CG Supervisor',\n",
       "  'name': 'David Weitzberg'},\n",
       " {'credit_id': '5592b37cc3a368775100113b',\n",
       "  'department': 'Crew',\n",
       "  'gender': 0,\n",
       "  'id': 1483234,\n",
       "  'job': 'CG Supervisor',\n",
       "  'name': 'Ben White'},\n",
       " {'credit_id': '573c8e2f9251413f5d000094',\n",
       "  'department': 'Crew',\n",
       "  'gender': 1,\n",
       "  'id': 1621932,\n",
       "  'job': 'Stunts',\n",
       "  'name': 'Min Windle'}]"
      ]
     },
     "execution_count": 21,
     "metadata": {},
     "output_type": "execute_result"
    }
   ],
   "source": [
    "ast.literal_eval(dataframe.iloc[0].crew)"
   ]
  },
  {
   "cell_type": "code",
   "execution_count": 22,
   "id": "de8af2f6",
   "metadata": {},
   "outputs": [],
   "source": [
    "def fetch_director(obj):\n",
    "    L = []\n",
    "    for i in ast.literal_eval(obj):\n",
    "        if i['job'] == 'Director':\n",
    "            L.append(i['name'])\n",
    "    return L\n"
   ]
  },
  {
   "cell_type": "code",
   "execution_count": null,
   "id": "bf2d907e",
   "metadata": {},
   "outputs": [],
   "source": []
  },
  {
   "cell_type": "code",
   "execution_count": null,
   "id": "a2c61c0f",
   "metadata": {},
   "outputs": [],
   "source": []
  },
  {
   "cell_type": "code",
   "execution_count": 23,
   "id": "9107a432",
   "metadata": {},
   "outputs": [
    {
     "data": {
      "application/vnd.microsoft.datawrangler.viewer.v0+json": {
       "columns": [
        {
         "name": "index",
         "rawType": "int64",
         "type": "integer"
        },
        {
         "name": "crew",
         "rawType": "object",
         "type": "unknown"
        }
       ],
       "ref": "b6eaf612-e25c-46c8-a645-533ad543f940",
       "rows": [
        [
         "0",
         "['James Cameron']"
        ],
        [
         "1",
         "['Gore Verbinski']"
        ],
        [
         "2",
         "['Sam Mendes']"
        ],
        [
         "3",
         "['Christopher Nolan']"
        ],
        [
         "4",
         "['Andrew Stanton']"
        ],
        [
         "5",
         "['Sam Raimi']"
        ],
        [
         "6",
         "['Byron Howard', 'Nathan Greno']"
        ],
        [
         "7",
         "['Joss Whedon']"
        ],
        [
         "8",
         "['David Yates']"
        ],
        [
         "9",
         "['Zack Snyder']"
        ],
        [
         "10",
         "['Bryan Singer']"
        ],
        [
         "11",
         "['Marc Forster']"
        ],
        [
         "12",
         "['Gore Verbinski']"
        ],
        [
         "13",
         "['Gore Verbinski']"
        ],
        [
         "14",
         "['Zack Snyder']"
        ],
        [
         "15",
         "['Andrew Adamson']"
        ],
        [
         "16",
         "['Joss Whedon']"
        ],
        [
         "17",
         "['Rob Marshall']"
        ],
        [
         "18",
         "['Barry Sonnenfeld']"
        ],
        [
         "19",
         "['Peter Jackson']"
        ],
        [
         "20",
         "['Marc Webb']"
        ],
        [
         "21",
         "['Ridley Scott']"
        ],
        [
         "22",
         "['Peter Jackson']"
        ],
        [
         "23",
         "['Chris Weitz']"
        ],
        [
         "24",
         "['Peter Jackson']"
        ],
        [
         "25",
         "['James Cameron']"
        ],
        [
         "26",
         "['Anthony Russo', 'Joe Russo']"
        ],
        [
         "27",
         "['Peter Berg']"
        ],
        [
         "28",
         "['Colin Trevorrow']"
        ],
        [
         "29",
         "['Sam Mendes']"
        ],
        [
         "30",
         "['Sam Raimi']"
        ],
        [
         "31",
         "['Shane Black']"
        ],
        [
         "32",
         "['Tim Burton']"
        ],
        [
         "33",
         "['Brett Ratner']"
        ],
        [
         "34",
         "['Dan Scanlon']"
        ],
        [
         "35",
         "['Michael Bay']"
        ],
        [
         "36",
         "['Michael Bay']"
        ],
        [
         "37",
         "['Sam Raimi']"
        ],
        [
         "38",
         "['Marc Webb']"
        ],
        [
         "39",
         "['Joseph Kosinski']"
        ],
        [
         "40",
         "['John Lasseter', 'Brad Lewis']"
        ],
        [
         "41",
         "['Martin Campbell']"
        ],
        [
         "42",
         "['Lee Unkrich']"
        ],
        [
         "43",
         "['McG']"
        ],
        [
         "44",
         "['James Wan']"
        ],
        [
         "45",
         "['Marc Forster']"
        ],
        [
         "46",
         "['Bryan Singer']"
        ],
        [
         "47",
         "['J.J. Abrams']"
        ],
        [
         "48",
         "['Bryan Singer']"
        ],
        [
         "49",
         "['Baz Luhrmann']"
        ]
       ],
       "shape": {
        "columns": 1,
        "rows": 4806
       }
      },
      "text/plain": [
       "0                                [James Cameron]\n",
       "1                               [Gore Verbinski]\n",
       "2                                   [Sam Mendes]\n",
       "3                            [Christopher Nolan]\n",
       "4                               [Andrew Stanton]\n",
       "                          ...                   \n",
       "4804                          [Robert Rodriguez]\n",
       "4805                              [Edward Burns]\n",
       "4806                               [Scott Smith]\n",
       "4807                               [Daniel Hsia]\n",
       "4808    [Brian Herzlinger, Jon Gunn, Brett Winn]\n",
       "Name: crew, Length: 4806, dtype: object"
      ]
     },
     "execution_count": 23,
     "metadata": {},
     "output_type": "execute_result"
    }
   ],
   "source": [
    "dataframe['crew'] = dataframe['crew'].apply(fetch_director)\n",
    "dataframe['crew']"
   ]
  },
  {
   "cell_type": "code",
   "execution_count": 24,
   "id": "7e35bd23",
   "metadata": {},
   "outputs": [
    {
     "data": {
      "application/vnd.microsoft.datawrangler.viewer.v0+json": {
       "columns": [
        {
         "name": "index",
         "rawType": "int64",
         "type": "integer"
        },
        {
         "name": "crew",
         "rawType": "object",
         "type": "unknown"
        }
       ],
       "ref": "a747c932-e64c-433b-95df-2e3d1233876f",
       "rows": [
        [
         "0",
         "['James Cameron']"
        ],
        [
         "1",
         "['Gore Verbinski']"
        ],
        [
         "2",
         "['Sam Mendes']"
        ],
        [
         "3",
         "['Christopher Nolan']"
        ],
        [
         "4",
         "['Andrew Stanton']"
        ]
       ],
       "shape": {
        "columns": 1,
        "rows": 5
       }
      },
      "text/plain": [
       "0        [James Cameron]\n",
       "1       [Gore Verbinski]\n",
       "2           [Sam Mendes]\n",
       "3    [Christopher Nolan]\n",
       "4       [Andrew Stanton]\n",
       "Name: crew, dtype: object"
      ]
     },
     "execution_count": 24,
     "metadata": {},
     "output_type": "execute_result"
    }
   ],
   "source": [
    "dataframe['crew'].head()"
   ]
  },
  {
   "cell_type": "code",
   "execution_count": 25,
   "id": "67140cae",
   "metadata": {},
   "outputs": [],
   "source": [
    "dataframe['overview'] = dataframe['overview'].apply(lambda x:x.split())"
   ]
  },
  {
   "cell_type": "code",
   "execution_count": 26,
   "id": "4749adb3",
   "metadata": {},
   "outputs": [
    {
     "data": {
      "application/vnd.microsoft.datawrangler.viewer.v0+json": {
       "columns": [
        {
         "name": "index",
         "rawType": "int64",
         "type": "integer"
        },
        {
         "name": "overview",
         "rawType": "object",
         "type": "unknown"
        }
       ],
       "ref": "b5c66417-8a22-4ece-9278-8fcc1dc3a984",
       "rows": [
        [
         "0",
         "['In', 'the', '22nd', 'century,', 'a', 'paraplegic', 'Marine', 'is', 'dispatched', 'to', 'the', 'moon', 'Pandora', 'on', 'a', 'unique', 'mission,', 'but', 'becomes', 'torn', 'between', 'following', 'orders', 'and', 'protecting', 'an', 'alien', 'civilization.']"
        ],
        [
         "1",
         "['Captain', 'Barbossa,', 'long', 'believed', 'to', 'be', 'dead,', 'has', 'come', 'back', 'to', 'life', 'and', 'is', 'headed', 'to', 'the', 'edge', 'of', 'the', 'Earth', 'with', 'Will', 'Turner', 'and', 'Elizabeth', 'Swann.', 'But', 'nothing', 'is', 'quite', 'as', 'it', 'seems.']"
        ],
        [
         "2",
         "['A', 'cryptic', 'message', 'from', 'Bond’s', 'past', 'sends', 'him', 'on', 'a', 'trail', 'to', 'uncover', 'a', 'sinister', 'organization.', 'While', 'M', 'battles', 'political', 'forces', 'to', 'keep', 'the', 'secret', 'service', 'alive,', 'Bond', 'peels', 'back', 'the', 'layers', 'of', 'deceit', 'to', 'reveal', 'the', 'terrible', 'truth', 'behind', 'SPECTRE.']"
        ],
        [
         "3",
         "['Following', 'the', 'death', 'of', 'District', 'Attorney', 'Harvey', 'Dent,', 'Batman', 'assumes', 'responsibility', 'for', \"Dent's\", 'crimes', 'to', 'protect', 'the', 'late', \"attorney's\", 'reputation', 'and', 'is', 'subsequently', 'hunted', 'by', 'the', 'Gotham', 'City', 'Police', 'Department.', 'Eight', 'years', 'later,', 'Batman', 'encounters', 'the', 'mysterious', 'Selina', 'Kyle', 'and', 'the', 'villainous', 'Bane,', 'a', 'new', 'terrorist', 'leader', 'who', 'overwhelms', \"Gotham's\", 'finest.', 'The', 'Dark', 'Knight', 'resurfaces', 'to', 'protect', 'a', 'city', 'that', 'has', 'branded', 'him', 'an', 'enemy.']"
        ],
        [
         "4",
         "['John', 'Carter', 'is', 'a', 'war-weary,', 'former', 'military', 'captain', \"who's\", 'inexplicably', 'transported', 'to', 'the', 'mysterious', 'and', 'exotic', 'planet', 'of', 'Barsoom', '(Mars)', 'and', 'reluctantly', 'becomes', 'embroiled', 'in', 'an', 'epic', 'conflict.', \"It's\", 'a', 'world', 'on', 'the', 'brink', 'of', 'collapse,', 'and', 'Carter', 'rediscovers', 'his', 'humanity', 'when', 'he', 'realizes', 'the', 'survival', 'of', 'Barsoom', 'and', 'its', 'people', 'rests', 'in', 'his', 'hands.']"
        ]
       ],
       "shape": {
        "columns": 1,
        "rows": 5
       }
      },
      "text/plain": [
       "0    [In, the, 22nd, century,, a, paraplegic, Marin...\n",
       "1    [Captain, Barbossa,, long, believed, to, be, d...\n",
       "2    [A, cryptic, message, from, Bond’s, past, send...\n",
       "3    [Following, the, death, of, District, Attorney...\n",
       "4    [John, Carter, is, a, war-weary,, former, mili...\n",
       "Name: overview, dtype: object"
      ]
     },
     "execution_count": 26,
     "metadata": {},
     "output_type": "execute_result"
    }
   ],
   "source": [
    "dataframe['overview'].head()"
   ]
  },
  {
   "cell_type": "code",
   "execution_count": 27,
   "id": "0b527f1e",
   "metadata": {},
   "outputs": [],
   "source": [
    "def collapse(L):\n",
    "    L1=[]\n",
    "    for i in L:\n",
    "        L1.append(i.replace(\" \",\"\"))\n",
    "    return L1"
   ]
  },
  {
   "cell_type": "code",
   "execution_count": 28,
   "id": "8fc15998",
   "metadata": {},
   "outputs": [],
   "source": [
    "dataframe['cast'] = dataframe['cast'].apply(collapse)\n",
    "dataframe['crew'] = dataframe['crew'].apply(collapse)\n",
    "dataframe['genres'] = dataframe['genres'].apply(collapse)\n",
    "dataframe['keywords'] = dataframe['keywords'].apply(collapse)"
   ]
  },
  {
   "cell_type": "code",
   "execution_count": 29,
   "id": "ec4c5b96",
   "metadata": {},
   "outputs": [],
   "source": [
    "dataframe['tags'] = dataframe['overview'] + dataframe['cast'] + dataframe['crew'] + dataframe['keywords'] + dataframe['genres']"
   ]
  },
  {
   "cell_type": "code",
   "execution_count": 30,
   "id": "031183bb",
   "metadata": {},
   "outputs": [
    {
     "data": {
      "application/vnd.microsoft.datawrangler.viewer.v0+json": {
       "columns": [
        {
         "name": "index",
         "rawType": "int64",
         "type": "integer"
        },
        {
         "name": "movie_id",
         "rawType": "int64",
         "type": "integer"
        },
        {
         "name": "title",
         "rawType": "object",
         "type": "string"
        },
        {
         "name": "tags",
         "rawType": "object",
         "type": "unknown"
        }
       ],
       "ref": "cfeb23ba-d835-48f8-9fd3-c56bfc6c4a99",
       "rows": [
        [
         "0",
         "19995",
         "Avatar",
         "['In', 'the', '22nd', 'century,', 'a', 'paraplegic', 'Marine', 'is', 'dispatched', 'to', 'the', 'moon', 'Pandora', 'on', 'a', 'unique', 'mission,', 'but', 'becomes', 'torn', 'between', 'following', 'orders', 'and', 'protecting', 'an', 'alien', 'civilization.', 'SamWorthington', 'ZoeSaldana', 'SigourneyWeaver', 'JamesCameron', 'cultureclash', 'future', 'spacewar', 'spacecolony', 'society', 'spacetravel', 'futuristic', 'romance', 'space', 'alien', 'tribe', 'alienplanet', 'cgi', 'marine', 'soldier', 'battle', 'loveaffair', 'antiwar', 'powerrelations', 'mindandsoul', '3d', 'Action', 'Adventure', 'Fantasy', 'ScienceFiction']"
        ],
        [
         "1",
         "285",
         "Pirates of the Caribbean: At World's End",
         "['Captain', 'Barbossa,', 'long', 'believed', 'to', 'be', 'dead,', 'has', 'come', 'back', 'to', 'life', 'and', 'is', 'headed', 'to', 'the', 'edge', 'of', 'the', 'Earth', 'with', 'Will', 'Turner', 'and', 'Elizabeth', 'Swann.', 'But', 'nothing', 'is', 'quite', 'as', 'it', 'seems.', 'JohnnyDepp', 'OrlandoBloom', 'KeiraKnightley', 'GoreVerbinski', 'ocean', 'drugabuse', 'exoticisland', 'eastindiatradingcompany', \"loveofone'slife\", 'traitor', 'shipwreck', 'strongwoman', 'ship', 'alliance', 'calypso', 'afterlife', 'fighter', 'pirate', 'swashbuckler', 'aftercreditsstinger', 'Adventure', 'Fantasy', 'Action']"
        ],
        [
         "2",
         "206647",
         "Spectre",
         "['A', 'cryptic', 'message', 'from', 'Bond’s', 'past', 'sends', 'him', 'on', 'a', 'trail', 'to', 'uncover', 'a', 'sinister', 'organization.', 'While', 'M', 'battles', 'political', 'forces', 'to', 'keep', 'the', 'secret', 'service', 'alive,', 'Bond', 'peels', 'back', 'the', 'layers', 'of', 'deceit', 'to', 'reveal', 'the', 'terrible', 'truth', 'behind', 'SPECTRE.', 'DanielCraig', 'ChristophWaltz', 'LéaSeydoux', 'SamMendes', 'spy', 'basedonnovel', 'secretagent', 'sequel', 'mi6', 'britishsecretservice', 'unitedkingdom', 'Action', 'Adventure', 'Crime']"
        ],
        [
         "3",
         "49026",
         "The Dark Knight Rises",
         "['Following', 'the', 'death', 'of', 'District', 'Attorney', 'Harvey', 'Dent,', 'Batman', 'assumes', 'responsibility', 'for', \"Dent's\", 'crimes', 'to', 'protect', 'the', 'late', \"attorney's\", 'reputation', 'and', 'is', 'subsequently', 'hunted', 'by', 'the', 'Gotham', 'City', 'Police', 'Department.', 'Eight', 'years', 'later,', 'Batman', 'encounters', 'the', 'mysterious', 'Selina', 'Kyle', 'and', 'the', 'villainous', 'Bane,', 'a', 'new', 'terrorist', 'leader', 'who', 'overwhelms', \"Gotham's\", 'finest.', 'The', 'Dark', 'Knight', 'resurfaces', 'to', 'protect', 'a', 'city', 'that', 'has', 'branded', 'him', 'an', 'enemy.', 'ChristianBale', 'MichaelCaine', 'GaryOldman', 'ChristopherNolan', 'dccomics', 'crimefighter', 'terrorist', 'secretidentity', 'burglar', 'hostagedrama', 'timebomb', 'gothamcity', 'vigilante', 'cover-up', 'superhero', 'villainess', 'tragichero', 'terrorism', 'destruction', 'catwoman', 'catburglar', 'imax', 'flood', 'criminalunderworld', 'batman', 'Action', 'Crime', 'Drama', 'Thriller']"
        ],
        [
         "4",
         "49529",
         "John Carter",
         "['John', 'Carter', 'is', 'a', 'war-weary,', 'former', 'military', 'captain', \"who's\", 'inexplicably', 'transported', 'to', 'the', 'mysterious', 'and', 'exotic', 'planet', 'of', 'Barsoom', '(Mars)', 'and', 'reluctantly', 'becomes', 'embroiled', 'in', 'an', 'epic', 'conflict.', \"It's\", 'a', 'world', 'on', 'the', 'brink', 'of', 'collapse,', 'and', 'Carter', 'rediscovers', 'his', 'humanity', 'when', 'he', 'realizes', 'the', 'survival', 'of', 'Barsoom', 'and', 'its', 'people', 'rests', 'in', 'his', 'hands.', 'TaylorKitsch', 'LynnCollins', 'SamanthaMorton', 'AndrewStanton', 'basedonnovel', 'mars', 'medallion', 'spacetravel', 'princess', 'alien', 'steampunk', 'martian', 'escape', 'edgarriceburroughs', 'alienrace', 'superhumanstrength', 'marscivilization', 'swordandplanet', '19thcentury', '3d', 'Action', 'Adventure', 'ScienceFiction']"
        ]
       ],
       "shape": {
        "columns": 3,
        "rows": 5
       }
      },
      "text/html": [
       "<div>\n",
       "<style scoped>\n",
       "    .dataframe tbody tr th:only-of-type {\n",
       "        vertical-align: middle;\n",
       "    }\n",
       "\n",
       "    .dataframe tbody tr th {\n",
       "        vertical-align: top;\n",
       "    }\n",
       "\n",
       "    .dataframe thead th {\n",
       "        text-align: right;\n",
       "    }\n",
       "</style>\n",
       "<table border=\"1\" class=\"dataframe\">\n",
       "  <thead>\n",
       "    <tr style=\"text-align: right;\">\n",
       "      <th></th>\n",
       "      <th>movie_id</th>\n",
       "      <th>title</th>\n",
       "      <th>tags</th>\n",
       "    </tr>\n",
       "  </thead>\n",
       "  <tbody>\n",
       "    <tr>\n",
       "      <th>0</th>\n",
       "      <td>19995</td>\n",
       "      <td>Avatar</td>\n",
       "      <td>[In, the, 22nd, century,, a, paraplegic, Marin...</td>\n",
       "    </tr>\n",
       "    <tr>\n",
       "      <th>1</th>\n",
       "      <td>285</td>\n",
       "      <td>Pirates of the Caribbean: At World's End</td>\n",
       "      <td>[Captain, Barbossa,, long, believed, to, be, d...</td>\n",
       "    </tr>\n",
       "    <tr>\n",
       "      <th>2</th>\n",
       "      <td>206647</td>\n",
       "      <td>Spectre</td>\n",
       "      <td>[A, cryptic, message, from, Bond’s, past, send...</td>\n",
       "    </tr>\n",
       "    <tr>\n",
       "      <th>3</th>\n",
       "      <td>49026</td>\n",
       "      <td>The Dark Knight Rises</td>\n",
       "      <td>[Following, the, death, of, District, Attorney...</td>\n",
       "    </tr>\n",
       "    <tr>\n",
       "      <th>4</th>\n",
       "      <td>49529</td>\n",
       "      <td>John Carter</td>\n",
       "      <td>[John, Carter, is, a, war-weary,, former, mili...</td>\n",
       "    </tr>\n",
       "  </tbody>\n",
       "</table>\n",
       "</div>"
      ],
      "text/plain": [
       "   movie_id                                     title  \\\n",
       "0     19995                                    Avatar   \n",
       "1       285  Pirates of the Caribbean: At World's End   \n",
       "2    206647                                   Spectre   \n",
       "3     49026                     The Dark Knight Rises   \n",
       "4     49529                               John Carter   \n",
       "\n",
       "                                                tags  \n",
       "0  [In, the, 22nd, century,, a, paraplegic, Marin...  \n",
       "1  [Captain, Barbossa,, long, believed, to, be, d...  \n",
       "2  [A, cryptic, message, from, Bond’s, past, send...  \n",
       "3  [Following, the, death, of, District, Attorney...  \n",
       "4  [John, Carter, is, a, war-weary,, former, mili...  "
      ]
     },
     "execution_count": 30,
     "metadata": {},
     "output_type": "execute_result"
    }
   ],
   "source": [
    "new_df = dataframe[['movie_id','title','tags']]\n",
    "new_df.head()"
   ]
  },
  {
   "cell_type": "code",
   "execution_count": 31,
   "id": "5fde7bb7",
   "metadata": {},
   "outputs": [
    {
     "name": "stderr",
     "output_type": "stream",
     "text": [
      "/tmp/ipykernel_4427/1955922539.py:1: SettingWithCopyWarning: \n",
      "A value is trying to be set on a copy of a slice from a DataFrame.\n",
      "Try using .loc[row_indexer,col_indexer] = value instead\n",
      "\n",
      "See the caveats in the documentation: https://pandas.pydata.org/pandas-docs/stable/user_guide/indexing.html#returning-a-view-versus-a-copy\n",
      "  new_df['tags'] = new_df['tags'].apply(lambda x: \" \".join(x))\n"
     ]
    },
    {
     "data": {
      "application/vnd.microsoft.datawrangler.viewer.v0+json": {
       "columns": [
        {
         "name": "index",
         "rawType": "int64",
         "type": "integer"
        },
        {
         "name": "movie_id",
         "rawType": "int64",
         "type": "integer"
        },
        {
         "name": "title",
         "rawType": "object",
         "type": "string"
        },
        {
         "name": "tags",
         "rawType": "object",
         "type": "string"
        }
       ],
       "ref": "e9ecee21-bbde-4d57-85de-5beb0cb5983f",
       "rows": [
        [
         "0",
         "19995",
         "Avatar",
         "In the 22nd century, a paraplegic Marine is dispatched to the moon Pandora on a unique mission, but becomes torn between following orders and protecting an alien civilization. SamWorthington ZoeSaldana SigourneyWeaver JamesCameron cultureclash future spacewar spacecolony society spacetravel futuristic romance space alien tribe alienplanet cgi marine soldier battle loveaffair antiwar powerrelations mindandsoul 3d Action Adventure Fantasy ScienceFiction"
        ],
        [
         "1",
         "285",
         "Pirates of the Caribbean: At World's End",
         "Captain Barbossa, long believed to be dead, has come back to life and is headed to the edge of the Earth with Will Turner and Elizabeth Swann. But nothing is quite as it seems. JohnnyDepp OrlandoBloom KeiraKnightley GoreVerbinski ocean drugabuse exoticisland eastindiatradingcompany loveofone'slife traitor shipwreck strongwoman ship alliance calypso afterlife fighter pirate swashbuckler aftercreditsstinger Adventure Fantasy Action"
        ],
        [
         "2",
         "206647",
         "Spectre",
         "A cryptic message from Bond’s past sends him on a trail to uncover a sinister organization. While M battles political forces to keep the secret service alive, Bond peels back the layers of deceit to reveal the terrible truth behind SPECTRE. DanielCraig ChristophWaltz LéaSeydoux SamMendes spy basedonnovel secretagent sequel mi6 britishsecretservice unitedkingdom Action Adventure Crime"
        ],
        [
         "3",
         "49026",
         "The Dark Knight Rises",
         "Following the death of District Attorney Harvey Dent, Batman assumes responsibility for Dent's crimes to protect the late attorney's reputation and is subsequently hunted by the Gotham City Police Department. Eight years later, Batman encounters the mysterious Selina Kyle and the villainous Bane, a new terrorist leader who overwhelms Gotham's finest. The Dark Knight resurfaces to protect a city that has branded him an enemy. ChristianBale MichaelCaine GaryOldman ChristopherNolan dccomics crimefighter terrorist secretidentity burglar hostagedrama timebomb gothamcity vigilante cover-up superhero villainess tragichero terrorism destruction catwoman catburglar imax flood criminalunderworld batman Action Crime Drama Thriller"
        ],
        [
         "4",
         "49529",
         "John Carter",
         "John Carter is a war-weary, former military captain who's inexplicably transported to the mysterious and exotic planet of Barsoom (Mars) and reluctantly becomes embroiled in an epic conflict. It's a world on the brink of collapse, and Carter rediscovers his humanity when he realizes the survival of Barsoom and its people rests in his hands. TaylorKitsch LynnCollins SamanthaMorton AndrewStanton basedonnovel mars medallion spacetravel princess alien steampunk martian escape edgarriceburroughs alienrace superhumanstrength marscivilization swordandplanet 19thcentury 3d Action Adventure ScienceFiction"
        ]
       ],
       "shape": {
        "columns": 3,
        "rows": 5
       }
      },
      "text/html": [
       "<div>\n",
       "<style scoped>\n",
       "    .dataframe tbody tr th:only-of-type {\n",
       "        vertical-align: middle;\n",
       "    }\n",
       "\n",
       "    .dataframe tbody tr th {\n",
       "        vertical-align: top;\n",
       "    }\n",
       "\n",
       "    .dataframe thead th {\n",
       "        text-align: right;\n",
       "    }\n",
       "</style>\n",
       "<table border=\"1\" class=\"dataframe\">\n",
       "  <thead>\n",
       "    <tr style=\"text-align: right;\">\n",
       "      <th></th>\n",
       "      <th>movie_id</th>\n",
       "      <th>title</th>\n",
       "      <th>tags</th>\n",
       "    </tr>\n",
       "  </thead>\n",
       "  <tbody>\n",
       "    <tr>\n",
       "      <th>0</th>\n",
       "      <td>19995</td>\n",
       "      <td>Avatar</td>\n",
       "      <td>In the 22nd century, a paraplegic Marine is di...</td>\n",
       "    </tr>\n",
       "    <tr>\n",
       "      <th>1</th>\n",
       "      <td>285</td>\n",
       "      <td>Pirates of the Caribbean: At World's End</td>\n",
       "      <td>Captain Barbossa, long believed to be dead, ha...</td>\n",
       "    </tr>\n",
       "    <tr>\n",
       "      <th>2</th>\n",
       "      <td>206647</td>\n",
       "      <td>Spectre</td>\n",
       "      <td>A cryptic message from Bond’s past sends him o...</td>\n",
       "    </tr>\n",
       "    <tr>\n",
       "      <th>3</th>\n",
       "      <td>49026</td>\n",
       "      <td>The Dark Knight Rises</td>\n",
       "      <td>Following the death of District Attorney Harve...</td>\n",
       "    </tr>\n",
       "    <tr>\n",
       "      <th>4</th>\n",
       "      <td>49529</td>\n",
       "      <td>John Carter</td>\n",
       "      <td>John Carter is a war-weary, former military ca...</td>\n",
       "    </tr>\n",
       "  </tbody>\n",
       "</table>\n",
       "</div>"
      ],
      "text/plain": [
       "   movie_id                                     title  \\\n",
       "0     19995                                    Avatar   \n",
       "1       285  Pirates of the Caribbean: At World's End   \n",
       "2    206647                                   Spectre   \n",
       "3     49026                     The Dark Knight Rises   \n",
       "4     49529                               John Carter   \n",
       "\n",
       "                                                tags  \n",
       "0  In the 22nd century, a paraplegic Marine is di...  \n",
       "1  Captain Barbossa, long believed to be dead, ha...  \n",
       "2  A cryptic message from Bond’s past sends him o...  \n",
       "3  Following the death of District Attorney Harve...  \n",
       "4  John Carter is a war-weary, former military ca...  "
      ]
     },
     "execution_count": 31,
     "metadata": {},
     "output_type": "execute_result"
    }
   ],
   "source": [
    "new_df['tags'] = new_df['tags'].apply(lambda x: \" \".join(x))\n",
    "new_df.head()"
   ]
  },
  {
   "cell_type": "code",
   "execution_count": 32,
   "id": "367094bd",
   "metadata": {},
   "outputs": [
    {
     "data": {
      "text/plain": [
       "'In the 22nd century, a paraplegic Marine is dispatched to the moon Pandora on a unique mission, but becomes torn between following orders and protecting an alien civilization. SamWorthington ZoeSaldana SigourneyWeaver JamesCameron cultureclash future spacewar spacecolony society spacetravel futuristic romance space alien tribe alienplanet cgi marine soldier battle loveaffair antiwar powerrelations mindandsoul 3d Action Adventure Fantasy ScienceFiction'"
      ]
     },
     "execution_count": 32,
     "metadata": {},
     "output_type": "execute_result"
    }
   ],
   "source": [
    "new_df.iloc[0].tags"
   ]
  },
  {
   "cell_type": "code",
   "execution_count": 33,
   "id": "be02bae3",
   "metadata": {},
   "outputs": [
    {
     "name": "stderr",
     "output_type": "stream",
     "text": [
      "/tmp/ipykernel_4427/3214958533.py:1: SettingWithCopyWarning: \n",
      "A value is trying to be set on a copy of a slice from a DataFrame.\n",
      "Try using .loc[row_indexer,col_indexer] = value instead\n",
      "\n",
      "See the caveats in the documentation: https://pandas.pydata.org/pandas-docs/stable/user_guide/indexing.html#returning-a-view-versus-a-copy\n",
      "  new_df['tags'] = new_df['tags'].apply(lambda x:x.lower())\n"
     ]
    }
   ],
   "source": [
    "new_df['tags'] = new_df['tags'].apply(lambda x:x.lower())"
   ]
  },
  {
   "cell_type": "code",
   "execution_count": 34,
   "id": "ce5f0479",
   "metadata": {},
   "outputs": [],
   "source": [
    "from nltk.stem.porter import PorterStemmer\n",
    "ps = PorterStemmer()"
   ]
  },
  {
   "cell_type": "code",
   "execution_count": 35,
   "id": "b53ed0d6",
   "metadata": {},
   "outputs": [
    {
     "data": {
      "text/plain": [
       "'in the 22nd century, a paraplegic marine is dispatched to the moon pandora on a unique mission, but becomes torn between following orders and protecting an alien civilization. samworthington zoesaldana sigourneyweaver jamescameron cultureclash future spacewar spacecolony society spacetravel futuristic romance space alien tribe alienplanet cgi marine soldier battle loveaffair antiwar powerrelations mindandsoul 3d action adventure fantasy sciencefiction'"
      ]
     },
     "execution_count": 35,
     "metadata": {},
     "output_type": "execute_result"
    }
   ],
   "source": [
    "new_df.iloc[0].tags"
   ]
  },
  {
   "cell_type": "code",
   "execution_count": 36,
   "id": "5b461d5b",
   "metadata": {},
   "outputs": [],
   "source": [
    "def stem(text):\n",
    "    y = []\n",
    "\n",
    "    for i in text.split():\n",
    "        y.append(ps.stem(i))\n",
    "\n",
    "    return \" \".join(y)\n"
   ]
  },
  {
   "cell_type": "code",
   "execution_count": 37,
   "id": "3ecde711",
   "metadata": {},
   "outputs": [
    {
     "name": "stderr",
     "output_type": "stream",
     "text": [
      "/tmp/ipykernel_4427/3213734980.py:1: SettingWithCopyWarning: \n",
      "A value is trying to be set on a copy of a slice from a DataFrame.\n",
      "Try using .loc[row_indexer,col_indexer] = value instead\n",
      "\n",
      "See the caveats in the documentation: https://pandas.pydata.org/pandas-docs/stable/user_guide/indexing.html#returning-a-view-versus-a-copy\n",
      "  new_df['tags'] = new_df['tags'].apply(stem)\n"
     ]
    }
   ],
   "source": [
    "new_df['tags'] = new_df['tags'].apply(stem)"
   ]
  },
  {
   "cell_type": "code",
   "execution_count": 38,
   "id": "8c53a23b",
   "metadata": {},
   "outputs": [
    {
     "data": {
      "application/vnd.microsoft.datawrangler.viewer.v0+json": {
       "columns": [
        {
         "name": "index",
         "rawType": "int64",
         "type": "integer"
        },
        {
         "name": "tags",
         "rawType": "object",
         "type": "string"
        }
       ],
       "ref": "1a62c18d-c5b3-4bf8-9daa-824f3d3471c6",
       "rows": [
        [
         "0",
         "in the 22nd century, a parapleg marin is dispatch to the moon pandora on a uniqu mission, but becom torn between follow order and protect an alien civilization. samworthington zoesaldana sigourneyweav jamescameron cultureclash futur spacewar spacecoloni societi spacetravel futurist romanc space alien tribe alienplanet cgi marin soldier battl loveaffair antiwar powerrel mindandsoul 3d action adventur fantasi sciencefict"
        ],
        [
         "1",
         "captain barbossa, long believ to be dead, ha come back to life and is head to the edg of the earth with will turner and elizabeth swann. but noth is quit as it seems. johnnydepp orlandobloom keiraknightley goreverbinski ocean drugabus exoticisland eastindiatradingcompani loveofone'slif traitor shipwreck strongwoman ship allianc calypso afterlif fighter pirat swashbuckl aftercreditssting adventur fantasi action"
        ],
        [
         "2",
         "a cryptic messag from bond’ past send him on a trail to uncov a sinist organization. while m battl polit forc to keep the secret servic alive, bond peel back the layer of deceit to reveal the terribl truth behind spectre. danielcraig christophwaltz léaseydoux sammend spi basedonnovel secretag sequel mi6 britishsecretservic unitedkingdom action adventur crime"
        ],
        [
         "3",
         "follow the death of district attorney harvey dent, batman assum respons for dent' crime to protect the late attorney' reput and is subsequ hunt by the gotham citi polic department. eight year later, batman encount the mysteri selina kyle and the villain bane, a new terrorist leader who overwhelm gotham' finest. the dark knight resurfac to protect a citi that ha brand him an enemy. christianbal michaelcain garyoldman christophernolan dccomic crimefight terrorist secretident burglar hostagedrama timebomb gothamc vigilant cover-up superhero villai tragichero terror destruct catwoman catburglar imax flood criminalunderworld batman action crime drama thriller"
        ]
       ],
       "shape": {
        "columns": 1,
        "rows": 4
       }
      },
      "text/plain": [
       "0    in the 22nd century, a parapleg marin is dispa...\n",
       "1    captain barbossa, long believ to be dead, ha c...\n",
       "2    a cryptic messag from bond’ past send him on a...\n",
       "3    follow the death of district attorney harvey d...\n",
       "Name: tags, dtype: object"
      ]
     },
     "execution_count": 38,
     "metadata": {},
     "output_type": "execute_result"
    }
   ],
   "source": [
    "new_df['tags'].head(4)"
   ]
  },
  {
   "cell_type": "code",
   "execution_count": 39,
   "id": "f83d933f",
   "metadata": {},
   "outputs": [],
   "source": [
    "from sklearn.feature_extraction.text import CountVectorizer \n",
    "cv = CountVectorizer(max_features=5000, stop_words='english')"
   ]
  },
  {
   "cell_type": "code",
   "execution_count": 40,
   "id": "cb7baf6a",
   "metadata": {},
   "outputs": [
    {
     "data": {
      "text/plain": [
       "(4806, 5000)"
      ]
     },
     "execution_count": 40,
     "metadata": {},
     "output_type": "execute_result"
    }
   ],
   "source": [
    "vectors = cv.fit_transform(new_df['tags']).toarray()\n",
    "vectors.shape"
   ]
  },
  {
   "cell_type": "code",
   "execution_count": 41,
   "id": "54499dfd",
   "metadata": {},
   "outputs": [],
   "source": [
    "from sklearn.metrics.pairwise import cosine_similarity\n",
    "similarity = cosine_similarity(vectors)"
   ]
  },
  {
   "cell_type": "markdown",
   "id": "35f3adf0",
   "metadata": {},
   "source": [
    "Fetching Similar movie Title"
   ]
  },
  {
   "cell_type": "code",
   "execution_count": null,
   "id": "daac07eb",
   "metadata": {},
   "outputs": [],
   "source": [
    "def recommend(movie):\n",
    "    \n",
    "    movie_index = new_df[new_df['title']== movie].index[0]\n",
    "    distances = similarity[movie_index]\n",
    "    s_movie_list = sorted(list(enumerate(distances)),reverse=True, key=lambda x:x[1])[1:6]\n",
    "\n",
    "    for i in s_movie_list:\n",
    "        print(new_df.iloc[i[0]].title)"
   ]
  },
  {
   "cell_type": "code",
   "execution_count": 44,
   "id": "69ad4bd1",
   "metadata": {},
   "outputs": [
    {
     "name": "stdout",
     "output_type": "stream",
     "text": [
      "The Dark Knight\n",
      "Batman\n",
      "Batman\n",
      "The Dark Knight Rises\n",
      "10th & Wolf\n"
     ]
    }
   ],
   "source": [
    "recommend('Batman Begins')"
   ]
  },
  {
   "cell_type": "code",
   "execution_count": 50,
   "id": "fc962a0a",
   "metadata": {},
   "outputs": [
    {
     "name": "stdout",
     "output_type": "stream",
     "text": [
      "Aliens vs Predator: Requiem\n",
      "Aliens\n",
      "Falcon Rising\n",
      "Independence Day\n",
      "Titan A.E.\n"
     ]
    }
   ],
   "source": [
    "recommend('Avatar')"
   ]
  },
  {
   "cell_type": "code",
   "execution_count": 52,
   "id": "6b671e6a",
   "metadata": {},
   "outputs": [
    {
     "name": "stdout",
     "output_type": "stream",
     "text": [
      "A Guy Named Joe\n",
      "Pearl Harbor\n",
      "Highway\n",
      "Broken Arrow\n",
      "Firefox\n"
     ]
    }
   ],
   "source": [
    "recommend('Top Gun')"
   ]
  },
  {
   "cell_type": "code",
   "execution_count": 61,
   "id": "b92dc12a",
   "metadata": {},
   "outputs": [],
   "source": [
    "def personal_recommendation(movie):\n",
    "    movie_index = new_df[new_df['title'] == movie].index[0]\n",
    "    distance_from = similarity[movie_index]\n",
    "    movie_list = sorted(list(enumerate(distance_from)), key=lambda x: x[1], reverse=True)[1:6]\n",
    "\n",
    "    for i in movie_list:\n",
    "        print(new_df.iloc[i[0]].title)"
   ]
  },
  {
   "cell_type": "code",
   "execution_count": 62,
   "id": "ef4bf1ac",
   "metadata": {},
   "outputs": [
    {
     "name": "stdout",
     "output_type": "stream",
     "text": [
      "Aliens vs Predator: Requiem\n",
      "Aliens\n",
      "Falcon Rising\n",
      "Independence Day\n",
      "Titan A.E.\n"
     ]
    }
   ],
   "source": [
    "personal_recommendation('Avatar')"
   ]
  },
  {
   "cell_type": "code",
   "execution_count": 56,
   "id": "ce11880d",
   "metadata": {},
   "outputs": [
    {
     "data": {
      "text/plain": [
       "array([0.06488857, 0.06859943, 0.03535534, ..., 0.02773501, 0.        ,\n",
       "       0.        ], shape=(4806,))"
      ]
     },
     "execution_count": 56,
     "metadata": {},
     "output_type": "execute_result"
    }
   ],
   "source": [
    "distance = similarity[744]\n",
    "distance"
   ]
  },
  {
   "cell_type": "code",
   "execution_count": 54,
   "id": "a0d56741",
   "metadata": {},
   "outputs": [
    {
     "data": {
      "application/vnd.microsoft.datawrangler.viewer.v0+json": {
       "columns": [
        {
         "name": "index",
         "rawType": "int64",
         "type": "integer"
        },
        {
         "name": "movie_id",
         "rawType": "int64",
         "type": "integer"
        },
        {
         "name": "title",
         "rawType": "object",
         "type": "string"
        },
        {
         "name": "tags",
         "rawType": "object",
         "type": "string"
        }
       ],
       "ref": "dcc48ef5-1626-41cc-9743-ff7ab513623f",
       "rows": [
        [
         "2516",
         "744",
         "Top Gun",
         "for lieuten pete 'maverick' mitchel and hi friend and co-pilot nick 'goose' bradshaw be accept into an elit train school for fighter pilot is a dream come true. a tragedy, as well as person demons, threaten pete' dream of becom an ace pilot. tomcruis kellymcgilli valkilm tonyscott lovesick lossoflov fighterpilot self-discoveri pilot ejectionseat dyinganddeath offic trainingcamp airforc airplan danger battleassign u.s.navi hostil secretlov cowardli pilotschool action romanc war"
        ]
       ],
       "shape": {
        "columns": 3,
        "rows": 1
       }
      },
      "text/html": [
       "<div>\n",
       "<style scoped>\n",
       "    .dataframe tbody tr th:only-of-type {\n",
       "        vertical-align: middle;\n",
       "    }\n",
       "\n",
       "    .dataframe tbody tr th {\n",
       "        vertical-align: top;\n",
       "    }\n",
       "\n",
       "    .dataframe thead th {\n",
       "        text-align: right;\n",
       "    }\n",
       "</style>\n",
       "<table border=\"1\" class=\"dataframe\">\n",
       "  <thead>\n",
       "    <tr style=\"text-align: right;\">\n",
       "      <th></th>\n",
       "      <th>movie_id</th>\n",
       "      <th>title</th>\n",
       "      <th>tags</th>\n",
       "    </tr>\n",
       "  </thead>\n",
       "  <tbody>\n",
       "    <tr>\n",
       "      <th>2516</th>\n",
       "      <td>744</td>\n",
       "      <td>Top Gun</td>\n",
       "      <td>for lieuten pete 'maverick' mitchel and hi fri...</td>\n",
       "    </tr>\n",
       "  </tbody>\n",
       "</table>\n",
       "</div>"
      ],
      "text/plain": [
       "      movie_id    title                                               tags\n",
       "2516       744  Top Gun  for lieuten pete 'maverick' mitchel and hi fri..."
      ]
     },
     "execution_count": 54,
     "metadata": {},
     "output_type": "execute_result"
    }
   ],
   "source": [
    "movie = new_df[new_df['title']== 'Top Gun']\n",
    "movie"
   ]
  },
  {
   "cell_type": "code",
   "execution_count": null,
   "id": "5510fec9",
   "metadata": {},
   "outputs": [],
   "source": []
  }
 ],
 "metadata": {
  "kernelspec": {
   "display_name": "Python 3",
   "language": "python",
   "name": "python3"
  },
  "language_info": {
   "codemirror_mode": {
    "name": "ipython",
    "version": 3
   },
   "file_extension": ".py",
   "mimetype": "text/x-python",
   "name": "python",
   "nbconvert_exporter": "python",
   "pygments_lexer": "ipython3",
   "version": "3.12.1"
  }
 },
 "nbformat": 4,
 "nbformat_minor": 5
}
