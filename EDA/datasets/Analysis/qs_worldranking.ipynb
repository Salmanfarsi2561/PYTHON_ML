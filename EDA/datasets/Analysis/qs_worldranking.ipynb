{
 "cells": [
  {
   "cell_type": "code",
   "execution_count": 70,
   "id": "7fa937de",
   "metadata": {},
   "outputs": [],
   "source": [
    "import numpy as np\n",
    "import pandas as pd\n",
    "import matplotlib.pyplot as plt\n",
    "import matplotlib.animation as animation\n",
    "import seaborn as sns\n",
    "\n",
    "import os\n",
    "import warnings\n",
    "warnings.filterwarnings(\"ignore\")\n",
    "\n",
    "\n"
   ]
  },
  {
   "cell_type": "code",
   "execution_count": 71,
   "id": "d42c7a33",
   "metadata": {},
   "outputs": [
    {
     "data": {
      "application/vnd.microsoft.datawrangler.viewer.v0+json": {
       "columns": [
        {
         "name": "index",
         "rawType": "int64",
         "type": "integer"
        },
        {
         "name": "RANK_2025",
         "rawType": "object",
         "type": "string"
        },
        {
         "name": "RANK_2024",
         "rawType": "object",
         "type": "string"
        },
        {
         "name": "Institution_Name",
         "rawType": "object",
         "type": "string"
        },
        {
         "name": "Location",
         "rawType": "object",
         "type": "string"
        },
        {
         "name": "Region",
         "rawType": "object",
         "type": "string"
        },
        {
         "name": "SIZE",
         "rawType": "object",
         "type": "string"
        },
        {
         "name": "FOCUS",
         "rawType": "object",
         "type": "string"
        },
        {
         "name": "RES.",
         "rawType": "object",
         "type": "string"
        },
        {
         "name": "STATUS",
         "rawType": "object",
         "type": "string"
        },
        {
         "name": "Academic_Reputation_Score",
         "rawType": "float64",
         "type": "float"
        },
        {
         "name": "Academic_Reputation_Rank",
         "rawType": "object",
         "type": "string"
        },
        {
         "name": "Employer_Reputation_Score",
         "rawType": "float64",
         "type": "float"
        },
        {
         "name": "Employer_Reputation_Rank",
         "rawType": "object",
         "type": "string"
        },
        {
         "name": "Faculty_Student_Score",
         "rawType": "float64",
         "type": "float"
        },
        {
         "name": "Faculty_Student_Rank",
         "rawType": "object",
         "type": "string"
        },
        {
         "name": "Citations_per_Faculty_Score",
         "rawType": "float64",
         "type": "float"
        },
        {
         "name": "Citations_per_Faculty_Rank",
         "rawType": "object",
         "type": "string"
        },
        {
         "name": "International_Faculty_Score",
         "rawType": "float64",
         "type": "float"
        },
        {
         "name": "International_Faculty_Rank",
         "rawType": "object",
         "type": "string"
        },
        {
         "name": "International_Students_Score",
         "rawType": "float64",
         "type": "float"
        },
        {
         "name": "International_Students_Rank",
         "rawType": "object",
         "type": "string"
        },
        {
         "name": "International_Research_Network_Score",
         "rawType": "float64",
         "type": "float"
        },
        {
         "name": "International_Research_Network_Rank",
         "rawType": "object",
         "type": "string"
        },
        {
         "name": "Employment_Outcomes_Score",
         "rawType": "float64",
         "type": "float"
        },
        {
         "name": "Employment_Outcomes_Rank",
         "rawType": "object",
         "type": "string"
        },
        {
         "name": "Sustainability_Score",
         "rawType": "float64",
         "type": "float"
        },
        {
         "name": "Sustainability_Rank",
         "rawType": "object",
         "type": "string"
        },
        {
         "name": "Overall_Score",
         "rawType": "object",
         "type": "string"
        }
       ],
       "ref": "2d51e64b-4f00-4030-ae6c-cb00be792750",
       "rows": [
        [
         "0",
         "1",
         "1",
         "Massachusetts Institute of Technology (MIT) ",
         "United States",
         "Americas",
         "M",
         "CO",
         "VH",
         "B",
         "100.0",
         "4",
         "100.0",
         "2",
         "100.0",
         "11",
         "100.0",
         "9",
         "99.3",
         "100",
         "86.8",
         "143",
         "96.0",
         "58",
         "100.0",
         "8",
         "99.0",
         "15=",
         "100"
        ],
        [
         "1",
         "2",
         "6",
         "Imperial College London",
         "United Kingdom",
         "Europe",
         "L",
         "FC",
         "VH",
         "A",
         "98.5",
         "22",
         "99.5",
         "11",
         "98.2",
         "45",
         "93.9",
         "54",
         "100.0",
         "66",
         "99.6",
         "44",
         "97.4",
         "34",
         "93.4",
         "61",
         "99.7",
         "6",
         "98.5"
        ],
        [
         "2",
         "3",
         "3",
         "University of Oxford",
         "United Kingdom",
         "Europe",
         "L",
         "FC",
         "VH",
         "A",
         "100.0",
         "2",
         "100.0",
         "5",
         "100.0",
         "8",
         "84.8",
         "93",
         "98.1",
         "120",
         "97.7",
         "73",
         "100.0",
         "1",
         "100.0",
         "3",
         "85.0",
         "126",
         "96.9"
        ],
        [
         "3",
         "4",
         "4",
         "Harvard University",
         "United States",
         "Americas",
         "L",
         "FC",
         "VH",
         "B",
         "100.0",
         "1",
         "100.0",
         "1",
         "96.3",
         "53",
         "100.0",
         "1",
         "74.1",
         "269",
         "69.0",
         "215",
         "99.6",
         "5",
         "100.0",
         "1",
         "84.4",
         "130",
         "96.8"
        ],
        [
         "4",
         "5",
         "2",
         "University of Cambridge",
         "United Kingdom",
         "Europe",
         "L",
         "FC",
         "VH",
         "A",
         "100.0",
         "3",
         "100.0",
         "4",
         "100.0",
         "17",
         "84.6",
         "96",
         "100.0",
         "73",
         "94.8",
         "98",
         "99.3",
         "10",
         "100.0",
         "5",
         "84.8",
         "127=",
         "96.7"
        ],
        [
         "5",
         "6",
         "5",
         "Stanford University",
         "United States",
         "Americas",
         "L",
         "FC",
         "VH",
         "B",
         "100.0",
         "5",
         "100.0",
         "3",
         "100.0",
         "12",
         "99.0",
         "27",
         "70.3",
         "284",
         "60.8",
         "244",
         "96.8",
         "45",
         "100.0",
         "2",
         "81.2",
         "148=",
         "96.1"
        ],
        [
         "6",
         "7",
         "7",
         "ETH Zurich - Swiss Federal Institute of Technology",
         "Switzerland",
         "Europe",
         "L",
         "FO",
         "VH",
         "A",
         "98.8",
         "19",
         "87.2",
         "57",
         "65.9",
         "199",
         "97.9",
         "35",
         "100.0",
         "25",
         "98.6",
         "63",
         "95.7",
         "64",
         "90.5",
         "73",
         "98.8",
         "18",
         "93.9"
        ],
        [
         "7",
         "8",
         "8",
         "National University of Singapore (NUS)",
         "Singapore",
         "Asia",
         "XL",
         "FC",
         "VH",
         "A",
         "99.5",
         "15",
         "91.1",
         "48",
         "68.8",
         "189",
         "93.1",
         "61",
         "100.0",
         "41",
         "88.9",
         "129",
         "91.6",
         "146",
         "100.0",
         "6",
         "97.7",
         "26=",
         "93.7"
        ],
        [
         "8",
         "9",
         "9",
         "UCL",
         "United Kingdom",
         "Europe",
         "XL",
         "FC",
         "VH",
         "A",
         "99.5",
         "14",
         "98.3",
         "18",
         "95.9",
         "56",
         "72.2",
         "145",
         "99.0",
         "106",
         "100.0",
         "21",
         "99.9",
         "2",
         "70.3",
         "157",
         "74.8",
         "190=",
         "91.6"
        ],
        [
         "9",
         "10",
         "15",
         "California Institute of Technology (Caltech)",
         "United States",
         "Americas",
         "S",
         "CO",
         "VH",
         "B",
         "96.5",
         "29",
         "95.3",
         "33",
         "100.0",
         "4",
         "100.0",
         "5",
         "100.0",
         "65",
         "79.8",
         "172",
         "65.5",
         "549",
         "31.0",
         "407",
         "62.5",
         "253",
         "90.9"
        ],
        [
         "10",
         "11",
         "12",
         "University of Pennsylvania",
         "United States",
         "Americas",
         "L",
         "FC",
         "VH",
         "B",
         "96.3",
         "31",
         "91.9",
         "45",
         "99.8",
         "28",
         "74.0",
         "138",
         "90.9",
         "188",
         "66.2",
         "226",
         "91.9",
         "137",
         "100.0",
         "7",
         "93.0",
         "71",
         "90.3"
        ],
        [
         "11",
         "12",
         "10",
         "University of California, Berkeley (UCB)",
         "United States",
         "Americas",
         "XL",
         "FC",
         "VH",
         "A",
         "100.0",
         "6",
         "100.0",
         "6",
         "23.5",
         "615",
         "98.2",
         "33",
         "91.5",
         "182",
         "61.0",
         "242",
         "97.2",
         "39",
         "98.4",
         "23",
         "100.0",
         "2",
         "90.1"
        ],
        [
         "12",
         "13",
         "14",
         "The University of Melbourne",
         "Australia",
         "Oceania",
         "XL",
         "FC",
         "VH",
         "A",
         "98.5",
         "21",
         "93.9",
         "39",
         "15.4",
         "701+",
         "93.0",
         "62",
         "95.1",
         "148",
         "99.8",
         "39",
         "97.4",
         "33",
         "96.5",
         "39",
         "99.6",
         "9",
         "88.9"
        ],
        [
         "13",
         "14",
         "17",
         "Peking University",
         "China (Mainland)",
         "Asia",
         "XL",
         "FC",
         "VH",
         "A",
         "99.5",
         "13",
         "96.6",
         "28",
         "92.6",
         "75",
         "97.7",
         "40",
         "50.3",
         "365",
         "23.6",
         "497",
         "79.8",
         "329",
         "94.2",
         "56",
         "46.9",
         "330=",
         "88.5"
        ],
        [
         "14",
         "15",
         "26",
         "Nanyang Technological University, Singapore (NTU)",
         "Singapore",
         "Asia",
         "L",
         "FC",
         "VH",
         "A",
         "91.9",
         "42",
         "73.3",
         "92",
         "80.6",
         "130",
         "92.4",
         "66",
         "100.0",
         "42",
         "83.5",
         "160",
         "89.4",
         "178",
         "83.9",
         "104",
         "95.6",
         "50=",
         "88.4"
        ],
        [
         "15",
         "16",
         "13",
         "Cornell University",
         "United States",
         "Americas",
         "L",
         "FC",
         "VH",
         "B",
         "98.3",
         "25",
         "93.1",
         "42",
         "52.7",
         "289",
         "97.5",
         "43",
         "54.2",
         "347",
         "63.4",
         "237",
         "94.0",
         "99",
         "97.1",
         "34",
         "72.1",
         "208=",
         "87.9"
        ],
        [
         "16",
         "17",
         "26",
         "The University of Hong Kong",
         "Hong Kong SAR",
         "Asia",
         "L",
         "FC",
         "VH",
         "A",
         "97.4",
         "27",
         "59.4",
         "135",
         "81.2",
         "124",
         "86.4",
         "89",
         "100.0",
         "33",
         "99.3",
         "52",
         "81.4",
         "300",
         "99.7",
         "14",
         "89.2",
         "101=",
         "87.6"
        ],
        [
         "17",
         "18",
         "19",
         "The University of Sydney",
         "Australia",
         "Oceania",
         "XL",
         "FC",
         "VH",
         "A",
         "96.4",
         "30",
         "90.0",
         "51",
         "10.9",
         "701+",
         "93.7",
         "56",
         "99.9",
         "87",
         "100.0",
         "17",
         "95.8",
         "61",
         "93.1",
         "63",
         "99.6",
         "7",
         "87.3"
        ],
        [
         "18",
         "19",
         "19",
         "The University of New South Wales (UNSW Sydney)",
         "Australia",
         "Oceania",
         "XL",
         "FC",
         "VH",
         "A",
         "90.5",
         "43",
         "90.4",
         "50",
         "20.6",
         "660",
         "94.9",
         "49",
         "100.0",
         "57",
         "99.4",
         "48",
         "98.3",
         "20",
         "97.7",
         "29",
         "99.2",
         "11=",
         "87.1"
        ],
        [
         "19",
         "20",
         "25",
         "Tsinghua University",
         "China (Mainland)",
         "Asia",
         "XL",
         "FC",
         "VH",
         "A",
         "99.2",
         "16",
         "97.7",
         "22",
         "95.0",
         "62",
         "99.1",
         "26",
         "18.1",
         "623",
         "13.4",
         "654",
         "79.2",
         "337",
         "92.3",
         "68",
         "40.4",
         "363=",
         "86.5"
        ]
       ],
       "shape": {
        "columns": 28,
        "rows": 20
       }
      },
      "text/html": [
       "<div>\n",
       "<style scoped>\n",
       "    .dataframe tbody tr th:only-of-type {\n",
       "        vertical-align: middle;\n",
       "    }\n",
       "\n",
       "    .dataframe tbody tr th {\n",
       "        vertical-align: top;\n",
       "    }\n",
       "\n",
       "    .dataframe thead th {\n",
       "        text-align: right;\n",
       "    }\n",
       "</style>\n",
       "<table border=\"1\" class=\"dataframe\">\n",
       "  <thead>\n",
       "    <tr style=\"text-align: right;\">\n",
       "      <th></th>\n",
       "      <th>RANK_2025</th>\n",
       "      <th>RANK_2024</th>\n",
       "      <th>Institution_Name</th>\n",
       "      <th>Location</th>\n",
       "      <th>Region</th>\n",
       "      <th>SIZE</th>\n",
       "      <th>FOCUS</th>\n",
       "      <th>RES.</th>\n",
       "      <th>STATUS</th>\n",
       "      <th>Academic_Reputation_Score</th>\n",
       "      <th>...</th>\n",
       "      <th>International_Faculty_Rank</th>\n",
       "      <th>International_Students_Score</th>\n",
       "      <th>International_Students_Rank</th>\n",
       "      <th>International_Research_Network_Score</th>\n",
       "      <th>International_Research_Network_Rank</th>\n",
       "      <th>Employment_Outcomes_Score</th>\n",
       "      <th>Employment_Outcomes_Rank</th>\n",
       "      <th>Sustainability_Score</th>\n",
       "      <th>Sustainability_Rank</th>\n",
       "      <th>Overall_Score</th>\n",
       "    </tr>\n",
       "  </thead>\n",
       "  <tbody>\n",
       "    <tr>\n",
       "      <th>0</th>\n",
       "      <td>1</td>\n",
       "      <td>1</td>\n",
       "      <td>Massachusetts Institute of Technology (MIT)</td>\n",
       "      <td>United States</td>\n",
       "      <td>Americas</td>\n",
       "      <td>M</td>\n",
       "      <td>CO</td>\n",
       "      <td>VH</td>\n",
       "      <td>B</td>\n",
       "      <td>100.0</td>\n",
       "      <td>...</td>\n",
       "      <td>100</td>\n",
       "      <td>86.8</td>\n",
       "      <td>143</td>\n",
       "      <td>96.0</td>\n",
       "      <td>58</td>\n",
       "      <td>100.0</td>\n",
       "      <td>8</td>\n",
       "      <td>99.0</td>\n",
       "      <td>15=</td>\n",
       "      <td>100</td>\n",
       "    </tr>\n",
       "    <tr>\n",
       "      <th>1</th>\n",
       "      <td>2</td>\n",
       "      <td>6</td>\n",
       "      <td>Imperial College London</td>\n",
       "      <td>United Kingdom</td>\n",
       "      <td>Europe</td>\n",
       "      <td>L</td>\n",
       "      <td>FC</td>\n",
       "      <td>VH</td>\n",
       "      <td>A</td>\n",
       "      <td>98.5</td>\n",
       "      <td>...</td>\n",
       "      <td>66</td>\n",
       "      <td>99.6</td>\n",
       "      <td>44</td>\n",
       "      <td>97.4</td>\n",
       "      <td>34</td>\n",
       "      <td>93.4</td>\n",
       "      <td>61</td>\n",
       "      <td>99.7</td>\n",
       "      <td>6</td>\n",
       "      <td>98.5</td>\n",
       "    </tr>\n",
       "    <tr>\n",
       "      <th>2</th>\n",
       "      <td>3</td>\n",
       "      <td>3</td>\n",
       "      <td>University of Oxford</td>\n",
       "      <td>United Kingdom</td>\n",
       "      <td>Europe</td>\n",
       "      <td>L</td>\n",
       "      <td>FC</td>\n",
       "      <td>VH</td>\n",
       "      <td>A</td>\n",
       "      <td>100.0</td>\n",
       "      <td>...</td>\n",
       "      <td>120</td>\n",
       "      <td>97.7</td>\n",
       "      <td>73</td>\n",
       "      <td>100.0</td>\n",
       "      <td>1</td>\n",
       "      <td>100.0</td>\n",
       "      <td>3</td>\n",
       "      <td>85.0</td>\n",
       "      <td>126</td>\n",
       "      <td>96.9</td>\n",
       "    </tr>\n",
       "    <tr>\n",
       "      <th>3</th>\n",
       "      <td>4</td>\n",
       "      <td>4</td>\n",
       "      <td>Harvard University</td>\n",
       "      <td>United States</td>\n",
       "      <td>Americas</td>\n",
       "      <td>L</td>\n",
       "      <td>FC</td>\n",
       "      <td>VH</td>\n",
       "      <td>B</td>\n",
       "      <td>100.0</td>\n",
       "      <td>...</td>\n",
       "      <td>269</td>\n",
       "      <td>69.0</td>\n",
       "      <td>215</td>\n",
       "      <td>99.6</td>\n",
       "      <td>5</td>\n",
       "      <td>100.0</td>\n",
       "      <td>1</td>\n",
       "      <td>84.4</td>\n",
       "      <td>130</td>\n",
       "      <td>96.8</td>\n",
       "    </tr>\n",
       "    <tr>\n",
       "      <th>4</th>\n",
       "      <td>5</td>\n",
       "      <td>2</td>\n",
       "      <td>University of Cambridge</td>\n",
       "      <td>United Kingdom</td>\n",
       "      <td>Europe</td>\n",
       "      <td>L</td>\n",
       "      <td>FC</td>\n",
       "      <td>VH</td>\n",
       "      <td>A</td>\n",
       "      <td>100.0</td>\n",
       "      <td>...</td>\n",
       "      <td>73</td>\n",
       "      <td>94.8</td>\n",
       "      <td>98</td>\n",
       "      <td>99.3</td>\n",
       "      <td>10</td>\n",
       "      <td>100.0</td>\n",
       "      <td>5</td>\n",
       "      <td>84.8</td>\n",
       "      <td>127=</td>\n",
       "      <td>96.7</td>\n",
       "    </tr>\n",
       "    <tr>\n",
       "      <th>5</th>\n",
       "      <td>6</td>\n",
       "      <td>5</td>\n",
       "      <td>Stanford University</td>\n",
       "      <td>United States</td>\n",
       "      <td>Americas</td>\n",
       "      <td>L</td>\n",
       "      <td>FC</td>\n",
       "      <td>VH</td>\n",
       "      <td>B</td>\n",
       "      <td>100.0</td>\n",
       "      <td>...</td>\n",
       "      <td>284</td>\n",
       "      <td>60.8</td>\n",
       "      <td>244</td>\n",
       "      <td>96.8</td>\n",
       "      <td>45</td>\n",
       "      <td>100.0</td>\n",
       "      <td>2</td>\n",
       "      <td>81.2</td>\n",
       "      <td>148=</td>\n",
       "      <td>96.1</td>\n",
       "    </tr>\n",
       "    <tr>\n",
       "      <th>6</th>\n",
       "      <td>7</td>\n",
       "      <td>7</td>\n",
       "      <td>ETH Zurich - Swiss Federal Institute of Techno...</td>\n",
       "      <td>Switzerland</td>\n",
       "      <td>Europe</td>\n",
       "      <td>L</td>\n",
       "      <td>FO</td>\n",
       "      <td>VH</td>\n",
       "      <td>A</td>\n",
       "      <td>98.8</td>\n",
       "      <td>...</td>\n",
       "      <td>25</td>\n",
       "      <td>98.6</td>\n",
       "      <td>63</td>\n",
       "      <td>95.7</td>\n",
       "      <td>64</td>\n",
       "      <td>90.5</td>\n",
       "      <td>73</td>\n",
       "      <td>98.8</td>\n",
       "      <td>18</td>\n",
       "      <td>93.9</td>\n",
       "    </tr>\n",
       "    <tr>\n",
       "      <th>7</th>\n",
       "      <td>8</td>\n",
       "      <td>8</td>\n",
       "      <td>National University of Singapore (NUS)</td>\n",
       "      <td>Singapore</td>\n",
       "      <td>Asia</td>\n",
       "      <td>XL</td>\n",
       "      <td>FC</td>\n",
       "      <td>VH</td>\n",
       "      <td>A</td>\n",
       "      <td>99.5</td>\n",
       "      <td>...</td>\n",
       "      <td>41</td>\n",
       "      <td>88.9</td>\n",
       "      <td>129</td>\n",
       "      <td>91.6</td>\n",
       "      <td>146</td>\n",
       "      <td>100.0</td>\n",
       "      <td>6</td>\n",
       "      <td>97.7</td>\n",
       "      <td>26=</td>\n",
       "      <td>93.7</td>\n",
       "    </tr>\n",
       "    <tr>\n",
       "      <th>8</th>\n",
       "      <td>9</td>\n",
       "      <td>9</td>\n",
       "      <td>UCL</td>\n",
       "      <td>United Kingdom</td>\n",
       "      <td>Europe</td>\n",
       "      <td>XL</td>\n",
       "      <td>FC</td>\n",
       "      <td>VH</td>\n",
       "      <td>A</td>\n",
       "      <td>99.5</td>\n",
       "      <td>...</td>\n",
       "      <td>106</td>\n",
       "      <td>100.0</td>\n",
       "      <td>21</td>\n",
       "      <td>99.9</td>\n",
       "      <td>2</td>\n",
       "      <td>70.3</td>\n",
       "      <td>157</td>\n",
       "      <td>74.8</td>\n",
       "      <td>190=</td>\n",
       "      <td>91.6</td>\n",
       "    </tr>\n",
       "    <tr>\n",
       "      <th>9</th>\n",
       "      <td>10</td>\n",
       "      <td>15</td>\n",
       "      <td>California Institute of Technology (Caltech)</td>\n",
       "      <td>United States</td>\n",
       "      <td>Americas</td>\n",
       "      <td>S</td>\n",
       "      <td>CO</td>\n",
       "      <td>VH</td>\n",
       "      <td>B</td>\n",
       "      <td>96.5</td>\n",
       "      <td>...</td>\n",
       "      <td>65</td>\n",
       "      <td>79.8</td>\n",
       "      <td>172</td>\n",
       "      <td>65.5</td>\n",
       "      <td>549</td>\n",
       "      <td>31.0</td>\n",
       "      <td>407</td>\n",
       "      <td>62.5</td>\n",
       "      <td>253</td>\n",
       "      <td>90.9</td>\n",
       "    </tr>\n",
       "    <tr>\n",
       "      <th>10</th>\n",
       "      <td>11</td>\n",
       "      <td>12</td>\n",
       "      <td>University of Pennsylvania</td>\n",
       "      <td>United States</td>\n",
       "      <td>Americas</td>\n",
       "      <td>L</td>\n",
       "      <td>FC</td>\n",
       "      <td>VH</td>\n",
       "      <td>B</td>\n",
       "      <td>96.3</td>\n",
       "      <td>...</td>\n",
       "      <td>188</td>\n",
       "      <td>66.2</td>\n",
       "      <td>226</td>\n",
       "      <td>91.9</td>\n",
       "      <td>137</td>\n",
       "      <td>100.0</td>\n",
       "      <td>7</td>\n",
       "      <td>93.0</td>\n",
       "      <td>71</td>\n",
       "      <td>90.3</td>\n",
       "    </tr>\n",
       "    <tr>\n",
       "      <th>11</th>\n",
       "      <td>12</td>\n",
       "      <td>10</td>\n",
       "      <td>University of California, Berkeley (UCB)</td>\n",
       "      <td>United States</td>\n",
       "      <td>Americas</td>\n",
       "      <td>XL</td>\n",
       "      <td>FC</td>\n",
       "      <td>VH</td>\n",
       "      <td>A</td>\n",
       "      <td>100.0</td>\n",
       "      <td>...</td>\n",
       "      <td>182</td>\n",
       "      <td>61.0</td>\n",
       "      <td>242</td>\n",
       "      <td>97.2</td>\n",
       "      <td>39</td>\n",
       "      <td>98.4</td>\n",
       "      <td>23</td>\n",
       "      <td>100.0</td>\n",
       "      <td>2</td>\n",
       "      <td>90.1</td>\n",
       "    </tr>\n",
       "    <tr>\n",
       "      <th>12</th>\n",
       "      <td>13</td>\n",
       "      <td>14</td>\n",
       "      <td>The University of Melbourne</td>\n",
       "      <td>Australia</td>\n",
       "      <td>Oceania</td>\n",
       "      <td>XL</td>\n",
       "      <td>FC</td>\n",
       "      <td>VH</td>\n",
       "      <td>A</td>\n",
       "      <td>98.5</td>\n",
       "      <td>...</td>\n",
       "      <td>148</td>\n",
       "      <td>99.8</td>\n",
       "      <td>39</td>\n",
       "      <td>97.4</td>\n",
       "      <td>33</td>\n",
       "      <td>96.5</td>\n",
       "      <td>39</td>\n",
       "      <td>99.6</td>\n",
       "      <td>9</td>\n",
       "      <td>88.9</td>\n",
       "    </tr>\n",
       "    <tr>\n",
       "      <th>13</th>\n",
       "      <td>14</td>\n",
       "      <td>17</td>\n",
       "      <td>Peking University</td>\n",
       "      <td>China (Mainland)</td>\n",
       "      <td>Asia</td>\n",
       "      <td>XL</td>\n",
       "      <td>FC</td>\n",
       "      <td>VH</td>\n",
       "      <td>A</td>\n",
       "      <td>99.5</td>\n",
       "      <td>...</td>\n",
       "      <td>365</td>\n",
       "      <td>23.6</td>\n",
       "      <td>497</td>\n",
       "      <td>79.8</td>\n",
       "      <td>329</td>\n",
       "      <td>94.2</td>\n",
       "      <td>56</td>\n",
       "      <td>46.9</td>\n",
       "      <td>330=</td>\n",
       "      <td>88.5</td>\n",
       "    </tr>\n",
       "    <tr>\n",
       "      <th>14</th>\n",
       "      <td>15</td>\n",
       "      <td>26</td>\n",
       "      <td>Nanyang Technological University, Singapore (NTU)</td>\n",
       "      <td>Singapore</td>\n",
       "      <td>Asia</td>\n",
       "      <td>L</td>\n",
       "      <td>FC</td>\n",
       "      <td>VH</td>\n",
       "      <td>A</td>\n",
       "      <td>91.9</td>\n",
       "      <td>...</td>\n",
       "      <td>42</td>\n",
       "      <td>83.5</td>\n",
       "      <td>160</td>\n",
       "      <td>89.4</td>\n",
       "      <td>178</td>\n",
       "      <td>83.9</td>\n",
       "      <td>104</td>\n",
       "      <td>95.6</td>\n",
       "      <td>50=</td>\n",
       "      <td>88.4</td>\n",
       "    </tr>\n",
       "    <tr>\n",
       "      <th>15</th>\n",
       "      <td>16</td>\n",
       "      <td>13</td>\n",
       "      <td>Cornell University</td>\n",
       "      <td>United States</td>\n",
       "      <td>Americas</td>\n",
       "      <td>L</td>\n",
       "      <td>FC</td>\n",
       "      <td>VH</td>\n",
       "      <td>B</td>\n",
       "      <td>98.3</td>\n",
       "      <td>...</td>\n",
       "      <td>347</td>\n",
       "      <td>63.4</td>\n",
       "      <td>237</td>\n",
       "      <td>94.0</td>\n",
       "      <td>99</td>\n",
       "      <td>97.1</td>\n",
       "      <td>34</td>\n",
       "      <td>72.1</td>\n",
       "      <td>208=</td>\n",
       "      <td>87.9</td>\n",
       "    </tr>\n",
       "    <tr>\n",
       "      <th>16</th>\n",
       "      <td>17</td>\n",
       "      <td>26</td>\n",
       "      <td>The University of Hong Kong</td>\n",
       "      <td>Hong Kong SAR</td>\n",
       "      <td>Asia</td>\n",
       "      <td>L</td>\n",
       "      <td>FC</td>\n",
       "      <td>VH</td>\n",
       "      <td>A</td>\n",
       "      <td>97.4</td>\n",
       "      <td>...</td>\n",
       "      <td>33</td>\n",
       "      <td>99.3</td>\n",
       "      <td>52</td>\n",
       "      <td>81.4</td>\n",
       "      <td>300</td>\n",
       "      <td>99.7</td>\n",
       "      <td>14</td>\n",
       "      <td>89.2</td>\n",
       "      <td>101=</td>\n",
       "      <td>87.6</td>\n",
       "    </tr>\n",
       "    <tr>\n",
       "      <th>17</th>\n",
       "      <td>18</td>\n",
       "      <td>19</td>\n",
       "      <td>The University of Sydney</td>\n",
       "      <td>Australia</td>\n",
       "      <td>Oceania</td>\n",
       "      <td>XL</td>\n",
       "      <td>FC</td>\n",
       "      <td>VH</td>\n",
       "      <td>A</td>\n",
       "      <td>96.4</td>\n",
       "      <td>...</td>\n",
       "      <td>87</td>\n",
       "      <td>100.0</td>\n",
       "      <td>17</td>\n",
       "      <td>95.8</td>\n",
       "      <td>61</td>\n",
       "      <td>93.1</td>\n",
       "      <td>63</td>\n",
       "      <td>99.6</td>\n",
       "      <td>7</td>\n",
       "      <td>87.3</td>\n",
       "    </tr>\n",
       "    <tr>\n",
       "      <th>18</th>\n",
       "      <td>19</td>\n",
       "      <td>19</td>\n",
       "      <td>The University of New South Wales (UNSW Sydney)</td>\n",
       "      <td>Australia</td>\n",
       "      <td>Oceania</td>\n",
       "      <td>XL</td>\n",
       "      <td>FC</td>\n",
       "      <td>VH</td>\n",
       "      <td>A</td>\n",
       "      <td>90.5</td>\n",
       "      <td>...</td>\n",
       "      <td>57</td>\n",
       "      <td>99.4</td>\n",
       "      <td>48</td>\n",
       "      <td>98.3</td>\n",
       "      <td>20</td>\n",
       "      <td>97.7</td>\n",
       "      <td>29</td>\n",
       "      <td>99.2</td>\n",
       "      <td>11=</td>\n",
       "      <td>87.1</td>\n",
       "    </tr>\n",
       "    <tr>\n",
       "      <th>19</th>\n",
       "      <td>20</td>\n",
       "      <td>25</td>\n",
       "      <td>Tsinghua University</td>\n",
       "      <td>China (Mainland)</td>\n",
       "      <td>Asia</td>\n",
       "      <td>XL</td>\n",
       "      <td>FC</td>\n",
       "      <td>VH</td>\n",
       "      <td>A</td>\n",
       "      <td>99.2</td>\n",
       "      <td>...</td>\n",
       "      <td>623</td>\n",
       "      <td>13.4</td>\n",
       "      <td>654</td>\n",
       "      <td>79.2</td>\n",
       "      <td>337</td>\n",
       "      <td>92.3</td>\n",
       "      <td>68</td>\n",
       "      <td>40.4</td>\n",
       "      <td>363=</td>\n",
       "      <td>86.5</td>\n",
       "    </tr>\n",
       "  </tbody>\n",
       "</table>\n",
       "<p>20 rows × 28 columns</p>\n",
       "</div>"
      ],
      "text/plain": [
       "   RANK_2025 RANK_2024                                   Institution_Name  \\\n",
       "0          1         1       Massachusetts Institute of Technology (MIT)    \n",
       "1          2         6                            Imperial College London   \n",
       "2          3         3                               University of Oxford   \n",
       "3          4         4                                 Harvard University   \n",
       "4          5         2                            University of Cambridge   \n",
       "5          6         5                                Stanford University   \n",
       "6          7         7  ETH Zurich - Swiss Federal Institute of Techno...   \n",
       "7          8         8             National University of Singapore (NUS)   \n",
       "8          9         9                                                UCL   \n",
       "9         10        15       California Institute of Technology (Caltech)   \n",
       "10        11        12                         University of Pennsylvania   \n",
       "11        12        10           University of California, Berkeley (UCB)   \n",
       "12        13        14                        The University of Melbourne   \n",
       "13        14        17                                  Peking University   \n",
       "14        15        26  Nanyang Technological University, Singapore (NTU)   \n",
       "15        16        13                                 Cornell University   \n",
       "16        17        26                        The University of Hong Kong   \n",
       "17        18        19                           The University of Sydney   \n",
       "18        19        19    The University of New South Wales (UNSW Sydney)   \n",
       "19        20        25                                Tsinghua University   \n",
       "\n",
       "            Location    Region SIZE FOCUS RES. STATUS  \\\n",
       "0      United States  Americas    M    CO   VH      B   \n",
       "1     United Kingdom    Europe    L    FC   VH      A   \n",
       "2     United Kingdom    Europe    L    FC   VH      A   \n",
       "3      United States  Americas    L    FC   VH      B   \n",
       "4     United Kingdom    Europe    L    FC   VH      A   \n",
       "5      United States  Americas    L    FC   VH      B   \n",
       "6        Switzerland    Europe    L    FO   VH      A   \n",
       "7          Singapore      Asia   XL    FC   VH      A   \n",
       "8     United Kingdom    Europe   XL    FC   VH      A   \n",
       "9      United States  Americas    S    CO   VH      B   \n",
       "10     United States  Americas    L    FC   VH      B   \n",
       "11     United States  Americas   XL    FC   VH      A   \n",
       "12         Australia   Oceania   XL    FC   VH      A   \n",
       "13  China (Mainland)      Asia   XL    FC   VH      A   \n",
       "14         Singapore      Asia    L    FC   VH      A   \n",
       "15     United States  Americas    L    FC   VH      B   \n",
       "16     Hong Kong SAR      Asia    L    FC   VH      A   \n",
       "17         Australia   Oceania   XL    FC   VH      A   \n",
       "18         Australia   Oceania   XL    FC   VH      A   \n",
       "19  China (Mainland)      Asia   XL    FC   VH      A   \n",
       "\n",
       "    Academic_Reputation_Score  ... International_Faculty_Rank  \\\n",
       "0                       100.0  ...                        100   \n",
       "1                        98.5  ...                         66   \n",
       "2                       100.0  ...                        120   \n",
       "3                       100.0  ...                        269   \n",
       "4                       100.0  ...                         73   \n",
       "5                       100.0  ...                        284   \n",
       "6                        98.8  ...                         25   \n",
       "7                        99.5  ...                         41   \n",
       "8                        99.5  ...                        106   \n",
       "9                        96.5  ...                         65   \n",
       "10                       96.3  ...                        188   \n",
       "11                      100.0  ...                        182   \n",
       "12                       98.5  ...                        148   \n",
       "13                       99.5  ...                        365   \n",
       "14                       91.9  ...                         42   \n",
       "15                       98.3  ...                        347   \n",
       "16                       97.4  ...                         33   \n",
       "17                       96.4  ...                         87   \n",
       "18                       90.5  ...                         57   \n",
       "19                       99.2  ...                        623   \n",
       "\n",
       "    International_Students_Score International_Students_Rank  \\\n",
       "0                           86.8                         143   \n",
       "1                           99.6                          44   \n",
       "2                           97.7                          73   \n",
       "3                           69.0                         215   \n",
       "4                           94.8                          98   \n",
       "5                           60.8                         244   \n",
       "6                           98.6                          63   \n",
       "7                           88.9                         129   \n",
       "8                          100.0                          21   \n",
       "9                           79.8                         172   \n",
       "10                          66.2                         226   \n",
       "11                          61.0                         242   \n",
       "12                          99.8                          39   \n",
       "13                          23.6                         497   \n",
       "14                          83.5                         160   \n",
       "15                          63.4                         237   \n",
       "16                          99.3                          52   \n",
       "17                         100.0                          17   \n",
       "18                          99.4                          48   \n",
       "19                          13.4                         654   \n",
       "\n",
       "    International_Research_Network_Score International_Research_Network_Rank  \\\n",
       "0                                   96.0                                  58   \n",
       "1                                   97.4                                  34   \n",
       "2                                  100.0                                   1   \n",
       "3                                   99.6                                   5   \n",
       "4                                   99.3                                  10   \n",
       "5                                   96.8                                  45   \n",
       "6                                   95.7                                  64   \n",
       "7                                   91.6                                 146   \n",
       "8                                   99.9                                   2   \n",
       "9                                   65.5                                 549   \n",
       "10                                  91.9                                 137   \n",
       "11                                  97.2                                  39   \n",
       "12                                  97.4                                  33   \n",
       "13                                  79.8                                 329   \n",
       "14                                  89.4                                 178   \n",
       "15                                  94.0                                  99   \n",
       "16                                  81.4                                 300   \n",
       "17                                  95.8                                  61   \n",
       "18                                  98.3                                  20   \n",
       "19                                  79.2                                 337   \n",
       "\n",
       "    Employment_Outcomes_Score Employment_Outcomes_Rank  Sustainability_Score  \\\n",
       "0                       100.0                        8                  99.0   \n",
       "1                        93.4                       61                  99.7   \n",
       "2                       100.0                        3                  85.0   \n",
       "3                       100.0                        1                  84.4   \n",
       "4                       100.0                        5                  84.8   \n",
       "5                       100.0                        2                  81.2   \n",
       "6                        90.5                       73                  98.8   \n",
       "7                       100.0                        6                  97.7   \n",
       "8                        70.3                      157                  74.8   \n",
       "9                        31.0                      407                  62.5   \n",
       "10                      100.0                        7                  93.0   \n",
       "11                       98.4                       23                 100.0   \n",
       "12                       96.5                       39                  99.6   \n",
       "13                       94.2                       56                  46.9   \n",
       "14                       83.9                      104                  95.6   \n",
       "15                       97.1                       34                  72.1   \n",
       "16                       99.7                       14                  89.2   \n",
       "17                       93.1                       63                  99.6   \n",
       "18                       97.7                       29                  99.2   \n",
       "19                       92.3                       68                  40.4   \n",
       "\n",
       "   Sustainability_Rank  Overall_Score  \n",
       "0                  15=            100  \n",
       "1                    6           98.5  \n",
       "2                  126           96.9  \n",
       "3                  130           96.8  \n",
       "4                 127=           96.7  \n",
       "5                 148=           96.1  \n",
       "6                   18           93.9  \n",
       "7                  26=           93.7  \n",
       "8                 190=           91.6  \n",
       "9                  253           90.9  \n",
       "10                  71           90.3  \n",
       "11                   2           90.1  \n",
       "12                   9           88.9  \n",
       "13                330=           88.5  \n",
       "14                 50=           88.4  \n",
       "15                208=           87.9  \n",
       "16                101=           87.6  \n",
       "17                   7           87.3  \n",
       "18                 11=           87.1  \n",
       "19                363=           86.5  \n",
       "\n",
       "[20 rows x 28 columns]"
      ]
     },
     "execution_count": 71,
     "metadata": {},
     "output_type": "execute_result"
    }
   ],
   "source": [
    "data = pd.read_csv(r'/workspaces/PYTHON_ML/EDA/datasets/QS World University Rankings 2025 (Top global universities).csv',encoding='latin1')\n",
    "data.head(20)"
   ]
  },
  {
   "cell_type": "code",
   "execution_count": 72,
   "id": "e1625916",
   "metadata": {},
   "outputs": [
    {
     "data": {
      "text/plain": [
       "(1503, 28)"
      ]
     },
     "execution_count": 72,
     "metadata": {},
     "output_type": "execute_result"
    }
   ],
   "source": [
    "data.shape"
   ]
  },
  {
   "cell_type": "code",
   "execution_count": 73,
   "id": "a685a666",
   "metadata": {},
   "outputs": [
    {
     "name": "stdout",
     "output_type": "stream",
     "text": [
      "<class 'pandas.core.frame.DataFrame'>\n",
      "RangeIndex: 1503 entries, 0 to 1502\n",
      "Data columns (total 28 columns):\n",
      " #   Column                                Non-Null Count  Dtype  \n",
      "---  ------                                --------------  -----  \n",
      " 0   RANK_2025                             1503 non-null   object \n",
      " 1   RANK_2024                             1482 non-null   object \n",
      " 2   Institution_Name                      1503 non-null   object \n",
      " 3   Location                              1503 non-null   object \n",
      " 4   Region                                1503 non-null   object \n",
      " 5   SIZE                                  1503 non-null   object \n",
      " 6   FOCUS                                 1503 non-null   object \n",
      " 7   RES.                                  1503 non-null   object \n",
      " 8   STATUS                                1466 non-null   object \n",
      " 9   Academic_Reputation_Score             1503 non-null   float64\n",
      " 10  Academic_Reputation_Rank              1503 non-null   object \n",
      " 11  Employer_Reputation_Score             1503 non-null   float64\n",
      " 12  Employer_Reputation_Rank              1503 non-null   object \n",
      " 13  Faculty_Student_Score                 1503 non-null   float64\n",
      " 14  Faculty_Student_Rank                  1503 non-null   object \n",
      " 15  Citations_per_Faculty_Score           1503 non-null   float64\n",
      " 16  Citations_per_Faculty_Rank            1503 non-null   object \n",
      " 17  International_Faculty_Score           1403 non-null   float64\n",
      " 18  International_Faculty_Rank            1403 non-null   object \n",
      " 19  International_Students_Score          1445 non-null   float64\n",
      " 20  International_Students_Rank           1445 non-null   object \n",
      " 21  International_Research_Network_Score  1502 non-null   float64\n",
      " 22  International_Research_Network_Rank   1502 non-null   object \n",
      " 23  Employment_Outcomes_Score             1503 non-null   float64\n",
      " 24  Employment_Outcomes_Rank              1503 non-null   object \n",
      " 25  Sustainability_Score                  1484 non-null   float64\n",
      " 26  Sustainability_Rank                   1484 non-null   object \n",
      " 27  Overall_Score                         601 non-null    object \n",
      "dtypes: float64(9), object(19)\n",
      "memory usage: 328.9+ KB\n"
     ]
    }
   ],
   "source": [
    "data.info()"
   ]
  },
  {
   "cell_type": "code",
   "execution_count": 74,
   "id": "ff33ab61",
   "metadata": {},
   "outputs": [
    {
     "data": {
      "application/vnd.microsoft.datawrangler.viewer.v0+json": {
       "columns": [
        {
         "name": "index",
         "rawType": "object",
         "type": "string"
        },
        {
         "name": "Academic_Reputation_Score",
         "rawType": "float64",
         "type": "float"
        },
        {
         "name": "Employer_Reputation_Score",
         "rawType": "float64",
         "type": "float"
        },
        {
         "name": "Faculty_Student_Score",
         "rawType": "float64",
         "type": "float"
        },
        {
         "name": "Citations_per_Faculty_Score",
         "rawType": "float64",
         "type": "float"
        },
        {
         "name": "International_Faculty_Score",
         "rawType": "float64",
         "type": "float"
        },
        {
         "name": "International_Students_Score",
         "rawType": "float64",
         "type": "float"
        },
        {
         "name": "International_Research_Network_Score",
         "rawType": "float64",
         "type": "float"
        },
        {
         "name": "Employment_Outcomes_Score",
         "rawType": "float64",
         "type": "float"
        },
        {
         "name": "Sustainability_Score",
         "rawType": "float64",
         "type": "float"
        }
       ],
       "ref": "4b91d51e-68a0-4232-be73-3f56c35b17f0",
       "rows": [
        [
         "count",
         "1503.0",
         "1503.0",
         "1503.0",
         "1503.0",
         "1403.0",
         "1445.0",
         "1502.0",
         "1503.0",
         "1484.0"
        ],
        [
         "mean",
         "20.28669328010645",
         "19.78729208250166",
         "28.128675981370588",
         "23.50345974717232",
         "30.73670705630791",
         "25.580346020761244",
         "50.12909454061251",
         "23.825083166999335",
         "24.309299191374663"
        ],
        [
         "std",
         "22.32616758197736",
         "23.784738240203048",
         "27.613016938349055",
         "27.870691548823533",
         "34.34436519332575",
         "31.098689102100533",
         "29.866587635813225",
         "27.351315330516073",
         "31.074717904316987"
        ],
        [
         "min",
         "1.3",
         "1.1",
         "1.0",
         "1.0",
         "1.0",
         "1.0",
         "1.0",
         "1.2",
         "1.0"
        ],
        [
         "25%",
         "6.3",
         "4.3",
         "7.3",
         "2.8",
         "4.2",
         "2.9",
         "22.725",
         "4.0",
         "1.3"
        ],
        [
         "50%",
         "11.0",
         "9.4",
         "16.0",
         "9.9",
         "12.5",
         "9.6",
         "51.1",
         "11.8",
         "6.75"
        ],
        [
         "75%",
         "23.5",
         "25.3",
         "40.4",
         "36.4",
         "51.6",
         "38.3",
         "77.1",
         "33.4",
         "39.5"
        ],
        [
         "max",
         "100.0",
         "100.0",
         "100.0",
         "100.0",
         "100.0",
         "100.0",
         "100.0",
         "100.0",
         "100.0"
        ]
       ],
       "shape": {
        "columns": 9,
        "rows": 8
       }
      },
      "text/html": [
       "<div>\n",
       "<style scoped>\n",
       "    .dataframe tbody tr th:only-of-type {\n",
       "        vertical-align: middle;\n",
       "    }\n",
       "\n",
       "    .dataframe tbody tr th {\n",
       "        vertical-align: top;\n",
       "    }\n",
       "\n",
       "    .dataframe thead th {\n",
       "        text-align: right;\n",
       "    }\n",
       "</style>\n",
       "<table border=\"1\" class=\"dataframe\">\n",
       "  <thead>\n",
       "    <tr style=\"text-align: right;\">\n",
       "      <th></th>\n",
       "      <th>Academic_Reputation_Score</th>\n",
       "      <th>Employer_Reputation_Score</th>\n",
       "      <th>Faculty_Student_Score</th>\n",
       "      <th>Citations_per_Faculty_Score</th>\n",
       "      <th>International_Faculty_Score</th>\n",
       "      <th>International_Students_Score</th>\n",
       "      <th>International_Research_Network_Score</th>\n",
       "      <th>Employment_Outcomes_Score</th>\n",
       "      <th>Sustainability_Score</th>\n",
       "    </tr>\n",
       "  </thead>\n",
       "  <tbody>\n",
       "    <tr>\n",
       "      <th>count</th>\n",
       "      <td>1503.000000</td>\n",
       "      <td>1503.000000</td>\n",
       "      <td>1503.000000</td>\n",
       "      <td>1503.000000</td>\n",
       "      <td>1403.000000</td>\n",
       "      <td>1445.000000</td>\n",
       "      <td>1502.000000</td>\n",
       "      <td>1503.000000</td>\n",
       "      <td>1484.000000</td>\n",
       "    </tr>\n",
       "    <tr>\n",
       "      <th>mean</th>\n",
       "      <td>20.286693</td>\n",
       "      <td>19.787292</td>\n",
       "      <td>28.128676</td>\n",
       "      <td>23.503460</td>\n",
       "      <td>30.736707</td>\n",
       "      <td>25.580346</td>\n",
       "      <td>50.129095</td>\n",
       "      <td>23.825083</td>\n",
       "      <td>24.309299</td>\n",
       "    </tr>\n",
       "    <tr>\n",
       "      <th>std</th>\n",
       "      <td>22.326168</td>\n",
       "      <td>23.784738</td>\n",
       "      <td>27.613017</td>\n",
       "      <td>27.870692</td>\n",
       "      <td>34.344365</td>\n",
       "      <td>31.098689</td>\n",
       "      <td>29.866588</td>\n",
       "      <td>27.351315</td>\n",
       "      <td>31.074718</td>\n",
       "    </tr>\n",
       "    <tr>\n",
       "      <th>min</th>\n",
       "      <td>1.300000</td>\n",
       "      <td>1.100000</td>\n",
       "      <td>1.000000</td>\n",
       "      <td>1.000000</td>\n",
       "      <td>1.000000</td>\n",
       "      <td>1.000000</td>\n",
       "      <td>1.000000</td>\n",
       "      <td>1.200000</td>\n",
       "      <td>1.000000</td>\n",
       "    </tr>\n",
       "    <tr>\n",
       "      <th>25%</th>\n",
       "      <td>6.300000</td>\n",
       "      <td>4.300000</td>\n",
       "      <td>7.300000</td>\n",
       "      <td>2.800000</td>\n",
       "      <td>4.200000</td>\n",
       "      <td>2.900000</td>\n",
       "      <td>22.725000</td>\n",
       "      <td>4.000000</td>\n",
       "      <td>1.300000</td>\n",
       "    </tr>\n",
       "    <tr>\n",
       "      <th>50%</th>\n",
       "      <td>11.000000</td>\n",
       "      <td>9.400000</td>\n",
       "      <td>16.000000</td>\n",
       "      <td>9.900000</td>\n",
       "      <td>12.500000</td>\n",
       "      <td>9.600000</td>\n",
       "      <td>51.100000</td>\n",
       "      <td>11.800000</td>\n",
       "      <td>6.750000</td>\n",
       "    </tr>\n",
       "    <tr>\n",
       "      <th>75%</th>\n",
       "      <td>23.500000</td>\n",
       "      <td>25.300000</td>\n",
       "      <td>40.400000</td>\n",
       "      <td>36.400000</td>\n",
       "      <td>51.600000</td>\n",
       "      <td>38.300000</td>\n",
       "      <td>77.100000</td>\n",
       "      <td>33.400000</td>\n",
       "      <td>39.500000</td>\n",
       "    </tr>\n",
       "    <tr>\n",
       "      <th>max</th>\n",
       "      <td>100.000000</td>\n",
       "      <td>100.000000</td>\n",
       "      <td>100.000000</td>\n",
       "      <td>100.000000</td>\n",
       "      <td>100.000000</td>\n",
       "      <td>100.000000</td>\n",
       "      <td>100.000000</td>\n",
       "      <td>100.000000</td>\n",
       "      <td>100.000000</td>\n",
       "    </tr>\n",
       "  </tbody>\n",
       "</table>\n",
       "</div>"
      ],
      "text/plain": [
       "       Academic_Reputation_Score  Employer_Reputation_Score  \\\n",
       "count                1503.000000                1503.000000   \n",
       "mean                   20.286693                  19.787292   \n",
       "std                    22.326168                  23.784738   \n",
       "min                     1.300000                   1.100000   \n",
       "25%                     6.300000                   4.300000   \n",
       "50%                    11.000000                   9.400000   \n",
       "75%                    23.500000                  25.300000   \n",
       "max                   100.000000                 100.000000   \n",
       "\n",
       "       Faculty_Student_Score  Citations_per_Faculty_Score  \\\n",
       "count            1503.000000                  1503.000000   \n",
       "mean               28.128676                    23.503460   \n",
       "std                27.613017                    27.870692   \n",
       "min                 1.000000                     1.000000   \n",
       "25%                 7.300000                     2.800000   \n",
       "50%                16.000000                     9.900000   \n",
       "75%                40.400000                    36.400000   \n",
       "max               100.000000                   100.000000   \n",
       "\n",
       "       International_Faculty_Score  International_Students_Score  \\\n",
       "count                  1403.000000                   1445.000000   \n",
       "mean                     30.736707                     25.580346   \n",
       "std                      34.344365                     31.098689   \n",
       "min                       1.000000                      1.000000   \n",
       "25%                       4.200000                      2.900000   \n",
       "50%                      12.500000                      9.600000   \n",
       "75%                      51.600000                     38.300000   \n",
       "max                     100.000000                    100.000000   \n",
       "\n",
       "       International_Research_Network_Score  Employment_Outcomes_Score  \\\n",
       "count                           1502.000000                1503.000000   \n",
       "mean                              50.129095                  23.825083   \n",
       "std                               29.866588                  27.351315   \n",
       "min                                1.000000                   1.200000   \n",
       "25%                               22.725000                   4.000000   \n",
       "50%                               51.100000                  11.800000   \n",
       "75%                               77.100000                  33.400000   \n",
       "max                              100.000000                 100.000000   \n",
       "\n",
       "       Sustainability_Score  \n",
       "count           1484.000000  \n",
       "mean              24.309299  \n",
       "std               31.074718  \n",
       "min                1.000000  \n",
       "25%                1.300000  \n",
       "50%                6.750000  \n",
       "75%               39.500000  \n",
       "max              100.000000  "
      ]
     },
     "execution_count": 74,
     "metadata": {},
     "output_type": "execute_result"
    }
   ],
   "source": [
    "data.describe()\n"
   ]
  },
  {
   "cell_type": "code",
   "execution_count": 75,
   "id": "717ebf0d",
   "metadata": {},
   "outputs": [
    {
     "data": {
      "text/plain": [
       "Index(['RANK_2025', 'RANK_2024', 'Institution_Name', 'Location', 'Region',\n",
       "       'SIZE', 'FOCUS', 'RES.', 'STATUS', 'Academic_Reputation_Score',\n",
       "       'Academic_Reputation_Rank', 'Employer_Reputation_Score',\n",
       "       'Employer_Reputation_Rank', 'Faculty_Student_Score',\n",
       "       'Faculty_Student_Rank', 'Citations_per_Faculty_Score',\n",
       "       'Citations_per_Faculty_Rank', 'International_Faculty_Score',\n",
       "       'International_Faculty_Rank', 'International_Students_Score',\n",
       "       'International_Students_Rank', 'International_Research_Network_Score',\n",
       "       'International_Research_Network_Rank', 'Employment_Outcomes_Score',\n",
       "       'Employment_Outcomes_Rank', 'Sustainability_Score',\n",
       "       'Sustainability_Rank', 'Overall_Score'],\n",
       "      dtype='object')"
      ]
     },
     "execution_count": 75,
     "metadata": {},
     "output_type": "execute_result"
    }
   ],
   "source": [
    "data.columns"
   ]
  },
  {
   "cell_type": "code",
   "execution_count": 76,
   "id": "49d505ba",
   "metadata": {},
   "outputs": [
    {
     "data": {
      "application/vnd.microsoft.datawrangler.viewer.v0+json": {
       "columns": [
        {
         "name": "RANK_2024",
         "rawType": "object",
         "type": "string"
        },
        {
         "name": "count",
         "rawType": "int64",
         "type": "integer"
        }
       ],
       "ref": "8914a3e6-ea94-4f00-9295-f683d50cd860",
       "rows": [
        [
         "1201-1400",
         "206"
        ],
        [
         "1001-1200",
         "199"
        ],
        [
         "1401+",
         "78"
        ],
        [
         "951-1000",
         "54"
        ],
        [
         "801-850",
         "52"
        ],
        [
         "851-900",
         "49"
        ],
        [
         "901-950",
         "47"
        ],
        [
         "641-650",
         "14"
        ],
        [
         "661-670",
         "14"
        ],
        [
         "721-730",
         "12"
        ],
        [
         "751-760",
         "12"
        ],
        [
         "711-720",
         "11"
        ],
        [
         "621-630",
         "11"
        ],
        [
         "771-780",
         "11"
        ],
        [
         "681-690",
         "11"
        ],
        [
         "691-700",
         "10"
        ],
        [
         "791-800",
         "10"
        ],
        [
         "741-750",
         "10"
        ],
        [
         "631-640",
         "9"
        ],
        [
         "781-790",
         "9"
        ],
        [
         "731-740",
         "9"
        ],
        [
         "601-610",
         "9"
        ],
        [
         "701-710",
         "8"
        ],
        [
         "611-620",
         "8"
        ],
        [
         "761-770",
         "7"
        ],
        [
         "651-660",
         "7"
        ],
        [
         "514",
         "6"
        ],
        [
         "671-680",
         "6"
        ],
        [
         "421",
         "5"
        ],
        [
         "481",
         "5"
        ],
        [
         "595",
         "5"
        ],
        [
         "387",
         "5"
        ],
        [
         "454",
         "5"
        ],
        [
         "431",
         "5"
        ],
        [
         "556",
         "5"
        ],
        [
         "571",
         "4"
        ],
        [
         "375",
         "4"
        ],
        [
         "534",
         "4"
        ],
        [
         "567",
         "4"
        ],
        [
         "392",
         "4"
        ],
        [
         "551",
         "4"
        ],
        [
         "498",
         "4"
        ],
        [
         "154",
         "4"
        ],
        [
         "336",
         "4"
        ],
        [
         "436",
         "4"
        ],
        [
         "494",
         "4"
        ],
        [
         "446",
         "4"
        ],
        [
         "465",
         "4"
        ],
        [
         "600",
         "4"
        ],
        [
         "307",
         "4"
        ]
       ],
       "shape": {
        "columns": 1,
        "rows": 378
       }
      },
      "text/plain": [
       "RANK_2024\n",
       "1201-1400    206\n",
       "1001-1200    199\n",
       "1401+         78\n",
       "951-1000      54\n",
       "801-850       52\n",
       "            ... \n",
       "6              1\n",
       "1              1\n",
       "14             1\n",
       "10             1\n",
       "12             1\n",
       "Name: count, Length: 378, dtype: int64"
      ]
     },
     "execution_count": 76,
     "metadata": {},
     "output_type": "execute_result"
    }
   ],
   "source": [
    "data['RANK_2024'].value_counts()"
   ]
  },
  {
   "cell_type": "code",
   "execution_count": 77,
   "id": "5fb91208",
   "metadata": {},
   "outputs": [
    {
     "data": {
      "application/vnd.microsoft.datawrangler.viewer.v0+json": {
       "columns": [
        {
         "name": "RANK_2025",
         "rawType": "object",
         "type": "string"
        },
        {
         "name": "count",
         "rawType": "int64",
         "type": "integer"
        }
       ],
       "ref": "6644bce8-e5ff-4786-9325-76abd2824ff5",
       "rows": [
        [
         "1201-1400",
         "199"
        ],
        [
         "1001-1200",
         "197"
        ],
        [
         "1401+",
         "102"
        ],
        [
         "951-1000",
         "53"
        ],
        [
         "901-950",
         "51"
        ],
        [
         "851-900",
         "50"
        ],
        [
         "801-850",
         "49"
        ],
        [
         "721-730",
         "14"
        ],
        [
         "741-750",
         "13"
        ],
        [
         "641-650",
         "13"
        ],
        [
         "661-670",
         "13"
        ],
        [
         "711-720",
         "13"
        ],
        [
         "621-630",
         "12"
        ],
        [
         "601-610",
         "12"
        ],
        [
         "691-700",
         "12"
        ],
        [
         "771-780",
         "11"
        ],
        [
         "781-790",
         "11"
        ],
        [
         "751-760",
         "10"
        ],
        [
         "791-800",
         "10"
        ],
        [
         "631-640",
         "10"
        ],
        [
         "681-690",
         "9"
        ],
        [
         "611-620",
         "9"
        ],
        [
         "701-710",
         "8"
        ],
        [
         "671-680",
         "7"
        ],
        [
         "516",
         "7"
        ],
        [
         "761-770",
         "7"
        ],
        [
         "489",
         "6"
        ],
        [
         "285",
         "6"
        ],
        [
         "554",
         "5"
        ],
        [
         "539",
         "5"
        ],
        [
         "501",
         "5"
        ],
        [
         "651-660",
         "5"
        ],
        [
         "396",
         "5"
        ],
        [
         "587",
         "5"
        ],
        [
         "547",
         "5"
        ],
        [
         "596",
         "5"
        ],
        [
         "580",
         "5"
        ],
        [
         "535",
         "4"
        ],
        [
         "452",
         "4"
        ],
        [
         "371",
         "4"
        ],
        [
         "466",
         "4"
        ],
        [
         "477",
         "4"
        ],
        [
         "527",
         "4"
        ],
        [
         "456",
         "4"
        ],
        [
         "576",
         "4"
        ],
        [
         "497",
         "4"
        ],
        [
         "336",
         "4"
        ],
        [
         "359",
         "3"
        ],
        [
         "362",
         "3"
        ],
        [
         "133",
         "3"
        ]
       ],
       "shape": {
        "columns": 1,
        "rows": 388
       }
      },
      "text/plain": [
       "RANK_2025\n",
       "1201-1400    199\n",
       "1001-1200    197\n",
       "1401+        102\n",
       "951-1000      53\n",
       "901-950       51\n",
       "            ... \n",
       "534            1\n",
       "8              1\n",
       "7              1\n",
       "6              1\n",
       "3              1\n",
       "Name: count, Length: 388, dtype: int64"
      ]
     },
     "execution_count": 77,
     "metadata": {},
     "output_type": "execute_result"
    }
   ],
   "source": [
    "data['RANK_2025'].value_counts()"
   ]
  },
  {
   "cell_type": "code",
   "execution_count": 78,
   "id": "c26384f5",
   "metadata": {},
   "outputs": [
    {
     "data": {
      "application/vnd.microsoft.datawrangler.viewer.v0+json": {
       "columns": [
        {
         "name": "Location",
         "rawType": "object",
         "type": "string"
        },
        {
         "name": "count",
         "rawType": "int64",
         "type": "integer"
        }
       ],
       "ref": "d5b09532-d608-4aad-b87f-4501ec38568a",
       "rows": [
        [
         "United States",
         "197"
        ],
        [
         "United Kingdom",
         "90"
        ],
        [
         "China (Mainland)",
         "71"
        ],
        [
         "Japan",
         "49"
        ],
        [
         "Germany",
         "48"
        ],
        [
         "Russia",
         "47"
        ],
        [
         "India",
         "46"
        ],
        [
         "South Korea",
         "43"
        ],
        [
         "Italy",
         "42"
        ],
        [
         "Australia",
         "38"
        ],
        [
         "France",
         "35"
        ],
        [
         "Spain",
         "35"
        ],
        [
         "Brazil",
         "35"
        ],
        [
         "Mexico",
         "32"
        ],
        [
         "Canada",
         "30"
        ],
        [
         "Malaysia",
         "28"
        ],
        [
         "Taiwan",
         "27"
        ],
        [
         "Indonesia",
         "26"
        ],
        [
         "Chile",
         "25"
        ],
        [
         "Argentina",
         "25"
        ],
        [
         "Turkey",
         "25"
        ],
        [
         "Colombia",
         "24"
        ],
        [
         "Poland",
         "22"
        ],
        [
         "Kazakhstan",
         "21"
        ],
        [
         "Saudi Arabia",
         "20"
        ],
        [
         "Czech Republic",
         "16"
        ],
        [
         "Bangladesh",
         "15"
        ],
        [
         "Egypt",
         "15"
        ],
        [
         "Pakistan",
         "14"
        ],
        [
         "Romania",
         "13"
        ],
        [
         "Thailand",
         "13"
        ],
        [
         "Netherlands",
         "13"
        ],
        [
         "United Arab Emirates",
         "12"
        ],
        [
         "South Africa",
         "11"
        ],
        [
         "Hungary",
         "11"
        ],
        [
         "Ukraine",
         "11"
        ],
        [
         "Ecuador",
         "11"
        ],
        [
         "Switzerland",
         "10"
        ],
        [
         "Peru",
         "10"
        ],
        [
         "Jordan",
         "10"
        ],
        [
         "Finland",
         "9"
        ],
        [
         "Belgium",
         "9"
        ],
        [
         "Iran, Islamic Republic of",
         "9"
        ],
        [
         "New Zealand",
         "8"
        ],
        [
         "Sweden",
         "8"
        ],
        [
         "Ireland",
         "8"
        ],
        [
         "Portugal",
         "8"
        ],
        [
         "Austria",
         "8"
        ],
        [
         "Hong Kong SAR",
         "7"
        ],
        [
         "Venezuela",
         "7"
        ]
       ],
       "shape": {
        "columns": 1,
        "rows": 106
       }
      },
      "text/plain": [
       "Location\n",
       "United States             197\n",
       "United Kingdom             90\n",
       "China (Mainland)           71\n",
       "Japan                      49\n",
       "Germany                    48\n",
       "                         ... \n",
       "Sudan                       1\n",
       "Syrian Arab Republic        1\n",
       "Bosnia and Herzegovina      1\n",
       "Guatemala                   1\n",
       "Honduras                    1\n",
       "Name: count, Length: 106, dtype: int64"
      ]
     },
     "execution_count": 78,
     "metadata": {},
     "output_type": "execute_result"
    }
   ],
   "source": [
    "data['Location'].value_counts() "
   ]
  },
  {
   "cell_type": "code",
   "execution_count": 79,
   "id": "eb68eeaa",
   "metadata": {},
   "outputs": [
    {
     "data": {
      "application/vnd.microsoft.datawrangler.viewer.v0+json": {
       "columns": [
        {
         "name": "Region",
         "rawType": "object",
         "type": "string"
        },
        {
         "name": "count",
         "rawType": "int64",
         "type": "integer"
        }
       ],
       "ref": "1fcfbb23-bc9e-4160-9fb6-29a2d4cae238",
       "rows": [
        [
         "Asia",
         "501"
        ],
        [
         "Europe",
         "497"
        ],
        [
         "Americas",
         "418"
        ],
        [
         "Oceania",
         "46"
        ],
        [
         "Africa",
         "40"
        ],
        [
         "Not Classified",
         "1"
        ]
       ],
       "shape": {
        "columns": 1,
        "rows": 6
       }
      },
      "text/plain": [
       "Region\n",
       "Asia              501\n",
       "Europe            497\n",
       "Americas          418\n",
       "Oceania            46\n",
       "Africa             40\n",
       "Not Classified      1\n",
       "Name: count, dtype: int64"
      ]
     },
     "execution_count": 79,
     "metadata": {},
     "output_type": "execute_result"
    }
   ],
   "source": [
    "data['Region'].value_counts()"
   ]
  },
  {
   "cell_type": "code",
   "execution_count": 80,
   "id": "469587e6",
   "metadata": {},
   "outputs": [
    {
     "data": {
      "application/vnd.microsoft.datawrangler.viewer.v0+json": {
       "columns": [
        {
         "name": "SIZE",
         "rawType": "object",
         "type": "string"
        },
        {
         "name": "count",
         "rawType": "int64",
         "type": "integer"
        }
       ],
       "ref": "55ec0d61-9a18-4105-b86c-210db28521b8",
       "rows": [
        [
         "L",
         "691"
        ],
        [
         "M",
         "372"
        ],
        [
         "XL",
         "352"
        ],
        [
         "S",
         "88"
        ]
       ],
       "shape": {
        "columns": 1,
        "rows": 4
       }
      },
      "text/plain": [
       "SIZE\n",
       "L     691\n",
       "M     372\n",
       "XL    352\n",
       "S      88\n",
       "Name: count, dtype: int64"
      ]
     },
     "execution_count": 80,
     "metadata": {},
     "output_type": "execute_result"
    }
   ],
   "source": [
    "data['SIZE'].value_counts()"
   ]
  },
  {
   "cell_type": "code",
   "execution_count": 81,
   "id": "520a9970",
   "metadata": {},
   "outputs": [
    {
     "data": {
      "text/plain": [
       "Index(['RANK_2025', 'RANK_2024', 'Institution_Name', 'Location', 'Region',\n",
       "       'SIZE', 'FOCUS', 'RES.', 'STATUS', 'Academic_Reputation_Score',\n",
       "       'Academic_Reputation_Rank', 'Employer_Reputation_Score',\n",
       "       'Employer_Reputation_Rank', 'Faculty_Student_Score',\n",
       "       'Faculty_Student_Rank', 'Citations_per_Faculty_Score',\n",
       "       'Citations_per_Faculty_Rank', 'International_Faculty_Score',\n",
       "       'International_Faculty_Rank', 'International_Students_Score',\n",
       "       'International_Students_Rank', 'International_Research_Network_Score',\n",
       "       'International_Research_Network_Rank', 'Employment_Outcomes_Score',\n",
       "       'Employment_Outcomes_Rank', 'Sustainability_Score',\n",
       "       'Sustainability_Rank', 'Overall_Score'],\n",
       "      dtype='object')"
      ]
     },
     "execution_count": 81,
     "metadata": {},
     "output_type": "execute_result"
    }
   ],
   "source": [
    "data.columns"
   ]
  },
  {
   "cell_type": "code",
   "execution_count": 82,
   "id": "b36478a7",
   "metadata": {},
   "outputs": [
    {
     "data": {
      "text/plain": [
       "np.float64(1.3)"
      ]
     },
     "execution_count": 82,
     "metadata": {},
     "output_type": "execute_result"
    }
   ],
   "source": [
    "data['Academic_Reputation_Score'].min()"
   ]
  },
  {
   "cell_type": "code",
   "execution_count": 83,
   "id": "14104313",
   "metadata": {},
   "outputs": [
    {
     "data": {
      "application/vnd.microsoft.datawrangler.viewer.v0+json": {
       "columns": [
        {
         "name": "index",
         "rawType": "int64",
         "type": "integer"
        },
        {
         "name": "Institution_Name",
         "rawType": "object",
         "type": "string"
        },
        {
         "name": "Academic_Reputation_Score",
         "rawType": "float64",
         "type": "float"
        }
       ],
       "ref": "8d47275a-175e-457a-a8e8-9940d612fa4d",
       "rows": [
        [
         "857",
         "Clarkson University",
         "1.3"
        ]
       ],
       "shape": {
        "columns": 2,
        "rows": 1
       }
      },
      "text/html": [
       "<div>\n",
       "<style scoped>\n",
       "    .dataframe tbody tr th:only-of-type {\n",
       "        vertical-align: middle;\n",
       "    }\n",
       "\n",
       "    .dataframe tbody tr th {\n",
       "        vertical-align: top;\n",
       "    }\n",
       "\n",
       "    .dataframe thead th {\n",
       "        text-align: right;\n",
       "    }\n",
       "</style>\n",
       "<table border=\"1\" class=\"dataframe\">\n",
       "  <thead>\n",
       "    <tr style=\"text-align: right;\">\n",
       "      <th></th>\n",
       "      <th>Institution_Name</th>\n",
       "      <th>Academic_Reputation_Score</th>\n",
       "    </tr>\n",
       "  </thead>\n",
       "  <tbody>\n",
       "    <tr>\n",
       "      <th>857</th>\n",
       "      <td>Clarkson University</td>\n",
       "      <td>1.3</td>\n",
       "    </tr>\n",
       "  </tbody>\n",
       "</table>\n",
       "</div>"
      ],
      "text/plain": [
       "        Institution_Name  Academic_Reputation_Score\n",
       "857  Clarkson University                        1.3"
      ]
     },
     "execution_count": 83,
     "metadata": {},
     "output_type": "execute_result"
    }
   ],
   "source": [
    "data[data['Academic_Reputation_Score']==data['Academic_Reputation_Score'].min()][['Institution_Name','Academic_Reputation_Score']]"
   ]
  },
  {
   "cell_type": "code",
   "execution_count": 84,
   "id": "597ad6c7",
   "metadata": {},
   "outputs": [
    {
     "data": {
      "application/vnd.microsoft.datawrangler.viewer.v0+json": {
       "columns": [
        {
         "name": "index",
         "rawType": "int64",
         "type": "integer"
        },
        {
         "name": "Institution_Name",
         "rawType": "object",
         "type": "string"
        },
        {
         "name": "Academic_Reputation_Score",
         "rawType": "float64",
         "type": "float"
        },
        {
         "name": "Location",
         "rawType": "object",
         "type": "string"
        }
       ],
       "ref": "b4b2f0db-b829-4d03-8d3d-28ffb57d3bfd",
       "rows": [
        [
         "0",
         "Massachusetts Institute of Technology (MIT) ",
         "100.0",
         "United States"
        ],
        [
         "2",
         "University of Oxford",
         "100.0",
         "United Kingdom"
        ],
        [
         "3",
         "Harvard University",
         "100.0",
         "United States"
        ],
        [
         "4",
         "University of Cambridge",
         "100.0",
         "United Kingdom"
        ],
        [
         "5",
         "Stanford University",
         "100.0",
         "United States"
        ],
        [
         "11",
         "University of California, Berkeley (UCB)",
         "100.0",
         "United States"
        ],
        [
         "32",
         "The University of Tokyo",
         "100.0",
         "Japan"
        ],
        [
         "41",
         "University of California, Los Angeles (UCLA)",
         "100.0",
         "United States"
        ]
       ],
       "shape": {
        "columns": 3,
        "rows": 8
       }
      },
      "text/html": [
       "<div>\n",
       "<style scoped>\n",
       "    .dataframe tbody tr th:only-of-type {\n",
       "        vertical-align: middle;\n",
       "    }\n",
       "\n",
       "    .dataframe tbody tr th {\n",
       "        vertical-align: top;\n",
       "    }\n",
       "\n",
       "    .dataframe thead th {\n",
       "        text-align: right;\n",
       "    }\n",
       "</style>\n",
       "<table border=\"1\" class=\"dataframe\">\n",
       "  <thead>\n",
       "    <tr style=\"text-align: right;\">\n",
       "      <th></th>\n",
       "      <th>Institution_Name</th>\n",
       "      <th>Academic_Reputation_Score</th>\n",
       "      <th>Location</th>\n",
       "    </tr>\n",
       "  </thead>\n",
       "  <tbody>\n",
       "    <tr>\n",
       "      <th>0</th>\n",
       "      <td>Massachusetts Institute of Technology (MIT)</td>\n",
       "      <td>100.0</td>\n",
       "      <td>United States</td>\n",
       "    </tr>\n",
       "    <tr>\n",
       "      <th>2</th>\n",
       "      <td>University of Oxford</td>\n",
       "      <td>100.0</td>\n",
       "      <td>United Kingdom</td>\n",
       "    </tr>\n",
       "    <tr>\n",
       "      <th>3</th>\n",
       "      <td>Harvard University</td>\n",
       "      <td>100.0</td>\n",
       "      <td>United States</td>\n",
       "    </tr>\n",
       "    <tr>\n",
       "      <th>4</th>\n",
       "      <td>University of Cambridge</td>\n",
       "      <td>100.0</td>\n",
       "      <td>United Kingdom</td>\n",
       "    </tr>\n",
       "    <tr>\n",
       "      <th>5</th>\n",
       "      <td>Stanford University</td>\n",
       "      <td>100.0</td>\n",
       "      <td>United States</td>\n",
       "    </tr>\n",
       "    <tr>\n",
       "      <th>11</th>\n",
       "      <td>University of California, Berkeley (UCB)</td>\n",
       "      <td>100.0</td>\n",
       "      <td>United States</td>\n",
       "    </tr>\n",
       "    <tr>\n",
       "      <th>32</th>\n",
       "      <td>The University of Tokyo</td>\n",
       "      <td>100.0</td>\n",
       "      <td>Japan</td>\n",
       "    </tr>\n",
       "    <tr>\n",
       "      <th>41</th>\n",
       "      <td>University of California, Los Angeles (UCLA)</td>\n",
       "      <td>100.0</td>\n",
       "      <td>United States</td>\n",
       "    </tr>\n",
       "  </tbody>\n",
       "</table>\n",
       "</div>"
      ],
      "text/plain": [
       "                                Institution_Name  Academic_Reputation_Score  \\\n",
       "0   Massachusetts Institute of Technology (MIT)                       100.0   \n",
       "2                           University of Oxford                      100.0   \n",
       "3                             Harvard University                      100.0   \n",
       "4                        University of Cambridge                      100.0   \n",
       "5                            Stanford University                      100.0   \n",
       "11      University of California, Berkeley (UCB)                      100.0   \n",
       "32                       The University of Tokyo                      100.0   \n",
       "41  University of California, Los Angeles (UCLA)                      100.0   \n",
       "\n",
       "          Location  \n",
       "0    United States  \n",
       "2   United Kingdom  \n",
       "3    United States  \n",
       "4   United Kingdom  \n",
       "5    United States  \n",
       "11   United States  \n",
       "32           Japan  \n",
       "41   United States  "
      ]
     },
     "execution_count": 84,
     "metadata": {},
     "output_type": "execute_result"
    }
   ],
   "source": [
    "data[data['Academic_Reputation_Score']==data['Academic_Reputation_Score'].max()][['Institution_Name','Academic_Reputation_Score','Location']]"
   ]
  },
  {
   "cell_type": "code",
   "execution_count": 85,
   "id": "c42a22d6",
   "metadata": {},
   "outputs": [
    {
     "data": {
      "application/vnd.microsoft.datawrangler.viewer.v0+json": {
       "columns": [
        {
         "name": "index",
         "rawType": "int64",
         "type": "integer"
        },
        {
         "name": "Institution_Name",
         "rawType": "object",
         "type": "string"
        }
       ],
       "ref": "15b4c6ce-8076-4387-8664-c0523ec5d02e",
       "rows": [
        [
         "556",
         "University of Dhaka"
        ],
        [
         "764",
         "Bangladesh University of Engineering and Technology"
        ],
        [
         "919",
         "North South University"
        ],
        [
         "1019",
         "BRAC University"
        ],
        [
         "1220",
         "Chittagong University of Engineering and Technology"
        ],
        [
         "1224",
         "Daffodil International University"
        ],
        [
         "1245",
         "Jahangirnagar University"
        ],
        [
         "1252",
         "Khulna University"
        ],
        [
         "1253",
         "Khulna University of Engineering and Technology"
        ],
        [
         "1281",
         "Rajshahi University"
        ],
        [
         "1289",
         "Shahjalal University of Science and Technology"
        ],
        [
         "1407",
         "East West University"
        ],
        [
         "1413",
         "International University of Business Agriculture and Technology"
        ],
        [
         "1436",
         "Stamford University Bangladesh"
        ],
        [
         "1441",
         "United International University"
        ]
       ],
       "shape": {
        "columns": 1,
        "rows": 15
       }
      },
      "text/plain": [
       "556                                   University of Dhaka\n",
       "764     Bangladesh University of Engineering and Techn...\n",
       "919                                North South University\n",
       "1019                                      BRAC University\n",
       "1220    Chittagong University of Engineering and Techn...\n",
       "1224                    Daffodil International University\n",
       "1245                             Jahangirnagar University\n",
       "1252                                    Khulna University\n",
       "1253      Khulna University of Engineering and Technology\n",
       "1281                                  Rajshahi University\n",
       "1289       Shahjalal University of Science and Technology\n",
       "1407                                 East West University\n",
       "1413    International University of Business Agricultu...\n",
       "1436                       Stamford University Bangladesh\n",
       "1441                      United International University\n",
       "Name: Institution_Name, dtype: object"
      ]
     },
     "execution_count": 85,
     "metadata": {},
     "output_type": "execute_result"
    }
   ],
   "source": [
    "data[data['Location']== 'Bangladesh']['Institution_Name']"
   ]
  },
  {
   "cell_type": "code",
   "execution_count": 86,
   "id": "4138e9be",
   "metadata": {},
   "outputs": [
    {
     "data": {
      "application/vnd.microsoft.datawrangler.viewer.v0+json": {
       "columns": [
        {
         "name": "index",
         "rawType": "int64",
         "type": "integer"
        },
        {
         "name": "Overall_Score",
         "rawType": "object",
         "type": "unknown"
        }
       ],
       "ref": "aef3454c-f511-41ba-94d9-0af96b313033",
       "rows": [
        [
         "0",
         "100"
        ],
        [
         "1",
         "98.5"
        ],
        [
         "2",
         "96.9"
        ],
        [
         "3",
         "96.8"
        ],
        [
         "4",
         "96.7"
        ],
        [
         "5",
         "96.1"
        ],
        [
         "6",
         "93.9"
        ],
        [
         "7",
         "93.7"
        ],
        [
         "8",
         "91.6"
        ],
        [
         "9",
         "90.9"
        ],
        [
         "10",
         "90.3"
        ],
        [
         "11",
         "90.1"
        ],
        [
         "12",
         "88.9"
        ],
        [
         "13",
         "88.5"
        ],
        [
         "14",
         "88.4"
        ],
        [
         "15",
         "87.9"
        ],
        [
         "16",
         "87.6"
        ],
        [
         "17",
         "87.3"
        ],
        [
         "18",
         "87.1"
        ],
        [
         "19",
         "86.5"
        ],
        [
         "20",
         "86.2"
        ],
        [
         "21",
         "85.5"
        ],
        [
         "22",
         "85.2"
        ],
        [
         "23",
         "84.7"
        ],
        [
         "24",
         "84.1"
        ],
        [
         "25",
         "83.5"
        ],
        [
         "26",
         "83.3"
        ],
        [
         "27",
         "83.2"
        ],
        [
         "28",
         "83"
        ],
        [
         "29",
         "82.4"
        ],
        [
         "30",
         "82.3"
        ],
        [
         "31",
         "82.1"
        ],
        [
         "32",
         "82.1"
        ],
        [
         "33",
         "82"
        ],
        [
         "34",
         "82"
        ],
        [
         "35",
         "81.3"
        ],
        [
         "36",
         "81.2"
        ],
        [
         "37",
         "81"
        ],
        [
         "38",
         "80.3"
        ],
        [
         "39",
         "80.2"
        ],
        [
         "40",
         "80.2"
        ],
        [
         "41",
         "79.8"
        ],
        [
         "42",
         "79.6"
        ],
        [
         "43",
         "79"
        ],
        [
         "44",
         "77.8"
        ],
        [
         "45",
         "77.5"
        ],
        [
         "46",
         "77.1"
        ],
        [
         "47",
         "77.1"
        ],
        [
         "48",
         "77"
        ],
        [
         "49",
         "76"
        ]
       ],
       "shape": {
        "columns": 1,
        "rows": 1503
       }
      },
      "text/plain": [
       "0        100\n",
       "1       98.5\n",
       "2       96.9\n",
       "3       96.8\n",
       "4       96.7\n",
       "        ... \n",
       "1498     NaN\n",
       "1499     NaN\n",
       "1500     NaN\n",
       "1501     NaN\n",
       "1502     NaN\n",
       "Name: Overall_Score, Length: 1503, dtype: object"
      ]
     },
     "execution_count": 86,
     "metadata": {},
     "output_type": "execute_result"
    }
   ],
   "source": [
    "data['Overall_Score']"
   ]
  },
  {
   "cell_type": "code",
   "execution_count": 87,
   "id": "ea0f2ea6",
   "metadata": {},
   "outputs": [
    {
     "data": {
      "text/plain": [
       "np.int64(902)"
      ]
     },
     "execution_count": 87,
     "metadata": {},
     "output_type": "execute_result"
    }
   ],
   "source": [
    "data['Overall_Score'].isna().sum()"
   ]
  },
  {
   "cell_type": "code",
   "execution_count": 88,
   "id": "51298b26",
   "metadata": {},
   "outputs": [],
   "source": [
    "# Remove commas, dollar signs, and whitespace\n",
    "data['clean_column'] = data['Overall_Score'].str.replace(',', '').str.replace('$', '').str.strip()\n",
    "\n",
    "# Convert to float (with error coercion to handle anything still invalid)\n",
    "data['float_column'] = pd.to_numeric(data['Overall_Score'], errors='coerce')\n"
   ]
  },
  {
   "cell_type": "code",
   "execution_count": 89,
   "id": "c3dd22f8",
   "metadata": {},
   "outputs": [
    {
     "data": {
      "text/plain": [
       "np.float64(20.8)"
      ]
     },
     "execution_count": 89,
     "metadata": {},
     "output_type": "execute_result"
    }
   ],
   "source": [
    "data['float_column'].min()"
   ]
  },
  {
   "cell_type": "code",
   "execution_count": 90,
   "id": "608dd774",
   "metadata": {},
   "outputs": [],
   "source": [
    "df=data.copy()"
   ]
  },
  {
   "cell_type": "code",
   "execution_count": 91,
   "id": "05e9b171",
   "metadata": {},
   "outputs": [],
   "source": [
    "df['Overall_Score']=df['float_column']"
   ]
  },
  {
   "cell_type": "code",
   "execution_count": 92,
   "id": "487a6b7d",
   "metadata": {},
   "outputs": [
    {
     "data": {
      "text/plain": [
       "dtype('float64')"
      ]
     },
     "execution_count": 92,
     "metadata": {},
     "output_type": "execute_result"
    }
   ],
   "source": [
    "df['Overall_Score'].dtype"
   ]
  },
  {
   "cell_type": "code",
   "execution_count": 93,
   "id": "e2f2e496",
   "metadata": {},
   "outputs": [],
   "source": [
    "df.drop(columns=['clean_column','float_column'],inplace=True)"
   ]
  },
  {
   "cell_type": "code",
   "execution_count": 94,
   "id": "45c1e48d",
   "metadata": {},
   "outputs": [
    {
     "data": {
      "text/plain": [
       "Index(['RANK_2025', 'RANK_2024', 'Institution_Name', 'Location', 'Region',\n",
       "       'SIZE', 'FOCUS', 'RES.', 'STATUS', 'Academic_Reputation_Score',\n",
       "       'Academic_Reputation_Rank', 'Employer_Reputation_Score',\n",
       "       'Employer_Reputation_Rank', 'Faculty_Student_Score',\n",
       "       'Faculty_Student_Rank', 'Citations_per_Faculty_Score',\n",
       "       'Citations_per_Faculty_Rank', 'International_Faculty_Score',\n",
       "       'International_Faculty_Rank', 'International_Students_Score',\n",
       "       'International_Students_Rank', 'International_Research_Network_Score',\n",
       "       'International_Research_Network_Rank', 'Employment_Outcomes_Score',\n",
       "       'Employment_Outcomes_Rank', 'Sustainability_Score',\n",
       "       'Sustainability_Rank', 'Overall_Score'],\n",
       "      dtype='object')"
      ]
     },
     "execution_count": 94,
     "metadata": {},
     "output_type": "execute_result"
    }
   ],
   "source": [
    "df.columns\n",
    "\n"
   ]
  },
  {
   "cell_type": "code",
   "execution_count": 95,
   "id": "b1494141",
   "metadata": {},
   "outputs": [
    {
     "data": {
      "application/vnd.microsoft.datawrangler.viewer.v0+json": {
       "columns": [
        {
         "name": "index",
         "rawType": "object",
         "type": "string"
        },
        {
         "name": "0",
         "rawType": "int64",
         "type": "integer"
        }
       ],
       "ref": "4d45e204-53aa-4235-b49f-9d8660469add",
       "rows": [
        [
         "RANK_2025",
         "0"
        ],
        [
         "RANK_2024",
         "21"
        ],
        [
         "Institution_Name",
         "0"
        ],
        [
         "Location",
         "0"
        ],
        [
         "Region",
         "0"
        ],
        [
         "SIZE",
         "0"
        ],
        [
         "FOCUS",
         "0"
        ],
        [
         "RES.",
         "0"
        ],
        [
         "STATUS",
         "37"
        ],
        [
         "Academic_Reputation_Score",
         "0"
        ],
        [
         "Academic_Reputation_Rank",
         "0"
        ],
        [
         "Employer_Reputation_Score",
         "0"
        ],
        [
         "Employer_Reputation_Rank",
         "0"
        ],
        [
         "Faculty_Student_Score",
         "0"
        ],
        [
         "Faculty_Student_Rank",
         "0"
        ],
        [
         "Citations_per_Faculty_Score",
         "0"
        ],
        [
         "Citations_per_Faculty_Rank",
         "0"
        ],
        [
         "International_Faculty_Score",
         "100"
        ],
        [
         "International_Faculty_Rank",
         "100"
        ],
        [
         "International_Students_Score",
         "58"
        ],
        [
         "International_Students_Rank",
         "58"
        ],
        [
         "International_Research_Network_Score",
         "1"
        ],
        [
         "International_Research_Network_Rank",
         "1"
        ],
        [
         "Employment_Outcomes_Score",
         "0"
        ],
        [
         "Employment_Outcomes_Rank",
         "0"
        ],
        [
         "Sustainability_Score",
         "19"
        ],
        [
         "Sustainability_Rank",
         "19"
        ],
        [
         "Overall_Score",
         "903"
        ]
       ],
       "shape": {
        "columns": 1,
        "rows": 28
       }
      },
      "text/plain": [
       "RANK_2025                                 0\n",
       "RANK_2024                                21\n",
       "Institution_Name                          0\n",
       "Location                                  0\n",
       "Region                                    0\n",
       "SIZE                                      0\n",
       "FOCUS                                     0\n",
       "RES.                                      0\n",
       "STATUS                                   37\n",
       "Academic_Reputation_Score                 0\n",
       "Academic_Reputation_Rank                  0\n",
       "Employer_Reputation_Score                 0\n",
       "Employer_Reputation_Rank                  0\n",
       "Faculty_Student_Score                     0\n",
       "Faculty_Student_Rank                      0\n",
       "Citations_per_Faculty_Score               0\n",
       "Citations_per_Faculty_Rank                0\n",
       "International_Faculty_Score             100\n",
       "International_Faculty_Rank              100\n",
       "International_Students_Score             58\n",
       "International_Students_Rank              58\n",
       "International_Research_Network_Score      1\n",
       "International_Research_Network_Rank       1\n",
       "Employment_Outcomes_Score                 0\n",
       "Employment_Outcomes_Rank                  0\n",
       "Sustainability_Score                     19\n",
       "Sustainability_Rank                      19\n",
       "Overall_Score                           903\n",
       "dtype: int64"
      ]
     },
     "execution_count": 95,
     "metadata": {},
     "output_type": "execute_result"
    }
   ],
   "source": [
    "df.isna().sum()"
   ]
  },
  {
   "cell_type": "code",
   "execution_count": 96,
   "id": "1aecc7b6",
   "metadata": {},
   "outputs": [],
   "source": [
    "#Now I should fill The rank 2024 missing values with KNN imputer "
   ]
  },
  {
   "cell_type": "markdown",
   "id": "e62d9adc",
   "metadata": {},
   "source": [
    "DATA CLEANING AND PREPROCESSING \n",
    "\n"
   ]
  },
  {
   "cell_type": "code",
   "execution_count": 97,
   "id": "fbec7763",
   "metadata": {},
   "outputs": [
    {
     "data": {
      "text/plain": [
       "dtype('O')"
      ]
     },
     "execution_count": 97,
     "metadata": {},
     "output_type": "execute_result"
    }
   ],
   "source": [
    "#Filling RANK_2024 missing values with KNN imputer\n",
    "#First I have to convert this from string to float\n",
    "\n",
    "df['RANK_2024'].dtype"
   ]
  },
  {
   "cell_type": "code",
   "execution_count": 98,
   "id": "3631208d",
   "metadata": {},
   "outputs": [],
   "source": [
    "df['RANK_2024'] = pd.to_numeric(df['RANK_2024'], errors='coerce')"
   ]
  },
  {
   "cell_type": "code",
   "execution_count": 99,
   "id": "db048aa6",
   "metadata": {},
   "outputs": [
    {
     "data": {
      "text/plain": [
       "dtype('float64')"
      ]
     },
     "execution_count": 99,
     "metadata": {},
     "output_type": "execute_result"
    }
   ],
   "source": [
    "df['RANK_2024'].dtype"
   ]
  },
  {
   "cell_type": "code",
   "execution_count": 100,
   "id": "894aaf7f",
   "metadata": {},
   "outputs": [],
   "source": [
    "from sklearn.impute import KNNImputer\n",
    "from sklearn.preprocessing import StandardScaler\n",
    "\n",
    "# Sample: Your DataFrame with RANK_2024 and other useful columns\n",
    "# df = pd.read_csv(\"your_dataset.csv\")\n",
    "\n",
    "# Step 1: Select numeric features to use for imputation\n",
    "# Include RANK_2024 and other numeric columns (e.g., 'Research_Score', 'International_Students', etc.)\n",
    "features = ['RANK_2024']\n",
    "\n",
    "# Step 2: Extract selected features\n",
    "df_subset = df[features]\n",
    "\n",
    "# Step 3: Scale the features (KNN is sensitive to scale)\n",
    "scaler = StandardScaler()\n",
    "scaled_data = scaler.fit_transform(df_subset)\n",
    "\n",
    "# Step 4: Apply KNN Imputer\n",
    "imputer = KNNImputer(n_neighbors=5)\n",
    "imputed_data = imputer.fit_transform(scaled_data)\n",
    "\n",
    "# Step 5: Convert back to DataFrame\n",
    "df_imputed = pd.DataFrame(scaler.inverse_transform(imputed_data), columns=features)\n",
    "\n",
    "# Step 6: Update your original DataFrame\n",
    "df['RANK_2024'] = df_imputed['RANK_2024']\n"
   ]
  },
  {
   "cell_type": "code",
   "execution_count": 101,
   "id": "e7079357",
   "metadata": {},
   "outputs": [
    {
     "data": {
      "text/plain": [
       "Index(['RANK_2025', 'RANK_2024', 'Institution_Name', 'Location', 'Region',\n",
       "       'SIZE', 'FOCUS', 'RES.', 'STATUS', 'Academic_Reputation_Score',\n",
       "       'Academic_Reputation_Rank', 'Employer_Reputation_Score',\n",
       "       'Employer_Reputation_Rank', 'Faculty_Student_Score',\n",
       "       'Faculty_Student_Rank', 'Citations_per_Faculty_Score',\n",
       "       'Citations_per_Faculty_Rank', 'International_Faculty_Score',\n",
       "       'International_Faculty_Rank', 'International_Students_Score',\n",
       "       'International_Students_Rank', 'International_Research_Network_Score',\n",
       "       'International_Research_Network_Rank', 'Employment_Outcomes_Score',\n",
       "       'Employment_Outcomes_Rank', 'Sustainability_Score',\n",
       "       'Sustainability_Rank', 'Overall_Score'],\n",
       "      dtype='object')"
      ]
     },
     "execution_count": 101,
     "metadata": {},
     "output_type": "execute_result"
    }
   ],
   "source": [
    "df.columns\n"
   ]
  },
  {
   "cell_type": "code",
   "execution_count": 102,
   "id": "29d762e1",
   "metadata": {},
   "outputs": [],
   "source": [
    "#Dropping Other Values \n",
    "\n",
    "df.dropna(subset=['International_Faculty_Score', 'International_Faculty_Rank'], inplace=True)\n"
   ]
  },
  {
   "cell_type": "code",
   "execution_count": 103,
   "id": "9677aa17",
   "metadata": {},
   "outputs": [
    {
     "data": {
      "application/vnd.microsoft.datawrangler.viewer.v0+json": {
       "columns": [
        {
         "name": "STATUS",
         "rawType": "object",
         "type": "string"
        },
        {
         "name": "count",
         "rawType": "int64",
         "type": "integer"
        }
       ],
       "ref": "98f8aca8-66e0-46cc-843f-8b3b44436d62",
       "rows": [
        [
         "A",
         "1084"
        ],
        [
         "B",
         "249"
        ],
        [
         "C",
         "51"
        ]
       ],
       "shape": {
        "columns": 1,
        "rows": 3
       }
      },
      "text/plain": [
       "STATUS\n",
       "A    1084\n",
       "B     249\n",
       "C      51\n",
       "Name: count, dtype: int64"
      ]
     },
     "execution_count": 103,
     "metadata": {},
     "output_type": "execute_result"
    }
   ],
   "source": [
    "df['STATUS'].value_counts()"
   ]
  },
  {
   "cell_type": "code",
   "execution_count": 104,
   "id": "1536fcfa",
   "metadata": {},
   "outputs": [
    {
     "data": {
      "image/png": "[encoded data removed]",
      "text/plain": [
       "<Figure size 640x480 with 1 Axes>"
      ]
     },
     "metadata": {},
     "output_type": "display_data"
    }
   ],
   "source": [
    "#checking that STATUS IS skewed or not\n",
    "\n",
    "sns.countplot(data=df, x='STATUS')\n",
    "plt.title('STATUS Distribution')\n",
    "plt.show()\n"
   ]
  },
  {
   "cell_type": "code",
   "execution_count": 105,
   "id": "3842d005",
   "metadata": {},
   "outputs": [
    {
     "data": {
      "application/vnd.microsoft.datawrangler.viewer.v0+json": {
       "columns": [
        {
         "name": "index",
         "rawType": "object",
         "type": "string"
        },
        {
         "name": "0",
         "rawType": "int64",
         "type": "integer"
        }
       ],
       "ref": "5cd6bceb-49c0-47d6-9873-263185e73cec",
       "rows": [
        [
         "RANK_2025",
         "0"
        ],
        [
         "RANK_2024",
         "0"
        ],
        [
         "Institution_Name",
         "0"
        ],
        [
         "Location",
         "0"
        ],
        [
         "Region",
         "0"
        ],
        [
         "SIZE",
         "0"
        ],
        [
         "FOCUS",
         "0"
        ],
        [
         "RES.",
         "0"
        ],
        [
         "STATUS",
         "19"
        ],
        [
         "Academic_Reputation_Score",
         "0"
        ],
        [
         "Academic_Reputation_Rank",
         "0"
        ],
        [
         "Employer_Reputation_Score",
         "0"
        ],
        [
         "Employer_Reputation_Rank",
         "0"
        ],
        [
         "Faculty_Student_Score",
         "0"
        ],
        [
         "Faculty_Student_Rank",
         "0"
        ],
        [
         "Citations_per_Faculty_Score",
         "0"
        ],
        [
         "Citations_per_Faculty_Rank",
         "0"
        ],
        [
         "International_Faculty_Score",
         "0"
        ],
        [
         "International_Faculty_Rank",
         "0"
        ],
        [
         "International_Students_Score",
         "3"
        ],
        [
         "International_Students_Rank",
         "3"
        ],
        [
         "International_Research_Network_Score",
         "1"
        ],
        [
         "International_Research_Network_Rank",
         "1"
        ],
        [
         "Employment_Outcomes_Score",
         "0"
        ],
        [
         "Employment_Outcomes_Rank",
         "0"
        ],
        [
         "Sustainability_Score",
         "18"
        ],
        [
         "Sustainability_Rank",
         "18"
        ],
        [
         "Overall_Score",
         "810"
        ]
       ],
       "shape": {
        "columns": 1,
        "rows": 28
       }
      },
      "text/plain": [
       "RANK_2025                                 0\n",
       "RANK_2024                                 0\n",
       "Institution_Name                          0\n",
       "Location                                  0\n",
       "Region                                    0\n",
       "SIZE                                      0\n",
       "FOCUS                                     0\n",
       "RES.                                      0\n",
       "STATUS                                   19\n",
       "Academic_Reputation_Score                 0\n",
       "Academic_Reputation_Rank                  0\n",
       "Employer_Reputation_Score                 0\n",
       "Employer_Reputation_Rank                  0\n",
       "Faculty_Student_Score                     0\n",
       "Faculty_Student_Rank                      0\n",
       "Citations_per_Faculty_Score               0\n",
       "Citations_per_Faculty_Rank                0\n",
       "International_Faculty_Score               0\n",
       "International_Faculty_Rank                0\n",
       "International_Students_Score              3\n",
       "International_Students_Rank               3\n",
       "International_Research_Network_Score      1\n",
       "International_Research_Network_Rank       1\n",
       "Employment_Outcomes_Score                 0\n",
       "Employment_Outcomes_Rank                  0\n",
       "Sustainability_Score                     18\n",
       "Sustainability_Rank                      18\n",
       "Overall_Score                           810\n",
       "dtype: int64"
      ]
     },
     "execution_count": 105,
     "metadata": {},
     "output_type": "execute_result"
    }
   ],
   "source": [
    "\n",
    "df.isna().sum()"
   ]
  },
  {
   "cell_type": "code",
   "execution_count": 106,
   "id": "fd3b3418",
   "metadata": {},
   "outputs": [],
   "source": [
    "#Replaced na with most frequent value in STATUS column\n",
    "df['STATUS'].fillna(df['STATUS'].mode()[0], inplace=True)\n",
    "\n"
   ]
  },
  {
   "cell_type": "code",
   "execution_count": 107,
   "id": "e9706688",
   "metadata": {},
   "outputs": [
    {
     "data": {
      "application/vnd.microsoft.datawrangler.viewer.v0+json": {
       "columns": [
        {
         "name": "index",
         "rawType": "int64",
         "type": "integer"
        },
        {
         "name": "International_Students_Rank",
         "rawType": "object",
         "type": "unknown"
        }
       ],
       "ref": "ec7c3d3f-b04e-4939-a049-3b8ebe35f81e",
       "rows": [
        [
         "0",
         "143"
        ],
        [
         "1",
         "44"
        ],
        [
         "2",
         "73"
        ],
        [
         "3",
         "215"
        ],
        [
         "4",
         "98"
        ],
        [
         "5",
         "244"
        ],
        [
         "6",
         "63"
        ],
        [
         "7",
         "129"
        ],
        [
         "8",
         "21"
        ],
        [
         "9",
         "172"
        ],
        [
         "10",
         "226"
        ],
        [
         "11",
         "242"
        ],
        [
         "12",
         "39"
        ],
        [
         "13",
         "497"
        ],
        [
         "14",
         "160"
        ],
        [
         "15",
         "237"
        ],
        [
         "16",
         "52"
        ],
        [
         "17",
         "17"
        ],
        [
         "18",
         "48"
        ],
        [
         "19",
         "654"
        ],
        [
         "20",
         "140"
        ],
        [
         "21",
         "264"
        ],
        [
         "22",
         "238"
        ],
        [
         "23",
         "230"
        ],
        [
         "24",
         "90"
        ],
        [
         "25",
         "14"
        ],
        [
         "26",
         "41"
        ],
        [
         "27",
         "64"
        ],
        [
         "28",
         "124"
        ],
        [
         "29",
         "89"
        ],
        [
         "30",
         "586"
        ],
        [
         "31",
         "92"
        ],
        [
         "32",
         "432"
        ],
        [
         "33",
         "79"
        ],
        [
         "34",
         "55"
        ],
        [
         "35",
         "137"
        ],
        [
         "36",
         "24"
        ],
        [
         "37",
         "200"
        ],
        [
         "38",
         "390"
        ],
        [
         "39",
         "47"
        ],
        [
         "40",
         "23"
        ],
        [
         "41",
         "515"
        ],
        [
         "42",
         "68"
        ],
        [
         "43",
         "359"
        ],
        [
         "44",
         "553"
        ],
        [
         "45",
         "71"
        ],
        [
         "46",
         "94"
        ],
        [
         "47",
         "608"
        ],
        [
         "48",
         "117"
        ],
        [
         "49",
         "566"
        ]
       ],
       "shape": {
        "columns": 1,
        "rows": 1403
       }
      },
      "text/plain": [
       "0        143\n",
       "1         44\n",
       "2         73\n",
       "3        215\n",
       "4         98\n",
       "        ... \n",
       "1498    701+\n",
       "1499    701+\n",
       "1500    701+\n",
       "1501    701+\n",
       "1502    701+\n",
       "Name: International_Students_Rank, Length: 1403, dtype: object"
      ]
     },
     "execution_count": 107,
     "metadata": {},
     "output_type": "execute_result"
    }
   ],
   "source": [
    "(df['International_Students_Rank']).str.replace(',', '').str.replace('$', '').str.strip()"
   ]
  },
  {
   "cell_type": "code",
   "execution_count": 108,
   "id": "d36254d6",
   "metadata": {},
   "outputs": [
    {
     "data": {
      "text/plain": [
       "dtype('float64')"
      ]
     },
     "execution_count": 108,
     "metadata": {},
     "output_type": "execute_result"
    }
   ],
   "source": [
    "# Remove non-numeric characters and convert to float, set errors='coerce' to handle invalid parsing\n",
    "df['International_Students_Rank_clean'] = pd.to_numeric(\n",
    "    df['International_Students_Rank'].str.replace(r'[^\\d.]', '', regex=True),\n",
    "    errors='coerce'\n",
    ")\n",
    "\n",
    "df['International_Students_Rank']= df['International_Students_Rank_clean']\n",
    "df['International_Students_Rank'].astype(float, errors='ignore')\n",
    "\n",
    "df['International_Students_Rank'].dtype\n"
   ]
  },
  {
   "cell_type": "code",
   "execution_count": 109,
   "id": "1d93e824",
   "metadata": {},
   "outputs": [],
   "source": [
    "df['International_Students_Rank'].fillna(df['International_Students_Rank'].astype(float).mean(), inplace=True)\n",
    "df['International_Students_Score'].fillna(df['International_Students_Score'].astype(float).mean(), inplace=True)\n"
   ]
  },
  {
   "cell_type": "code",
   "execution_count": 112,
   "id": "c4fde78e",
   "metadata": {},
   "outputs": [],
   "source": [
    "df.dropna(subset=['Sustainability_Score', 'Sustainability_Rank'], inplace=True)"
   ]
  },
  {
   "cell_type": "code",
   "execution_count": 114,
   "id": "252e21a9",
   "metadata": {},
   "outputs": [],
   "source": [
    "df.drop(columns=['International_Students_Rank_clean'], inplace=True)"
   ]
  },
  {
   "cell_type": "code",
   "execution_count": 115,
   "id": "00a4d285",
   "metadata": {},
   "outputs": [
    {
     "data": {
      "application/vnd.microsoft.datawrangler.viewer.v0+json": {
       "columns": [
        {
         "name": "index",
         "rawType": "int64",
         "type": "integer"
        },
        {
         "name": "RANK_2025",
         "rawType": "object",
         "type": "string"
        },
        {
         "name": "RANK_2024",
         "rawType": "float64",
         "type": "float"
        },
        {
         "name": "Institution_Name",
         "rawType": "object",
         "type": "string"
        },
        {
         "name": "Location",
         "rawType": "object",
         "type": "string"
        },
        {
         "name": "Region",
         "rawType": "object",
         "type": "string"
        },
        {
         "name": "SIZE",
         "rawType": "object",
         "type": "string"
        },
        {
         "name": "FOCUS",
         "rawType": "object",
         "type": "string"
        },
        {
         "name": "RES.",
         "rawType": "object",
         "type": "string"
        },
        {
         "name": "STATUS",
         "rawType": "object",
         "type": "string"
        },
        {
         "name": "Academic_Reputation_Score",
         "rawType": "float64",
         "type": "float"
        },
        {
         "name": "Academic_Reputation_Rank",
         "rawType": "object",
         "type": "string"
        },
        {
         "name": "Employer_Reputation_Score",
         "rawType": "float64",
         "type": "float"
        },
        {
         "name": "Employer_Reputation_Rank",
         "rawType": "object",
         "type": "string"
        },
        {
         "name": "Faculty_Student_Score",
         "rawType": "float64",
         "type": "float"
        },
        {
         "name": "Faculty_Student_Rank",
         "rawType": "object",
         "type": "string"
        },
        {
         "name": "Citations_per_Faculty_Score",
         "rawType": "float64",
         "type": "float"
        },
        {
         "name": "Citations_per_Faculty_Rank",
         "rawType": "object",
         "type": "string"
        },
        {
         "name": "International_Faculty_Score",
         "rawType": "float64",
         "type": "float"
        },
        {
         "name": "International_Faculty_Rank",
         "rawType": "object",
         "type": "string"
        },
        {
         "name": "International_Students_Score",
         "rawType": "float64",
         "type": "float"
        },
        {
         "name": "International_Students_Rank",
         "rawType": "float64",
         "type": "float"
        },
        {
         "name": "International_Research_Network_Score",
         "rawType": "float64",
         "type": "float"
        },
        {
         "name": "International_Research_Network_Rank",
         "rawType": "object",
         "type": "string"
        },
        {
         "name": "Employment_Outcomes_Score",
         "rawType": "float64",
         "type": "float"
        },
        {
         "name": "Employment_Outcomes_Rank",
         "rawType": "object",
         "type": "string"
        },
        {
         "name": "Sustainability_Score",
         "rawType": "float64",
         "type": "float"
        },
        {
         "name": "Sustainability_Rank",
         "rawType": "object",
         "type": "string"
        },
        {
         "name": "Overall_Score",
         "rawType": "float64",
         "type": "float"
        }
       ],
       "ref": "08fd83a5-9c13-4df6-abf7-0aa372af83f7",
       "rows": [
        [
         "0",
         "1",
         "1.0",
         "Massachusetts Institute of Technology (MIT) ",
         "United States",
         "Americas",
         "M",
         "CO",
         "VH",
         "B",
         "100.0",
         "4",
         "100.0",
         "2",
         "100.0",
         "11",
         "100.0",
         "9",
         "99.3",
         "100",
         "86.8",
         "143.0",
         "96.0",
         "58",
         "100.0",
         "8",
         "99.0",
         "15=",
         "100.0"
        ],
        [
         "1",
         "2",
         "6.0",
         "Imperial College London",
         "United Kingdom",
         "Europe",
         "L",
         "FC",
         "VH",
         "A",
         "98.5",
         "22",
         "99.5",
         "11",
         "98.2",
         "45",
         "93.9",
         "54",
         "100.0",
         "66",
         "99.6",
         "44.0",
         "97.4",
         "34",
         "93.4",
         "61",
         "99.7",
         "6",
         "98.5"
        ],
        [
         "2",
         "3",
         "3.0",
         "University of Oxford",
         "United Kingdom",
         "Europe",
         "L",
         "FC",
         "VH",
         "A",
         "100.0",
         "2",
         "100.0",
         "5",
         "100.0",
         "8",
         "84.8",
         "93",
         "98.1",
         "120",
         "97.7",
         "73.0",
         "100.0",
         "1",
         "100.0",
         "3",
         "85.0",
         "126",
         "96.9"
        ],
        [
         "3",
         "4",
         "4.0",
         "Harvard University",
         "United States",
         "Americas",
         "L",
         "FC",
         "VH",
         "B",
         "100.0",
         "1",
         "100.0",
         "1",
         "96.3",
         "53",
         "100.0",
         "1",
         "74.1",
         "269",
         "69.0",
         "215.0",
         "99.6",
         "5",
         "100.0",
         "1",
         "84.4",
         "130",
         "96.8"
        ],
        [
         "4",
         "5",
         "2.0",
         "University of Cambridge",
         "United Kingdom",
         "Europe",
         "L",
         "FC",
         "VH",
         "A",
         "100.0",
         "3",
         "100.0",
         "4",
         "100.0",
         "17",
         "84.6",
         "96",
         "100.0",
         "73",
         "94.8",
         "98.0",
         "99.3",
         "10",
         "100.0",
         "5",
         "84.8",
         "127=",
         "96.7"
        ],
        [
         "5",
         "6",
         "5.0",
         "Stanford University",
         "United States",
         "Americas",
         "L",
         "FC",
         "VH",
         "B",
         "100.0",
         "5",
         "100.0",
         "3",
         "100.0",
         "12",
         "99.0",
         "27",
         "70.3",
         "284",
         "60.8",
         "244.0",
         "96.8",
         "45",
         "100.0",
         "2",
         "81.2",
         "148=",
         "96.1"
        ],
        [
         "6",
         "7",
         "7.0",
         "ETH Zurich - Swiss Federal Institute of Technology",
         "Switzerland",
         "Europe",
         "L",
         "FO",
         "VH",
         "A",
         "98.8",
         "19",
         "87.2",
         "57",
         "65.9",
         "199",
         "97.9",
         "35",
         "100.0",
         "25",
         "98.6",
         "63.0",
         "95.7",
         "64",
         "90.5",
         "73",
         "98.8",
         "18",
         "93.9"
        ],
        [
         "7",
         "8",
         "8.0",
         "National University of Singapore (NUS)",
         "Singapore",
         "Asia",
         "XL",
         "FC",
         "VH",
         "A",
         "99.5",
         "15",
         "91.1",
         "48",
         "68.8",
         "189",
         "93.1",
         "61",
         "100.0",
         "41",
         "88.9",
         "129.0",
         "91.6",
         "146",
         "100.0",
         "6",
         "97.7",
         "26=",
         "93.7"
        ],
        [
         "8",
         "9",
         "9.0",
         "UCL",
         "United Kingdom",
         "Europe",
         "XL",
         "FC",
         "VH",
         "A",
         "99.5",
         "14",
         "98.3",
         "18",
         "95.9",
         "56",
         "72.2",
         "145",
         "99.0",
         "106",
         "100.0",
         "21.0",
         "99.9",
         "2",
         "70.3",
         "157",
         "74.8",
         "190=",
         "91.6"
        ],
        [
         "9",
         "10",
         "15.0",
         "California Institute of Technology (Caltech)",
         "United States",
         "Americas",
         "S",
         "CO",
         "VH",
         "B",
         "96.5",
         "29",
         "95.3",
         "33",
         "100.0",
         "4",
         "100.0",
         "5",
         "100.0",
         "65",
         "79.8",
         "172.0",
         "65.5",
         "549",
         "31.0",
         "407",
         "62.5",
         "253",
         "90.9"
        ]
       ],
       "shape": {
        "columns": 28,
        "rows": 10
       }
      },
      "text/html": [
       "<div>\n",
       "<style scoped>\n",
       "    .dataframe tbody tr th:only-of-type {\n",
       "        vertical-align: middle;\n",
       "    }\n",
       "\n",
       "    .dataframe tbody tr th {\n",
       "        vertical-align: top;\n",
       "    }\n",
       "\n",
       "    .dataframe thead th {\n",
       "        text-align: right;\n",
       "    }\n",
       "</style>\n",
       "<table border=\"1\" class=\"dataframe\">\n",
       "  <thead>\n",
       "    <tr style=\"text-align: right;\">\n",
       "      <th></th>\n",
       "      <th>RANK_2025</th>\n",
       "      <th>RANK_2024</th>\n",
       "      <th>Institution_Name</th>\n",
       "      <th>Location</th>\n",
       "      <th>Region</th>\n",
       "      <th>SIZE</th>\n",
       "      <th>FOCUS</th>\n",
       "      <th>RES.</th>\n",
       "      <th>STATUS</th>\n",
       "      <th>Academic_Reputation_Score</th>\n",
       "      <th>...</th>\n",
       "      <th>International_Faculty_Rank</th>\n",
       "      <th>International_Students_Score</th>\n",
       "      <th>International_Students_Rank</th>\n",
       "      <th>International_Research_Network_Score</th>\n",
       "      <th>International_Research_Network_Rank</th>\n",
       "      <th>Employment_Outcomes_Score</th>\n",
       "      <th>Employment_Outcomes_Rank</th>\n",
       "      <th>Sustainability_Score</th>\n",
       "      <th>Sustainability_Rank</th>\n",
       "      <th>Overall_Score</th>\n",
       "    </tr>\n",
       "  </thead>\n",
       "  <tbody>\n",
       "    <tr>\n",
       "      <th>0</th>\n",
       "      <td>1</td>\n",
       "      <td>1.0</td>\n",
       "      <td>Massachusetts Institute of Technology (MIT)</td>\n",
       "      <td>United States</td>\n",
       "      <td>Americas</td>\n",
       "      <td>M</td>\n",
       "      <td>CO</td>\n",
       "      <td>VH</td>\n",
       "      <td>B</td>\n",
       "      <td>100.0</td>\n",
       "      <td>...</td>\n",
       "      <td>100</td>\n",
       "      <td>86.8</td>\n",
       "      <td>143.0</td>\n",
       "      <td>96.0</td>\n",
       "      <td>58</td>\n",
       "      <td>100.0</td>\n",
       "      <td>8</td>\n",
       "      <td>99.0</td>\n",
       "      <td>15=</td>\n",
       "      <td>100.0</td>\n",
       "    </tr>\n",
       "    <tr>\n",
       "      <th>1</th>\n",
       "      <td>2</td>\n",
       "      <td>6.0</td>\n",
       "      <td>Imperial College London</td>\n",
       "      <td>United Kingdom</td>\n",
       "      <td>Europe</td>\n",
       "      <td>L</td>\n",
       "      <td>FC</td>\n",
       "      <td>VH</td>\n",
       "      <td>A</td>\n",
       "      <td>98.5</td>\n",
       "      <td>...</td>\n",
       "      <td>66</td>\n",
       "      <td>99.6</td>\n",
       "      <td>44.0</td>\n",
       "      <td>97.4</td>\n",
       "      <td>34</td>\n",
       "      <td>93.4</td>\n",
       "      <td>61</td>\n",
       "      <td>99.7</td>\n",
       "      <td>6</td>\n",
       "      <td>98.5</td>\n",
       "    </tr>\n",
       "    <tr>\n",
       "      <th>2</th>\n",
       "      <td>3</td>\n",
       "      <td>3.0</td>\n",
       "      <td>University of Oxford</td>\n",
       "      <td>United Kingdom</td>\n",
       "      <td>Europe</td>\n",
       "      <td>L</td>\n",
       "      <td>FC</td>\n",
       "      <td>VH</td>\n",
       "      <td>A</td>\n",
       "      <td>100.0</td>\n",
       "      <td>...</td>\n",
       "      <td>120</td>\n",
       "      <td>97.7</td>\n",
       "      <td>73.0</td>\n",
       "      <td>100.0</td>\n",
       "      <td>1</td>\n",
       "      <td>100.0</td>\n",
       "      <td>3</td>\n",
       "      <td>85.0</td>\n",
       "      <td>126</td>\n",
       "      <td>96.9</td>\n",
       "    </tr>\n",
       "    <tr>\n",
       "      <th>3</th>\n",
       "      <td>4</td>\n",
       "      <td>4.0</td>\n",
       "      <td>Harvard University</td>\n",
       "      <td>United States</td>\n",
       "      <td>Americas</td>\n",
       "      <td>L</td>\n",
       "      <td>FC</td>\n",
       "      <td>VH</td>\n",
       "      <td>B</td>\n",
       "      <td>100.0</td>\n",
       "      <td>...</td>\n",
       "      <td>269</td>\n",
       "      <td>69.0</td>\n",
       "      <td>215.0</td>\n",
       "      <td>99.6</td>\n",
       "      <td>5</td>\n",
       "      <td>100.0</td>\n",
       "      <td>1</td>\n",
       "      <td>84.4</td>\n",
       "      <td>130</td>\n",
       "      <td>96.8</td>\n",
       "    </tr>\n",
       "    <tr>\n",
       "      <th>4</th>\n",
       "      <td>5</td>\n",
       "      <td>2.0</td>\n",
       "      <td>University of Cambridge</td>\n",
       "      <td>United Kingdom</td>\n",
       "      <td>Europe</td>\n",
       "      <td>L</td>\n",
       "      <td>FC</td>\n",
       "      <td>VH</td>\n",
       "      <td>A</td>\n",
       "      <td>100.0</td>\n",
       "      <td>...</td>\n",
       "      <td>73</td>\n",
       "      <td>94.8</td>\n",
       "      <td>98.0</td>\n",
       "      <td>99.3</td>\n",
       "      <td>10</td>\n",
       "      <td>100.0</td>\n",
       "      <td>5</td>\n",
       "      <td>84.8</td>\n",
       "      <td>127=</td>\n",
       "      <td>96.7</td>\n",
       "    </tr>\n",
       "    <tr>\n",
       "      <th>5</th>\n",
       "      <td>6</td>\n",
       "      <td>5.0</td>\n",
       "      <td>Stanford University</td>\n",
       "      <td>United States</td>\n",
       "      <td>Americas</td>\n",
       "      <td>L</td>\n",
       "      <td>FC</td>\n",
       "      <td>VH</td>\n",
       "      <td>B</td>\n",
       "      <td>100.0</td>\n",
       "      <td>...</td>\n",
       "      <td>284</td>\n",
       "      <td>60.8</td>\n",
       "      <td>244.0</td>\n",
       "      <td>96.8</td>\n",
       "      <td>45</td>\n",
       "      <td>100.0</td>\n",
       "      <td>2</td>\n",
       "      <td>81.2</td>\n",
       "      <td>148=</td>\n",
       "      <td>96.1</td>\n",
       "    </tr>\n",
       "    <tr>\n",
       "      <th>6</th>\n",
       "      <td>7</td>\n",
       "      <td>7.0</td>\n",
       "      <td>ETH Zurich - Swiss Federal Institute of Techno...</td>\n",
       "      <td>Switzerland</td>\n",
       "      <td>Europe</td>\n",
       "      <td>L</td>\n",
       "      <td>FO</td>\n",
       "      <td>VH</td>\n",
       "      <td>A</td>\n",
       "      <td>98.8</td>\n",
       "      <td>...</td>\n",
       "      <td>25</td>\n",
       "      <td>98.6</td>\n",
       "      <td>63.0</td>\n",
       "      <td>95.7</td>\n",
       "      <td>64</td>\n",
       "      <td>90.5</td>\n",
       "      <td>73</td>\n",
       "      <td>98.8</td>\n",
       "      <td>18</td>\n",
       "      <td>93.9</td>\n",
       "    </tr>\n",
       "    <tr>\n",
       "      <th>7</th>\n",
       "      <td>8</td>\n",
       "      <td>8.0</td>\n",
       "      <td>National University of Singapore (NUS)</td>\n",
       "      <td>Singapore</td>\n",
       "      <td>Asia</td>\n",
       "      <td>XL</td>\n",
       "      <td>FC</td>\n",
       "      <td>VH</td>\n",
       "      <td>A</td>\n",
       "      <td>99.5</td>\n",
       "      <td>...</td>\n",
       "      <td>41</td>\n",
       "      <td>88.9</td>\n",
       "      <td>129.0</td>\n",
       "      <td>91.6</td>\n",
       "      <td>146</td>\n",
       "      <td>100.0</td>\n",
       "      <td>6</td>\n",
       "      <td>97.7</td>\n",
       "      <td>26=</td>\n",
       "      <td>93.7</td>\n",
       "    </tr>\n",
       "    <tr>\n",
       "      <th>8</th>\n",
       "      <td>9</td>\n",
       "      <td>9.0</td>\n",
       "      <td>UCL</td>\n",
       "      <td>United Kingdom</td>\n",
       "      <td>Europe</td>\n",
       "      <td>XL</td>\n",
       "      <td>FC</td>\n",
       "      <td>VH</td>\n",
       "      <td>A</td>\n",
       "      <td>99.5</td>\n",
       "      <td>...</td>\n",
       "      <td>106</td>\n",
       "      <td>100.0</td>\n",
       "      <td>21.0</td>\n",
       "      <td>99.9</td>\n",
       "      <td>2</td>\n",
       "      <td>70.3</td>\n",
       "      <td>157</td>\n",
       "      <td>74.8</td>\n",
       "      <td>190=</td>\n",
       "      <td>91.6</td>\n",
       "    </tr>\n",
       "    <tr>\n",
       "      <th>9</th>\n",
       "      <td>10</td>\n",
       "      <td>15.0</td>\n",
       "      <td>California Institute of Technology (Caltech)</td>\n",
       "      <td>United States</td>\n",
       "      <td>Americas</td>\n",
       "      <td>S</td>\n",
       "      <td>CO</td>\n",
       "      <td>VH</td>\n",
       "      <td>B</td>\n",
       "      <td>96.5</td>\n",
       "      <td>...</td>\n",
       "      <td>65</td>\n",
       "      <td>79.8</td>\n",
       "      <td>172.0</td>\n",
       "      <td>65.5</td>\n",
       "      <td>549</td>\n",
       "      <td>31.0</td>\n",
       "      <td>407</td>\n",
       "      <td>62.5</td>\n",
       "      <td>253</td>\n",
       "      <td>90.9</td>\n",
       "    </tr>\n",
       "  </tbody>\n",
       "</table>\n",
       "<p>10 rows × 28 columns</p>\n",
       "</div>"
      ],
      "text/plain": [
       "  RANK_2025  RANK_2024                                   Institution_Name  \\\n",
       "0         1        1.0       Massachusetts Institute of Technology (MIT)    \n",
       "1         2        6.0                            Imperial College London   \n",
       "2         3        3.0                               University of Oxford   \n",
       "3         4        4.0                                 Harvard University   \n",
       "4         5        2.0                            University of Cambridge   \n",
       "5         6        5.0                                Stanford University   \n",
       "6         7        7.0  ETH Zurich - Swiss Federal Institute of Techno...   \n",
       "7         8        8.0             National University of Singapore (NUS)   \n",
       "8         9        9.0                                                UCL   \n",
       "9        10       15.0       California Institute of Technology (Caltech)   \n",
       "\n",
       "         Location    Region SIZE FOCUS RES. STATUS  Academic_Reputation_Score  \\\n",
       "0   United States  Americas    M    CO   VH      B                      100.0   \n",
       "1  United Kingdom    Europe    L    FC   VH      A                       98.5   \n",
       "2  United Kingdom    Europe    L    FC   VH      A                      100.0   \n",
       "3   United States  Americas    L    FC   VH      B                      100.0   \n",
       "4  United Kingdom    Europe    L    FC   VH      A                      100.0   \n",
       "5   United States  Americas    L    FC   VH      B                      100.0   \n",
       "6     Switzerland    Europe    L    FO   VH      A                       98.8   \n",
       "7       Singapore      Asia   XL    FC   VH      A                       99.5   \n",
       "8  United Kingdom    Europe   XL    FC   VH      A                       99.5   \n",
       "9   United States  Americas    S    CO   VH      B                       96.5   \n",
       "\n",
       "   ... International_Faculty_Rank  International_Students_Score  \\\n",
       "0  ...                        100                          86.8   \n",
       "1  ...                         66                          99.6   \n",
       "2  ...                        120                          97.7   \n",
       "3  ...                        269                          69.0   \n",
       "4  ...                         73                          94.8   \n",
       "5  ...                        284                          60.8   \n",
       "6  ...                         25                          98.6   \n",
       "7  ...                         41                          88.9   \n",
       "8  ...                        106                         100.0   \n",
       "9  ...                         65                          79.8   \n",
       "\n",
       "  International_Students_Rank  International_Research_Network_Score  \\\n",
       "0                       143.0                                  96.0   \n",
       "1                        44.0                                  97.4   \n",
       "2                        73.0                                 100.0   \n",
       "3                       215.0                                  99.6   \n",
       "4                        98.0                                  99.3   \n",
       "5                       244.0                                  96.8   \n",
       "6                        63.0                                  95.7   \n",
       "7                       129.0                                  91.6   \n",
       "8                        21.0                                  99.9   \n",
       "9                       172.0                                  65.5   \n",
       "\n",
       "  International_Research_Network_Rank  Employment_Outcomes_Score  \\\n",
       "0                                  58                      100.0   \n",
       "1                                  34                       93.4   \n",
       "2                                   1                      100.0   \n",
       "3                                   5                      100.0   \n",
       "4                                  10                      100.0   \n",
       "5                                  45                      100.0   \n",
       "6                                  64                       90.5   \n",
       "7                                 146                      100.0   \n",
       "8                                   2                       70.3   \n",
       "9                                 549                       31.0   \n",
       "\n",
       "  Employment_Outcomes_Rank  Sustainability_Score Sustainability_Rank  \\\n",
       "0                        8                  99.0                 15=   \n",
       "1                       61                  99.7                   6   \n",
       "2                        3                  85.0                 126   \n",
       "3                        1                  84.4                 130   \n",
       "4                        5                  84.8                127=   \n",
       "5                        2                  81.2                148=   \n",
       "6                       73                  98.8                  18   \n",
       "7                        6                  97.7                 26=   \n",
       "8                      157                  74.8                190=   \n",
       "9                      407                  62.5                 253   \n",
       "\n",
       "   Overall_Score  \n",
       "0          100.0  \n",
       "1           98.5  \n",
       "2           96.9  \n",
       "3           96.8  \n",
       "4           96.7  \n",
       "5           96.1  \n",
       "6           93.9  \n",
       "7           93.7  \n",
       "8           91.6  \n",
       "9           90.9  \n",
       "\n",
       "[10 rows x 28 columns]"
      ]
     },
     "execution_count": 115,
     "metadata": {},
     "output_type": "execute_result"
    }
   ],
   "source": [
    "df.head(10)"
   ]
  },
  {
   "cell_type": "code",
   "execution_count": 116,
   "id": "c0296e7e",
   "metadata": {},
   "outputs": [
    {
     "name": "stdout",
     "output_type": "stream",
     "text": [
      "                                      RANK_2024  Academic_Reputation_Score  \\\n",
      "RANK_2024                              1.000000                  -0.638004   \n",
      "Academic_Reputation_Score             -0.638004                   1.000000   \n",
      "Employer_Reputation_Score             -0.534826                   0.855778   \n",
      "Faculty_Student_Score                 -0.188837                   0.354580   \n",
      "Citations_per_Faculty_Score           -0.351770                   0.494930   \n",
      "International_Faculty_Score           -0.251822                   0.391457   \n",
      "International_Students_Score          -0.267613                   0.381614   \n",
      "International_Students_Rank            0.256726                  -0.379041   \n",
      "International_Research_Network_Score  -0.277130                   0.595558   \n",
      "Employment_Outcomes_Score             -0.435926                   0.689573   \n",
      "Sustainability_Score                  -0.419483                   0.709270   \n",
      "Overall_Score                         -0.904088                   0.901570   \n",
      "\n",
      "                                      Employer_Reputation_Score  \\\n",
      "RANK_2024                                             -0.534826   \n",
      "Academic_Reputation_Score                              0.855778   \n",
      "Employer_Reputation_Score                              1.000000   \n",
      "Faculty_Student_Score                                  0.341194   \n",
      "Citations_per_Faculty_Score                            0.390291   \n",
      "International_Faculty_Score                            0.327634   \n",
      "International_Students_Score                           0.349063   \n",
      "International_Students_Rank                           -0.344713   \n",
      "International_Research_Network_Score                   0.422721   \n",
      "Employment_Outcomes_Score                              0.652970   \n",
      "Sustainability_Score                                   0.594660   \n",
      "Overall_Score                                          0.775235   \n",
      "\n",
      "                                      Faculty_Student_Score  \\\n",
      "RANK_2024                                         -0.188837   \n",
      "Academic_Reputation_Score                          0.354580   \n",
      "Employer_Reputation_Score                          0.341194   \n",
      "Faculty_Student_Score                              1.000000   \n",
      "Citations_per_Faculty_Score                        0.107015   \n",
      "International_Faculty_Score                        0.181852   \n",
      "International_Students_Score                       0.236272   \n",
      "International_Students_Rank                       -0.234555   \n",
      "International_Research_Network_Score               0.130986   \n",
      "Employment_Outcomes_Score                          0.250031   \n",
      "Sustainability_Score                               0.204250   \n",
      "Overall_Score                                      0.339920   \n",
      "\n",
      "                                      Citations_per_Faculty_Score  \\\n",
      "RANK_2024                                               -0.351770   \n",
      "Academic_Reputation_Score                                0.494930   \n",
      "Employer_Reputation_Score                                0.390291   \n",
      "Faculty_Student_Score                                    0.107015   \n",
      "Citations_per_Faculty_Score                              1.000000   \n",
      "International_Faculty_Score                              0.388528   \n",
      "International_Students_Score                             0.324782   \n",
      "International_Students_Rank                             -0.318522   \n",
      "International_Research_Network_Score                     0.527320   \n",
      "Employment_Outcomes_Score                                0.313001   \n",
      "Sustainability_Score                                     0.487520   \n",
      "Overall_Score                                            0.484871   \n",
      "\n",
      "                                      International_Faculty_Score  \\\n",
      "RANK_2024                                               -0.251822   \n",
      "Academic_Reputation_Score                                0.391457   \n",
      "Employer_Reputation_Score                                0.327634   \n",
      "Faculty_Student_Score                                    0.181852   \n",
      "Citations_per_Faculty_Score                              0.388528   \n",
      "International_Faculty_Score                              1.000000   \n",
      "International_Students_Score                             0.699511   \n",
      "International_Students_Rank                             -0.695404   \n",
      "International_Research_Network_Score                     0.390327   \n",
      "Employment_Outcomes_Score                                0.313665   \n",
      "Sustainability_Score                                     0.494858   \n",
      "Overall_Score                                            0.351144   \n",
      "\n",
      "                                      International_Students_Score  \\\n",
      "RANK_2024                                                -0.267613   \n",
      "Academic_Reputation_Score                                 0.381614   \n",
      "Employer_Reputation_Score                                 0.349063   \n",
      "Faculty_Student_Score                                     0.236272   \n",
      "Citations_per_Faculty_Score                               0.324782   \n",
      "International_Faculty_Score                               0.699511   \n",
      "International_Students_Score                              1.000000   \n",
      "International_Students_Rank                              -0.985519   \n",
      "International_Research_Network_Score                      0.343489   \n",
      "Employment_Outcomes_Score                                 0.273898   \n",
      "Sustainability_Score                                      0.448293   \n",
      "Overall_Score                                             0.400115   \n",
      "\n",
      "                                      International_Students_Rank  \\\n",
      "RANK_2024                                                0.256726   \n",
      "Academic_Reputation_Score                               -0.379041   \n",
      "Employer_Reputation_Score                               -0.344713   \n",
      "Faculty_Student_Score                                   -0.234555   \n",
      "Citations_per_Faculty_Score                             -0.318522   \n",
      "International_Faculty_Score                             -0.695404   \n",
      "International_Students_Score                            -0.985519   \n",
      "International_Students_Rank                              1.000000   \n",
      "International_Research_Network_Score                    -0.343973   \n",
      "Employment_Outcomes_Score                               -0.275546   \n",
      "Sustainability_Score                                    -0.453847   \n",
      "Overall_Score                                           -0.394139   \n",
      "\n",
      "                                      International_Research_Network_Score  \\\n",
      "RANK_2024                                                        -0.277130   \n",
      "Academic_Reputation_Score                                         0.595558   \n",
      "Employer_Reputation_Score                                         0.422721   \n",
      "Faculty_Student_Score                                             0.130986   \n",
      "Citations_per_Faculty_Score                                       0.527320   \n",
      "International_Faculty_Score                                       0.390327   \n",
      "International_Students_Score                                      0.343489   \n",
      "International_Students_Rank                                      -0.343973   \n",
      "International_Research_Network_Score                              1.000000   \n",
      "Employment_Outcomes_Score                                         0.447158   \n",
      "Sustainability_Score                                              0.686591   \n",
      "Overall_Score                                                     0.478555   \n",
      "\n",
      "                                      Employment_Outcomes_Score  \\\n",
      "RANK_2024                                             -0.435926   \n",
      "Academic_Reputation_Score                              0.689573   \n",
      "Employer_Reputation_Score                              0.652970   \n",
      "Faculty_Student_Score                                  0.250031   \n",
      "Citations_per_Faculty_Score                            0.313001   \n",
      "International_Faculty_Score                            0.313665   \n",
      "International_Students_Score                           0.273898   \n",
      "International_Students_Rank                           -0.275546   \n",
      "International_Research_Network_Score                   0.447158   \n",
      "Employment_Outcomes_Score                              1.000000   \n",
      "Sustainability_Score                                   0.525826   \n",
      "Overall_Score                                          0.625939   \n",
      "\n",
      "                                      Sustainability_Score  Overall_Score  \n",
      "RANK_2024                                        -0.419483      -0.904088  \n",
      "Academic_Reputation_Score                         0.709270       0.901570  \n",
      "Employer_Reputation_Score                         0.594660       0.775235  \n",
      "Faculty_Student_Score                             0.204250       0.339920  \n",
      "Citations_per_Faculty_Score                       0.487520       0.484871  \n",
      "International_Faculty_Score                       0.494858       0.351144  \n",
      "International_Students_Score                      0.448293       0.400115  \n",
      "International_Students_Rank                      -0.453847      -0.394139  \n",
      "International_Research_Network_Score              0.686591       0.478555  \n",
      "Employment_Outcomes_Score                         0.525826       0.625939  \n",
      "Sustainability_Score                              1.000000       0.570746  \n",
      "Overall_Score                                     0.570746       1.000000  \n"
     ]
    }
   ],
   "source": [
    "# Calculate correlation matrix\n",
    "corr_matrix = df.corr(numeric_only=True)\n",
    "\n",
    "# Display correlation matrix\n",
    "print(corr_matrix)\n"
   ]
  },
  {
   "cell_type": "code",
   "execution_count": 117,
   "id": "f6d0f679",
   "metadata": {},
   "outputs": [
    {
     "data": {
      "image/png": "[encoded data removed]",
      "text/plain": [
       "<Figure size 1600x1000 with 2 Axes>"
      ]
     },
     "metadata": {},
     "output_type": "display_data"
    }
   ],
   "source": [
    "# Visualize correlation matrix with a heatmap\n",
    "plt.figure(figsize=(16, 10))\n",
    "sns.heatmap(corr_matrix, annot=True, cmap='coolwarm', fmt=\".2f\")\n",
    "plt.title('Correlation Matrix Heatmap')\n",
    "plt.show()"
   ]
  },
  {
   "cell_type": "code",
   "execution_count": null,
   "id": "090cefe6",
   "metadata": {},
   "outputs": [],
   "source": []
  }
 ],
 "metadata": {
  "kernelspec": {
   "display_name": "Python 3",
   "language": "python",
   "name": "python3"
  },
  "language_info": {
   "codemirror_mode": {
    "name": "ipython",
    "version": 3
   },
   "file_extension": ".py",
   "mimetype": "text/x-python",
   "name": "python",
   "nbconvert_exporter": "python",
   "pygments_lexer": "ipython3",
   "version": "3.12.1"
  }
 },
 "nbformat": 4,
 "nbformat_minor": 5
}
