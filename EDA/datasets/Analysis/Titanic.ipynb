{
 "cells": [
  {
   "cell_type": "code",
   "execution_count": 18,
   "id": "16067e70",
   "metadata": {},
   "outputs": [],
   "source": [
    "import numpy as np \n",
    "import pandas as pd \n",
    "import matplotlib.pyplot as plt\n",
    "import seaborn as sns\n",
    "import warnings \n",
    "warnings.filterwarnings(\"ignore\")\n"
   ]
  },
  {
   "cell_type": "code",
   "execution_count": 19,
   "id": "a79e69f3",
   "metadata": {},
   "outputs": [
    {
     "data": {
      "application/vnd.microsoft.datawrangler.viewer.v0+json": {
       "columns": [
        {
         "name": "index",
         "rawType": "int64",
         "type": "integer"
        },
        {
         "name": "survived",
         "rawType": "int64",
         "type": "integer"
        },
        {
         "name": "pclass",
         "rawType": "int64",
         "type": "integer"
        },
        {
         "name": "sex",
         "rawType": "object",
         "type": "string"
        },
        {
         "name": "age",
         "rawType": "float64",
         "type": "float"
        },
        {
         "name": "sibsp",
         "rawType": "int64",
         "type": "integer"
        },
        {
         "name": "parch",
         "rawType": "int64",
         "type": "integer"
        },
        {
         "name": "fare",
         "rawType": "float64",
         "type": "float"
        },
        {
         "name": "embarked",
         "rawType": "object",
         "type": "string"
        },
        {
         "name": "class",
         "rawType": "category",
         "type": "unknown"
        },
        {
         "name": "who",
         "rawType": "object",
         "type": "string"
        },
        {
         "name": "adult_male",
         "rawType": "bool",
         "type": "boolean"
        },
        {
         "name": "deck",
         "rawType": "category",
         "type": "unknown"
        },
        {
         "name": "embark_town",
         "rawType": "object",
         "type": "string"
        },
        {
         "name": "alive",
         "rawType": "object",
         "type": "string"
        },
        {
         "name": "alone",
         "rawType": "bool",
         "type": "boolean"
        }
       ],
       "ref": "630d26bf-ecae-4e73-91ce-74e9bf0bea5d",
       "rows": [
        [
         "0",
         "0",
         "3",
         "male",
         "22.0",
         "1",
         "0",
         "7.25",
         "S",
         "Third",
         "man",
         "True",
         null,
         "Southampton",
         "no",
         "False"
        ],
        [
         "1",
         "1",
         "1",
         "female",
         "38.0",
         "1",
         "0",
         "71.2833",
         "C",
         "First",
         "woman",
         "False",
         "C",
         "Cherbourg",
         "yes",
         "False"
        ],
        [
         "2",
         "1",
         "3",
         "female",
         "26.0",
         "0",
         "0",
         "7.925",
         "S",
         "Third",
         "woman",
         "False",
         null,
         "Southampton",
         "yes",
         "True"
        ],
        [
         "3",
         "1",
         "1",
         "female",
         "35.0",
         "1",
         "0",
         "53.1",
         "S",
         "First",
         "woman",
         "False",
         "C",
         "Southampton",
         "yes",
         "False"
        ],
        [
         "4",
         "0",
         "3",
         "male",
         "35.0",
         "0",
         "0",
         "8.05",
         "S",
         "Third",
         "man",
         "True",
         null,
         "Southampton",
         "no",
         "True"
        ]
       ],
       "shape": {
        "columns": 15,
        "rows": 5
       }
      },
      "text/html": [
       "<div>\n",
       "<style scoped>\n",
       "    .dataframe tbody tr th:only-of-type {\n",
       "        vertical-align: middle;\n",
       "    }\n",
       "\n",
       "    .dataframe tbody tr th {\n",
       "        vertical-align: top;\n",
       "    }\n",
       "\n",
       "    .dataframe thead th {\n",
       "        text-align: right;\n",
       "    }\n",
       "</style>\n",
       "<table border=\"1\" class=\"dataframe\">\n",
       "  <thead>\n",
       "    <tr style=\"text-align: right;\">\n",
       "      <th></th>\n",
       "      <th>survived</th>\n",
       "      <th>pclass</th>\n",
       "      <th>sex</th>\n",
       "      <th>age</th>\n",
       "      <th>sibsp</th>\n",
       "      <th>parch</th>\n",
       "      <th>fare</th>\n",
       "      <th>embarked</th>\n",
       "      <th>class</th>\n",
       "      <th>who</th>\n",
       "      <th>adult_male</th>\n",
       "      <th>deck</th>\n",
       "      <th>embark_town</th>\n",
       "      <th>alive</th>\n",
       "      <th>alone</th>\n",
       "    </tr>\n",
       "  </thead>\n",
       "  <tbody>\n",
       "    <tr>\n",
       "      <th>0</th>\n",
       "      <td>0</td>\n",
       "      <td>3</td>\n",
       "      <td>male</td>\n",
       "      <td>22.0</td>\n",
       "      <td>1</td>\n",
       "      <td>0</td>\n",
       "      <td>7.2500</td>\n",
       "      <td>S</td>\n",
       "      <td>Third</td>\n",
       "      <td>man</td>\n",
       "      <td>True</td>\n",
       "      <td>NaN</td>\n",
       "      <td>Southampton</td>\n",
       "      <td>no</td>\n",
       "      <td>False</td>\n",
       "    </tr>\n",
       "    <tr>\n",
       "      <th>1</th>\n",
       "      <td>1</td>\n",
       "      <td>1</td>\n",
       "      <td>female</td>\n",
       "      <td>38.0</td>\n",
       "      <td>1</td>\n",
       "      <td>0</td>\n",
       "      <td>71.2833</td>\n",
       "      <td>C</td>\n",
       "      <td>First</td>\n",
       "      <td>woman</td>\n",
       "      <td>False</td>\n",
       "      <td>C</td>\n",
       "      <td>Cherbourg</td>\n",
       "      <td>yes</td>\n",
       "      <td>False</td>\n",
       "    </tr>\n",
       "    <tr>\n",
       "      <th>2</th>\n",
       "      <td>1</td>\n",
       "      <td>3</td>\n",
       "      <td>female</td>\n",
       "      <td>26.0</td>\n",
       "      <td>0</td>\n",
       "      <td>0</td>\n",
       "      <td>7.9250</td>\n",
       "      <td>S</td>\n",
       "      <td>Third</td>\n",
       "      <td>woman</td>\n",
       "      <td>False</td>\n",
       "      <td>NaN</td>\n",
       "      <td>Southampton</td>\n",
       "      <td>yes</td>\n",
       "      <td>True</td>\n",
       "    </tr>\n",
       "    <tr>\n",
       "      <th>3</th>\n",
       "      <td>1</td>\n",
       "      <td>1</td>\n",
       "      <td>female</td>\n",
       "      <td>35.0</td>\n",
       "      <td>1</td>\n",
       "      <td>0</td>\n",
       "      <td>53.1000</td>\n",
       "      <td>S</td>\n",
       "      <td>First</td>\n",
       "      <td>woman</td>\n",
       "      <td>False</td>\n",
       "      <td>C</td>\n",
       "      <td>Southampton</td>\n",
       "      <td>yes</td>\n",
       "      <td>False</td>\n",
       "    </tr>\n",
       "    <tr>\n",
       "      <th>4</th>\n",
       "      <td>0</td>\n",
       "      <td>3</td>\n",
       "      <td>male</td>\n",
       "      <td>35.0</td>\n",
       "      <td>0</td>\n",
       "      <td>0</td>\n",
       "      <td>8.0500</td>\n",
       "      <td>S</td>\n",
       "      <td>Third</td>\n",
       "      <td>man</td>\n",
       "      <td>True</td>\n",
       "      <td>NaN</td>\n",
       "      <td>Southampton</td>\n",
       "      <td>no</td>\n",
       "      <td>True</td>\n",
       "    </tr>\n",
       "  </tbody>\n",
       "</table>\n",
       "</div>"
      ],
      "text/plain": [
       "   survived  pclass     sex   age  sibsp  parch     fare embarked  class  \\\n",
       "0         0       3    male  22.0      1      0   7.2500        S  Third   \n",
       "1         1       1  female  38.0      1      0  71.2833        C  First   \n",
       "2         1       3  female  26.0      0      0   7.9250        S  Third   \n",
       "3         1       1  female  35.0      1      0  53.1000        S  First   \n",
       "4         0       3    male  35.0      0      0   8.0500        S  Third   \n",
       "\n",
       "     who  adult_male deck  embark_town alive  alone  \n",
       "0    man        True  NaN  Southampton    no  False  \n",
       "1  woman       False    C    Cherbourg   yes  False  \n",
       "2  woman       False  NaN  Southampton   yes   True  \n",
       "3  woman       False    C  Southampton   yes  False  \n",
       "4    man        True  NaN  Southampton    no   True  "
      ]
     },
     "execution_count": 19,
     "metadata": {},
     "output_type": "execute_result"
    }
   ],
   "source": [
    "data = sns.load_dataset(\"titanic\")\n",
    "data.head()"
   ]
  },
  {
   "cell_type": "code",
   "execution_count": 20,
   "id": "9096818e",
   "metadata": {},
   "outputs": [
    {
     "data": {
      "application/vnd.microsoft.datawrangler.viewer.v0+json": {
       "columns": [
        {
         "name": "index",
         "rawType": "object",
         "type": "string"
        },
        {
         "name": "survived",
         "rawType": "float64",
         "type": "float"
        },
        {
         "name": "pclass",
         "rawType": "float64",
         "type": "float"
        },
        {
         "name": "age",
         "rawType": "float64",
         "type": "float"
        },
        {
         "name": "sibsp",
         "rawType": "float64",
         "type": "float"
        },
        {
         "name": "parch",
         "rawType": "float64",
         "type": "float"
        },
        {
         "name": "fare",
         "rawType": "float64",
         "type": "float"
        }
       ],
       "ref": "4abb3244-1cb3-413d-bb9c-3390f413fe9a",
       "rows": [
        [
         "count",
         "891.0",
         "891.0",
         "714.0",
         "891.0",
         "891.0",
         "891.0"
        ],
        [
         "mean",
         "0.3838383838383838",
         "2.308641975308642",
         "29.69911764705882",
         "0.5230078563411896",
         "0.38159371492704824",
         "32.204207968574636"
        ],
        [
         "std",
         "0.4865924542648575",
         "0.836071240977049",
         "14.526497332334042",
         "1.1027434322934317",
         "0.8060572211299483",
         "49.6934285971809"
        ],
        [
         "min",
         "0.0",
         "1.0",
         "0.42",
         "0.0",
         "0.0",
         "0.0"
        ],
        [
         "25%",
         "0.0",
         "2.0",
         "20.125",
         "0.0",
         "0.0",
         "7.9104"
        ],
        [
         "50%",
         "0.0",
         "3.0",
         "28.0",
         "0.0",
         "0.0",
         "14.4542"
        ],
        [
         "75%",
         "1.0",
         "3.0",
         "38.0",
         "1.0",
         "0.0",
         "31.0"
        ],
        [
         "max",
         "1.0",
         "3.0",
         "80.0",
         "8.0",
         "6.0",
         "512.3292"
        ]
       ],
       "shape": {
        "columns": 6,
        "rows": 8
       }
      },
      "text/html": [
       "<div>\n",
       "<style scoped>\n",
       "    .dataframe tbody tr th:only-of-type {\n",
       "        vertical-align: middle;\n",
       "    }\n",
       "\n",
       "    .dataframe tbody tr th {\n",
       "        vertical-align: top;\n",
       "    }\n",
       "\n",
       "    .dataframe thead th {\n",
       "        text-align: right;\n",
       "    }\n",
       "</style>\n",
       "<table border=\"1\" class=\"dataframe\">\n",
       "  <thead>\n",
       "    <tr style=\"text-align: right;\">\n",
       "      <th></th>\n",
       "      <th>survived</th>\n",
       "      <th>pclass</th>\n",
       "      <th>age</th>\n",
       "      <th>sibsp</th>\n",
       "      <th>parch</th>\n",
       "      <th>fare</th>\n",
       "    </tr>\n",
       "  </thead>\n",
       "  <tbody>\n",
       "    <tr>\n",
       "      <th>count</th>\n",
       "      <td>891.000000</td>\n",
       "      <td>891.000000</td>\n",
       "      <td>714.000000</td>\n",
       "      <td>891.000000</td>\n",
       "      <td>891.000000</td>\n",
       "      <td>891.000000</td>\n",
       "    </tr>\n",
       "    <tr>\n",
       "      <th>mean</th>\n",
       "      <td>0.383838</td>\n",
       "      <td>2.308642</td>\n",
       "      <td>29.699118</td>\n",
       "      <td>0.523008</td>\n",
       "      <td>0.381594</td>\n",
       "      <td>32.204208</td>\n",
       "    </tr>\n",
       "    <tr>\n",
       "      <th>std</th>\n",
       "      <td>0.486592</td>\n",
       "      <td>0.836071</td>\n",
       "      <td>14.526497</td>\n",
       "      <td>1.102743</td>\n",
       "      <td>0.806057</td>\n",
       "      <td>49.693429</td>\n",
       "    </tr>\n",
       "    <tr>\n",
       "      <th>min</th>\n",
       "      <td>0.000000</td>\n",
       "      <td>1.000000</td>\n",
       "      <td>0.420000</td>\n",
       "      <td>0.000000</td>\n",
       "      <td>0.000000</td>\n",
       "      <td>0.000000</td>\n",
       "    </tr>\n",
       "    <tr>\n",
       "      <th>25%</th>\n",
       "      <td>0.000000</td>\n",
       "      <td>2.000000</td>\n",
       "      <td>20.125000</td>\n",
       "      <td>0.000000</td>\n",
       "      <td>0.000000</td>\n",
       "      <td>7.910400</td>\n",
       "    </tr>\n",
       "    <tr>\n",
       "      <th>50%</th>\n",
       "      <td>0.000000</td>\n",
       "      <td>3.000000</td>\n",
       "      <td>28.000000</td>\n",
       "      <td>0.000000</td>\n",
       "      <td>0.000000</td>\n",
       "      <td>14.454200</td>\n",
       "    </tr>\n",
       "    <tr>\n",
       "      <th>75%</th>\n",
       "      <td>1.000000</td>\n",
       "      <td>3.000000</td>\n",
       "      <td>38.000000</td>\n",
       "      <td>1.000000</td>\n",
       "      <td>0.000000</td>\n",
       "      <td>31.000000</td>\n",
       "    </tr>\n",
       "    <tr>\n",
       "      <th>max</th>\n",
       "      <td>1.000000</td>\n",
       "      <td>3.000000</td>\n",
       "      <td>80.000000</td>\n",
       "      <td>8.000000</td>\n",
       "      <td>6.000000</td>\n",
       "      <td>512.329200</td>\n",
       "    </tr>\n",
       "  </tbody>\n",
       "</table>\n",
       "</div>"
      ],
      "text/plain": [
       "         survived      pclass         age       sibsp       parch        fare\n",
       "count  891.000000  891.000000  714.000000  891.000000  891.000000  891.000000\n",
       "mean     0.383838    2.308642   29.699118    0.523008    0.381594   32.204208\n",
       "std      0.486592    0.836071   14.526497    1.102743    0.806057   49.693429\n",
       "min      0.000000    1.000000    0.420000    0.000000    0.000000    0.000000\n",
       "25%      0.000000    2.000000   20.125000    0.000000    0.000000    7.910400\n",
       "50%      0.000000    3.000000   28.000000    0.000000    0.000000   14.454200\n",
       "75%      1.000000    3.000000   38.000000    1.000000    0.000000   31.000000\n",
       "max      1.000000    3.000000   80.000000    8.000000    6.000000  512.329200"
      ]
     },
     "execution_count": 20,
     "metadata": {},
     "output_type": "execute_result"
    }
   ],
   "source": [
    "data.describe()"
   ]
  },
  {
   "cell_type": "code",
   "execution_count": 21,
   "id": "872d4b50",
   "metadata": {},
   "outputs": [
    {
     "name": "stdout",
     "output_type": "stream",
     "text": [
      "<class 'pandas.core.frame.DataFrame'>\n",
      "RangeIndex: 891 entries, 0 to 890\n",
      "Data columns (total 15 columns):\n",
      " #   Column       Non-Null Count  Dtype   \n",
      "---  ------       --------------  -----   \n",
      " 0   survived     891 non-null    int64   \n",
      " 1   pclass       891 non-null    int64   \n",
      " 2   sex          891 non-null    object  \n",
      " 3   age          714 non-null    float64 \n",
      " 4   sibsp        891 non-null    int64   \n",
      " 5   parch        891 non-null    int64   \n",
      " 6   fare         891 non-null    float64 \n",
      " 7   embarked     889 non-null    object  \n",
      " 8   class        891 non-null    category\n",
      " 9   who          891 non-null    object  \n",
      " 10  adult_male   891 non-null    bool    \n",
      " 11  deck         203 non-null    category\n",
      " 12  embark_town  889 non-null    object  \n",
      " 13  alive        891 non-null    object  \n",
      " 14  alone        891 non-null    bool    \n",
      "dtypes: bool(2), category(2), float64(2), int64(4), object(5)\n",
      "memory usage: 80.7+ KB\n"
     ]
    }
   ],
   "source": [
    "data.info()"
   ]
  },
  {
   "cell_type": "code",
   "execution_count": 22,
   "id": "6acfeffa",
   "metadata": {},
   "outputs": [],
   "source": [
    "#Universal Module for making Pieplots and countplots\n",
    "\n",
    "def plot_pie_and_countplot(df, column, figsize=(12,5), palette='Set2'):\n",
    "    \"\"\"\n",
    "    Draws a pie chart and a countplot for a given categorical column.\n",
    "    \n",
    "    Args:\n",
    "        df (pd.DataFrame): The DataFrame containing the data.\n",
    "        column (str): The column name to plot.\n",
    "        figsize (tuple): Figure size for the subplots.\n",
    "        palette (str or list): Color palette for the countplot.\n",
    "    \"\"\"\n",
    "    fig, axes = plt.subplots(1, 2, figsize=figsize)\n",
    "    \n",
    "    # Pie chart\n",
    "    df[column].value_counts().plot.pie(\n",
    "        ax=axes[0], \n",
    "        autopct='%1.1f%%', \n",
    "        startangle=90, \n",
    "        colors=sns.color_palette(palette, df[column].nunique()),\n",
    "        wedgeprops={'edgecolor': 'white'}\n",
    "    )\n",
    "    axes[0].set_ylabel('')\n",
    "    axes[0].set_title(f'Pie Chart of {column}')\n",
    "    \n",
    "    # Countplot\n",
    "    sns.countplot(\n",
    "        x=column, \n",
    "        data=df, \n",
    "        ax=axes[1], \n",
    "        palette=palette\n",
    "    )\n",
    "    axes[1].set_title(f'Countplot of {column}')\n",
    "    axes[1].set_ylabel('Count')\n",
    "    axes[1].set_xlabel(column)\n",
    "    \n",
    "    plt.tight_layout()\n",
    "    plt.show()"
   ]
  },
  {
   "cell_type": "code",
   "execution_count": 23,
   "id": "f7909875",
   "metadata": {},
   "outputs": [
    {
     "data": {
      "image/png": "[encoded data removed]",
      "text/plain": [
       "<Figure size 1200x500 with 2 Axes>"
      ]
     },
     "metadata": {},
     "output_type": "display_data"
    }
   ],
   "source": [
    "plot_pie_and_countplot(data,\"survived\", figsize=(12, 5), palette='Set2')"
   ]
  },
  {
   "cell_type": "code",
   "execution_count": 24,
   "id": "9b4ef9d1",
   "metadata": {},
   "outputs": [
    {
     "data": {
      "application/vnd.microsoft.datawrangler.viewer.v0+json": {
       "columns": [
        {
         "name": "sex",
         "rawType": "object",
         "type": "string"
        },
        {
         "name": "survived",
         "rawType": "int64",
         "type": "integer"
        }
       ],
       "ref": "35d7c26a-6fbb-4786-9157-deb4f56389d2",
       "rows": [
        [
         "female",
         "314"
        ],
        [
         "male",
         "577"
        ]
       ],
       "shape": {
        "columns": 1,
        "rows": 2
       }
      },
      "text/plain": [
       "sex\n",
       "female    314\n",
       "male      577\n",
       "Name: survived, dtype: int64"
      ]
     },
     "execution_count": 24,
     "metadata": {},
     "output_type": "execute_result"
    }
   ],
   "source": [
    "data.groupby([\"sex\"])['survived'].count()"
   ]
  },
  {
   "cell_type": "code",
   "execution_count": 25,
   "id": "0eb8f3be",
   "metadata": {},
   "outputs": [
    {
     "data": {
      "application/vnd.microsoft.datawrangler.viewer.v0+json": {
       "columns": [
        {
         "name": "('survived', 'sex')",
         "rawType": "object",
         "type": "unknown"
        },
        {
         "name": "pclass",
         "rawType": "int64",
         "type": "integer"
        },
        {
         "name": "age",
         "rawType": "int64",
         "type": "integer"
        },
        {
         "name": "sibsp",
         "rawType": "int64",
         "type": "integer"
        },
        {
         "name": "parch",
         "rawType": "int64",
         "type": "integer"
        },
        {
         "name": "fare",
         "rawType": "int64",
         "type": "integer"
        },
        {
         "name": "embarked",
         "rawType": "int64",
         "type": "integer"
        },
        {
         "name": "class",
         "rawType": "int64",
         "type": "integer"
        },
        {
         "name": "who",
         "rawType": "int64",
         "type": "integer"
        },
        {
         "name": "adult_male",
         "rawType": "int64",
         "type": "integer"
        },
        {
         "name": "deck",
         "rawType": "int64",
         "type": "integer"
        },
        {
         "name": "embark_town",
         "rawType": "int64",
         "type": "integer"
        },
        {
         "name": "alive",
         "rawType": "int64",
         "type": "integer"
        },
        {
         "name": "alone",
         "rawType": "int64",
         "type": "integer"
        }
       ],
       "ref": "4836ec49-6f29-4bf1-889d-fc1c8a0921fb",
       "rows": [
        [
         "(np.int64(0), 'female')",
         "81",
         "64",
         "81",
         "81",
         "81",
         "81",
         "81",
         "81",
         "81",
         "6",
         "81",
         "81",
         "81"
        ],
        [
         "(np.int64(0), 'male')",
         "468",
         "360",
         "468",
         "468",
         "468",
         "468",
         "468",
         "468",
         "468",
         "61",
         "468",
         "468",
         "468"
        ],
        [
         "(np.int64(1), 'female')",
         "233",
         "197",
         "233",
         "233",
         "233",
         "231",
         "233",
         "233",
         "233",
         "91",
         "231",
         "233",
         "233"
        ],
        [
         "(np.int64(1), 'male')",
         "109",
         "93",
         "109",
         "109",
         "109",
         "109",
         "109",
         "109",
         "109",
         "45",
         "109",
         "109",
         "109"
        ]
       ],
       "shape": {
        "columns": 13,
        "rows": 4
       }
      },
      "text/html": [
       "<div>\n",
       "<style scoped>\n",
       "    .dataframe tbody tr th:only-of-type {\n",
       "        vertical-align: middle;\n",
       "    }\n",
       "\n",
       "    .dataframe tbody tr th {\n",
       "        vertical-align: top;\n",
       "    }\n",
       "\n",
       "    .dataframe thead th {\n",
       "        text-align: right;\n",
       "    }\n",
       "</style>\n",
       "<table border=\"1\" class=\"dataframe\">\n",
       "  <thead>\n",
       "    <tr style=\"text-align: right;\">\n",
       "      <th></th>\n",
       "      <th></th>\n",
       "      <th>pclass</th>\n",
       "      <th>age</th>\n",
       "      <th>sibsp</th>\n",
       "      <th>parch</th>\n",
       "      <th>fare</th>\n",
       "      <th>embarked</th>\n",
       "      <th>class</th>\n",
       "      <th>who</th>\n",
       "      <th>adult_male</th>\n",
       "      <th>deck</th>\n",
       "      <th>embark_town</th>\n",
       "      <th>alive</th>\n",
       "      <th>alone</th>\n",
       "    </tr>\n",
       "    <tr>\n",
       "      <th>survived</th>\n",
       "      <th>sex</th>\n",
       "      <th></th>\n",
       "      <th></th>\n",
       "      <th></th>\n",
       "      <th></th>\n",
       "      <th></th>\n",
       "      <th></th>\n",
       "      <th></th>\n",
       "      <th></th>\n",
       "      <th></th>\n",
       "      <th></th>\n",
       "      <th></th>\n",
       "      <th></th>\n",
       "      <th></th>\n",
       "    </tr>\n",
       "  </thead>\n",
       "  <tbody>\n",
       "    <tr>\n",
       "      <th rowspan=\"2\" valign=\"top\">0</th>\n",
       "      <th>female</th>\n",
       "      <td>81</td>\n",
       "      <td>64</td>\n",
       "      <td>81</td>\n",
       "      <td>81</td>\n",
       "      <td>81</td>\n",
       "      <td>81</td>\n",
       "      <td>81</td>\n",
       "      <td>81</td>\n",
       "      <td>81</td>\n",
       "      <td>6</td>\n",
       "      <td>81</td>\n",
       "      <td>81</td>\n",
       "      <td>81</td>\n",
       "    </tr>\n",
       "    <tr>\n",
       "      <th>male</th>\n",
       "      <td>468</td>\n",
       "      <td>360</td>\n",
       "      <td>468</td>\n",
       "      <td>468</td>\n",
       "      <td>468</td>\n",
       "      <td>468</td>\n",
       "      <td>468</td>\n",
       "      <td>468</td>\n",
       "      <td>468</td>\n",
       "      <td>61</td>\n",
       "      <td>468</td>\n",
       "      <td>468</td>\n",
       "      <td>468</td>\n",
       "    </tr>\n",
       "    <tr>\n",
       "      <th rowspan=\"2\" valign=\"top\">1</th>\n",
       "      <th>female</th>\n",
       "      <td>233</td>\n",
       "      <td>197</td>\n",
       "      <td>233</td>\n",
       "      <td>233</td>\n",
       "      <td>233</td>\n",
       "      <td>231</td>\n",
       "      <td>233</td>\n",
       "      <td>233</td>\n",
       "      <td>233</td>\n",
       "      <td>91</td>\n",
       "      <td>231</td>\n",
       "      <td>233</td>\n",
       "      <td>233</td>\n",
       "    </tr>\n",
       "    <tr>\n",
       "      <th>male</th>\n",
       "      <td>109</td>\n",
       "      <td>93</td>\n",
       "      <td>109</td>\n",
       "      <td>109</td>\n",
       "      <td>109</td>\n",
       "      <td>109</td>\n",
       "      <td>109</td>\n",
       "      <td>109</td>\n",
       "      <td>109</td>\n",
       "      <td>45</td>\n",
       "      <td>109</td>\n",
       "      <td>109</td>\n",
       "      <td>109</td>\n",
       "    </tr>\n",
       "  </tbody>\n",
       "</table>\n",
       "</div>"
      ],
      "text/plain": [
       "                 pclass  age  sibsp  parch  fare  embarked  class  who  \\\n",
       "survived sex                                                             \n",
       "0        female      81   64     81     81    81        81     81   81   \n",
       "         male       468  360    468    468   468       468    468  468   \n",
       "1        female     233  197    233    233   233       231    233  233   \n",
       "         male       109   93    109    109   109       109    109  109   \n",
       "\n",
       "                 adult_male  deck  embark_town  alive  alone  \n",
       "survived sex                                                  \n",
       "0        female          81     6           81     81     81  \n",
       "         male           468    61          468    468    468  \n",
       "1        female         233    91          231    233    233  \n",
       "         male           109    45          109    109    109  "
      ]
     },
     "execution_count": 25,
     "metadata": {},
     "output_type": "execute_result"
    }
   ],
   "source": [
    "data.groupby(['survived','sex']).count()"
   ]
  },
  {
   "cell_type": "code",
   "execution_count": 26,
   "id": "1b4539dc",
   "metadata": {},
   "outputs": [
    {
     "data": {
      "application/vnd.microsoft.datawrangler.viewer.v0+json": {
       "columns": [
        {
         "name": "('survived', 'sex')",
         "rawType": "object",
         "type": "unknown"
        },
        {
         "name": "survived",
         "rawType": "int64",
         "type": "integer"
        }
       ],
       "ref": "7643cb74-62a4-4485-ae39-2098646060bb",
       "rows": [
        [
         "(np.int64(0), 'female')",
         "81"
        ],
        [
         "(np.int64(0), 'male')",
         "468"
        ],
        [
         "(np.int64(1), 'female')",
         "233"
        ],
        [
         "(np.int64(1), 'male')",
         "109"
        ]
       ],
       "shape": {
        "columns": 1,
        "rows": 4
       }
      },
      "text/html": [
       "<div>\n",
       "<style scoped>\n",
       "    .dataframe tbody tr th:only-of-type {\n",
       "        vertical-align: middle;\n",
       "    }\n",
       "\n",
       "    .dataframe tbody tr th {\n",
       "        vertical-align: top;\n",
       "    }\n",
       "\n",
       "    .dataframe thead th {\n",
       "        text-align: right;\n",
       "    }\n",
       "</style>\n",
       "<table border=\"1\" class=\"dataframe\">\n",
       "  <thead>\n",
       "    <tr style=\"text-align: right;\">\n",
       "      <th></th>\n",
       "      <th></th>\n",
       "      <th>survived</th>\n",
       "    </tr>\n",
       "    <tr>\n",
       "      <th>survived</th>\n",
       "      <th>sex</th>\n",
       "      <th></th>\n",
       "    </tr>\n",
       "  </thead>\n",
       "  <tbody>\n",
       "    <tr>\n",
       "      <th rowspan=\"2\" valign=\"top\">0</th>\n",
       "      <th>female</th>\n",
       "      <td>81</td>\n",
       "    </tr>\n",
       "    <tr>\n",
       "      <th>male</th>\n",
       "      <td>468</td>\n",
       "    </tr>\n",
       "    <tr>\n",
       "      <th rowspan=\"2\" valign=\"top\">1</th>\n",
       "      <th>female</th>\n",
       "      <td>233</td>\n",
       "    </tr>\n",
       "    <tr>\n",
       "      <th>male</th>\n",
       "      <td>109</td>\n",
       "    </tr>\n",
       "  </tbody>\n",
       "</table>\n",
       "</div>"
      ],
      "text/plain": [
       "                 survived\n",
       "survived sex             \n",
       "0        female        81\n",
       "         male         468\n",
       "1        female       233\n",
       "         male         109"
      ]
     },
     "execution_count": 26,
     "metadata": {},
     "output_type": "execute_result"
    }
   ],
   "source": [
    "data.groupby(['survived','sex'])[['survived']].count()"
   ]
  },
  {
   "cell_type": "code",
   "execution_count": 27,
   "id": "d644d514",
   "metadata": {},
   "outputs": [
    {
     "data": {
      "text/plain": [
       "Text(0.5, 1.0, 'Survived Based on sex')"
      ]
     },
     "execution_count": 27,
     "metadata": {},
     "output_type": "execute_result"
    },
    {
     "data": {
      "image/png": "[encoded data removed]",
      "text/plain": [
       "<Figure size 1200x500 with 2 Axes>"
      ]
     },
     "metadata": {},
     "output_type": "display_data"
    }
   ],
   "source": [
    "fig, axes = plt.subplots(1, 2, figsize=(12, 5))\n",
    "\n",
    "sns.countplot(x='sex',data=data, ax=axes[0])\n",
    "axes[0].set_title(\"SEX: MALE VS FEMALE\")\n",
    "\n",
    "sns.countplot(x='sex', hue='survived', data = data, ax=axes[1])\n",
    "axes[1].set_title(\"Survived Based on sex\")"
   ]
  },
  {
   "cell_type": "code",
   "execution_count": 28,
   "id": "c99033c6",
   "metadata": {},
   "outputs": [
    {
     "data": {
      "application/vnd.microsoft.datawrangler.viewer.v0+json": {
       "columns": [
        {
         "name": "pclass",
         "rawType": "int64",
         "type": "integer"
        },
        {
         "name": "0",
         "rawType": "int64",
         "type": "integer"
        },
        {
         "name": "1",
         "rawType": "int64",
         "type": "integer"
        }
       ],
       "ref": "cb29d8d4-5233-460c-a5e3-ae5e83068cd9",
       "rows": [
        [
         "1",
         "80",
         "136"
        ],
        [
         "2",
         "97",
         "87"
        ],
        [
         "3",
         "372",
         "119"
        ]
       ],
       "shape": {
        "columns": 2,
        "rows": 3
       }
      },
      "text/html": [
       "<div>\n",
       "<style scoped>\n",
       "    .dataframe tbody tr th:only-of-type {\n",
       "        vertical-align: middle;\n",
       "    }\n",
       "\n",
       "    .dataframe tbody tr th {\n",
       "        vertical-align: top;\n",
       "    }\n",
       "\n",
       "    .dataframe thead th {\n",
       "        text-align: right;\n",
       "    }\n",
       "</style>\n",
       "<table border=\"1\" class=\"dataframe\">\n",
       "  <thead>\n",
       "    <tr style=\"text-align: right;\">\n",
       "      <th>survived</th>\n",
       "      <th>0</th>\n",
       "      <th>1</th>\n",
       "    </tr>\n",
       "    <tr>\n",
       "      <th>pclass</th>\n",
       "      <th></th>\n",
       "      <th></th>\n",
       "    </tr>\n",
       "  </thead>\n",
       "  <tbody>\n",
       "    <tr>\n",
       "      <th>1</th>\n",
       "      <td>80</td>\n",
       "      <td>136</td>\n",
       "    </tr>\n",
       "    <tr>\n",
       "      <th>2</th>\n",
       "      <td>97</td>\n",
       "      <td>87</td>\n",
       "    </tr>\n",
       "    <tr>\n",
       "      <th>3</th>\n",
       "      <td>372</td>\n",
       "      <td>119</td>\n",
       "    </tr>\n",
       "  </tbody>\n",
       "</table>\n",
       "</div>"
      ],
      "text/plain": [
       "survived    0    1\n",
       "pclass            \n",
       "1          80  136\n",
       "2          97   87\n",
       "3         372  119"
      ]
     },
     "execution_count": 28,
     "metadata": {},
     "output_type": "execute_result"
    }
   ],
   "source": [
    "pd.crosstab(data.pclass, data.survived)"
   ]
  },
  {
   "cell_type": "code",
   "execution_count": 29,
   "id": "331d8e30",
   "metadata": {},
   "outputs": [
    {
     "data": {
      "application/vnd.microsoft.datawrangler.viewer.v0+json": {
       "columns": [
        {
         "name": "index",
         "rawType": "int64",
         "type": "integer"
        },
        {
         "name": "survived",
         "rawType": "int64",
         "type": "integer"
        },
        {
         "name": "pclass",
         "rawType": "int64",
         "type": "integer"
        },
        {
         "name": "sex",
         "rawType": "object",
         "type": "string"
        },
        {
         "name": "age",
         "rawType": "float64",
         "type": "float"
        },
        {
         "name": "sibsp",
         "rawType": "int64",
         "type": "integer"
        },
        {
         "name": "parch",
         "rawType": "int64",
         "type": "integer"
        },
        {
         "name": "fare",
         "rawType": "float64",
         "type": "float"
        },
        {
         "name": "embarked",
         "rawType": "object",
         "type": "string"
        },
        {
         "name": "class",
         "rawType": "category",
         "type": "unknown"
        },
        {
         "name": "who",
         "rawType": "object",
         "type": "string"
        },
        {
         "name": "adult_male",
         "rawType": "bool",
         "type": "boolean"
        },
        {
         "name": "deck",
         "rawType": "category",
         "type": "unknown"
        },
        {
         "name": "embark_town",
         "rawType": "object",
         "type": "string"
        },
        {
         "name": "alive",
         "rawType": "object",
         "type": "string"
        },
        {
         "name": "alone",
         "rawType": "bool",
         "type": "boolean"
        }
       ],
       "ref": "a5269125-7a17-4ba9-a7ad-d381edfba67c",
       "rows": [
        [
         "0",
         "0",
         "3",
         "male",
         "22.0",
         "1",
         "0",
         "7.25",
         "S",
         "Third",
         "man",
         "True",
         null,
         "Southampton",
         "no",
         "False"
        ],
        [
         "1",
         "1",
         "1",
         "female",
         "38.0",
         "1",
         "0",
         "71.2833",
         "C",
         "First",
         "woman",
         "False",
         "C",
         "Cherbourg",
         "yes",
         "False"
        ],
        [
         "2",
         "1",
         "3",
         "female",
         "26.0",
         "0",
         "0",
         "7.925",
         "S",
         "Third",
         "woman",
         "False",
         null,
         "Southampton",
         "yes",
         "True"
        ],
        [
         "3",
         "1",
         "1",
         "female",
         "35.0",
         "1",
         "0",
         "53.1",
         "S",
         "First",
         "woman",
         "False",
         "C",
         "Southampton",
         "yes",
         "False"
        ],
        [
         "4",
         "0",
         "3",
         "male",
         "35.0",
         "0",
         "0",
         "8.05",
         "S",
         "Third",
         "man",
         "True",
         null,
         "Southampton",
         "no",
         "True"
        ]
       ],
       "shape": {
        "columns": 15,
        "rows": 5
       }
      },
      "text/html": [
       "<div>\n",
       "<style scoped>\n",
       "    .dataframe tbody tr th:only-of-type {\n",
       "        vertical-align: middle;\n",
       "    }\n",
       "\n",
       "    .dataframe tbody tr th {\n",
       "        vertical-align: top;\n",
       "    }\n",
       "\n",
       "    .dataframe thead th {\n",
       "        text-align: right;\n",
       "    }\n",
       "</style>\n",
       "<table border=\"1\" class=\"dataframe\">\n",
       "  <thead>\n",
       "    <tr style=\"text-align: right;\">\n",
       "      <th></th>\n",
       "      <th>survived</th>\n",
       "      <th>pclass</th>\n",
       "      <th>sex</th>\n",
       "      <th>age</th>\n",
       "      <th>sibsp</th>\n",
       "      <th>parch</th>\n",
       "      <th>fare</th>\n",
       "      <th>embarked</th>\n",
       "      <th>class</th>\n",
       "      <th>who</th>\n",
       "      <th>adult_male</th>\n",
       "      <th>deck</th>\n",
       "      <th>embark_town</th>\n",
       "      <th>alive</th>\n",
       "      <th>alone</th>\n",
       "    </tr>\n",
       "  </thead>\n",
       "  <tbody>\n",
       "    <tr>\n",
       "      <th>0</th>\n",
       "      <td>0</td>\n",
       "      <td>3</td>\n",
       "      <td>male</td>\n",
       "      <td>22.0</td>\n",
       "      <td>1</td>\n",
       "      <td>0</td>\n",
       "      <td>7.2500</td>\n",
       "      <td>S</td>\n",
       "      <td>Third</td>\n",
       "      <td>man</td>\n",
       "      <td>True</td>\n",
       "      <td>NaN</td>\n",
       "      <td>Southampton</td>\n",
       "      <td>no</td>\n",
       "      <td>False</td>\n",
       "    </tr>\n",
       "    <tr>\n",
       "      <th>1</th>\n",
       "      <td>1</td>\n",
       "      <td>1</td>\n",
       "      <td>female</td>\n",
       "      <td>38.0</td>\n",
       "      <td>1</td>\n",
       "      <td>0</td>\n",
       "      <td>71.2833</td>\n",
       "      <td>C</td>\n",
       "      <td>First</td>\n",
       "      <td>woman</td>\n",
       "      <td>False</td>\n",
       "      <td>C</td>\n",
       "      <td>Cherbourg</td>\n",
       "      <td>yes</td>\n",
       "      <td>False</td>\n",
       "    </tr>\n",
       "    <tr>\n",
       "      <th>2</th>\n",
       "      <td>1</td>\n",
       "      <td>3</td>\n",
       "      <td>female</td>\n",
       "      <td>26.0</td>\n",
       "      <td>0</td>\n",
       "      <td>0</td>\n",
       "      <td>7.9250</td>\n",
       "      <td>S</td>\n",
       "      <td>Third</td>\n",
       "      <td>woman</td>\n",
       "      <td>False</td>\n",
       "      <td>NaN</td>\n",
       "      <td>Southampton</td>\n",
       "      <td>yes</td>\n",
       "      <td>True</td>\n",
       "    </tr>\n",
       "    <tr>\n",
       "      <th>3</th>\n",
       "      <td>1</td>\n",
       "      <td>1</td>\n",
       "      <td>female</td>\n",
       "      <td>35.0</td>\n",
       "      <td>1</td>\n",
       "      <td>0</td>\n",
       "      <td>53.1000</td>\n",
       "      <td>S</td>\n",
       "      <td>First</td>\n",
       "      <td>woman</td>\n",
       "      <td>False</td>\n",
       "      <td>C</td>\n",
       "      <td>Southampton</td>\n",
       "      <td>yes</td>\n",
       "      <td>False</td>\n",
       "    </tr>\n",
       "    <tr>\n",
       "      <th>4</th>\n",
       "      <td>0</td>\n",
       "      <td>3</td>\n",
       "      <td>male</td>\n",
       "      <td>35.0</td>\n",
       "      <td>0</td>\n",
       "      <td>0</td>\n",
       "      <td>8.0500</td>\n",
       "      <td>S</td>\n",
       "      <td>Third</td>\n",
       "      <td>man</td>\n",
       "      <td>True</td>\n",
       "      <td>NaN</td>\n",
       "      <td>Southampton</td>\n",
       "      <td>no</td>\n",
       "      <td>True</td>\n",
       "    </tr>\n",
       "  </tbody>\n",
       "</table>\n",
       "</div>"
      ],
      "text/plain": [
       "   survived  pclass     sex   age  sibsp  parch     fare embarked  class  \\\n",
       "0         0       3    male  22.0      1      0   7.2500        S  Third   \n",
       "1         1       1  female  38.0      1      0  71.2833        C  First   \n",
       "2         1       3  female  26.0      0      0   7.9250        S  Third   \n",
       "3         1       1  female  35.0      1      0  53.1000        S  First   \n",
       "4         0       3    male  35.0      0      0   8.0500        S  Third   \n",
       "\n",
       "     who  adult_male deck  embark_town alive  alone  \n",
       "0    man        True  NaN  Southampton    no  False  \n",
       "1  woman       False    C    Cherbourg   yes  False  \n",
       "2  woman       False  NaN  Southampton   yes   True  \n",
       "3  woman       False    C  Southampton   yes  False  \n",
       "4    man        True  NaN  Southampton    no   True  "
      ]
     },
     "execution_count": 29,
     "metadata": {},
     "output_type": "execute_result"
    }
   ],
   "source": [
    "data.head()"
   ]
  },
  {
   "cell_type": "code",
   "execution_count": 30,
   "id": "8525dc09",
   "metadata": {},
   "outputs": [
    {
     "data": {
      "application/vnd.microsoft.datawrangler.viewer.v0+json": {
       "columns": [
        {
         "name": "pclass",
         "rawType": "int64",
         "type": "integer"
        },
        {
         "name": "female",
         "rawType": "int64",
         "type": "integer"
        },
        {
         "name": "male",
         "rawType": "int64",
         "type": "integer"
        }
       ],
       "ref": "37dff5c4-7f1a-482d-873c-31f89c60d64b",
       "rows": [
        [
         "1",
         "94",
         "122"
        ],
        [
         "2",
         "76",
         "108"
        ],
        [
         "3",
         "144",
         "347"
        ]
       ],
       "shape": {
        "columns": 2,
        "rows": 3
       }
      },
      "text/html": [
       "<div>\n",
       "<style scoped>\n",
       "    .dataframe tbody tr th:only-of-type {\n",
       "        vertical-align: middle;\n",
       "    }\n",
       "\n",
       "    .dataframe tbody tr th {\n",
       "        vertical-align: top;\n",
       "    }\n",
       "\n",
       "    .dataframe thead th {\n",
       "        text-align: right;\n",
       "    }\n",
       "</style>\n",
       "<table border=\"1\" class=\"dataframe\">\n",
       "  <thead>\n",
       "    <tr style=\"text-align: right;\">\n",
       "      <th>sex</th>\n",
       "      <th>female</th>\n",
       "      <th>male</th>\n",
       "    </tr>\n",
       "    <tr>\n",
       "      <th>pclass</th>\n",
       "      <th></th>\n",
       "      <th></th>\n",
       "    </tr>\n",
       "  </thead>\n",
       "  <tbody>\n",
       "    <tr>\n",
       "      <th>1</th>\n",
       "      <td>94</td>\n",
       "      <td>122</td>\n",
       "    </tr>\n",
       "    <tr>\n",
       "      <th>2</th>\n",
       "      <td>76</td>\n",
       "      <td>108</td>\n",
       "    </tr>\n",
       "    <tr>\n",
       "      <th>3</th>\n",
       "      <td>144</td>\n",
       "      <td>347</td>\n",
       "    </tr>\n",
       "  </tbody>\n",
       "</table>\n",
       "</div>"
      ],
      "text/plain": [
       "sex     female  male\n",
       "pclass              \n",
       "1           94   122\n",
       "2           76   108\n",
       "3          144   347"
      ]
     },
     "execution_count": 30,
     "metadata": {},
     "output_type": "execute_result"
    }
   ],
   "source": [
    "#death and alive based on class\n",
    "pd.crosstab(data.pclass, data.sex)"
   ]
  },
  {
   "cell_type": "code",
   "execution_count": 31,
   "id": "68160135",
   "metadata": {},
   "outputs": [
    {
     "data": {
      "application/vnd.microsoft.datawrangler.viewer.v0+json": {
       "columns": [
        {
         "name": "embarked",
         "rawType": "object",
         "type": "string"
        },
        {
         "name": "0",
         "rawType": "int64",
         "type": "integer"
        },
        {
         "name": "1",
         "rawType": "int64",
         "type": "integer"
        }
       ],
       "ref": "589395b2-df7d-42fe-af63-a064ed2b81e1",
       "rows": [
        [
         "C",
         "75",
         "93"
        ],
        [
         "Q",
         "47",
         "30"
        ],
        [
         "S",
         "427",
         "217"
        ]
       ],
       "shape": {
        "columns": 2,
        "rows": 3
       }
      },
      "text/html": [
       "<div>\n",
       "<style scoped>\n",
       "    .dataframe tbody tr th:only-of-type {\n",
       "        vertical-align: middle;\n",
       "    }\n",
       "\n",
       "    .dataframe tbody tr th {\n",
       "        vertical-align: top;\n",
       "    }\n",
       "\n",
       "    .dataframe thead th {\n",
       "        text-align: right;\n",
       "    }\n",
       "</style>\n",
       "<table border=\"1\" class=\"dataframe\">\n",
       "  <thead>\n",
       "    <tr style=\"text-align: right;\">\n",
       "      <th>survived</th>\n",
       "      <th>0</th>\n",
       "      <th>1</th>\n",
       "    </tr>\n",
       "    <tr>\n",
       "      <th>embarked</th>\n",
       "      <th></th>\n",
       "      <th></th>\n",
       "    </tr>\n",
       "  </thead>\n",
       "  <tbody>\n",
       "    <tr>\n",
       "      <th>C</th>\n",
       "      <td>75</td>\n",
       "      <td>93</td>\n",
       "    </tr>\n",
       "    <tr>\n",
       "      <th>Q</th>\n",
       "      <td>47</td>\n",
       "      <td>30</td>\n",
       "    </tr>\n",
       "    <tr>\n",
       "      <th>S</th>\n",
       "      <td>427</td>\n",
       "      <td>217</td>\n",
       "    </tr>\n",
       "  </tbody>\n",
       "</table>\n",
       "</div>"
      ],
      "text/plain": [
       "survived    0    1\n",
       "embarked          \n",
       "C          75   93\n",
       "Q          47   30\n",
       "S         427  217"
      ]
     },
     "execution_count": 31,
     "metadata": {},
     "output_type": "execute_result"
    }
   ],
   "source": [
    "#death and alive based on Embarkment\n",
    "pd.crosstab(data.embarked, data.survived)"
   ]
  },
  {
   "cell_type": "code",
   "execution_count": 32,
   "id": "7dd488d0",
   "metadata": {},
   "outputs": [
    {
     "data": {
      "image/png": "[encoded data removed]",
      "text/plain": [
       "<Figure size 1200x600 with 2 Axes>"
      ]
     },
     "metadata": {},
     "output_type": "display_data"
    }
   ],
   "source": [
    "fig, ax = plt.subplots(1,2,figsize=(12,6))\n",
    "\n",
    "data[data['survived']==0].plot.hist(ax=ax[0],y='age',bins=20,color='red',alpha=0.5,edgecolor='black')\n",
    "data[data['survived']==1].plot.hist(ax=ax[1],y='age',bins=20,color='green',alpha=0.5,edgecolor='black')\n",
    "ax[0].set_title('Age Distribution of Deceased Passengers')\n",
    "ax[1].set_title('Age Distribution of Survived Passengers')\n",
    "plt.tight_layout()"
   ]
  },
  {
   "cell_type": "code",
   "execution_count": 33,
   "id": "7895a729",
   "metadata": {},
   "outputs": [
    {
     "data": {
      "application/vnd.microsoft.datawrangler.viewer.v0+json": {
       "columns": [
        {
         "name": "age_group",
         "rawType": "object",
         "type": "unknown"
        },
        {
         "name": "count",
         "rawType": "int64",
         "type": "integer"
        }
       ],
       "ref": "24c944a1-59e8-4f72-b3f5-b762f60afddc",
       "rows": [
        [
         "young",
         "346"
        ],
        [
         "middle",
         "188"
        ],
        [
         "0",
         "177"
        ],
        [
         "Child",
         "100"
        ],
        [
         "old",
         "69"
        ],
        [
         "upper old",
         "11"
        ]
       ],
       "shape": {
        "columns": 1,
        "rows": 6
       }
      },
      "text/html": [
       "<div>\n",
       "<style scoped>\n",
       "    .dataframe tbody tr th:only-of-type {\n",
       "        vertical-align: middle;\n",
       "    }\n",
       "\n",
       "    .dataframe tbody tr th {\n",
       "        vertical-align: top;\n",
       "    }\n",
       "\n",
       "    .dataframe thead th {\n",
       "        text-align: right;\n",
       "    }\n",
       "</style>\n",
       "<table border=\"1\" class=\"dataframe\">\n",
       "  <thead>\n",
       "    <tr style=\"text-align: right;\">\n",
       "      <th></th>\n",
       "      <th>count</th>\n",
       "    </tr>\n",
       "    <tr>\n",
       "      <th>age_group</th>\n",
       "      <th></th>\n",
       "    </tr>\n",
       "  </thead>\n",
       "  <tbody>\n",
       "    <tr>\n",
       "      <th>young</th>\n",
       "      <td>346</td>\n",
       "    </tr>\n",
       "    <tr>\n",
       "      <th>middle</th>\n",
       "      <td>188</td>\n",
       "    </tr>\n",
       "    <tr>\n",
       "      <th>0</th>\n",
       "      <td>177</td>\n",
       "    </tr>\n",
       "    <tr>\n",
       "      <th>Child</th>\n",
       "      <td>100</td>\n",
       "    </tr>\n",
       "    <tr>\n",
       "      <th>old</th>\n",
       "      <td>69</td>\n",
       "    </tr>\n",
       "    <tr>\n",
       "      <th>upper old</th>\n",
       "      <td>11</td>\n",
       "    </tr>\n",
       "  </tbody>\n",
       "</table>\n",
       "</div>"
      ],
      "text/plain": [
       "           count\n",
       "age_group       \n",
       "young        346\n",
       "middle       188\n",
       "0            177\n",
       "Child        100\n",
       "old           69\n",
       "upper old     11"
      ]
     },
     "execution_count": 33,
     "metadata": {},
     "output_type": "execute_result"
    }
   ],
   "source": [
    "data['age_group']=0\n",
    "\n",
    "data.loc[data['age']<=16,'age_group']='Child'\n",
    "data.loc[(data['age']>16) & (data['age']<=32),'age_group']='young'\n",
    "data.loc[(data['age']>32) & (data['age']<=48),'age_group']='middle'\n",
    "data.loc[(data['age']>48) & (data['age']<=64),'age_group']='old'\n",
    "data.loc[data['age']>64,'age_group']='upper old'\n",
    "\n",
    "data['age_group'].value_counts().to_frame()"
   ]
  },
  {
   "cell_type": "code",
   "execution_count": 34,
   "id": "99795621",
   "metadata": {},
   "outputs": [
    {
     "data": {
      "application/vnd.microsoft.datawrangler.viewer.v0+json": {
       "columns": [
        {
         "name": "age_group",
         "rawType": "object",
         "type": "unknown"
        },
        {
         "name": "survived",
         "rawType": "int64",
         "type": "integer"
        }
       ],
       "ref": "d21f1fe8-9b50-4767-8720-7017b3bd5a50",
       "rows": [
        [
         "0",
         "52"
        ],
        [
         "Child",
         "55"
        ],
        [
         "middle",
         "76"
        ],
        [
         "old",
         "30"
        ],
        [
         "upper old",
         "1"
        ],
        [
         "young",
         "128"
        ]
       ],
       "shape": {
        "columns": 1,
        "rows": 6
       }
      },
      "text/plain": [
       "age_group\n",
       "0             52\n",
       "Child         55\n",
       "middle        76\n",
       "old           30\n",
       "upper old      1\n",
       "young        128\n",
       "Name: survived, dtype: int64"
      ]
     },
     "execution_count": 34,
     "metadata": {},
     "output_type": "execute_result"
    }
   ],
   "source": [
    "data.groupby(['age_group'])['survived'].sum()"
   ]
  },
  {
   "cell_type": "code",
   "execution_count": 35,
   "id": "1c60979a",
   "metadata": {},
   "outputs": [
    {
     "data": {
      "text/plain": [
       "<seaborn.axisgrid.FacetGrid at 0x7e0d8d14dfd0>"
      ]
     },
     "execution_count": 35,
     "metadata": {},
     "output_type": "execute_result"
    },
    {
     "data": {
      "image/png": "[encoded data removed]",
      "text/plain": [
       "<Figure size 511.111x500 with 1 Axes>"
      ]
     },
     "metadata": {},
     "output_type": "display_data"
    }
   ],
   "source": [
    "sns.catplot(x='age_group', y='survived', data=data, kind='point')"
   ]
  },
  {
   "cell_type": "code",
   "execution_count": 36,
   "id": "051209e5",
   "metadata": {},
   "outputs": [
    {
     "data": {
      "text/plain": [
       "Text(0.5, 1.0, 'Survival Count by Age Group')"
      ]
     },
     "execution_count": 36,
     "metadata": {},
     "output_type": "execute_result"
    },
    {
     "data": {
      "image/png": "[encoded data removed]",
      "text/plain": [
       "<Figure size 640x480 with 1 Axes>"
      ]
     },
     "metadata": {},
     "output_type": "display_data"
    }
   ],
   "source": [
    "sns.countplot(x='age_group', hue='survived', data=data, palette='Set2')\n",
    "plt.title('Survival Count by Age Group')"
   ]
  },
  {
   "cell_type": "code",
   "execution_count": 37,
   "id": "fcc46e56",
   "metadata": {},
   "outputs": [
    {
     "data": {
      "application/vnd.microsoft.datawrangler.viewer.v0+json": {
       "columns": [
        {
         "name": "pclass",
         "rawType": "int64",
         "type": "integer"
        },
        {
         "name": "0",
         "rawType": "int64",
         "type": "integer"
        },
        {
         "name": "Child",
         "rawType": "int64",
         "type": "integer"
        },
        {
         "name": "middle",
         "rawType": "int64",
         "type": "integer"
        },
        {
         "name": "old",
         "rawType": "int64",
         "type": "integer"
        },
        {
         "name": "upper old",
         "rawType": "int64",
         "type": "integer"
        },
        {
         "name": "young",
         "rawType": "int64",
         "type": "integer"
        }
       ],
       "ref": "66b5a535-5265-4d3f-91f5-8ad81f958d90",
       "rows": [
        [
         "1",
         "30",
         "9",
         "69",
         "43",
         "6",
         "59"
        ],
        [
         "2",
         "11",
         "21",
         "49",
         "17",
         "2",
         "84"
        ],
        [
         "3",
         "136",
         "70",
         "70",
         "9",
         "3",
         "203"
        ]
       ],
       "shape": {
        "columns": 6,
        "rows": 3
       }
      },
      "text/html": [
       "<div>\n",
       "<style scoped>\n",
       "    .dataframe tbody tr th:only-of-type {\n",
       "        vertical-align: middle;\n",
       "    }\n",
       "\n",
       "    .dataframe tbody tr th {\n",
       "        vertical-align: top;\n",
       "    }\n",
       "\n",
       "    .dataframe thead th {\n",
       "        text-align: right;\n",
       "    }\n",
       "</style>\n",
       "<table border=\"1\" class=\"dataframe\">\n",
       "  <thead>\n",
       "    <tr style=\"text-align: right;\">\n",
       "      <th>age_group</th>\n",
       "      <th>0</th>\n",
       "      <th>Child</th>\n",
       "      <th>middle</th>\n",
       "      <th>old</th>\n",
       "      <th>upper old</th>\n",
       "      <th>young</th>\n",
       "    </tr>\n",
       "    <tr>\n",
       "      <th>pclass</th>\n",
       "      <th></th>\n",
       "      <th></th>\n",
       "      <th></th>\n",
       "      <th></th>\n",
       "      <th></th>\n",
       "      <th></th>\n",
       "    </tr>\n",
       "  </thead>\n",
       "  <tbody>\n",
       "    <tr>\n",
       "      <th>1</th>\n",
       "      <td>30</td>\n",
       "      <td>9</td>\n",
       "      <td>69</td>\n",
       "      <td>43</td>\n",
       "      <td>6</td>\n",
       "      <td>59</td>\n",
       "    </tr>\n",
       "    <tr>\n",
       "      <th>2</th>\n",
       "      <td>11</td>\n",
       "      <td>21</td>\n",
       "      <td>49</td>\n",
       "      <td>17</td>\n",
       "      <td>2</td>\n",
       "      <td>84</td>\n",
       "    </tr>\n",
       "    <tr>\n",
       "      <th>3</th>\n",
       "      <td>136</td>\n",
       "      <td>70</td>\n",
       "      <td>70</td>\n",
       "      <td>9</td>\n",
       "      <td>3</td>\n",
       "      <td>203</td>\n",
       "    </tr>\n",
       "  </tbody>\n",
       "</table>\n",
       "</div>"
      ],
      "text/plain": [
       "age_group    0  Child  middle  old  upper old  young\n",
       "pclass                                              \n",
       "1           30      9      69   43          6     59\n",
       "2           11     21      49   17          2     84\n",
       "3          136     70      70    9          3    203"
      ]
     },
     "execution_count": 37,
     "metadata": {},
     "output_type": "execute_result"
    }
   ],
   "source": [
    "pd.crosstab(data.pclass, data.age_group)"
   ]
  },
  {
   "cell_type": "code",
   "execution_count": 40,
   "id": "2d02d959",
   "metadata": {},
   "outputs": [
    {
     "data": {
      "text/plain": [
       "<Axes: xlabel='pclass', ylabel='age'>"
      ]
     },
     "execution_count": 40,
     "metadata": {},
     "output_type": "execute_result"
    },
    {
     "data": {
      "image/png": "[encoded data removed]",
      "text/plain": [
       "<Figure size 640x480 with 1 Axes>"
      ]
     },
     "metadata": {},
     "output_type": "display_data"
    }
   ],
   "source": [
    "sns.violinplot(x='pclass',y='age',data=data, hue='survived', split=True, palette='Set2')"
   ]
  },
  {
   "cell_type": "code",
   "execution_count": 41,
   "id": "3b50f543",
   "metadata": {},
   "outputs": [
    {
     "data": {
      "application/vnd.microsoft.datawrangler.viewer.v0+json": {
       "columns": [
        {
         "name": "embarked",
         "rawType": "object",
         "type": "string"
        },
        {
         "name": "count",
         "rawType": "int64",
         "type": "integer"
        }
       ],
       "ref": "e5c69638-42f5-46b8-951f-f88a2503fe43",
       "rows": [
        [
         "S",
         "644"
        ],
        [
         "C",
         "168"
        ],
        [
         "Q",
         "77"
        ]
       ],
       "shape": {
        "columns": 1,
        "rows": 3
       }
      },
      "text/plain": [
       "embarked\n",
       "S    644\n",
       "C    168\n",
       "Q     77\n",
       "Name: count, dtype: int64"
      ]
     },
     "execution_count": 41,
     "metadata": {},
     "output_type": "execute_result"
    }
   ],
   "source": [
    "data['embarked'].value_counts()"
   ]
  },
  {
   "cell_type": "code",
   "execution_count": 42,
   "id": "04d3a0f8",
   "metadata": {},
   "outputs": [
    {
     "data": {
      "application/vnd.microsoft.datawrangler.viewer.v0+json": {
       "columns": [
        {
         "name": "embarked",
         "rawType": "object",
         "type": "string"
        },
        {
         "name": "survived",
         "rawType": "int64",
         "type": "integer"
        }
       ],
       "ref": "76003a7c-307e-4403-9a3b-eefe12999008",
       "rows": [
        [
         "C",
         "93"
        ],
        [
         "Q",
         "30"
        ],
        [
         "S",
         "217"
        ]
       ],
       "shape": {
        "columns": 1,
        "rows": 3
       }
      },
      "text/plain": [
       "embarked\n",
       "C     93\n",
       "Q     30\n",
       "S    217\n",
       "Name: survived, dtype: int64"
      ]
     },
     "execution_count": 42,
     "metadata": {},
     "output_type": "execute_result"
    }
   ],
   "source": [
    "data.groupby(['embarked'])['survived'].sum()"
   ]
  },
  {
   "cell_type": "code",
   "execution_count": 44,
   "id": "c10a738c",
   "metadata": {},
   "outputs": [
    {
     "data": {
      "text/plain": [
       "<seaborn.axisgrid.FacetGrid at 0x7e0d8dfe5bb0>"
      ]
     },
     "execution_count": 44,
     "metadata": {},
     "output_type": "execute_result"
    },
    {
     "data": {
      "image/png": "[encoded data removed]",
      "text/plain": [
       "<Figure size 511.111x500 with 1 Axes>"
      ]
     },
     "metadata": {},
     "output_type": "display_data"
    }
   ],
   "source": [
    "sns.catplot(x='embarked', y='survived', data=data, kind='point')"
   ]
  },
  {
   "cell_type": "code",
   "execution_count": 48,
   "id": "42043c69",
   "metadata": {},
   "outputs": [
    {
     "data": {
      "text/plain": [
       "<seaborn.axisgrid.FacetGrid at 0x7e0db3381be0>"
      ]
     },
     "execution_count": 48,
     "metadata": {},
     "output_type": "execute_result"
    },
    {
     "data": {
      "image/png": "[encoded data removed]",
      "text/plain": [
       "<Figure size 511.111x500 with 1 Axes>"
      ]
     },
     "metadata": {},
     "output_type": "display_data"
    }
   ],
   "source": [
    "sns.catplot(x='pclass',y='survived', data=data, kind='point')"
   ]
  },
  {
   "cell_type": "code",
   "execution_count": 58,
   "id": "d0bacb18",
   "metadata": {},
   "outputs": [
    {
     "data": {
      "image/png": "[encoded data removed]",
      "text/plain": [
       "<Figure size 1600x1200 with 4 Axes>"
      ]
     },
     "metadata": {},
     "output_type": "display_data"
    }
   ],
   "source": [
    "fig, ax = plt.subplots(2,2, figsize=(16,12))\n",
    "\n",
    "sns.countplot(x='embarked', data=data,color='black', ax=ax[0,0])\n",
    "ax[0,0].set_title('Count of Passengers by Embarked Port')\n",
    "\n",
    "sns.countplot(x='embarked',hue='sex', data=data, ax=ax[0,1])\n",
    "ax[0,1].set_title('Gender of Passengers by Embarked Port')\n",
    "\n",
    "sns.countplot(x='embarked',hue='survived',data=data , ax=ax[1,0])\n",
    "ax[1,0].set_title('Survival Count by Embarked Port')\n",
    "\n",
    "sns.countplot(x='embarked',hue='pclass',data=data, ax=ax[1,1])\n",
    "ax[1,1].set_title('Passenger Class by Embarked Port')\n",
    "\n",
    "plt.show()\n"
   ]
  },
  {
   "cell_type": "code",
   "execution_count": 60,
   "id": "c09f1518",
   "metadata": {},
   "outputs": [
    {
     "data": {
      "text/plain": [
       "<seaborn.axisgrid.FacetGrid at 0x7e0d8837cb00>"
      ]
     },
     "execution_count": 60,
     "metadata": {},
     "output_type": "execute_result"
    },
    {
     "data": {
      "image/png": "[encoded data removed]",
      "text/plain": [
       "<Figure size 598x500 with 1 Axes>"
      ]
     },
     "metadata": {},
     "output_type": "display_data"
    }
   ],
   "source": [
    "sns.catplot(x='pclass', y='survived',hue='sex', data=data, kind='point')"
   ]
  },
  {
   "cell_type": "code",
   "execution_count": null,
   "id": "fe7eecd2",
   "metadata": {},
   "outputs": [],
   "source": []
  }
 ],
 "metadata": {
  "kernelspec": {
   "display_name": "Python 3",
   "language": "python",
   "name": "python3"
  },
  "language_info": {
   "codemirror_mode": {
    "name": "ipython",
    "version": 3
   },
   "file_extension": ".py",
   "mimetype": "text/x-python",
   "name": "python",
   "nbconvert_exporter": "python",
   "pygments_lexer": "ipython3",
   "version": "3.12.1"
  }
 },
 "nbformat": 4,
 "nbformat_minor": 5
}
