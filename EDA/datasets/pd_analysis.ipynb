{
 "cells": [
  {
   "cell_type": "code",
   "execution_count": 1,
   "id": "0b64b9b7",
   "metadata": {},
   "outputs": [],
   "source": [
    "import pandas as pd   \n",
    "import numpy as np \n"
   ]
  },
  {
   "cell_type": "code",
   "execution_count": 3,
   "id": "50dee897",
   "metadata": {},
   "outputs": [
    {
     "data": {
      "application/vnd.microsoft.datawrangler.viewer.v0+json": {
       "columns": [
        {
         "name": "index",
         "rawType": "int64",
         "type": "integer"
        },
        {
         "name": "Name",
         "rawType": "object",
         "type": "string"
        },
        {
         "name": "Job Titles",
         "rawType": "object",
         "type": "string"
        },
        {
         "name": "Department",
         "rawType": "object",
         "type": "string"
        },
        {
         "name": "Full or Part-Time",
         "rawType": "object",
         "type": "string"
        },
        {
         "name": "Salary or Hourly",
         "rawType": "object",
         "type": "string"
        },
        {
         "name": "Typical Hours",
         "rawType": "float64",
         "type": "float"
        },
        {
         "name": "Annual Salary",
         "rawType": "object",
         "type": "string"
        },
        {
         "name": "Hourly Rate",
         "rawType": "object",
         "type": "unknown"
        }
       ],
       "conversionMethod": "pd.DataFrame",
       "ref": "22319f18-c862-4324-b567-4df513d0b41d",
       "rows": [
        [
         "0",
         "ALLISON,  PAUL W",
         "LIEUTENANT",
         "FIRE",
         "F",
         "Salary",
         null,
         "$107790.00",
         null
        ],
        [
         "1",
         "BRUNO,  KEVIN D",
         "SERGEANT",
         "POLICE",
         "F",
         "Salary",
         null,
         "$104628.00",
         null
        ],
        [
         "2",
         "COOPER,  JOHN E",
         "LIEUTENANT-EMT",
         "FIRE",
         "F",
         "Salary",
         null,
         "$114324.00",
         null
        ],
        [
         "3",
         "CRESPO,  VILMA I",
         "STAFF ASST",
         "LAW",
         "F",
         "Salary",
         null,
         "$76932.00",
         null
        ]
       ],
       "shape": {
        "columns": 8,
        "rows": 4
       }
      },
      "text/html": [
       "<div>\n",
       "<style scoped>\n",
       "    .dataframe tbody tr th:only-of-type {\n",
       "        vertical-align: middle;\n",
       "    }\n",
       "\n",
       "    .dataframe tbody tr th {\n",
       "        vertical-align: top;\n",
       "    }\n",
       "\n",
       "    .dataframe thead th {\n",
       "        text-align: right;\n",
       "    }\n",
       "</style>\n",
       "<table border=\"1\" class=\"dataframe\">\n",
       "  <thead>\n",
       "    <tr style=\"text-align: right;\">\n",
       "      <th></th>\n",
       "      <th>Name</th>\n",
       "      <th>Job Titles</th>\n",
       "      <th>Department</th>\n",
       "      <th>Full or Part-Time</th>\n",
       "      <th>Salary or Hourly</th>\n",
       "      <th>Typical Hours</th>\n",
       "      <th>Annual Salary</th>\n",
       "      <th>Hourly Rate</th>\n",
       "    </tr>\n",
       "  </thead>\n",
       "  <tbody>\n",
       "    <tr>\n",
       "      <th>0</th>\n",
       "      <td>ALLISON,  PAUL W</td>\n",
       "      <td>LIEUTENANT</td>\n",
       "      <td>FIRE</td>\n",
       "      <td>F</td>\n",
       "      <td>Salary</td>\n",
       "      <td>NaN</td>\n",
       "      <td>$107790.00</td>\n",
       "      <td>NaN</td>\n",
       "    </tr>\n",
       "    <tr>\n",
       "      <th>1</th>\n",
       "      <td>BRUNO,  KEVIN D</td>\n",
       "      <td>SERGEANT</td>\n",
       "      <td>POLICE</td>\n",
       "      <td>F</td>\n",
       "      <td>Salary</td>\n",
       "      <td>NaN</td>\n",
       "      <td>$104628.00</td>\n",
       "      <td>NaN</td>\n",
       "    </tr>\n",
       "    <tr>\n",
       "      <th>2</th>\n",
       "      <td>COOPER,  JOHN E</td>\n",
       "      <td>LIEUTENANT-EMT</td>\n",
       "      <td>FIRE</td>\n",
       "      <td>F</td>\n",
       "      <td>Salary</td>\n",
       "      <td>NaN</td>\n",
       "      <td>$114324.00</td>\n",
       "      <td>NaN</td>\n",
       "    </tr>\n",
       "    <tr>\n",
       "      <th>3</th>\n",
       "      <td>CRESPO,  VILMA I</td>\n",
       "      <td>STAFF ASST</td>\n",
       "      <td>LAW</td>\n",
       "      <td>F</td>\n",
       "      <td>Salary</td>\n",
       "      <td>NaN</td>\n",
       "      <td>$76932.00</td>\n",
       "      <td>NaN</td>\n",
       "    </tr>\n",
       "  </tbody>\n",
       "</table>\n",
       "</div>"
      ],
      "text/plain": [
       "               Name      Job Titles Department Full or Part-Time  \\\n",
       "0  ALLISON,  PAUL W      LIEUTENANT       FIRE                 F   \n",
       "1   BRUNO,  KEVIN D        SERGEANT     POLICE                 F   \n",
       "2   COOPER,  JOHN E  LIEUTENANT-EMT       FIRE                 F   \n",
       "3  CRESPO,  VILMA I      STAFF ASST        LAW                 F   \n",
       "\n",
       "  Salary or Hourly  Typical Hours Annual Salary Hourly Rate  \n",
       "0           Salary            NaN    $107790.00         NaN  \n",
       "1           Salary            NaN    $104628.00         NaN  \n",
       "2           Salary            NaN    $114324.00         NaN  \n",
       "3           Salary            NaN     $76932.00         NaN  "
      ]
     },
     "execution_count": 3,
     "metadata": {},
     "output_type": "execute_result"
    }
   ],
   "source": [
    "pay = pd.read_csv(r'/workspaces/PYTHON_ML/EDA/datasets/chicago_payroll.csv')\n",
    "pay.head(4)"
   ]
  },
  {
   "cell_type": "code",
   "execution_count": 4,
   "id": "f04ffffa",
   "metadata": {},
   "outputs": [
    {
     "name": "stdout",
     "output_type": "stream",
     "text": [
      "<class 'pandas.core.frame.DataFrame'>\n",
      "RangeIndex: 32658 entries, 0 to 32657\n",
      "Data columns (total 8 columns):\n",
      " #   Column             Non-Null Count  Dtype  \n",
      "---  ------             --------------  -----  \n",
      " 0   Name               32658 non-null  object \n",
      " 1   Job Titles         32658 non-null  object \n",
      " 2   Department         32658 non-null  object \n",
      " 3   Full or Part-Time  32658 non-null  object \n",
      " 4   Salary or Hourly   32658 non-null  object \n",
      " 5   Typical Hours      7883 non-null   float64\n",
      " 6   Annual Salary      24775 non-null  object \n",
      " 7   Hourly Rate        7883 non-null   object \n",
      "dtypes: float64(1), object(7)\n",
      "memory usage: 2.0+ MB\n"
     ]
    }
   ],
   "source": [
    "pay.info()"
   ]
  },
  {
   "cell_type": "code",
   "execution_count": 7,
   "id": "d25bf15c",
   "metadata": {},
   "outputs": [
    {
     "name": "stdout",
     "output_type": "stream",
     "text": [
      "Max Typical Hours are : 40.0\n",
      "MIn Typical Hours are : 10.0\n",
      "Average Typical Hours are : 34.69871876189268\n"
     ]
    }
   ],
   "source": [
    "print(\"Max Typical Hours are :\",pay['Typical Hours'].max())\n",
    "print(\"MIn Typical Hours are :\",pay['Typical Hours'].min())\n",
    "print(\"Average Typical Hours are :\",pay['Typical Hours'].mean())"
   ]
  },
  {
   "cell_type": "code",
   "execution_count": null,
   "id": "0a594e0a",
   "metadata": {},
   "outputs": [
    {
     "data": {
      "application/vnd.microsoft.datawrangler.viewer.v0+json": {
       "columns": [
        {
         "name": "Salary or Hourly",
         "rawType": "object",
         "type": "string"
        },
        {
         "name": "Name",
         "rawType": "int64",
         "type": "integer"
        }
       ],
       "conversionMethod": "pd.DataFrame",
       "ref": "2fbbb592-f993-4254-b320-9a7bcca16e5a",
       "rows": [
        [
         "Hourly",
         "7883"
        ],
        [
         "Salary",
         "24775"
        ]
       ],
       "shape": {
        "columns": 1,
        "rows": 2
       }
      },
      "text/html": [
       "<div>\n",
       "<style scoped>\n",
       "    .dataframe tbody tr th:only-of-type {\n",
       "        vertical-align: middle;\n",
       "    }\n",
       "\n",
       "    .dataframe tbody tr th {\n",
       "        vertical-align: top;\n",
       "    }\n",
       "\n",
       "    .dataframe thead th {\n",
       "        text-align: right;\n",
       "    }\n",
       "</style>\n",
       "<table border=\"1\" class=\"dataframe\">\n",
       "  <thead>\n",
       "    <tr style=\"text-align: right;\">\n",
       "      <th></th>\n",
       "      <th>Name</th>\n",
       "    </tr>\n",
       "    <tr>\n",
       "      <th>Salary or Hourly</th>\n",
       "      <th></th>\n",
       "    </tr>\n",
       "  </thead>\n",
       "  <tbody>\n",
       "    <tr>\n",
       "      <th>Hourly</th>\n",
       "      <td>7883</td>\n",
       "    </tr>\n",
       "    <tr>\n",
       "      <th>Salary</th>\n",
       "      <td>24775</td>\n",
       "    </tr>\n",
       "  </tbody>\n",
       "</table>\n",
       "</div>"
      ],
      "text/plain": [
       "                   Name\n",
       "Salary or Hourly       \n",
       "Hourly             7883\n",
       "Salary            24775"
      ]
     },
     "execution_count": 12,
     "metadata": {},
     "output_type": "execute_result"
    }
   ],
   "source": [
    "S_H = pay.groupby('Salary or Hourly')[['Name']].count()\n",
    "S_H"
   ]
  },
  {
   "cell_type": "code",
   "execution_count": 14,
   "id": "25605bb8",
   "metadata": {},
   "outputs": [
    {
     "data": {
      "text/plain": [
       "Salary or Hourly\n",
       "Salary    24775\n",
       "Hourly     7883\n",
       "Name: count, dtype: int64"
      ]
     },
     "execution_count": 14,
     "metadata": {},
     "output_type": "execute_result"
    }
   ],
   "source": [
    "s_h = pay['Salary or Hourly'].value_counts()\n",
    "s_h"
   ]
  },
  {
   "cell_type": "code",
   "execution_count": 20,
   "id": "bc56b354",
   "metadata": {},
   "outputs": [
    {
     "data": {
      "application/vnd.microsoft.datawrangler.viewer.v0+json": {
       "columns": [
        {
         "name": "Department",
         "rawType": "object",
         "type": "string"
        },
        {
         "name": "Name",
         "rawType": "int64",
         "type": "integer"
        }
       ],
       "conversionMethod": "pd.DataFrame",
       "ref": "9da9b948-356b-4f1f-8116-0a32bf0e610d",
       "rows": [
        [
         "ADMIN HEARNG",
         "38"
        ],
        [
         "ANIMAL CONTRL",
         "73"
        ],
        [
         "AVIATION",
         "1612"
        ],
        [
         "BOARD OF ELECTION",
         "112"
        ],
        [
         "BOARD OF ETHICS",
         "8"
        ],
        [
         "BUDGET & MGMT",
         "44"
        ],
        [
         "BUILDINGS",
         "266"
        ],
        [
         "BUSINESS AFFAIRS",
         "168"
        ],
        [
         "CITY CLERK",
         "85"
        ],
        [
         "CITY COUNCIL",
         "400"
        ],
        [
         "COMMUNITY DEVELOPMENT",
         "214"
        ],
        [
         "COPA",
         "17"
        ],
        [
         "CULTURAL AFFAIRS",
         "76"
        ],
        [
         "DISABILITIES",
         "29"
        ],
        [
         "DoIT",
         "101"
        ],
        [
         "FAMILY & SUPPORT",
         "621"
        ],
        [
         "FINANCE",
         "575"
        ],
        [
         "FIRE",
         "4800"
        ],
        [
         "GENERAL SERVICES",
         "972"
        ],
        [
         "HEALTH",
         "516"
        ],
        [
         "HUMAN RELATIONS",
         "17"
        ],
        [
         "HUMAN RESOURCES",
         "68"
        ],
        [
         "INSPECTOR GEN",
         "63"
        ],
        [
         "IPRA",
         "56"
        ],
        [
         "LAW",
         "405"
        ],
        [
         "LICENSE APPL COMM",
         "1"
        ],
        [
         "MAYOR'S OFFICE",
         "85"
        ],
        [
         "OEMC",
         "2044"
        ],
        [
         "POLICE",
         "12973"
        ],
        [
         "POLICE BOARD",
         "2"
        ],
        [
         "PROCUREMENT",
         "86"
        ],
        [
         "PUBLIC LIBRARY",
         "932"
        ],
        [
         "STREETS & SAN",
         "2194"
        ],
        [
         "TRANSPORTN",
         "1103"
        ],
        [
         "TREASURER",
         "24"
        ],
        [
         "WATER MGMNT",
         "1878"
        ]
       ],
       "shape": {
        "columns": 1,
        "rows": 36
       }
      },
      "text/html": [
       "<div>\n",
       "<style scoped>\n",
       "    .dataframe tbody tr th:only-of-type {\n",
       "        vertical-align: middle;\n",
       "    }\n",
       "\n",
       "    .dataframe tbody tr th {\n",
       "        vertical-align: top;\n",
       "    }\n",
       "\n",
       "    .dataframe thead th {\n",
       "        text-align: right;\n",
       "    }\n",
       "</style>\n",
       "<table border=\"1\" class=\"dataframe\">\n",
       "  <thead>\n",
       "    <tr style=\"text-align: right;\">\n",
       "      <th></th>\n",
       "      <th>Name</th>\n",
       "    </tr>\n",
       "    <tr>\n",
       "      <th>Department</th>\n",
       "      <th></th>\n",
       "    </tr>\n",
       "  </thead>\n",
       "  <tbody>\n",
       "    <tr>\n",
       "      <th>ADMIN HEARNG</th>\n",
       "      <td>38</td>\n",
       "    </tr>\n",
       "    <tr>\n",
       "      <th>ANIMAL CONTRL</th>\n",
       "      <td>73</td>\n",
       "    </tr>\n",
       "    <tr>\n",
       "      <th>AVIATION</th>\n",
       "      <td>1612</td>\n",
       "    </tr>\n",
       "    <tr>\n",
       "      <th>BOARD OF ELECTION</th>\n",
       "      <td>112</td>\n",
       "    </tr>\n",
       "    <tr>\n",
       "      <th>BOARD OF ETHICS</th>\n",
       "      <td>8</td>\n",
       "    </tr>\n",
       "    <tr>\n",
       "      <th>BUDGET &amp; MGMT</th>\n",
       "      <td>44</td>\n",
       "    </tr>\n",
       "    <tr>\n",
       "      <th>BUILDINGS</th>\n",
       "      <td>266</td>\n",
       "    </tr>\n",
       "    <tr>\n",
       "      <th>BUSINESS AFFAIRS</th>\n",
       "      <td>168</td>\n",
       "    </tr>\n",
       "    <tr>\n",
       "      <th>CITY CLERK</th>\n",
       "      <td>85</td>\n",
       "    </tr>\n",
       "    <tr>\n",
       "      <th>CITY COUNCIL</th>\n",
       "      <td>400</td>\n",
       "    </tr>\n",
       "    <tr>\n",
       "      <th>COMMUNITY DEVELOPMENT</th>\n",
       "      <td>214</td>\n",
       "    </tr>\n",
       "    <tr>\n",
       "      <th>COPA</th>\n",
       "      <td>17</td>\n",
       "    </tr>\n",
       "    <tr>\n",
       "      <th>CULTURAL AFFAIRS</th>\n",
       "      <td>76</td>\n",
       "    </tr>\n",
       "    <tr>\n",
       "      <th>DISABILITIES</th>\n",
       "      <td>29</td>\n",
       "    </tr>\n",
       "    <tr>\n",
       "      <th>DoIT</th>\n",
       "      <td>101</td>\n",
       "    </tr>\n",
       "    <tr>\n",
       "      <th>FAMILY &amp; SUPPORT</th>\n",
       "      <td>621</td>\n",
       "    </tr>\n",
       "    <tr>\n",
       "      <th>FINANCE</th>\n",
       "      <td>575</td>\n",
       "    </tr>\n",
       "    <tr>\n",
       "      <th>FIRE</th>\n",
       "      <td>4800</td>\n",
       "    </tr>\n",
       "    <tr>\n",
       "      <th>GENERAL SERVICES</th>\n",
       "      <td>972</td>\n",
       "    </tr>\n",
       "    <tr>\n",
       "      <th>HEALTH</th>\n",
       "      <td>516</td>\n",
       "    </tr>\n",
       "    <tr>\n",
       "      <th>HUMAN RELATIONS</th>\n",
       "      <td>17</td>\n",
       "    </tr>\n",
       "    <tr>\n",
       "      <th>HUMAN RESOURCES</th>\n",
       "      <td>68</td>\n",
       "    </tr>\n",
       "    <tr>\n",
       "      <th>INSPECTOR GEN</th>\n",
       "      <td>63</td>\n",
       "    </tr>\n",
       "    <tr>\n",
       "      <th>IPRA</th>\n",
       "      <td>56</td>\n",
       "    </tr>\n",
       "    <tr>\n",
       "      <th>LAW</th>\n",
       "      <td>405</td>\n",
       "    </tr>\n",
       "    <tr>\n",
       "      <th>LICENSE APPL COMM</th>\n",
       "      <td>1</td>\n",
       "    </tr>\n",
       "    <tr>\n",
       "      <th>MAYOR'S OFFICE</th>\n",
       "      <td>85</td>\n",
       "    </tr>\n",
       "    <tr>\n",
       "      <th>OEMC</th>\n",
       "      <td>2044</td>\n",
       "    </tr>\n",
       "    <tr>\n",
       "      <th>POLICE</th>\n",
       "      <td>12973</td>\n",
       "    </tr>\n",
       "    <tr>\n",
       "      <th>POLICE BOARD</th>\n",
       "      <td>2</td>\n",
       "    </tr>\n",
       "    <tr>\n",
       "      <th>PROCUREMENT</th>\n",
       "      <td>86</td>\n",
       "    </tr>\n",
       "    <tr>\n",
       "      <th>PUBLIC LIBRARY</th>\n",
       "      <td>932</td>\n",
       "    </tr>\n",
       "    <tr>\n",
       "      <th>STREETS &amp; SAN</th>\n",
       "      <td>2194</td>\n",
       "    </tr>\n",
       "    <tr>\n",
       "      <th>TRANSPORTN</th>\n",
       "      <td>1103</td>\n",
       "    </tr>\n",
       "    <tr>\n",
       "      <th>TREASURER</th>\n",
       "      <td>24</td>\n",
       "    </tr>\n",
       "    <tr>\n",
       "      <th>WATER MGMNT</th>\n",
       "      <td>1878</td>\n",
       "    </tr>\n",
       "  </tbody>\n",
       "</table>\n",
       "</div>"
      ],
      "text/plain": [
       "                        Name\n",
       "Department                  \n",
       "ADMIN HEARNG              38\n",
       "ANIMAL CONTRL             73\n",
       "AVIATION                1612\n",
       "BOARD OF ELECTION        112\n",
       "BOARD OF ETHICS            8\n",
       "BUDGET & MGMT             44\n",
       "BUILDINGS                266\n",
       "BUSINESS AFFAIRS         168\n",
       "CITY CLERK                85\n",
       "CITY COUNCIL             400\n",
       "COMMUNITY DEVELOPMENT    214\n",
       "COPA                      17\n",
       "CULTURAL AFFAIRS          76\n",
       "DISABILITIES              29\n",
       "DoIT                     101\n",
       "FAMILY & SUPPORT         621\n",
       "FINANCE                  575\n",
       "FIRE                    4800\n",
       "GENERAL SERVICES         972\n",
       "HEALTH                   516\n",
       "HUMAN RELATIONS           17\n",
       "HUMAN RESOURCES           68\n",
       "INSPECTOR GEN             63\n",
       "IPRA                      56\n",
       "LAW                      405\n",
       "LICENSE APPL COMM          1\n",
       "MAYOR'S OFFICE            85\n",
       "OEMC                    2044\n",
       "POLICE                 12973\n",
       "POLICE BOARD               2\n",
       "PROCUREMENT               86\n",
       "PUBLIC LIBRARY           932\n",
       "STREETS & SAN           2194\n",
       "TRANSPORTN              1103\n",
       "TREASURER                 24\n",
       "WATER MGMNT             1878"
      ]
     },
     "execution_count": 20,
     "metadata": {},
     "output_type": "execute_result"
    }
   ],
   "source": [
    "dept =pay.groupby('Department')[['Name']].count()\n",
    "\n",
    "dept"
   ]
  },
  {
   "cell_type": "code",
   "execution_count": 22,
   "id": "0fee54eb",
   "metadata": {},
   "outputs": [
    {
     "data": {
      "text/plain": [
       "Department\n",
       "POLICE                   12973\n",
       "FIRE                      4800\n",
       "STREETS & SAN             2194\n",
       "OEMC                      2044\n",
       "WATER MGMNT               1878\n",
       "AVIATION                  1612\n",
       "TRANSPORTN                1103\n",
       "GENERAL SERVICES           972\n",
       "PUBLIC LIBRARY             932\n",
       "FAMILY & SUPPORT           621\n",
       "FINANCE                    575\n",
       "HEALTH                     516\n",
       "LAW                        405\n",
       "CITY COUNCIL               400\n",
       "BUILDINGS                  266\n",
       "COMMUNITY DEVELOPMENT      214\n",
       "BUSINESS AFFAIRS           168\n",
       "BOARD OF ELECTION          112\n",
       "DoIT                       101\n",
       "PROCUREMENT                 86\n",
       "MAYOR'S OFFICE              85\n",
       "CITY CLERK                  85\n",
       "CULTURAL AFFAIRS            76\n",
       "ANIMAL CONTRL               73\n",
       "HUMAN RESOURCES             68\n",
       "INSPECTOR GEN               63\n",
       "IPRA                        56\n",
       "BUDGET & MGMT               44\n",
       "ADMIN HEARNG                38\n",
       "DISABILITIES                29\n",
       "TREASURER                   24\n",
       "HUMAN RELATIONS             17\n",
       "COPA                        17\n",
       "BOARD OF ETHICS              8\n",
       "POLICE BOARD                 2\n",
       "LICENSE APPL COMM            1\n",
       "Name: count, dtype: int64"
      ]
     },
     "execution_count": 22,
     "metadata": {},
     "output_type": "execute_result"
    }
   ],
   "source": [
    "Dept=pay['Department'].value_counts()\n",
    "Dept"
   ]
  },
  {
   "cell_type": "code",
   "execution_count": 24,
   "id": "f06f64e4",
   "metadata": {},
   "outputs": [
    {
     "data": {
      "text/plain": [
       "Name    POLICE\n",
       "dtype: object"
      ]
     },
     "execution_count": 24,
     "metadata": {},
     "output_type": "execute_result"
    }
   ],
   "source": [
    "dept =pay.groupby('Department')[['Name']].count().idxmax()\n",
    "dept"
   ]
  },
  {
   "cell_type": "code",
   "execution_count": 29,
   "id": "441afe71",
   "metadata": {},
   "outputs": [
    {
     "data": {
      "text/plain": [
       "'Salary'"
      ]
     },
     "execution_count": 29,
     "metadata": {},
     "output_type": "execute_result"
    }
   ],
   "source": [
    "dept=pay['Salary or Hourly'].value_counts().idxmax()\n",
    "dept"
   ]
  },
  {
   "cell_type": "code",
   "execution_count": 32,
   "id": "05e961f1",
   "metadata": {},
   "outputs": [
    {
     "data": {
      "text/plain": [
       "'POLICE'"
      ]
     },
     "execution_count": 32,
     "metadata": {},
     "output_type": "execute_result"
    }
   ],
   "source": [
    "dept=pay['Department'].value_counts().idxmax()\n",
    "dept"
   ]
  },
  {
   "cell_type": "code",
   "execution_count": 33,
   "id": "baaedd29",
   "metadata": {},
   "outputs": [
    {
     "data": {
      "application/vnd.microsoft.datawrangler.viewer.v0+json": {
       "columns": [
        {
         "name": "index",
         "rawType": "int64",
         "type": "integer"
        },
        {
         "name": "Name",
         "rawType": "object",
         "type": "string"
        },
        {
         "name": "Job Titles",
         "rawType": "object",
         "type": "string"
        },
        {
         "name": "Department",
         "rawType": "object",
         "type": "string"
        },
        {
         "name": "Full or Part-Time",
         "rawType": "object",
         "type": "string"
        },
        {
         "name": "Salary or Hourly",
         "rawType": "object",
         "type": "string"
        },
        {
         "name": "Typical Hours",
         "rawType": "float64",
         "type": "float"
        },
        {
         "name": "Annual Salary",
         "rawType": "object",
         "type": "string"
        },
        {
         "name": "Hourly Rate",
         "rawType": "object",
         "type": "unknown"
        }
       ],
       "conversionMethod": "pd.DataFrame",
       "ref": "c193e211-5fec-45e7-bc96-82806eede6e5",
       "rows": [
        [
         "0",
         "ALLISON,  PAUL W",
         "LIEUTENANT",
         "FIRE",
         "F",
         "Salary",
         null,
         "$107790.00",
         null
        ],
        [
         "1",
         "BRUNO,  KEVIN D",
         "SERGEANT",
         "POLICE",
         "F",
         "Salary",
         null,
         "$104628.00",
         null
        ],
        [
         "2",
         "COOPER,  JOHN E",
         "LIEUTENANT-EMT",
         "FIRE",
         "F",
         "Salary",
         null,
         "$114324.00",
         null
        ],
        [
         "3",
         "CRESPO,  VILMA I",
         "STAFF ASST",
         "LAW",
         "F",
         "Salary",
         null,
         "$76932.00",
         null
        ],
        [
         "4",
         "DOLAN,  ROBERT J",
         "SERGEANT",
         "POLICE",
         "F",
         "Salary",
         null,
         "$111474.00",
         null
        ],
        [
         "5",
         "DUBERT,  TOMASZ ",
         "PARAMEDIC I/C",
         "FIRE",
         "F",
         "Salary",
         null,
         "$91080.00",
         null
        ],
        [
         "6",
         "EDWARDS,  TIM P",
         "LIEUTENANT",
         "FIRE",
         "F",
         "Salary",
         null,
         "$114846.00",
         null
        ],
        [
         "7",
         "ELKINS,  ERIC J",
         "SERGEANT",
         "POLICE",
         "F",
         "Salary",
         null,
         "$104628.00",
         null
        ],
        [
         "8",
         "ESTRADA,  LUIS F",
         "POLICE OFFICER",
         "POLICE",
         "F",
         "Salary",
         null,
         "$96060.00",
         null
        ],
        [
         "9",
         "EWING,  MARIE A",
         "CLERK III",
         "POLICE",
         "F",
         "Salary",
         null,
         "$53076.00",
         null
        ]
       ],
       "shape": {
        "columns": 8,
        "rows": 10
       }
      },
      "text/html": [
       "<div>\n",
       "<style scoped>\n",
       "    .dataframe tbody tr th:only-of-type {\n",
       "        vertical-align: middle;\n",
       "    }\n",
       "\n",
       "    .dataframe tbody tr th {\n",
       "        vertical-align: top;\n",
       "    }\n",
       "\n",
       "    .dataframe thead th {\n",
       "        text-align: right;\n",
       "    }\n",
       "</style>\n",
       "<table border=\"1\" class=\"dataframe\">\n",
       "  <thead>\n",
       "    <tr style=\"text-align: right;\">\n",
       "      <th></th>\n",
       "      <th>Name</th>\n",
       "      <th>Job Titles</th>\n",
       "      <th>Department</th>\n",
       "      <th>Full or Part-Time</th>\n",
       "      <th>Salary or Hourly</th>\n",
       "      <th>Typical Hours</th>\n",
       "      <th>Annual Salary</th>\n",
       "      <th>Hourly Rate</th>\n",
       "    </tr>\n",
       "  </thead>\n",
       "  <tbody>\n",
       "    <tr>\n",
       "      <th>0</th>\n",
       "      <td>ALLISON,  PAUL W</td>\n",
       "      <td>LIEUTENANT</td>\n",
       "      <td>FIRE</td>\n",
       "      <td>F</td>\n",
       "      <td>Salary</td>\n",
       "      <td>NaN</td>\n",
       "      <td>$107790.00</td>\n",
       "      <td>NaN</td>\n",
       "    </tr>\n",
       "    <tr>\n",
       "      <th>1</th>\n",
       "      <td>BRUNO,  KEVIN D</td>\n",
       "      <td>SERGEANT</td>\n",
       "      <td>POLICE</td>\n",
       "      <td>F</td>\n",
       "      <td>Salary</td>\n",
       "      <td>NaN</td>\n",
       "      <td>$104628.00</td>\n",
       "      <td>NaN</td>\n",
       "    </tr>\n",
       "    <tr>\n",
       "      <th>2</th>\n",
       "      <td>COOPER,  JOHN E</td>\n",
       "      <td>LIEUTENANT-EMT</td>\n",
       "      <td>FIRE</td>\n",
       "      <td>F</td>\n",
       "      <td>Salary</td>\n",
       "      <td>NaN</td>\n",
       "      <td>$114324.00</td>\n",
       "      <td>NaN</td>\n",
       "    </tr>\n",
       "    <tr>\n",
       "      <th>3</th>\n",
       "      <td>CRESPO,  VILMA I</td>\n",
       "      <td>STAFF ASST</td>\n",
       "      <td>LAW</td>\n",
       "      <td>F</td>\n",
       "      <td>Salary</td>\n",
       "      <td>NaN</td>\n",
       "      <td>$76932.00</td>\n",
       "      <td>NaN</td>\n",
       "    </tr>\n",
       "    <tr>\n",
       "      <th>4</th>\n",
       "      <td>DOLAN,  ROBERT J</td>\n",
       "      <td>SERGEANT</td>\n",
       "      <td>POLICE</td>\n",
       "      <td>F</td>\n",
       "      <td>Salary</td>\n",
       "      <td>NaN</td>\n",
       "      <td>$111474.00</td>\n",
       "      <td>NaN</td>\n",
       "    </tr>\n",
       "    <tr>\n",
       "      <th>5</th>\n",
       "      <td>DUBERT,  TOMASZ</td>\n",
       "      <td>PARAMEDIC I/C</td>\n",
       "      <td>FIRE</td>\n",
       "      <td>F</td>\n",
       "      <td>Salary</td>\n",
       "      <td>NaN</td>\n",
       "      <td>$91080.00</td>\n",
       "      <td>NaN</td>\n",
       "    </tr>\n",
       "    <tr>\n",
       "      <th>6</th>\n",
       "      <td>EDWARDS,  TIM P</td>\n",
       "      <td>LIEUTENANT</td>\n",
       "      <td>FIRE</td>\n",
       "      <td>F</td>\n",
       "      <td>Salary</td>\n",
       "      <td>NaN</td>\n",
       "      <td>$114846.00</td>\n",
       "      <td>NaN</td>\n",
       "    </tr>\n",
       "    <tr>\n",
       "      <th>7</th>\n",
       "      <td>ELKINS,  ERIC J</td>\n",
       "      <td>SERGEANT</td>\n",
       "      <td>POLICE</td>\n",
       "      <td>F</td>\n",
       "      <td>Salary</td>\n",
       "      <td>NaN</td>\n",
       "      <td>$104628.00</td>\n",
       "      <td>NaN</td>\n",
       "    </tr>\n",
       "    <tr>\n",
       "      <th>8</th>\n",
       "      <td>ESTRADA,  LUIS F</td>\n",
       "      <td>POLICE OFFICER</td>\n",
       "      <td>POLICE</td>\n",
       "      <td>F</td>\n",
       "      <td>Salary</td>\n",
       "      <td>NaN</td>\n",
       "      <td>$96060.00</td>\n",
       "      <td>NaN</td>\n",
       "    </tr>\n",
       "    <tr>\n",
       "      <th>9</th>\n",
       "      <td>EWING,  MARIE A</td>\n",
       "      <td>CLERK III</td>\n",
       "      <td>POLICE</td>\n",
       "      <td>F</td>\n",
       "      <td>Salary</td>\n",
       "      <td>NaN</td>\n",
       "      <td>$53076.00</td>\n",
       "      <td>NaN</td>\n",
       "    </tr>\n",
       "  </tbody>\n",
       "</table>\n",
       "</div>"
      ],
      "text/plain": [
       "               Name      Job Titles Department Full or Part-Time  \\\n",
       "0  ALLISON,  PAUL W      LIEUTENANT       FIRE                 F   \n",
       "1   BRUNO,  KEVIN D        SERGEANT     POLICE                 F   \n",
       "2   COOPER,  JOHN E  LIEUTENANT-EMT       FIRE                 F   \n",
       "3  CRESPO,  VILMA I      STAFF ASST        LAW                 F   \n",
       "4  DOLAN,  ROBERT J        SERGEANT     POLICE                 F   \n",
       "5  DUBERT,  TOMASZ    PARAMEDIC I/C       FIRE                 F   \n",
       "6   EDWARDS,  TIM P      LIEUTENANT       FIRE                 F   \n",
       "7   ELKINS,  ERIC J        SERGEANT     POLICE                 F   \n",
       "8  ESTRADA,  LUIS F  POLICE OFFICER     POLICE                 F   \n",
       "9   EWING,  MARIE A       CLERK III     POLICE                 F   \n",
       "\n",
       "  Salary or Hourly  Typical Hours Annual Salary Hourly Rate  \n",
       "0           Salary            NaN    $107790.00         NaN  \n",
       "1           Salary            NaN    $104628.00         NaN  \n",
       "2           Salary            NaN    $114324.00         NaN  \n",
       "3           Salary            NaN     $76932.00         NaN  \n",
       "4           Salary            NaN    $111474.00         NaN  \n",
       "5           Salary            NaN     $91080.00         NaN  \n",
       "6           Salary            NaN    $114846.00         NaN  \n",
       "7           Salary            NaN    $104628.00         NaN  \n",
       "8           Salary            NaN     $96060.00         NaN  \n",
       "9           Salary            NaN     $53076.00         NaN  "
      ]
     },
     "execution_count": 33,
     "metadata": {},
     "output_type": "execute_result"
    }
   ],
   "source": [
    "pay.head(10)"
   ]
  },
  {
   "cell_type": "code",
   "execution_count": 41,
   "id": "8853eb8d",
   "metadata": {},
   "outputs": [
    {
     "data": {
      "text/plain": [
       "Salary or Hourly\n",
       "Salary    12941\n",
       "Hourly       32\n",
       "Name: count, dtype: int64"
      ]
     },
     "execution_count": 41,
     "metadata": {},
     "output_type": "execute_result"
    }
   ],
   "source": [
    "police = pay[pay['Department']=='POLICE']\n",
    "police['Salary or Hourly'].value_counts()"
   ]
  },
  {
   "cell_type": "code",
   "execution_count": null,
   "id": "ac4250a0",
   "metadata": {},
   "outputs": [],
   "source": []
  }
 ],
 "metadata": {
  "kernelspec": {
   "display_name": "Python 3",
   "language": "python",
   "name": "python3"
  },
  "language_info": {
   "codemirror_mode": {
    "name": "ipython",
    "version": 3
   },
   "file_extension": ".py",
   "mimetype": "text/x-python",
   "name": "python",
   "nbconvert_exporter": "python",
   "pygments_lexer": "ipython3",
   "version": "3.12.1"
  }
 },
 "nbformat": 4,
 "nbformat_minor": 5
}
