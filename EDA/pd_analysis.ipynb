{
 "cells": [
  {
   "cell_type": "code",
   "execution_count": 1,
   "id": "0b64b9b7",
   "metadata": {},
   "outputs": [],
   "source": [
    "import pandas as pd   \n",
    "import numpy as np \n"
   ]
  },
  {
   "cell_type": "code",
   "execution_count": 2,
   "id": "50dee897",
   "metadata": {},
   "outputs": [
    {
     "data": {
      "application/vnd.microsoft.datawrangler.viewer.v0+json": {
       "columns": [
        {
         "name": "index",
         "rawType": "int64",
         "type": "integer"
        },
        {
         "name": "Name",
         "rawType": "object",
         "type": "string"
        },
        {
         "name": "Job Titles",
         "rawType": "object",
         "type": "string"
        },
        {
         "name": "Department",
         "rawType": "object",
         "type": "string"
        },
        {
         "name": "Full or Part-Time",
         "rawType": "object",
         "type": "string"
        },
        {
         "name": "Salary or Hourly",
         "rawType": "object",
         "type": "string"
        },
        {
         "name": "Typical Hours",
         "rawType": "float64",
         "type": "float"
        },
        {
         "name": "Annual Salary",
         "rawType": "object",
         "type": "string"
        },
        {
         "name": "Hourly Rate",
         "rawType": "object",
         "type": "unknown"
        }
       ],
       "conversionMethod": "pd.DataFrame",
       "ref": "f6b84a2c-b92f-43c1-af5a-224c1c555c8b",
       "rows": [
        [
         "0",
         "ALLISON,  PAUL W",
         "LIEUTENANT",
         "FIRE",
         "F",
         "Salary",
         null,
         "$107790.00",
         null
        ],
        [
         "1",
         "BRUNO,  KEVIN D",
         "SERGEANT",
         "POLICE",
         "F",
         "Salary",
         null,
         "$104628.00",
         null
        ],
        [
         "2",
         "COOPER,  JOHN E",
         "LIEUTENANT-EMT",
         "FIRE",
         "F",
         "Salary",
         null,
         "$114324.00",
         null
        ],
        [
         "3",
         "CRESPO,  VILMA I",
         "STAFF ASST",
         "LAW",
         "F",
         "Salary",
         null,
         "$76932.00",
         null
        ]
       ],
       "shape": {
        "columns": 8,
        "rows": 4
       }
      },
      "text/html": [
       "<div>\n",
       "<style scoped>\n",
       "    .dataframe tbody tr th:only-of-type {\n",
       "        vertical-align: middle;\n",
       "    }\n",
       "\n",
       "    .dataframe tbody tr th {\n",
       "        vertical-align: top;\n",
       "    }\n",
       "\n",
       "    .dataframe thead th {\n",
       "        text-align: right;\n",
       "    }\n",
       "</style>\n",
       "<table border=\"1\" class=\"dataframe\">\n",
       "  <thead>\n",
       "    <tr style=\"text-align: right;\">\n",
       "      <th></th>\n",
       "      <th>Name</th>\n",
       "      <th>Job Titles</th>\n",
       "      <th>Department</th>\n",
       "      <th>Full or Part-Time</th>\n",
       "      <th>Salary or Hourly</th>\n",
       "      <th>Typical Hours</th>\n",
       "      <th>Annual Salary</th>\n",
       "      <th>Hourly Rate</th>\n",
       "    </tr>\n",
       "  </thead>\n",
       "  <tbody>\n",
       "    <tr>\n",
       "      <th>0</th>\n",
       "      <td>ALLISON,  PAUL W</td>\n",
       "      <td>LIEUTENANT</td>\n",
       "      <td>FIRE</td>\n",
       "      <td>F</td>\n",
       "      <td>Salary</td>\n",
       "      <td>NaN</td>\n",
       "      <td>$107790.00</td>\n",
       "      <td>NaN</td>\n",
       "    </tr>\n",
       "    <tr>\n",
       "      <th>1</th>\n",
       "      <td>BRUNO,  KEVIN D</td>\n",
       "      <td>SERGEANT</td>\n",
       "      <td>POLICE</td>\n",
       "      <td>F</td>\n",
       "      <td>Salary</td>\n",
       "      <td>NaN</td>\n",
       "      <td>$104628.00</td>\n",
       "      <td>NaN</td>\n",
       "    </tr>\n",
       "    <tr>\n",
       "      <th>2</th>\n",
       "      <td>COOPER,  JOHN E</td>\n",
       "      <td>LIEUTENANT-EMT</td>\n",
       "      <td>FIRE</td>\n",
       "      <td>F</td>\n",
       "      <td>Salary</td>\n",
       "      <td>NaN</td>\n",
       "      <td>$114324.00</td>\n",
       "      <td>NaN</td>\n",
       "    </tr>\n",
       "    <tr>\n",
       "      <th>3</th>\n",
       "      <td>CRESPO,  VILMA I</td>\n",
       "      <td>STAFF ASST</td>\n",
       "      <td>LAW</td>\n",
       "      <td>F</td>\n",
       "      <td>Salary</td>\n",
       "      <td>NaN</td>\n",
       "      <td>$76932.00</td>\n",
       "      <td>NaN</td>\n",
       "    </tr>\n",
       "  </tbody>\n",
       "</table>\n",
       "</div>"
      ],
      "text/plain": [
       "               Name      Job Titles Department Full or Part-Time  \\\n",
       "0  ALLISON,  PAUL W      LIEUTENANT       FIRE                 F   \n",
       "1   BRUNO,  KEVIN D        SERGEANT     POLICE                 F   \n",
       "2   COOPER,  JOHN E  LIEUTENANT-EMT       FIRE                 F   \n",
       "3  CRESPO,  VILMA I      STAFF ASST        LAW                 F   \n",
       "\n",
       "  Salary or Hourly  Typical Hours Annual Salary Hourly Rate  \n",
       "0           Salary            NaN    $107790.00         NaN  \n",
       "1           Salary            NaN    $104628.00         NaN  \n",
       "2           Salary            NaN    $114324.00         NaN  \n",
       "3           Salary            NaN     $76932.00         NaN  "
      ]
     },
     "execution_count": 2,
     "metadata": {},
     "output_type": "execute_result"
    }
   ],
   "source": [
    "pay = pd.read_csv(r'/workspaces/PYTHON_ML/EDA/datasets/chicago_payroll.csv')\n",
    "pay.head(4)"
   ]
  },
  {
   "cell_type": "code",
   "execution_count": 3,
   "id": "f04ffffa",
   "metadata": {},
   "outputs": [
    {
     "name": "stdout",
     "output_type": "stream",
     "text": [
      "<class 'pandas.core.frame.DataFrame'>\n",
      "RangeIndex: 32658 entries, 0 to 32657\n",
      "Data columns (total 8 columns):\n",
      " #   Column             Non-Null Count  Dtype  \n",
      "---  ------             --------------  -----  \n",
      " 0   Name               32658 non-null  object \n",
      " 1   Job Titles         32658 non-null  object \n",
      " 2   Department         32658 non-null  object \n",
      " 3   Full or Part-Time  32658 non-null  object \n",
      " 4   Salary or Hourly   32658 non-null  object \n",
      " 5   Typical Hours      7883 non-null   float64\n",
      " 6   Annual Salary      24775 non-null  object \n",
      " 7   Hourly Rate        7883 non-null   object \n",
      "dtypes: float64(1), object(7)\n",
      "memory usage: 2.0+ MB\n"
     ]
    }
   ],
   "source": [
    "pay.info()"
   ]
  },
  {
   "cell_type": "code",
   "execution_count": 4,
   "id": "d25bf15c",
   "metadata": {},
   "outputs": [
    {
     "name": "stdout",
     "output_type": "stream",
     "text": [
      "Max Typical Hours are : 40.0\n",
      "MIn Typical Hours are : 10.0\n",
      "Average Typical Hours are : 34.69871876189268\n"
     ]
    }
   ],
   "source": [
    "print(\"Max Typical Hours are :\",pay['Typical Hours'].max())\n",
    "print(\"MIn Typical Hours are :\",pay['Typical Hours'].min())\n",
    "print(\"Average Typical Hours are :\",pay['Typical Hours'].mean())"
   ]
  },
  {
   "cell_type": "code",
   "execution_count": 5,
   "id": "0a594e0a",
   "metadata": {},
   "outputs": [
    {
     "data": {
      "application/vnd.microsoft.datawrangler.viewer.v0+json": {
       "columns": [
        {
         "name": "Salary or Hourly",
         "rawType": "object",
         "type": "string"
        },
        {
         "name": "Name",
         "rawType": "int64",
         "type": "integer"
        }
       ],
       "conversionMethod": "pd.DataFrame",
       "ref": "b16bebea-452b-47c2-ab59-be0349ca2be1",
       "rows": [
        [
         "Hourly",
         "7883"
        ],
        [
         "Salary",
         "24775"
        ]
       ],
       "shape": {
        "columns": 1,
        "rows": 2
       }
      },
      "text/html": [
       "<div>\n",
       "<style scoped>\n",
       "    .dataframe tbody tr th:only-of-type {\n",
       "        vertical-align: middle;\n",
       "    }\n",
       "\n",
       "    .dataframe tbody tr th {\n",
       "        vertical-align: top;\n",
       "    }\n",
       "\n",
       "    .dataframe thead th {\n",
       "        text-align: right;\n",
       "    }\n",
       "</style>\n",
       "<table border=\"1\" class=\"dataframe\">\n",
       "  <thead>\n",
       "    <tr style=\"text-align: right;\">\n",
       "      <th></th>\n",
       "      <th>Name</th>\n",
       "    </tr>\n",
       "    <tr>\n",
       "      <th>Salary or Hourly</th>\n",
       "      <th></th>\n",
       "    </tr>\n",
       "  </thead>\n",
       "  <tbody>\n",
       "    <tr>\n",
       "      <th>Hourly</th>\n",
       "      <td>7883</td>\n",
       "    </tr>\n",
       "    <tr>\n",
       "      <th>Salary</th>\n",
       "      <td>24775</td>\n",
       "    </tr>\n",
       "  </tbody>\n",
       "</table>\n",
       "</div>"
      ],
      "text/plain": [
       "                   Name\n",
       "Salary or Hourly       \n",
       "Hourly             7883\n",
       "Salary            24775"
      ]
     },
     "execution_count": 5,
     "metadata": {},
     "output_type": "execute_result"
    }
   ],
   "source": [
    "S_H = pay.groupby('Salary or Hourly')[['Name']].count()\n",
    "S_H"
   ]
  },
  {
   "cell_type": "code",
   "execution_count": 6,
   "id": "25605bb8",
   "metadata": {},
   "outputs": [
    {
     "data": {
      "text/plain": [
       "Salary or Hourly\n",
       "Salary    24775\n",
       "Hourly     7883\n",
       "Name: count, dtype: int64"
      ]
     },
     "execution_count": 6,
     "metadata": {},
     "output_type": "execute_result"
    }
   ],
   "source": [
    "s_h = pay['Salary or Hourly'].value_counts()\n",
    "s_h"
   ]
  },
  {
   "cell_type": "code",
   "execution_count": 7,
   "id": "bc56b354",
   "metadata": {},
   "outputs": [
    {
     "data": {
      "application/vnd.microsoft.datawrangler.viewer.v0+json": {
       "columns": [
        {
         "name": "Department",
         "rawType": "object",
         "type": "string"
        },
        {
         "name": "Name",
         "rawType": "int64",
         "type": "integer"
        }
       ],
       "conversionMethod": "pd.DataFrame",
       "ref": "e5fcd076-145b-461a-a1cb-29fc3cdd09d2",
       "rows": [
        [
         "ADMIN HEARNG",
         "38"
        ],
        [
         "ANIMAL CONTRL",
         "73"
        ],
        [
         "AVIATION",
         "1612"
        ],
        [
         "BOARD OF ELECTION",
         "112"
        ],
        [
         "BOARD OF ETHICS",
         "8"
        ],
        [
         "BUDGET & MGMT",
         "44"
        ],
        [
         "BUILDINGS",
         "266"
        ],
        [
         "BUSINESS AFFAIRS",
         "168"
        ],
        [
         "CITY CLERK",
         "85"
        ],
        [
         "CITY COUNCIL",
         "400"
        ],
        [
         "COMMUNITY DEVELOPMENT",
         "214"
        ],
        [
         "COPA",
         "17"
        ],
        [
         "CULTURAL AFFAIRS",
         "76"
        ],
        [
         "DISABILITIES",
         "29"
        ],
        [
         "DoIT",
         "101"
        ],
        [
         "FAMILY & SUPPORT",
         "621"
        ],
        [
         "FINANCE",
         "575"
        ],
        [
         "FIRE",
         "4800"
        ],
        [
         "GENERAL SERVICES",
         "972"
        ],
        [
         "HEALTH",
         "516"
        ],
        [
         "HUMAN RELATIONS",
         "17"
        ],
        [
         "HUMAN RESOURCES",
         "68"
        ],
        [
         "INSPECTOR GEN",
         "63"
        ],
        [
         "IPRA",
         "56"
        ],
        [
         "LAW",
         "405"
        ],
        [
         "LICENSE APPL COMM",
         "1"
        ],
        [
         "MAYOR'S OFFICE",
         "85"
        ],
        [
         "OEMC",
         "2044"
        ],
        [
         "POLICE",
         "12973"
        ],
        [
         "POLICE BOARD",
         "2"
        ],
        [
         "PROCUREMENT",
         "86"
        ],
        [
         "PUBLIC LIBRARY",
         "932"
        ],
        [
         "STREETS & SAN",
         "2194"
        ],
        [
         "TRANSPORTN",
         "1103"
        ],
        [
         "TREASURER",
         "24"
        ],
        [
         "WATER MGMNT",
         "1878"
        ]
       ],
       "shape": {
        "columns": 1,
        "rows": 36
       }
      },
      "text/html": [
       "<div>\n",
       "<style scoped>\n",
       "    .dataframe tbody tr th:only-of-type {\n",
       "        vertical-align: middle;\n",
       "    }\n",
       "\n",
       "    .dataframe tbody tr th {\n",
       "        vertical-align: top;\n",
       "    }\n",
       "\n",
       "    .dataframe thead th {\n",
       "        text-align: right;\n",
       "    }\n",
       "</style>\n",
       "<table border=\"1\" class=\"dataframe\">\n",
       "  <thead>\n",
       "    <tr style=\"text-align: right;\">\n",
       "      <th></th>\n",
       "      <th>Name</th>\n",
       "    </tr>\n",
       "    <tr>\n",
       "      <th>Department</th>\n",
       "      <th></th>\n",
       "    </tr>\n",
       "  </thead>\n",
       "  <tbody>\n",
       "    <tr>\n",
       "      <th>ADMIN HEARNG</th>\n",
       "      <td>38</td>\n",
       "    </tr>\n",
       "    <tr>\n",
       "      <th>ANIMAL CONTRL</th>\n",
       "      <td>73</td>\n",
       "    </tr>\n",
       "    <tr>\n",
       "      <th>AVIATION</th>\n",
       "      <td>1612</td>\n",
       "    </tr>\n",
       "    <tr>\n",
       "      <th>BOARD OF ELECTION</th>\n",
       "      <td>112</td>\n",
       "    </tr>\n",
       "    <tr>\n",
       "      <th>BOARD OF ETHICS</th>\n",
       "      <td>8</td>\n",
       "    </tr>\n",
       "    <tr>\n",
       "      <th>BUDGET &amp; MGMT</th>\n",
       "      <td>44</td>\n",
       "    </tr>\n",
       "    <tr>\n",
       "      <th>BUILDINGS</th>\n",
       "      <td>266</td>\n",
       "    </tr>\n",
       "    <tr>\n",
       "      <th>BUSINESS AFFAIRS</th>\n",
       "      <td>168</td>\n",
       "    </tr>\n",
       "    <tr>\n",
       "      <th>CITY CLERK</th>\n",
       "      <td>85</td>\n",
       "    </tr>\n",
       "    <tr>\n",
       "      <th>CITY COUNCIL</th>\n",
       "      <td>400</td>\n",
       "    </tr>\n",
       "    <tr>\n",
       "      <th>COMMUNITY DEVELOPMENT</th>\n",
       "      <td>214</td>\n",
       "    </tr>\n",
       "    <tr>\n",
       "      <th>COPA</th>\n",
       "      <td>17</td>\n",
       "    </tr>\n",
       "    <tr>\n",
       "      <th>CULTURAL AFFAIRS</th>\n",
       "      <td>76</td>\n",
       "    </tr>\n",
       "    <tr>\n",
       "      <th>DISABILITIES</th>\n",
       "      <td>29</td>\n",
       "    </tr>\n",
       "    <tr>\n",
       "      <th>DoIT</th>\n",
       "      <td>101</td>\n",
       "    </tr>\n",
       "    <tr>\n",
       "      <th>FAMILY &amp; SUPPORT</th>\n",
       "      <td>621</td>\n",
       "    </tr>\n",
       "    <tr>\n",
       "      <th>FINANCE</th>\n",
       "      <td>575</td>\n",
       "    </tr>\n",
       "    <tr>\n",
       "      <th>FIRE</th>\n",
       "      <td>4800</td>\n",
       "    </tr>\n",
       "    <tr>\n",
       "      <th>GENERAL SERVICES</th>\n",
       "      <td>972</td>\n",
       "    </tr>\n",
       "    <tr>\n",
       "      <th>HEALTH</th>\n",
       "      <td>516</td>\n",
       "    </tr>\n",
       "    <tr>\n",
       "      <th>HUMAN RELATIONS</th>\n",
       "      <td>17</td>\n",
       "    </tr>\n",
       "    <tr>\n",
       "      <th>HUMAN RESOURCES</th>\n",
       "      <td>68</td>\n",
       "    </tr>\n",
       "    <tr>\n",
       "      <th>INSPECTOR GEN</th>\n",
       "      <td>63</td>\n",
       "    </tr>\n",
       "    <tr>\n",
       "      <th>IPRA</th>\n",
       "      <td>56</td>\n",
       "    </tr>\n",
       "    <tr>\n",
       "      <th>LAW</th>\n",
       "      <td>405</td>\n",
       "    </tr>\n",
       "    <tr>\n",
       "      <th>LICENSE APPL COMM</th>\n",
       "      <td>1</td>\n",
       "    </tr>\n",
       "    <tr>\n",
       "      <th>MAYOR'S OFFICE</th>\n",
       "      <td>85</td>\n",
       "    </tr>\n",
       "    <tr>\n",
       "      <th>OEMC</th>\n",
       "      <td>2044</td>\n",
       "    </tr>\n",
       "    <tr>\n",
       "      <th>POLICE</th>\n",
       "      <td>12973</td>\n",
       "    </tr>\n",
       "    <tr>\n",
       "      <th>POLICE BOARD</th>\n",
       "      <td>2</td>\n",
       "    </tr>\n",
       "    <tr>\n",
       "      <th>PROCUREMENT</th>\n",
       "      <td>86</td>\n",
       "    </tr>\n",
       "    <tr>\n",
       "      <th>PUBLIC LIBRARY</th>\n",
       "      <td>932</td>\n",
       "    </tr>\n",
       "    <tr>\n",
       "      <th>STREETS &amp; SAN</th>\n",
       "      <td>2194</td>\n",
       "    </tr>\n",
       "    <tr>\n",
       "      <th>TRANSPORTN</th>\n",
       "      <td>1103</td>\n",
       "    </tr>\n",
       "    <tr>\n",
       "      <th>TREASURER</th>\n",
       "      <td>24</td>\n",
       "    </tr>\n",
       "    <tr>\n",
       "      <th>WATER MGMNT</th>\n",
       "      <td>1878</td>\n",
       "    </tr>\n",
       "  </tbody>\n",
       "</table>\n",
       "</div>"
      ],
      "text/plain": [
       "                        Name\n",
       "Department                  \n",
       "ADMIN HEARNG              38\n",
       "ANIMAL CONTRL             73\n",
       "AVIATION                1612\n",
       "BOARD OF ELECTION        112\n",
       "BOARD OF ETHICS            8\n",
       "BUDGET & MGMT             44\n",
       "BUILDINGS                266\n",
       "BUSINESS AFFAIRS         168\n",
       "CITY CLERK                85\n",
       "CITY COUNCIL             400\n",
       "COMMUNITY DEVELOPMENT    214\n",
       "COPA                      17\n",
       "CULTURAL AFFAIRS          76\n",
       "DISABILITIES              29\n",
       "DoIT                     101\n",
       "FAMILY & SUPPORT         621\n",
       "FINANCE                  575\n",
       "FIRE                    4800\n",
       "GENERAL SERVICES         972\n",
       "HEALTH                   516\n",
       "HUMAN RELATIONS           17\n",
       "HUMAN RESOURCES           68\n",
       "INSPECTOR GEN             63\n",
       "IPRA                      56\n",
       "LAW                      405\n",
       "LICENSE APPL COMM          1\n",
       "MAYOR'S OFFICE            85\n",
       "OEMC                    2044\n",
       "POLICE                 12973\n",
       "POLICE BOARD               2\n",
       "PROCUREMENT               86\n",
       "PUBLIC LIBRARY           932\n",
       "STREETS & SAN           2194\n",
       "TRANSPORTN              1103\n",
       "TREASURER                 24\n",
       "WATER MGMNT             1878"
      ]
     },
     "execution_count": 7,
     "metadata": {},
     "output_type": "execute_result"
    }
   ],
   "source": [
    "dept =pay.groupby('Department')[['Name']].count()\n",
    "\n",
    "dept"
   ]
  },
  {
   "cell_type": "code",
   "execution_count": 8,
   "id": "0fee54eb",
   "metadata": {},
   "outputs": [
    {
     "data": {
      "text/plain": [
       "Department\n",
       "POLICE                   12973\n",
       "FIRE                      4800\n",
       "STREETS & SAN             2194\n",
       "OEMC                      2044\n",
       "WATER MGMNT               1878\n",
       "AVIATION                  1612\n",
       "TRANSPORTN                1103\n",
       "GENERAL SERVICES           972\n",
       "PUBLIC LIBRARY             932\n",
       "FAMILY & SUPPORT           621\n",
       "FINANCE                    575\n",
       "HEALTH                     516\n",
       "LAW                        405\n",
       "CITY COUNCIL               400\n",
       "BUILDINGS                  266\n",
       "COMMUNITY DEVELOPMENT      214\n",
       "BUSINESS AFFAIRS           168\n",
       "BOARD OF ELECTION          112\n",
       "DoIT                       101\n",
       "PROCUREMENT                 86\n",
       "MAYOR'S OFFICE              85\n",
       "CITY CLERK                  85\n",
       "CULTURAL AFFAIRS            76\n",
       "ANIMAL CONTRL               73\n",
       "HUMAN RESOURCES             68\n",
       "INSPECTOR GEN               63\n",
       "IPRA                        56\n",
       "BUDGET & MGMT               44\n",
       "ADMIN HEARNG                38\n",
       "DISABILITIES                29\n",
       "TREASURER                   24\n",
       "HUMAN RELATIONS             17\n",
       "COPA                        17\n",
       "BOARD OF ETHICS              8\n",
       "POLICE BOARD                 2\n",
       "LICENSE APPL COMM            1\n",
       "Name: count, dtype: int64"
      ]
     },
     "execution_count": 8,
     "metadata": {},
     "output_type": "execute_result"
    }
   ],
   "source": [
    "Dept=pay['Department'].value_counts()\n",
    "Dept"
   ]
  },
  {
   "cell_type": "code",
   "execution_count": 9,
   "id": "f06f64e4",
   "metadata": {},
   "outputs": [
    {
     "data": {
      "text/plain": [
       "Name    POLICE\n",
       "dtype: object"
      ]
     },
     "execution_count": 9,
     "metadata": {},
     "output_type": "execute_result"
    }
   ],
   "source": [
    "dept =pay.groupby('Department')[['Name']].count().idxmax()\n",
    "dept"
   ]
  },
  {
   "cell_type": "code",
   "execution_count": 10,
   "id": "441afe71",
   "metadata": {},
   "outputs": [
    {
     "data": {
      "text/plain": [
       "'Salary'"
      ]
     },
     "execution_count": 10,
     "metadata": {},
     "output_type": "execute_result"
    }
   ],
   "source": [
    "dept=pay['Salary or Hourly'].value_counts().idxmax()\n",
    "dept"
   ]
  },
  {
   "cell_type": "code",
   "execution_count": 11,
   "id": "05e961f1",
   "metadata": {},
   "outputs": [
    {
     "data": {
      "text/plain": [
       "'POLICE'"
      ]
     },
     "execution_count": 11,
     "metadata": {},
     "output_type": "execute_result"
    }
   ],
   "source": [
    "dept=pay['Department'].value_counts().idxmax()\n",
    "dept"
   ]
  },
  {
   "cell_type": "code",
   "execution_count": 12,
   "id": "baaedd29",
   "metadata": {},
   "outputs": [
    {
     "data": {
      "application/vnd.microsoft.datawrangler.viewer.v0+json": {
       "columns": [
        {
         "name": "index",
         "rawType": "int64",
         "type": "integer"
        },
        {
         "name": "Name",
         "rawType": "object",
         "type": "string"
        },
        {
         "name": "Job Titles",
         "rawType": "object",
         "type": "string"
        },
        {
         "name": "Department",
         "rawType": "object",
         "type": "string"
        },
        {
         "name": "Full or Part-Time",
         "rawType": "object",
         "type": "string"
        },
        {
         "name": "Salary or Hourly",
         "rawType": "object",
         "type": "string"
        },
        {
         "name": "Typical Hours",
         "rawType": "float64",
         "type": "float"
        },
        {
         "name": "Annual Salary",
         "rawType": "object",
         "type": "string"
        },
        {
         "name": "Hourly Rate",
         "rawType": "object",
         "type": "unknown"
        }
       ],
       "conversionMethod": "pd.DataFrame",
       "ref": "80d53339-6e51-43e3-9c5c-dccb8ef62ed2",
       "rows": [
        [
         "0",
         "ALLISON,  PAUL W",
         "LIEUTENANT",
         "FIRE",
         "F",
         "Salary",
         null,
         "$107790.00",
         null
        ],
        [
         "1",
         "BRUNO,  KEVIN D",
         "SERGEANT",
         "POLICE",
         "F",
         "Salary",
         null,
         "$104628.00",
         null
        ],
        [
         "2",
         "COOPER,  JOHN E",
         "LIEUTENANT-EMT",
         "FIRE",
         "F",
         "Salary",
         null,
         "$114324.00",
         null
        ],
        [
         "3",
         "CRESPO,  VILMA I",
         "STAFF ASST",
         "LAW",
         "F",
         "Salary",
         null,
         "$76932.00",
         null
        ],
        [
         "4",
         "DOLAN,  ROBERT J",
         "SERGEANT",
         "POLICE",
         "F",
         "Salary",
         null,
         "$111474.00",
         null
        ],
        [
         "5",
         "DUBERT,  TOMASZ ",
         "PARAMEDIC I/C",
         "FIRE",
         "F",
         "Salary",
         null,
         "$91080.00",
         null
        ],
        [
         "6",
         "EDWARDS,  TIM P",
         "LIEUTENANT",
         "FIRE",
         "F",
         "Salary",
         null,
         "$114846.00",
         null
        ],
        [
         "7",
         "ELKINS,  ERIC J",
         "SERGEANT",
         "POLICE",
         "F",
         "Salary",
         null,
         "$104628.00",
         null
        ],
        [
         "8",
         "ESTRADA,  LUIS F",
         "POLICE OFFICER",
         "POLICE",
         "F",
         "Salary",
         null,
         "$96060.00",
         null
        ],
        [
         "9",
         "EWING,  MARIE A",
         "CLERK III",
         "POLICE",
         "F",
         "Salary",
         null,
         "$53076.00",
         null
        ]
       ],
       "shape": {
        "columns": 8,
        "rows": 10
       }
      },
      "text/html": [
       "<div>\n",
       "<style scoped>\n",
       "    .dataframe tbody tr th:only-of-type {\n",
       "        vertical-align: middle;\n",
       "    }\n",
       "\n",
       "    .dataframe tbody tr th {\n",
       "        vertical-align: top;\n",
       "    }\n",
       "\n",
       "    .dataframe thead th {\n",
       "        text-align: right;\n",
       "    }\n",
       "</style>\n",
       "<table border=\"1\" class=\"dataframe\">\n",
       "  <thead>\n",
       "    <tr style=\"text-align: right;\">\n",
       "      <th></th>\n",
       "      <th>Name</th>\n",
       "      <th>Job Titles</th>\n",
       "      <th>Department</th>\n",
       "      <th>Full or Part-Time</th>\n",
       "      <th>Salary or Hourly</th>\n",
       "      <th>Typical Hours</th>\n",
       "      <th>Annual Salary</th>\n",
       "      <th>Hourly Rate</th>\n",
       "    </tr>\n",
       "  </thead>\n",
       "  <tbody>\n",
       "    <tr>\n",
       "      <th>0</th>\n",
       "      <td>ALLISON,  PAUL W</td>\n",
       "      <td>LIEUTENANT</td>\n",
       "      <td>FIRE</td>\n",
       "      <td>F</td>\n",
       "      <td>Salary</td>\n",
       "      <td>NaN</td>\n",
       "      <td>$107790.00</td>\n",
       "      <td>NaN</td>\n",
       "    </tr>\n",
       "    <tr>\n",
       "      <th>1</th>\n",
       "      <td>BRUNO,  KEVIN D</td>\n",
       "      <td>SERGEANT</td>\n",
       "      <td>POLICE</td>\n",
       "      <td>F</td>\n",
       "      <td>Salary</td>\n",
       "      <td>NaN</td>\n",
       "      <td>$104628.00</td>\n",
       "      <td>NaN</td>\n",
       "    </tr>\n",
       "    <tr>\n",
       "      <th>2</th>\n",
       "      <td>COOPER,  JOHN E</td>\n",
       "      <td>LIEUTENANT-EMT</td>\n",
       "      <td>FIRE</td>\n",
       "      <td>F</td>\n",
       "      <td>Salary</td>\n",
       "      <td>NaN</td>\n",
       "      <td>$114324.00</td>\n",
       "      <td>NaN</td>\n",
       "    </tr>\n",
       "    <tr>\n",
       "      <th>3</th>\n",
       "      <td>CRESPO,  VILMA I</td>\n",
       "      <td>STAFF ASST</td>\n",
       "      <td>LAW</td>\n",
       "      <td>F</td>\n",
       "      <td>Salary</td>\n",
       "      <td>NaN</td>\n",
       "      <td>$76932.00</td>\n",
       "      <td>NaN</td>\n",
       "    </tr>\n",
       "    <tr>\n",
       "      <th>4</th>\n",
       "      <td>DOLAN,  ROBERT J</td>\n",
       "      <td>SERGEANT</td>\n",
       "      <td>POLICE</td>\n",
       "      <td>F</td>\n",
       "      <td>Salary</td>\n",
       "      <td>NaN</td>\n",
       "      <td>$111474.00</td>\n",
       "      <td>NaN</td>\n",
       "    </tr>\n",
       "    <tr>\n",
       "      <th>5</th>\n",
       "      <td>DUBERT,  TOMASZ</td>\n",
       "      <td>PARAMEDIC I/C</td>\n",
       "      <td>FIRE</td>\n",
       "      <td>F</td>\n",
       "      <td>Salary</td>\n",
       "      <td>NaN</td>\n",
       "      <td>$91080.00</td>\n",
       "      <td>NaN</td>\n",
       "    </tr>\n",
       "    <tr>\n",
       "      <th>6</th>\n",
       "      <td>EDWARDS,  TIM P</td>\n",
       "      <td>LIEUTENANT</td>\n",
       "      <td>FIRE</td>\n",
       "      <td>F</td>\n",
       "      <td>Salary</td>\n",
       "      <td>NaN</td>\n",
       "      <td>$114846.00</td>\n",
       "      <td>NaN</td>\n",
       "    </tr>\n",
       "    <tr>\n",
       "      <th>7</th>\n",
       "      <td>ELKINS,  ERIC J</td>\n",
       "      <td>SERGEANT</td>\n",
       "      <td>POLICE</td>\n",
       "      <td>F</td>\n",
       "      <td>Salary</td>\n",
       "      <td>NaN</td>\n",
       "      <td>$104628.00</td>\n",
       "      <td>NaN</td>\n",
       "    </tr>\n",
       "    <tr>\n",
       "      <th>8</th>\n",
       "      <td>ESTRADA,  LUIS F</td>\n",
       "      <td>POLICE OFFICER</td>\n",
       "      <td>POLICE</td>\n",
       "      <td>F</td>\n",
       "      <td>Salary</td>\n",
       "      <td>NaN</td>\n",
       "      <td>$96060.00</td>\n",
       "      <td>NaN</td>\n",
       "    </tr>\n",
       "    <tr>\n",
       "      <th>9</th>\n",
       "      <td>EWING,  MARIE A</td>\n",
       "      <td>CLERK III</td>\n",
       "      <td>POLICE</td>\n",
       "      <td>F</td>\n",
       "      <td>Salary</td>\n",
       "      <td>NaN</td>\n",
       "      <td>$53076.00</td>\n",
       "      <td>NaN</td>\n",
       "    </tr>\n",
       "  </tbody>\n",
       "</table>\n",
       "</div>"
      ],
      "text/plain": [
       "               Name      Job Titles Department Full or Part-Time  \\\n",
       "0  ALLISON,  PAUL W      LIEUTENANT       FIRE                 F   \n",
       "1   BRUNO,  KEVIN D        SERGEANT     POLICE                 F   \n",
       "2   COOPER,  JOHN E  LIEUTENANT-EMT       FIRE                 F   \n",
       "3  CRESPO,  VILMA I      STAFF ASST        LAW                 F   \n",
       "4  DOLAN,  ROBERT J        SERGEANT     POLICE                 F   \n",
       "5  DUBERT,  TOMASZ    PARAMEDIC I/C       FIRE                 F   \n",
       "6   EDWARDS,  TIM P      LIEUTENANT       FIRE                 F   \n",
       "7   ELKINS,  ERIC J        SERGEANT     POLICE                 F   \n",
       "8  ESTRADA,  LUIS F  POLICE OFFICER     POLICE                 F   \n",
       "9   EWING,  MARIE A       CLERK III     POLICE                 F   \n",
       "\n",
       "  Salary or Hourly  Typical Hours Annual Salary Hourly Rate  \n",
       "0           Salary            NaN    $107790.00         NaN  \n",
       "1           Salary            NaN    $104628.00         NaN  \n",
       "2           Salary            NaN    $114324.00         NaN  \n",
       "3           Salary            NaN     $76932.00         NaN  \n",
       "4           Salary            NaN    $111474.00         NaN  \n",
       "5           Salary            NaN     $91080.00         NaN  \n",
       "6           Salary            NaN    $114846.00         NaN  \n",
       "7           Salary            NaN    $104628.00         NaN  \n",
       "8           Salary            NaN     $96060.00         NaN  \n",
       "9           Salary            NaN     $53076.00         NaN  "
      ]
     },
     "execution_count": 12,
     "metadata": {},
     "output_type": "execute_result"
    }
   ],
   "source": [
    "pay.head(10)"
   ]
  },
  {
   "cell_type": "code",
   "execution_count": 13,
   "id": "8853eb8d",
   "metadata": {},
   "outputs": [
    {
     "data": {
      "text/plain": [
       "Salary or Hourly\n",
       "Salary    12941\n",
       "Hourly       32\n",
       "Name: count, dtype: int64"
      ]
     },
     "execution_count": 13,
     "metadata": {},
     "output_type": "execute_result"
    }
   ],
   "source": [
    "police = pay[pay['Department']=='POLICE']\n",
    "police['Salary or Hourly'].value_counts()"
   ]
  },
  {
   "cell_type": "code",
   "execution_count": 14,
   "id": "f623aac0",
   "metadata": {},
   "outputs": [],
   "source": [
    "pay['Salary']=pay['Annual Salary'].str.replace('$','').astype(float)"
   ]
  },
  {
   "cell_type": "code",
   "execution_count": null,
   "id": "079dcfd6",
   "metadata": {},
   "outputs": [],
   "source": []
  },
  {
   "cell_type": "code",
   "execution_count": 15,
   "id": "ac4250a0",
   "metadata": {},
   "outputs": [
    {
     "data": {
      "application/vnd.microsoft.datawrangler.viewer.v0+json": {
       "columns": [
        {
         "name": "index",
         "rawType": "int64",
         "type": "integer"
        },
        {
         "name": "Name",
         "rawType": "object",
         "type": "string"
        },
        {
         "name": "Department",
         "rawType": "object",
         "type": "string"
        },
        {
         "name": "Full or Part-Time",
         "rawType": "object",
         "type": "string"
        }
       ],
       "conversionMethod": "pd.DataFrame",
       "ref": "3fa18f9d-3e1c-4517-b4b5-26ac66bf96ee",
       "rows": [
        [
         "8310",
         "EVANS,  GINGER S",
         "AVIATION",
         "F"
        ]
       ],
       "shape": {
        "columns": 3,
        "rows": 1
       }
      },
      "text/html": [
       "<div>\n",
       "<style scoped>\n",
       "    .dataframe tbody tr th:only-of-type {\n",
       "        vertical-align: middle;\n",
       "    }\n",
       "\n",
       "    .dataframe tbody tr th {\n",
       "        vertical-align: top;\n",
       "    }\n",
       "\n",
       "    .dataframe thead th {\n",
       "        text-align: right;\n",
       "    }\n",
       "</style>\n",
       "<table border=\"1\" class=\"dataframe\">\n",
       "  <thead>\n",
       "    <tr style=\"text-align: right;\">\n",
       "      <th></th>\n",
       "      <th>Name</th>\n",
       "      <th>Department</th>\n",
       "      <th>Full or Part-Time</th>\n",
       "    </tr>\n",
       "  </thead>\n",
       "  <tbody>\n",
       "    <tr>\n",
       "      <th>8310</th>\n",
       "      <td>EVANS,  GINGER S</td>\n",
       "      <td>AVIATION</td>\n",
       "      <td>F</td>\n",
       "    </tr>\n",
       "  </tbody>\n",
       "</table>\n",
       "</div>"
      ],
      "text/plain": [
       "                  Name Department Full or Part-Time\n",
       "8310  EVANS,  GINGER S   AVIATION                 F"
      ]
     },
     "execution_count": 15,
     "metadata": {},
     "output_type": "execute_result"
    }
   ],
   "source": [
    "pay[pay['Salary']==pay['Salary'].max()][['Name','Department','Full or Part-Time']]\n",
    "\n",
    "\n"
   ]
  },
  {
   "cell_type": "code",
   "execution_count": null,
   "id": "d7e7b82a",
   "metadata": {},
   "outputs": [
    {
     "data": {
      "application/vnd.microsoft.datawrangler.viewer.v0+json": {
       "columns": [
        {
         "name": "index",
         "rawType": "int64",
         "type": "integer"
        },
        {
         "name": "Name",
         "rawType": "object",
         "type": "string"
        },
        {
         "name": "Department",
         "rawType": "object",
         "type": "string"
        }
       ],
       "conversionMethod": "pd.DataFrame",
       "ref": "dffc7903-63c3-4927-9d8f-5854986770d8",
       "rows": [
        [
         "11",
         "FITCH,  JORDAN M",
         "LAW"
        ],
        [
         "56",
         "ABBATACOLA,  ROBERT J",
         "AVIATION"
        ],
        [
         "57",
         "ABBATE,  JOSEPH L ",
         "STREETS & SAN"
        ],
        [
         "71",
         "ABDULLAH,  RASHAD ",
         "GENERAL SERVICES"
        ],
        [
         "73",
         "ABDUL-SHAKUR,  TAHIR ",
         "STREETS & SAN"
        ],
        [
         "76",
         "ABERCROMBIE,  TIMOTHY ",
         "STREETS & SAN"
        ],
        [
         "85",
         "ABRAMS,  DANIELLE T",
         "STREETS & SAN"
        ],
        [
         "88",
         "ABRAMS,  SAMUEL A",
         "STREETS & SAN"
        ],
        [
         "90",
         "ABREU,  DILAN ",
         "WATER MGMNT"
        ],
        [
         "91",
         "ABREU,  EDWIN ",
         "STREETS & SAN"
        ],
        [
         "96",
         "ABRONS,  KENNETH L",
         "AVIATION"
        ],
        [
         "99",
         "ABUHASHISH,  AWWAD ",
         "WATER MGMNT"
        ],
        [
         "103",
         "ACCARDO,  ANTHONY D",
         "AVIATION"
        ],
        [
         "108",
         "ACCIARI,  NICHOLAS B",
         "STREETS & SAN"
        ],
        [
         "121",
         "ACEVEDO,  JAVIER ",
         "TRANSPORTN"
        ],
        [
         "131",
         "ACEVEDO,  STEVEN A",
         "AVIATION"
        ],
        [
         "145",
         "ACOSTA,  PABLO S",
         "STREETS & SAN"
        ],
        [
         "147",
         "ACRES,  ANTHONY E",
         "GENERAL SERVICES"
        ],
        [
         "150",
         "ADAIR,  STEVEN ",
         "STREETS & SAN"
        ],
        [
         "151",
         "ADAMCZYK JR,  JAN ",
         "FINANCE"
        ],
        [
         "153",
         "ADAME,  PEDRO ",
         "AVIATION"
        ],
        [
         "157",
         "ADAM,  MICHAEL A",
         "TRANSPORTN"
        ],
        [
         "165",
         "ADAMS,  ERWIN ",
         "TRANSPORTN"
        ],
        [
         "168",
         "ADAMS,  GARY W",
         "STREETS & SAN"
        ],
        [
         "177",
         "ADAMS,  KRYSTA ",
         "STREETS & SAN"
        ],
        [
         "182",
         "ADAMS,  MICHAEL J",
         "GENERAL SERVICES"
        ],
        [
         "184",
         "ADAMS,  QUAN R",
         "STREETS & SAN"
        ],
        [
         "191",
         "ADAMS,  SHEILA ",
         "STREETS & SAN"
        ],
        [
         "201",
         "ADCOCK,  TOMMY W",
         "TRANSPORTN"
        ],
        [
         "202",
         "ADDANTE,  VINCENZO ",
         "STREETS & SAN"
        ],
        [
         "214",
         "ADEWOLE,  KAREEM A",
         "WATER MGMNT"
        ],
        [
         "233",
         "AGNEW,  ANTONIO E",
         "AVIATION"
        ],
        [
         "240",
         "AGSALUD,  FERNAN S",
         "STREETS & SAN"
        ],
        [
         "241",
         "AGSALUD JR,  JUANITO S",
         "STREETS & SAN"
        ],
        [
         "249",
         "AGUILAR,  EFRAIN ",
         "STREETS & SAN"
        ],
        [
         "252",
         "AGUILAR,  EVARISTO P",
         "AVIATION"
        ],
        [
         "256",
         "AGUILAR,  JUANITA ",
         "AVIATION"
        ],
        [
         "263",
         "AGUILAR,  ROBERT ",
         "STREETS & SAN"
        ],
        [
         "265",
         "AGUILERA,  JESUS ",
         "STREETS & SAN"
        ],
        [
         "270",
         "AGUILERA,  TONY ",
         "STREETS & SAN"
        ],
        [
         "273",
         "AGUIRRE,  ALEX ",
         "STREETS & SAN"
        ],
        [
         "280",
         "AGUIRRE,  JULIAN J",
         "TRANSPORTN"
        ],
        [
         "296",
         "AHMAD,  FAROOQ ",
         "AVIATION"
        ],
        [
         "316",
         "AINUDDIN,  SAL N",
         "AVIATION"
        ],
        [
         "317",
         "AINUDDIN,  ZAHID N",
         "STREETS & SAN"
        ],
        [
         "318",
         "AITKEN,  CAMUHOO R",
         "STREETS & SAN"
        ],
        [
         "326",
         "AKHTAR,  SYED J",
         "GENERAL SERVICES"
        ],
        [
         "331",
         "AKINS,  LISA ",
         "STREETS & SAN"
        ],
        [
         "332",
         "AKINS,  LOU ANN ",
         "TRANSPORTN"
        ],
        [
         "345",
         "ALANIS,  OSCAR ",
         "GENERAL SERVICES"
        ]
       ],
       "shape": {
        "columns": 2,
        "rows": 5906
       }
      },
      "text/html": [
       "<div>\n",
       "<style scoped>\n",
       "    .dataframe tbody tr th:only-of-type {\n",
       "        vertical-align: middle;\n",
       "    }\n",
       "\n",
       "    .dataframe tbody tr th {\n",
       "        vertical-align: top;\n",
       "    }\n",
       "\n",
       "    .dataframe thead th {\n",
       "        text-align: right;\n",
       "    }\n",
       "</style>\n",
       "<table border=\"1\" class=\"dataframe\">\n",
       "  <thead>\n",
       "    <tr style=\"text-align: right;\">\n",
       "      <th></th>\n",
       "      <th>Name</th>\n",
       "      <th>Department</th>\n",
       "    </tr>\n",
       "  </thead>\n",
       "  <tbody>\n",
       "    <tr>\n",
       "      <th>11</th>\n",
       "      <td>FITCH,  JORDAN M</td>\n",
       "      <td>LAW</td>\n",
       "    </tr>\n",
       "    <tr>\n",
       "      <th>56</th>\n",
       "      <td>ABBATACOLA,  ROBERT J</td>\n",
       "      <td>AVIATION</td>\n",
       "    </tr>\n",
       "    <tr>\n",
       "      <th>57</th>\n",
       "      <td>ABBATE,  JOSEPH L</td>\n",
       "      <td>STREETS &amp; SAN</td>\n",
       "    </tr>\n",
       "    <tr>\n",
       "      <th>71</th>\n",
       "      <td>ABDULLAH,  RASHAD</td>\n",
       "      <td>GENERAL SERVICES</td>\n",
       "    </tr>\n",
       "    <tr>\n",
       "      <th>73</th>\n",
       "      <td>ABDUL-SHAKUR,  TAHIR</td>\n",
       "      <td>STREETS &amp; SAN</td>\n",
       "    </tr>\n",
       "    <tr>\n",
       "      <th>...</th>\n",
       "      <td>...</td>\n",
       "      <td>...</td>\n",
       "    </tr>\n",
       "    <tr>\n",
       "      <th>32637</th>\n",
       "      <td>ZURAWSKI,  MAC Z</td>\n",
       "      <td>STREETS &amp; SAN</td>\n",
       "    </tr>\n",
       "    <tr>\n",
       "      <th>32639</th>\n",
       "      <td>ZUREK,  FRANCIS</td>\n",
       "      <td>OEMC</td>\n",
       "    </tr>\n",
       "    <tr>\n",
       "      <th>32644</th>\n",
       "      <td>ZWARYCZ,  THOMAS J</td>\n",
       "      <td>WATER MGMNT</td>\n",
       "    </tr>\n",
       "    <tr>\n",
       "      <th>32650</th>\n",
       "      <td>ZYGADLO,  JOHN P</td>\n",
       "      <td>GENERAL SERVICES</td>\n",
       "    </tr>\n",
       "    <tr>\n",
       "      <th>32651</th>\n",
       "      <td>ZYGADLO,  MICHAEL J</td>\n",
       "      <td>GENERAL SERVICES</td>\n",
       "    </tr>\n",
       "  </tbody>\n",
       "</table>\n",
       "<p>5906 rows × 2 columns</p>\n",
       "</div>"
      ],
      "text/plain": [
       "                        Name        Department\n",
       "11          FITCH,  JORDAN M               LAW\n",
       "56     ABBATACOLA,  ROBERT J          AVIATION\n",
       "57        ABBATE,  JOSEPH L      STREETS & SAN\n",
       "71        ABDULLAH,  RASHAD   GENERAL SERVICES\n",
       "73     ABDUL-SHAKUR,  TAHIR      STREETS & SAN\n",
       "...                      ...               ...\n",
       "32637      ZURAWSKI,  MAC Z      STREETS & SAN\n",
       "32639       ZUREK,  FRANCIS               OEMC\n",
       "32644     ZWARYCZ,  THOMAS J       WATER MGMNT\n",
       "32650       ZYGADLO,  JOHN P  GENERAL SERVICES\n",
       "32651    ZYGADLO,  MICHAEL J  GENERAL SERVICES\n",
       "\n",
       "[5906 rows x 2 columns]"
      ]
     },
     "execution_count": 16,
     "metadata": {},
     "output_type": "execute_result"
    }
   ],
   "source": [
    "pay[(pay['Salary or Hourly']=='Hourly')&(pay['Full or Part-Time']=='F')][['Name','Department']]\n"
   ]
  },
  {
   "cell_type": "code",
   "execution_count": 18,
   "id": "21c1969f",
   "metadata": {},
   "outputs": [
    {
     "data": {
      "text/plain": [
       "0   NaN\n",
       "1   NaN\n",
       "2   NaN\n",
       "3   NaN\n",
       "4   NaN\n",
       "5   NaN\n",
       "6   NaN\n",
       "7   NaN\n",
       "8   NaN\n",
       "9   NaN\n",
       "Name: H_rate, dtype: float64"
      ]
     },
     "execution_count": 18,
     "metadata": {},
     "output_type": "execute_result"
    }
   ],
   "source": [
    "pay['H_rate']=pay['Hourly Rate'].str.replace('$','').astype(float)\n",
    "pay['H_rate'].head(10)"
   ]
  },
  {
   "cell_type": "code",
   "execution_count": 20,
   "id": "abe6d261",
   "metadata": {},
   "outputs": [
    {
     "data": {
      "application/vnd.microsoft.datawrangler.viewer.v0+json": {
       "columns": [
        {
         "name": "index",
         "rawType": "int64",
         "type": "integer"
        },
        {
         "name": "Name",
         "rawType": "object",
         "type": "string"
        },
        {
         "name": "Job Titles",
         "rawType": "object",
         "type": "string"
        },
        {
         "name": "Department",
         "rawType": "object",
         "type": "string"
        },
        {
         "name": "Full or Part-Time",
         "rawType": "object",
         "type": "string"
        },
        {
         "name": "Salary or Hourly",
         "rawType": "object",
         "type": "string"
        },
        {
         "name": "Typical Hours",
         "rawType": "float64",
         "type": "float"
        },
        {
         "name": "Annual Salary",
         "rawType": "object",
         "type": "unknown"
        },
        {
         "name": "Hourly Rate",
         "rawType": "object",
         "type": "string"
        },
        {
         "name": "Salary",
         "rawType": "float64",
         "type": "float"
        },
        {
         "name": "H_rate",
         "rawType": "float64",
         "type": "float"
        }
       ],
       "conversionMethod": "pd.DataFrame",
       "ref": "b2491927-2572-48fb-967f-2167a35c50ea",
       "rows": [
        [
         "1232",
         "AYALA JR,  JESUS ",
         "STUDENT INTERN",
         "HUMAN RESOURCES",
         "F",
         "Hourly",
         "35.0",
         null,
         "$10.00",
         null,
         "10.0"
        ],
        [
         "4522",
         "CERVANTES,  BIANCA A",
         "STUDENT INTERN",
         "BUDGET & MGMT",
         "F",
         "Hourly",
         "35.0",
         null,
         "$10.00",
         null,
         "10.0"
        ],
        [
         "6476",
         "DAVILA,  ROBERTO A",
         "ALDERMANIC AIDE",
         "CITY COUNCIL",
         "F",
         "Hourly",
         "35.0",
         null,
         "$10.00",
         null,
         "10.0"
        ],
        [
         "16474",
         "LEVY,  ETHAN ",
         "CLERK CITY COUNCIL",
         "CITY COUNCIL",
         "F",
         "Hourly",
         "35.0",
         null,
         "$10.00",
         null,
         "10.0"
        ]
       ],
       "shape": {
        "columns": 10,
        "rows": 4
       }
      },
      "text/html": [
       "<div>\n",
       "<style scoped>\n",
       "    .dataframe tbody tr th:only-of-type {\n",
       "        vertical-align: middle;\n",
       "    }\n",
       "\n",
       "    .dataframe tbody tr th {\n",
       "        vertical-align: top;\n",
       "    }\n",
       "\n",
       "    .dataframe thead th {\n",
       "        text-align: right;\n",
       "    }\n",
       "</style>\n",
       "<table border=\"1\" class=\"dataframe\">\n",
       "  <thead>\n",
       "    <tr style=\"text-align: right;\">\n",
       "      <th></th>\n",
       "      <th>Name</th>\n",
       "      <th>Job Titles</th>\n",
       "      <th>Department</th>\n",
       "      <th>Full or Part-Time</th>\n",
       "      <th>Salary or Hourly</th>\n",
       "      <th>Typical Hours</th>\n",
       "      <th>Annual Salary</th>\n",
       "      <th>Hourly Rate</th>\n",
       "      <th>Salary</th>\n",
       "      <th>H_rate</th>\n",
       "    </tr>\n",
       "  </thead>\n",
       "  <tbody>\n",
       "    <tr>\n",
       "      <th>1232</th>\n",
       "      <td>AYALA JR,  JESUS</td>\n",
       "      <td>STUDENT INTERN</td>\n",
       "      <td>HUMAN RESOURCES</td>\n",
       "      <td>F</td>\n",
       "      <td>Hourly</td>\n",
       "      <td>35.0</td>\n",
       "      <td>NaN</td>\n",
       "      <td>$10.00</td>\n",
       "      <td>NaN</td>\n",
       "      <td>10.0</td>\n",
       "    </tr>\n",
       "    <tr>\n",
       "      <th>4522</th>\n",
       "      <td>CERVANTES,  BIANCA A</td>\n",
       "      <td>STUDENT INTERN</td>\n",
       "      <td>BUDGET &amp; MGMT</td>\n",
       "      <td>F</td>\n",
       "      <td>Hourly</td>\n",
       "      <td>35.0</td>\n",
       "      <td>NaN</td>\n",
       "      <td>$10.00</td>\n",
       "      <td>NaN</td>\n",
       "      <td>10.0</td>\n",
       "    </tr>\n",
       "    <tr>\n",
       "      <th>6476</th>\n",
       "      <td>DAVILA,  ROBERTO A</td>\n",
       "      <td>ALDERMANIC AIDE</td>\n",
       "      <td>CITY COUNCIL</td>\n",
       "      <td>F</td>\n",
       "      <td>Hourly</td>\n",
       "      <td>35.0</td>\n",
       "      <td>NaN</td>\n",
       "      <td>$10.00</td>\n",
       "      <td>NaN</td>\n",
       "      <td>10.0</td>\n",
       "    </tr>\n",
       "    <tr>\n",
       "      <th>16474</th>\n",
       "      <td>LEVY,  ETHAN</td>\n",
       "      <td>CLERK CITY COUNCIL</td>\n",
       "      <td>CITY COUNCIL</td>\n",
       "      <td>F</td>\n",
       "      <td>Hourly</td>\n",
       "      <td>35.0</td>\n",
       "      <td>NaN</td>\n",
       "      <td>$10.00</td>\n",
       "      <td>NaN</td>\n",
       "      <td>10.0</td>\n",
       "    </tr>\n",
       "  </tbody>\n",
       "</table>\n",
       "</div>"
      ],
      "text/plain": [
       "                       Name          Job Titles       Department  \\\n",
       "1232      AYALA JR,  JESUS       STUDENT INTERN  HUMAN RESOURCES   \n",
       "4522   CERVANTES,  BIANCA A      STUDENT INTERN    BUDGET & MGMT   \n",
       "6476     DAVILA,  ROBERTO A     ALDERMANIC AIDE     CITY COUNCIL   \n",
       "16474         LEVY,  ETHAN   CLERK CITY COUNCIL     CITY COUNCIL   \n",
       "\n",
       "      Full or Part-Time Salary or Hourly  Typical Hours Annual Salary  \\\n",
       "1232                  F           Hourly           35.0           NaN   \n",
       "4522                  F           Hourly           35.0           NaN   \n",
       "6476                  F           Hourly           35.0           NaN   \n",
       "16474                 F           Hourly           35.0           NaN   \n",
       "\n",
       "      Hourly Rate  Salary  H_rate  \n",
       "1232       $10.00     NaN    10.0  \n",
       "4522       $10.00     NaN    10.0  \n",
       "6476       $10.00     NaN    10.0  \n",
       "16474      $10.00     NaN    10.0  "
      ]
     },
     "execution_count": 20,
     "metadata": {},
     "output_type": "execute_result"
    }
   ],
   "source": [
    "pay[(pay['Full or Part-Time']=='F')&(pay['H_rate']==10)]"
   ]
  },
  {
   "cell_type": "code",
   "execution_count": 21,
   "id": "ef4e1851",
   "metadata": {},
   "outputs": [
    {
     "data": {
      "text/plain": [
       "1095"
      ]
     },
     "execution_count": 21,
     "metadata": {},
     "output_type": "execute_result"
    }
   ],
   "source": [
    "pay['Job Titles'].nunique()"
   ]
  },
  {
   "cell_type": "code",
   "execution_count": 29,
   "id": "fba68a8b",
   "metadata": {},
   "outputs": [
    {
     "data": {
      "application/vnd.microsoft.datawrangler.viewer.v0+json": {
       "columns": [
        {
         "name": "index",
         "rawType": "int64",
         "type": "integer"
        },
        {
         "name": "Name",
         "rawType": "object",
         "type": "string"
        },
        {
         "name": "Job Titles",
         "rawType": "object",
         "type": "string"
        },
        {
         "name": "Department",
         "rawType": "object",
         "type": "string"
        },
        {
         "name": "Full or Part-Time",
         "rawType": "object",
         "type": "string"
        },
        {
         "name": "Salary or Hourly",
         "rawType": "object",
         "type": "string"
        },
        {
         "name": "Typical Hours",
         "rawType": "float64",
         "type": "float"
        },
        {
         "name": "Annual Salary",
         "rawType": "object",
         "type": "string"
        },
        {
         "name": "Hourly Rate",
         "rawType": "object",
         "type": "unknown"
        },
        {
         "name": "Salary",
         "rawType": "float64",
         "type": "float"
        },
        {
         "name": "H_rate",
         "rawType": "float64",
         "type": "float"
        }
       ],
       "conversionMethod": "pd.DataFrame",
       "ref": "944fd2c7-5f80-4052-81a8-c4e2c09df3f3",
       "rows": [
        [
         "8310",
         "EVANS,  GINGER S",
         "COMMISSIONER OF AVIATION",
         "AVIATION",
         "F",
         "Salary",
         null,
         "$300000.00",
         null,
         "300000.0",
         null
        ]
       ],
       "shape": {
        "columns": 10,
        "rows": 1
       }
      },
      "text/html": [
       "<div>\n",
       "<style scoped>\n",
       "    .dataframe tbody tr th:only-of-type {\n",
       "        vertical-align: middle;\n",
       "    }\n",
       "\n",
       "    .dataframe tbody tr th {\n",
       "        vertical-align: top;\n",
       "    }\n",
       "\n",
       "    .dataframe thead th {\n",
       "        text-align: right;\n",
       "    }\n",
       "</style>\n",
       "<table border=\"1\" class=\"dataframe\">\n",
       "  <thead>\n",
       "    <tr style=\"text-align: right;\">\n",
       "      <th></th>\n",
       "      <th>Name</th>\n",
       "      <th>Job Titles</th>\n",
       "      <th>Department</th>\n",
       "      <th>Full or Part-Time</th>\n",
       "      <th>Salary or Hourly</th>\n",
       "      <th>Typical Hours</th>\n",
       "      <th>Annual Salary</th>\n",
       "      <th>Hourly Rate</th>\n",
       "      <th>Salary</th>\n",
       "      <th>H_rate</th>\n",
       "    </tr>\n",
       "  </thead>\n",
       "  <tbody>\n",
       "    <tr>\n",
       "      <th>8310</th>\n",
       "      <td>EVANS,  GINGER S</td>\n",
       "      <td>COMMISSIONER OF AVIATION</td>\n",
       "      <td>AVIATION</td>\n",
       "      <td>F</td>\n",
       "      <td>Salary</td>\n",
       "      <td>NaN</td>\n",
       "      <td>$300000.00</td>\n",
       "      <td>NaN</td>\n",
       "      <td>300000.0</td>\n",
       "      <td>NaN</td>\n",
       "    </tr>\n",
       "  </tbody>\n",
       "</table>\n",
       "</div>"
      ],
      "text/plain": [
       "                  Name                Job Titles Department Full or Part-Time  \\\n",
       "8310  EVANS,  GINGER S  COMMISSIONER OF AVIATION   AVIATION                 F   \n",
       "\n",
       "     Salary or Hourly  Typical Hours Annual Salary Hourly Rate    Salary  \\\n",
       "8310           Salary            NaN    $300000.00         NaN  300000.0   \n",
       "\n",
       "      H_rate  \n",
       "8310     NaN  "
      ]
     },
     "execution_count": 29,
     "metadata": {},
     "output_type": "execute_result"
    }
   ],
   "source": [
    "pay[pay['Salary']==pay['Salary'].max()]"
   ]
  },
  {
   "cell_type": "code",
   "execution_count": 32,
   "id": "5f9fd1cc",
   "metadata": {},
   "outputs": [
    {
     "data": {
      "text/plain": [
       "Department\n",
       "ADMIN HEARNG             78912.947368\n",
       "ANIMAL CONTRL            66089.684211\n",
       "AVIATION                 76140.018777\n",
       "BOARD OF ELECTION        56051.142857\n",
       "BOARD OF ETHICS          94552.500000\n",
       "BUDGET & MGMT            93925.395349\n",
       "BUILDINGS                98864.833534\n",
       "BUSINESS AFFAIRS         80446.425000\n",
       "CITY CLERK               69762.439024\n",
       "CITY COUNCIL             63577.172069\n",
       "COMMUNITY DEVELOPMENT    88363.257143\n",
       "COPA                     98784.705882\n",
       "CULTURAL AFFAIRS         87048.909091\n",
       "DISABILITIES             82431.724138\n",
       "DoIT                     99681.029703\n",
       "FAMILY & SUPPORT         79013.588785\n",
       "FINANCE                  73276.364662\n",
       "FIRE                     97762.348662\n",
       "GENERAL SERVICES         83095.528390\n",
       "HEALTH                   85488.210938\n",
       "HUMAN RELATIONS          93778.588235\n",
       "HUMAN RESOURCES          79851.761194\n",
       "INSPECTOR GEN            84030.666667\n",
       "IPRA                     94429.285714\n",
       "LAW                      84582.814404\n",
       "LICENSE APPL COMM        80568.000000\n",
       "MAYOR'S OFFICE           96165.512308\n",
       "OEMC                     73153.778221\n",
       "POLICE                   87836.025349\n",
       "POLICE BOARD             86136.000000\n",
       "PROCUREMENT              83278.243902\n",
       "PUBLIC LIBRARY           71273.288136\n",
       "STREETS & SAN            84347.775701\n",
       "TRANSPORTN               89976.896061\n",
       "TREASURER                88062.652174\n",
       "WATER MGMNT              89894.111803\n",
       "Name: Salary, dtype: float64"
      ]
     },
     "execution_count": 32,
     "metadata": {},
     "output_type": "execute_result"
    }
   ],
   "source": [
    "pay.groupby('Department')['Salary'].mean()"
   ]
  },
  {
   "cell_type": "code",
   "execution_count": 34,
   "id": "4466f800",
   "metadata": {},
   "outputs": [
    {
     "data": {
      "application/vnd.microsoft.datawrangler.viewer.v0+json": {
       "columns": [
        {
         "name": "index",
         "rawType": "int64",
         "type": "integer"
        },
        {
         "name": "Department",
         "rawType": "object",
         "type": "string"
        },
        {
         "name": "Name",
         "rawType": "object",
         "type": "string"
        },
        {
         "name": "Annual Salary",
         "rawType": "object",
         "type": "string"
        }
       ],
       "conversionMethod": "pd.DataFrame",
       "ref": "854e84a2-cd30-422a-8216-f16d388d459f",
       "rows": [
        [
         "12098",
         "ADMIN HEARNG",
         "HEIDT,  SANDRA E",
         "$98160.00"
        ],
        [
         "3978",
         "ANIMAL CONTRL",
         "CAPIFALI,  IVAN J",
         "$99648.00"
        ],
        [
         "5762",
         "AVIATION",
         "COSENTINO,  MICHAEL J",
         "$99648.00"
        ],
        [
         "8494",
         "BOARD OF ELECTION",
         "FEDDERKE,  JEFF ",
         "$99816.00"
        ],
        [
         "4336",
         "BOARD OF ETHICS",
         "CASILLAS,  PAULLY ",
         "$92592.00"
        ],
        [
         "7109",
         "BUDGET & MGMT",
         "DICKINSON,  JENNIFER ",
         "$98688.00"
        ],
        [
         "2060",
         "BUILDINGS",
         "BERNACKI,  ROBERT J",
         "$97551.96"
        ],
        [
         "10482",
         "BUSINESS AFFAIRS",
         "GONZALEZ,  BETSY ",
         "$97740.00"
        ],
        [
         "29432",
         "CITY CLERK",
         "TOWNSEND,  MARIA A",
         "$93300.00"
        ],
        [
         "29840",
         "CITY COUNCIL",
         "VALADEZ,  RAYMOND R",
         "$99744.00"
        ],
        [
         "26490",
         "COMMUNITY DEVELOPMENT",
         "SEGAL,  ROMAN ",
         "$99768.00"
        ],
        [
         "19201",
         "COPA",
         "MERRITT,  LARRY L",
         "$86460.00"
        ],
        [
         "12462",
         "CULTURAL AFFAIRS",
         "HICKEY,  ANN E",
         "$99648.00"
        ],
        [
         "20978",
         "DISABILITIES",
         "NOBRIGA,  MARK D",
         "$93300.00"
        ],
        [
         "17135",
         "DoIT",
         "LUCIUS,  NICHOLAS J",
         "$99672.00"
        ],
        [
         "21186",
         "FAMILY & SUPPORT",
         "OBIALOR,  BERTRAND C",
         "$99672.00"
        ],
        [
         "30245",
         "FINANCE",
         "VERZONI,  PATRICIA R",
         "$99780.00"
        ],
        [
         "1852",
         "FIRE",
         "BECKER,  MICHAEL J",
         "$99846.00"
        ],
        [
         "27403",
         "GENERAL SERVICES",
         "SMITH,  RICHARD A",
         "$98664.00"
        ],
        [
         "13041",
         "HEALTH",
         "HUBBARD,  VALERIA R",
         "$98196.00"
        ],
        [
         "20845",
         "HUMAN RELATIONS",
         "NEWSOME,  JO ANN N",
         "$99672.00"
        ],
        [
         "7867",
         "HUMAN RESOURCES",
         "EASTER,  PHYLLINIS M",
         "$99768.00"
        ],
        [
         "967",
         "INSPECTOR GEN",
         "ARELLANO,  HECTOR A",
         "$92088.00"
        ],
        [
         "6435",
         "IPRA",
         "DAUN,  SHERRY J",
         "$97740.00"
        ],
        [
         "15591",
         "LAW",
         "KRAFT,  VICKI M",
         "$99864.00"
        ],
        [
         "11310",
         "LICENSE APPL COMM",
         "GUZMAN FLORES,  MICHELLE ",
         "$80568.00"
        ],
        [
         "7126",
         "MAYOR'S OFFICE",
         "DIETTE,  THOMAS C",
         "$99996.00"
        ],
        [
         "4704",
         "OEMC",
         "CHEN,  DIBO ",
         "$99768.00"
        ],
        [
         "25649",
         "POLICE",
         "SACHS,  LARRY E",
         "$99816.00"
        ],
        [
         "2400",
         "POLICE BOARD",
         "BOATMAN,  CARISA A",
         "$66480.00"
        ],
        [
         "14914",
         "PROCUREMENT",
         "KELLY,  ROBERT J",
         "$97740.00"
        ],
        [
         "7611",
         "PUBLIC LIBRARY",
         "DUARTE,  GUILLERMIN ",
         "$95580.00"
        ],
        [
         "1095",
         "STREETS & SAN",
         "ARZUAGA,  MIGUEL A",
         "$97740.00"
        ],
        [
         "711",
         "TRANSPORTN",
         "AMSDEN,  MICHAEL ",
         "$99036.00"
        ],
        [
         "27013",
         "TREASURER",
         "SIMS,  ALEXANDRA P",
         "$94560.00"
        ],
        [
         "25721",
         "WATER MGMNT",
         "SALDANA,  THOMAS R",
         "$99768.00"
        ]
       ],
       "shape": {
        "columns": 3,
        "rows": 36
       }
      },
      "text/html": [
       "<div>\n",
       "<style scoped>\n",
       "    .dataframe tbody tr th:only-of-type {\n",
       "        vertical-align: middle;\n",
       "    }\n",
       "\n",
       "    .dataframe tbody tr th {\n",
       "        vertical-align: top;\n",
       "    }\n",
       "\n",
       "    .dataframe thead th {\n",
       "        text-align: right;\n",
       "    }\n",
       "</style>\n",
       "<table border=\"1\" class=\"dataframe\">\n",
       "  <thead>\n",
       "    <tr style=\"text-align: right;\">\n",
       "      <th></th>\n",
       "      <th>Department</th>\n",
       "      <th>Name</th>\n",
       "      <th>Annual Salary</th>\n",
       "    </tr>\n",
       "  </thead>\n",
       "  <tbody>\n",
       "    <tr>\n",
       "      <th>12098</th>\n",
       "      <td>ADMIN HEARNG</td>\n",
       "      <td>HEIDT,  SANDRA E</td>\n",
       "      <td>$98160.00</td>\n",
       "    </tr>\n",
       "    <tr>\n",
       "      <th>3978</th>\n",
       "      <td>ANIMAL CONTRL</td>\n",
       "      <td>CAPIFALI,  IVAN J</td>\n",
       "      <td>$99648.00</td>\n",
       "    </tr>\n",
       "    <tr>\n",
       "      <th>5762</th>\n",
       "      <td>AVIATION</td>\n",
       "      <td>COSENTINO,  MICHAEL J</td>\n",
       "      <td>$99648.00</td>\n",
       "    </tr>\n",
       "    <tr>\n",
       "      <th>8494</th>\n",
       "      <td>BOARD OF ELECTION</td>\n",
       "      <td>FEDDERKE,  JEFF</td>\n",
       "      <td>$99816.00</td>\n",
       "    </tr>\n",
       "    <tr>\n",
       "      <th>4336</th>\n",
       "      <td>BOARD OF ETHICS</td>\n",
       "      <td>CASILLAS,  PAULLY</td>\n",
       "      <td>$92592.00</td>\n",
       "    </tr>\n",
       "    <tr>\n",
       "      <th>7109</th>\n",
       "      <td>BUDGET &amp; MGMT</td>\n",
       "      <td>DICKINSON,  JENNIFER</td>\n",
       "      <td>$98688.00</td>\n",
       "    </tr>\n",
       "    <tr>\n",
       "      <th>2060</th>\n",
       "      <td>BUILDINGS</td>\n",
       "      <td>BERNACKI,  ROBERT J</td>\n",
       "      <td>$97551.96</td>\n",
       "    </tr>\n",
       "    <tr>\n",
       "      <th>10482</th>\n",
       "      <td>BUSINESS AFFAIRS</td>\n",
       "      <td>GONZALEZ,  BETSY</td>\n",
       "      <td>$97740.00</td>\n",
       "    </tr>\n",
       "    <tr>\n",
       "      <th>29432</th>\n",
       "      <td>CITY CLERK</td>\n",
       "      <td>TOWNSEND,  MARIA A</td>\n",
       "      <td>$93300.00</td>\n",
       "    </tr>\n",
       "    <tr>\n",
       "      <th>29840</th>\n",
       "      <td>CITY COUNCIL</td>\n",
       "      <td>VALADEZ,  RAYMOND R</td>\n",
       "      <td>$99744.00</td>\n",
       "    </tr>\n",
       "    <tr>\n",
       "      <th>26490</th>\n",
       "      <td>COMMUNITY DEVELOPMENT</td>\n",
       "      <td>SEGAL,  ROMAN</td>\n",
       "      <td>$99768.00</td>\n",
       "    </tr>\n",
       "    <tr>\n",
       "      <th>19201</th>\n",
       "      <td>COPA</td>\n",
       "      <td>MERRITT,  LARRY L</td>\n",
       "      <td>$86460.00</td>\n",
       "    </tr>\n",
       "    <tr>\n",
       "      <th>12462</th>\n",
       "      <td>CULTURAL AFFAIRS</td>\n",
       "      <td>HICKEY,  ANN E</td>\n",
       "      <td>$99648.00</td>\n",
       "    </tr>\n",
       "    <tr>\n",
       "      <th>20978</th>\n",
       "      <td>DISABILITIES</td>\n",
       "      <td>NOBRIGA,  MARK D</td>\n",
       "      <td>$93300.00</td>\n",
       "    </tr>\n",
       "    <tr>\n",
       "      <th>17135</th>\n",
       "      <td>DoIT</td>\n",
       "      <td>LUCIUS,  NICHOLAS J</td>\n",
       "      <td>$99672.00</td>\n",
       "    </tr>\n",
       "    <tr>\n",
       "      <th>21186</th>\n",
       "      <td>FAMILY &amp; SUPPORT</td>\n",
       "      <td>OBIALOR,  BERTRAND C</td>\n",
       "      <td>$99672.00</td>\n",
       "    </tr>\n",
       "    <tr>\n",
       "      <th>30245</th>\n",
       "      <td>FINANCE</td>\n",
       "      <td>VERZONI,  PATRICIA R</td>\n",
       "      <td>$99780.00</td>\n",
       "    </tr>\n",
       "    <tr>\n",
       "      <th>1852</th>\n",
       "      <td>FIRE</td>\n",
       "      <td>BECKER,  MICHAEL J</td>\n",
       "      <td>$99846.00</td>\n",
       "    </tr>\n",
       "    <tr>\n",
       "      <th>27403</th>\n",
       "      <td>GENERAL SERVICES</td>\n",
       "      <td>SMITH,  RICHARD A</td>\n",
       "      <td>$98664.00</td>\n",
       "    </tr>\n",
       "    <tr>\n",
       "      <th>13041</th>\n",
       "      <td>HEALTH</td>\n",
       "      <td>HUBBARD,  VALERIA R</td>\n",
       "      <td>$98196.00</td>\n",
       "    </tr>\n",
       "    <tr>\n",
       "      <th>20845</th>\n",
       "      <td>HUMAN RELATIONS</td>\n",
       "      <td>NEWSOME,  JO ANN N</td>\n",
       "      <td>$99672.00</td>\n",
       "    </tr>\n",
       "    <tr>\n",
       "      <th>7867</th>\n",
       "      <td>HUMAN RESOURCES</td>\n",
       "      <td>EASTER,  PHYLLINIS M</td>\n",
       "      <td>$99768.00</td>\n",
       "    </tr>\n",
       "    <tr>\n",
       "      <th>967</th>\n",
       "      <td>INSPECTOR GEN</td>\n",
       "      <td>ARELLANO,  HECTOR A</td>\n",
       "      <td>$92088.00</td>\n",
       "    </tr>\n",
       "    <tr>\n",
       "      <th>6435</th>\n",
       "      <td>IPRA</td>\n",
       "      <td>DAUN,  SHERRY J</td>\n",
       "      <td>$97740.00</td>\n",
       "    </tr>\n",
       "    <tr>\n",
       "      <th>15591</th>\n",
       "      <td>LAW</td>\n",
       "      <td>KRAFT,  VICKI M</td>\n",
       "      <td>$99864.00</td>\n",
       "    </tr>\n",
       "    <tr>\n",
       "      <th>11310</th>\n",
       "      <td>LICENSE APPL COMM</td>\n",
       "      <td>GUZMAN FLORES,  MICHELLE</td>\n",
       "      <td>$80568.00</td>\n",
       "    </tr>\n",
       "    <tr>\n",
       "      <th>7126</th>\n",
       "      <td>MAYOR'S OFFICE</td>\n",
       "      <td>DIETTE,  THOMAS C</td>\n",
       "      <td>$99996.00</td>\n",
       "    </tr>\n",
       "    <tr>\n",
       "      <th>4704</th>\n",
       "      <td>OEMC</td>\n",
       "      <td>CHEN,  DIBO</td>\n",
       "      <td>$99768.00</td>\n",
       "    </tr>\n",
       "    <tr>\n",
       "      <th>25649</th>\n",
       "      <td>POLICE</td>\n",
       "      <td>SACHS,  LARRY E</td>\n",
       "      <td>$99816.00</td>\n",
       "    </tr>\n",
       "    <tr>\n",
       "      <th>2400</th>\n",
       "      <td>POLICE BOARD</td>\n",
       "      <td>BOATMAN,  CARISA A</td>\n",
       "      <td>$66480.00</td>\n",
       "    </tr>\n",
       "    <tr>\n",
       "      <th>14914</th>\n",
       "      <td>PROCUREMENT</td>\n",
       "      <td>KELLY,  ROBERT J</td>\n",
       "      <td>$97740.00</td>\n",
       "    </tr>\n",
       "    <tr>\n",
       "      <th>7611</th>\n",
       "      <td>PUBLIC LIBRARY</td>\n",
       "      <td>DUARTE,  GUILLERMIN</td>\n",
       "      <td>$95580.00</td>\n",
       "    </tr>\n",
       "    <tr>\n",
       "      <th>1095</th>\n",
       "      <td>STREETS &amp; SAN</td>\n",
       "      <td>ARZUAGA,  MIGUEL A</td>\n",
       "      <td>$97740.00</td>\n",
       "    </tr>\n",
       "    <tr>\n",
       "      <th>711</th>\n",
       "      <td>TRANSPORTN</td>\n",
       "      <td>AMSDEN,  MICHAEL</td>\n",
       "      <td>$99036.00</td>\n",
       "    </tr>\n",
       "    <tr>\n",
       "      <th>27013</th>\n",
       "      <td>TREASURER</td>\n",
       "      <td>SIMS,  ALEXANDRA P</td>\n",
       "      <td>$94560.00</td>\n",
       "    </tr>\n",
       "    <tr>\n",
       "      <th>25721</th>\n",
       "      <td>WATER MGMNT</td>\n",
       "      <td>SALDANA,  THOMAS R</td>\n",
       "      <td>$99768.00</td>\n",
       "    </tr>\n",
       "  </tbody>\n",
       "</table>\n",
       "</div>"
      ],
      "text/plain": [
       "                  Department                       Name Annual Salary\n",
       "12098           ADMIN HEARNG           HEIDT,  SANDRA E     $98160.00\n",
       "3978           ANIMAL CONTRL          CAPIFALI,  IVAN J     $99648.00\n",
       "5762                AVIATION      COSENTINO,  MICHAEL J     $99648.00\n",
       "8494       BOARD OF ELECTION           FEDDERKE,  JEFF      $99816.00\n",
       "4336         BOARD OF ETHICS         CASILLAS,  PAULLY      $92592.00\n",
       "7109           BUDGET & MGMT      DICKINSON,  JENNIFER      $98688.00\n",
       "2060               BUILDINGS        BERNACKI,  ROBERT J     $97551.96\n",
       "10482       BUSINESS AFFAIRS          GONZALEZ,  BETSY      $97740.00\n",
       "29432             CITY CLERK         TOWNSEND,  MARIA A     $93300.00\n",
       "29840           CITY COUNCIL        VALADEZ,  RAYMOND R     $99744.00\n",
       "26490  COMMUNITY DEVELOPMENT             SEGAL,  ROMAN      $99768.00\n",
       "19201                   COPA          MERRITT,  LARRY L     $86460.00\n",
       "12462       CULTURAL AFFAIRS             HICKEY,  ANN E     $99648.00\n",
       "20978           DISABILITIES           NOBRIGA,  MARK D     $93300.00\n",
       "17135                   DoIT        LUCIUS,  NICHOLAS J     $99672.00\n",
       "21186       FAMILY & SUPPORT       OBIALOR,  BERTRAND C     $99672.00\n",
       "30245                FINANCE       VERZONI,  PATRICIA R     $99780.00\n",
       "1852                    FIRE         BECKER,  MICHAEL J     $99846.00\n",
       "27403       GENERAL SERVICES          SMITH,  RICHARD A     $98664.00\n",
       "13041                 HEALTH        HUBBARD,  VALERIA R     $98196.00\n",
       "20845        HUMAN RELATIONS         NEWSOME,  JO ANN N     $99672.00\n",
       "7867         HUMAN RESOURCES       EASTER,  PHYLLINIS M     $99768.00\n",
       "967            INSPECTOR GEN        ARELLANO,  HECTOR A     $92088.00\n",
       "6435                    IPRA            DAUN,  SHERRY J     $97740.00\n",
       "15591                    LAW            KRAFT,  VICKI M     $99864.00\n",
       "11310      LICENSE APPL COMM  GUZMAN FLORES,  MICHELLE      $80568.00\n",
       "7126          MAYOR'S OFFICE          DIETTE,  THOMAS C     $99996.00\n",
       "4704                    OEMC               CHEN,  DIBO      $99768.00\n",
       "25649                 POLICE            SACHS,  LARRY E     $99816.00\n",
       "2400            POLICE BOARD         BOATMAN,  CARISA A     $66480.00\n",
       "14914            PROCUREMENT           KELLY,  ROBERT J     $97740.00\n",
       "7611          PUBLIC LIBRARY       DUARTE,  GUILLERMIN      $95580.00\n",
       "1095           STREETS & SAN         ARZUAGA,  MIGUEL A     $97740.00\n",
       "711               TRANSPORTN          AMSDEN,  MICHAEL      $99036.00\n",
       "27013              TREASURER         SIMS,  ALEXANDRA P     $94560.00\n",
       "25721            WATER MGMNT         SALDANA,  THOMAS R     $99768.00"
      ]
     },
     "execution_count": 34,
     "metadata": {},
     "output_type": "execute_result"
    }
   ],
   "source": [
    "# Step 1: Sort the DataFrame by Department and Salary (highest first)\n",
    "pay_sorted = pay.sort_values(['Department', 'Annual Salary'], ascending=[True, False])\n",
    "\n",
    "# Step 2: Drop duplicates keeping only the first (which is the highest paid per dept)\n",
    "top_earners = pay_sorted.drop_duplicates(subset='Department', keep='first')\n",
    "\n",
    "# Step 3: Select just the useful columns to display\n",
    "result = top_earners[['Department', 'Name', 'Annual Salary']]\n",
    "result \n"
   ]
  },
  {
   "cell_type": "code",
   "execution_count": 49,
   "id": "517a57fe",
   "metadata": {},
   "outputs": [
    {
     "data": {
      "application/vnd.microsoft.datawrangler.viewer.v0+json": {
       "columns": [
        {
         "name": "index",
         "rawType": "int64",
         "type": "integer"
        },
        {
         "name": "Department",
         "rawType": "object",
         "type": "string"
        },
        {
         "name": "Name",
         "rawType": "object",
         "type": "string"
        },
        {
         "name": "Salary",
         "rawType": "float64",
         "type": "float"
        }
       ],
       "conversionMethod": "pd.DataFrame",
       "ref": "9e101d67-5fb8-4352-af46-91400838b848",
       "rows": [
        [
         "13449",
         "ADMIN HEARNG",
         "JACKOWIAK,  PATRICIA ",
         "156420.0"
        ],
        [
         "25535",
         "ANIMAL CONTRL",
         "RUSSELL,  SUSAN J",
         "130008.0"
        ],
        [
         "8310",
         "AVIATION",
         "EVANS,  GINGER S",
         "300000.0"
        ],
        [
         "1714",
         "BOARD OF ELECTION",
         "BATEMAN,  KELLY ANNE ",
         "133740.0"
        ],
        [
         "2051",
         "BOARD OF ETHICS",
         "BERLIN,  STEVEN ",
         "135672.0"
        ],
        [
         "12793",
         "BUDGET & MGMT",
         "HOLT,  ALEXANDRA D",
         "169992.0"
        ],
        [
         "9338",
         "BUILDINGS",
         "FRYDLAND,  JUDITH ",
         "157092.0"
        ],
        [
         "11143",
         "BUSINESS AFFAIRS",
         "GUERRA,  MARIA ",
         "157092.0"
        ],
        [
         "25841",
         "CITY CLERK",
         "SANCHEZ,  CARINA E",
         "125292.0"
        ],
        [
         "14588",
         "CITY COUNCIL",
         "KAIDEN,  MARLA M",
         "160248.0"
        ],
        [
         "24085",
         "COMMUNITY DEVELOPMENT",
         "REIFMAN,  DAVID ",
         "175020.0"
        ],
        [
         "8405",
         "COPA",
         "FAIRLEY,  SHARON R",
         "161856.0"
        ],
        [
         "14895",
         "CULTURAL AFFAIRS",
         "KELLY,  MARK E",
         "155040.0"
        ],
        [
         "28638",
         "DISABILITIES",
         "TAMLEY,  KAREN M",
         "138420.0"
        ],
        [
         "2052",
         "DoIT",
         "BERMAN,  BRENNA M",
         "154992.0"
        ],
        [
         "20095",
         "FAMILY & SUPPORT",
         "MORRISON BUTLER,  LISA V",
         "175002.0"
        ],
        [
         "14779",
         "FINANCE",
         "KEANE,  ERIN S",
         "165000.0"
        ],
        [
         "26028",
         "FIRE",
         "SANTIAGO,  JOSE A",
         "202728.0"
        ],
        [
         "24251",
         "GENERAL SERVICES",
         "REYNOLDS,  DAVID J",
         "157092.0"
        ],
        [
         "20048",
         "HEALTH",
         "MORITA,  JULIA Y",
         "177000.0"
        ],
        [
         "21027",
         "HUMAN RELATIONS",
         "NORIEGA,  MONA ",
         "125004.0"
        ],
        [
         "4809",
         "HUMAN RESOURCES",
         "CHOI,  SOO ",
         "151572.0"
        ],
        [
         "8569",
         "INSPECTOR GEN",
         "FERGUSON,  JOSEPH M",
         "161856.0"
        ],
        [
         "713",
         "IPRA",
         "ANAELE,  BENEDICT E",
         "122316.0"
        ],
        [
         "22353",
         "LAW",
         "PATTON,  STEPHEN R",
         "173664.0"
        ],
        [
         "11310",
         "LICENSE APPL COMM",
         "GUZMAN FLORES,  MICHELLE ",
         "80568.0"
        ],
        [
         "8079",
         "MAYOR'S OFFICE",
         "EMANUEL,  RAHM ",
         "216210.0"
        ],
        [
         "28708",
         "OEMC",
         "TATE-NADEAU,  ALICIA A",
         "167796.0"
        ],
        [
         "13999",
         "POLICE",
         "JOHNSON,  EDDIE T",
         "260004.0"
        ],
        [
         "4001",
         "POLICE BOARD",
         "CAPRONI,  MAX A",
         "105792.0"
        ],
        [
         "24279",
         "PROCUREMENT",
         "RHEE,  JAMIE L",
         "167220.0"
        ],
        [
         "1497",
         "PUBLIC LIBRARY",
         "BANNON,  BRIAN A",
         "167004.0"
        ],
        [
         "31404",
         "STREETS & SAN",
         "WILLIAMS,  CHARLES L",
         "157092.0"
        ],
        [
         "26217",
         "TRANSPORTN",
         "SCHEINFELD,  REBEKAH C",
         "169500.0"
        ],
        [
         "17947",
         "TREASURER",
         "MARTINEZ,  MIRIAM ",
         "137700.0"
        ],
        [
         "20411",
         "WATER MGMNT",
         "MURPHY,  BARRETT B",
         "169512.0"
        ]
       ],
       "shape": {
        "columns": 3,
        "rows": 36
       }
      },
      "text/html": [
       "<div>\n",
       "<style scoped>\n",
       "    .dataframe tbody tr th:only-of-type {\n",
       "        vertical-align: middle;\n",
       "    }\n",
       "\n",
       "    .dataframe tbody tr th {\n",
       "        vertical-align: top;\n",
       "    }\n",
       "\n",
       "    .dataframe thead th {\n",
       "        text-align: right;\n",
       "    }\n",
       "</style>\n",
       "<table border=\"1\" class=\"dataframe\">\n",
       "  <thead>\n",
       "    <tr style=\"text-align: right;\">\n",
       "      <th></th>\n",
       "      <th>Department</th>\n",
       "      <th>Name</th>\n",
       "      <th>Salary</th>\n",
       "    </tr>\n",
       "  </thead>\n",
       "  <tbody>\n",
       "    <tr>\n",
       "      <th>13449</th>\n",
       "      <td>ADMIN HEARNG</td>\n",
       "      <td>JACKOWIAK,  PATRICIA</td>\n",
       "      <td>156420.0</td>\n",
       "    </tr>\n",
       "    <tr>\n",
       "      <th>25535</th>\n",
       "      <td>ANIMAL CONTRL</td>\n",
       "      <td>RUSSELL,  SUSAN J</td>\n",
       "      <td>130008.0</td>\n",
       "    </tr>\n",
       "    <tr>\n",
       "      <th>8310</th>\n",
       "      <td>AVIATION</td>\n",
       "      <td>EVANS,  GINGER S</td>\n",
       "      <td>300000.0</td>\n",
       "    </tr>\n",
       "    <tr>\n",
       "      <th>1714</th>\n",
       "      <td>BOARD OF ELECTION</td>\n",
       "      <td>BATEMAN,  KELLY ANNE</td>\n",
       "      <td>133740.0</td>\n",
       "    </tr>\n",
       "    <tr>\n",
       "      <th>2051</th>\n",
       "      <td>BOARD OF ETHICS</td>\n",
       "      <td>BERLIN,  STEVEN</td>\n",
       "      <td>135672.0</td>\n",
       "    </tr>\n",
       "    <tr>\n",
       "      <th>12793</th>\n",
       "      <td>BUDGET &amp; MGMT</td>\n",
       "      <td>HOLT,  ALEXANDRA D</td>\n",
       "      <td>169992.0</td>\n",
       "    </tr>\n",
       "    <tr>\n",
       "      <th>9338</th>\n",
       "      <td>BUILDINGS</td>\n",
       "      <td>FRYDLAND,  JUDITH</td>\n",
       "      <td>157092.0</td>\n",
       "    </tr>\n",
       "    <tr>\n",
       "      <th>11143</th>\n",
       "      <td>BUSINESS AFFAIRS</td>\n",
       "      <td>GUERRA,  MARIA</td>\n",
       "      <td>157092.0</td>\n",
       "    </tr>\n",
       "    <tr>\n",
       "      <th>25841</th>\n",
       "      <td>CITY CLERK</td>\n",
       "      <td>SANCHEZ,  CARINA E</td>\n",
       "      <td>125292.0</td>\n",
       "    </tr>\n",
       "    <tr>\n",
       "      <th>14588</th>\n",
       "      <td>CITY COUNCIL</td>\n",
       "      <td>KAIDEN,  MARLA M</td>\n",
       "      <td>160248.0</td>\n",
       "    </tr>\n",
       "    <tr>\n",
       "      <th>24085</th>\n",
       "      <td>COMMUNITY DEVELOPMENT</td>\n",
       "      <td>REIFMAN,  DAVID</td>\n",
       "      <td>175020.0</td>\n",
       "    </tr>\n",
       "    <tr>\n",
       "      <th>8405</th>\n",
       "      <td>COPA</td>\n",
       "      <td>FAIRLEY,  SHARON R</td>\n",
       "      <td>161856.0</td>\n",
       "    </tr>\n",
       "    <tr>\n",
       "      <th>14895</th>\n",
       "      <td>CULTURAL AFFAIRS</td>\n",
       "      <td>KELLY,  MARK E</td>\n",
       "      <td>155040.0</td>\n",
       "    </tr>\n",
       "    <tr>\n",
       "      <th>28638</th>\n",
       "      <td>DISABILITIES</td>\n",
       "      <td>TAMLEY,  KAREN M</td>\n",
       "      <td>138420.0</td>\n",
       "    </tr>\n",
       "    <tr>\n",
       "      <th>2052</th>\n",
       "      <td>DoIT</td>\n",
       "      <td>BERMAN,  BRENNA M</td>\n",
       "      <td>154992.0</td>\n",
       "    </tr>\n",
       "    <tr>\n",
       "      <th>20095</th>\n",
       "      <td>FAMILY &amp; SUPPORT</td>\n",
       "      <td>MORRISON BUTLER,  LISA V</td>\n",
       "      <td>175002.0</td>\n",
       "    </tr>\n",
       "    <tr>\n",
       "      <th>14779</th>\n",
       "      <td>FINANCE</td>\n",
       "      <td>KEANE,  ERIN S</td>\n",
       "      <td>165000.0</td>\n",
       "    </tr>\n",
       "    <tr>\n",
       "      <th>26028</th>\n",
       "      <td>FIRE</td>\n",
       "      <td>SANTIAGO,  JOSE A</td>\n",
       "      <td>202728.0</td>\n",
       "    </tr>\n",
       "    <tr>\n",
       "      <th>24251</th>\n",
       "      <td>GENERAL SERVICES</td>\n",
       "      <td>REYNOLDS,  DAVID J</td>\n",
       "      <td>157092.0</td>\n",
       "    </tr>\n",
       "    <tr>\n",
       "      <th>20048</th>\n",
       "      <td>HEALTH</td>\n",
       "      <td>MORITA,  JULIA Y</td>\n",
       "      <td>177000.0</td>\n",
       "    </tr>\n",
       "    <tr>\n",
       "      <th>21027</th>\n",
       "      <td>HUMAN RELATIONS</td>\n",
       "      <td>NORIEGA,  MONA</td>\n",
       "      <td>125004.0</td>\n",
       "    </tr>\n",
       "    <tr>\n",
       "      <th>4809</th>\n",
       "      <td>HUMAN RESOURCES</td>\n",
       "      <td>CHOI,  SOO</td>\n",
       "      <td>151572.0</td>\n",
       "    </tr>\n",
       "    <tr>\n",
       "      <th>8569</th>\n",
       "      <td>INSPECTOR GEN</td>\n",
       "      <td>FERGUSON,  JOSEPH M</td>\n",
       "      <td>161856.0</td>\n",
       "    </tr>\n",
       "    <tr>\n",
       "      <th>713</th>\n",
       "      <td>IPRA</td>\n",
       "      <td>ANAELE,  BENEDICT E</td>\n",
       "      <td>122316.0</td>\n",
       "    </tr>\n",
       "    <tr>\n",
       "      <th>22353</th>\n",
       "      <td>LAW</td>\n",
       "      <td>PATTON,  STEPHEN R</td>\n",
       "      <td>173664.0</td>\n",
       "    </tr>\n",
       "    <tr>\n",
       "      <th>11310</th>\n",
       "      <td>LICENSE APPL COMM</td>\n",
       "      <td>GUZMAN FLORES,  MICHELLE</td>\n",
       "      <td>80568.0</td>\n",
       "    </tr>\n",
       "    <tr>\n",
       "      <th>8079</th>\n",
       "      <td>MAYOR'S OFFICE</td>\n",
       "      <td>EMANUEL,  RAHM</td>\n",
       "      <td>216210.0</td>\n",
       "    </tr>\n",
       "    <tr>\n",
       "      <th>28708</th>\n",
       "      <td>OEMC</td>\n",
       "      <td>TATE-NADEAU,  ALICIA A</td>\n",
       "      <td>167796.0</td>\n",
       "    </tr>\n",
       "    <tr>\n",
       "      <th>13999</th>\n",
       "      <td>POLICE</td>\n",
       "      <td>JOHNSON,  EDDIE T</td>\n",
       "      <td>260004.0</td>\n",
       "    </tr>\n",
       "    <tr>\n",
       "      <th>4001</th>\n",
       "      <td>POLICE BOARD</td>\n",
       "      <td>CAPRONI,  MAX A</td>\n",
       "      <td>105792.0</td>\n",
       "    </tr>\n",
       "    <tr>\n",
       "      <th>24279</th>\n",
       "      <td>PROCUREMENT</td>\n",
       "      <td>RHEE,  JAMIE L</td>\n",
       "      <td>167220.0</td>\n",
       "    </tr>\n",
       "    <tr>\n",
       "      <th>1497</th>\n",
       "      <td>PUBLIC LIBRARY</td>\n",
       "      <td>BANNON,  BRIAN A</td>\n",
       "      <td>167004.0</td>\n",
       "    </tr>\n",
       "    <tr>\n",
       "      <th>31404</th>\n",
       "      <td>STREETS &amp; SAN</td>\n",
       "      <td>WILLIAMS,  CHARLES L</td>\n",
       "      <td>157092.0</td>\n",
       "    </tr>\n",
       "    <tr>\n",
       "      <th>26217</th>\n",
       "      <td>TRANSPORTN</td>\n",
       "      <td>SCHEINFELD,  REBEKAH C</td>\n",
       "      <td>169500.0</td>\n",
       "    </tr>\n",
       "    <tr>\n",
       "      <th>17947</th>\n",
       "      <td>TREASURER</td>\n",
       "      <td>MARTINEZ,  MIRIAM</td>\n",
       "      <td>137700.0</td>\n",
       "    </tr>\n",
       "    <tr>\n",
       "      <th>20411</th>\n",
       "      <td>WATER MGMNT</td>\n",
       "      <td>MURPHY,  BARRETT B</td>\n",
       "      <td>169512.0</td>\n",
       "    </tr>\n",
       "  </tbody>\n",
       "</table>\n",
       "</div>"
      ],
      "text/plain": [
       "                  Department                       Name    Salary\n",
       "13449           ADMIN HEARNG      JACKOWIAK,  PATRICIA   156420.0\n",
       "25535          ANIMAL CONTRL          RUSSELL,  SUSAN J  130008.0\n",
       "8310                AVIATION           EVANS,  GINGER S  300000.0\n",
       "1714       BOARD OF ELECTION      BATEMAN,  KELLY ANNE   133740.0\n",
       "2051         BOARD OF ETHICS           BERLIN,  STEVEN   135672.0\n",
       "12793          BUDGET & MGMT         HOLT,  ALEXANDRA D  169992.0\n",
       "9338               BUILDINGS         FRYDLAND,  JUDITH   157092.0\n",
       "11143       BUSINESS AFFAIRS            GUERRA,  MARIA   157092.0\n",
       "25841             CITY CLERK         SANCHEZ,  CARINA E  125292.0\n",
       "14588           CITY COUNCIL           KAIDEN,  MARLA M  160248.0\n",
       "24085  COMMUNITY DEVELOPMENT           REIFMAN,  DAVID   175020.0\n",
       "8405                    COPA         FAIRLEY,  SHARON R  161856.0\n",
       "14895       CULTURAL AFFAIRS             KELLY,  MARK E  155040.0\n",
       "28638           DISABILITIES           TAMLEY,  KAREN M  138420.0\n",
       "2052                    DoIT          BERMAN,  BRENNA M  154992.0\n",
       "20095       FAMILY & SUPPORT   MORRISON BUTLER,  LISA V  175002.0\n",
       "14779                FINANCE             KEANE,  ERIN S  165000.0\n",
       "26028                   FIRE          SANTIAGO,  JOSE A  202728.0\n",
       "24251       GENERAL SERVICES         REYNOLDS,  DAVID J  157092.0\n",
       "20048                 HEALTH           MORITA,  JULIA Y  177000.0\n",
       "21027        HUMAN RELATIONS            NORIEGA,  MONA   125004.0\n",
       "4809         HUMAN RESOURCES                CHOI,  SOO   151572.0\n",
       "8569           INSPECTOR GEN        FERGUSON,  JOSEPH M  161856.0\n",
       "713                     IPRA        ANAELE,  BENEDICT E  122316.0\n",
       "22353                    LAW         PATTON,  STEPHEN R  173664.0\n",
       "11310      LICENSE APPL COMM  GUZMAN FLORES,  MICHELLE    80568.0\n",
       "8079          MAYOR'S OFFICE            EMANUEL,  RAHM   216210.0\n",
       "28708                   OEMC     TATE-NADEAU,  ALICIA A  167796.0\n",
       "13999                 POLICE          JOHNSON,  EDDIE T  260004.0\n",
       "4001            POLICE BOARD            CAPRONI,  MAX A  105792.0\n",
       "24279            PROCUREMENT             RHEE,  JAMIE L  167220.0\n",
       "1497          PUBLIC LIBRARY           BANNON,  BRIAN A  167004.0\n",
       "31404          STREETS & SAN       WILLIAMS,  CHARLES L  157092.0\n",
       "26217             TRANSPORTN     SCHEINFELD,  REBEKAH C  169500.0\n",
       "17947              TREASURER         MARTINEZ,  MIRIAM   137700.0\n",
       "20411            WATER MGMNT         MURPHY,  BARRETT B  169512.0"
      ]
     },
     "execution_count": 49,
     "metadata": {},
     "output_type": "execute_result"
    }
   ],
   "source": [
    "# Step 1: Find index of max salary in each department\n",
    "idx = pay.groupby('Department')['Salary'].idxmax()\n",
    "\n",
    "max_salaries = pay.loc[idx,['Department','Name','Salary']]\n",
    "max_salaries\n",
    "\n"
   ]
  },
  {
   "cell_type": "code",
   "execution_count": null,
   "id": "99488951",
   "metadata": {},
   "outputs": [],
   "source": []
  }
 ],
 "metadata": {
  "kernelspec": {
   "display_name": "Python 3",
   "language": "python",
   "name": "python3"
  },
  "language_info": {
   "codemirror_mode": {
    "name": "ipython",
    "version": 3
   },
   "file_extension": ".py",
   "mimetype": "text/x-python",
   "name": "python",
   "nbconvert_exporter": "python",
   "pygments_lexer": "ipython3",
   "version": "3.12.1"
  }
 },
 "nbformat": 4,
 "nbformat_minor": 5
}
